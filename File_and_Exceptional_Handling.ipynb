{
  "nbformat": 4,
  "nbformat_minor": 0,
  "metadata": {
    "colab": {
      "provenance": []
    },
    "kernelspec": {
      "name": "python3",
      "display_name": "Python 3"
    },
    "language_info": {
      "name": "python"
    }
  },
  "cells": [
    {
      "cell_type": "code",
      "execution_count": 2,
      "metadata": {
        "id": "QhyTOuodIISe"
      },
      "outputs": [],
      "source": [
        "##Theoritical Questions\n"
      ]
    },
    {
      "cell_type": "markdown",
      "source": [
        " Que1: What is the difference between interpreted and compiled languages?\n",
        "\n",
        " Ans1: Compiled Languages:\n",
        "\n",
        "- A compiler translates the entire source code into machine code before execution.\n",
        "- The resulting executable file can run independently without requiring the original source code or compiler.\n",
        "- Generally faster than interpreted languages since the code is precompiled.\n",
        "\n",
        "Examples: C, C++, Rust, Go\n",
        "\n",
        "Pros: 1.  Faster execution\n",
        "2. More efficient use of system resources\n",
        "3. Better optimization by the compiler\n",
        "\n",
        "Cons: 1. Slower development cycle (requires compilation before execution)\n",
        "2. Less flexibility for dynamic execution\n",
        "\n",
        "Interpreted Languages:\n",
        "\n",
        "- An interpreter translates and executes code line by line at runtime.\n",
        "- No separate compilation step—code runs immediately when executed.\n",
        "- Generally slower than compiled languages because of real-time translation.\n",
        "\n",
        "Examples: Python, JavaScript, Ruby, PHP\n",
        "\n",
        "Pros: 1. Easier debugging (errors are caught at runtime)\n",
        "2. Faster development cycle (no compilation step)\n",
        "3. More flexible and portable\n",
        "\n",
        "Cons: 1. Slower execution speed\n",
        "2. More resource-intensive"
      ],
      "metadata": {
        "id": "nxdbJ_DAjAr3"
      }
    },
    {
      "cell_type": "markdown",
      "source": [
        "Que2: What is exception handling in Python?\n",
        "\n",
        "Ans2: Exception handling is a mechanism in Python to manage runtime errors and ensure smooth program execution.It uses try-except blocks to catch and handle errors. It prevents program crashes due to unexpected issues. It can also include else (runs if no exception occurs) and finally (always runs).\n",
        ""
      ],
      "metadata": {
        "id": "M2fs-VORIUX2"
      }
    },
    {
      "cell_type": "markdown",
      "source": [
        "Que3: What is the purpose of the finally block in exception handling?\n",
        "\n",
        "Ans3: The \"finally\" block is used to execute code regardless of whether an exception occurs or not. It ensures that important cleanup actions (like closing files or releasing resources) are always performed. It runs after the try and except blocks and executes even if an exception is raised or the program exits using return or break. It is used for cleanup operations (e.g., closing a file, releasing a database connection).\n"
      ],
      "metadata": {
        "id": "egIjXntIIXUx"
      }
    },
    {
      "cell_type": "markdown",
      "source": [
        "Que4:  What is logging in Python?\n",
        "\n",
        "Ans4: Logging in Python is used to track events in a program, making it easier to debug and monitor applications.\n",
        "\n",
        "Features:\n",
        "- Records messages with different severity levels.\n",
        "- Stores logs in files or displays them on the console.\n",
        "- Helps in debugging, auditing, and error tracking.\n",
        ""
      ],
      "metadata": {
        "id": "cKBwicLTIaHX"
      }
    },
    {
      "cell_type": "markdown",
      "source": [
        "Que5: What is the significance of the __del__ method in Python?\n",
        "\n",
        "Ans5: The __del__ method is a destructor in Python, called when an object is about to be destroyed. It is mainly used for cleanup tasks like releasing resources.\n",
        "- It is called automatically when an object is deleted or goes out of scope.\n",
        "- It is useful for closing files, releasing memory, or network connections.\n",
        "- It should be used cautiously, as improper handling can cause unexpected behavior.\n",
        ""
      ],
      "metadata": {
        "id": "85wt6tulIcXG"
      }
    },
    {
      "cell_type": "markdown",
      "source": [
        "Que6: What is the difference between import and from ... import in Python.\n",
        "\n",
        "Ans6:\n",
        "\n",
        "import Statement:\n",
        "- Imports the entire module.\n",
        "- Requires module name as a prefix when accessing functions or variables.\n",
        "\n",
        "from ... import Statement:\n",
        "\n",
        "- Imports specific functions or variables directly from a module.\n",
        "- No need to use the module name prefix.\n",
        ""
      ],
      "metadata": {
        "id": "UvUA2EqHIfMa"
      }
    },
    {
      "cell_type": "markdown",
      "source": [
        "Que7: How can you handle multiple exceptions in Python?\n",
        "\n",
        "Ans7: Python provides several ways to handle multiple exceptions, ensuring program stability and error management.  \n",
        "\n",
        "1. Multiple 'except' Blocks:  Each exception type is handled separately, allowing customized responses for different errors.  \n",
        "2. Single except with a Tuple: Groups multiple exceptions in one block when the handling logic is the same, improving code conciseness.  \n",
        "3. Generic except Exception Block: Catches all exceptions but should be used carefully to avoid masking errors. Logging exceptions is recommended.  \n",
        "4. else and finally Blocks: 'else' executes if no exception occurs, while 'finally' runs regardless, ensuring cleanup (e.g., closing files).  "
      ],
      "metadata": {
        "id": "wanGTuBYIhpp"
      }
    },
    {
      "cell_type": "markdown",
      "source": [
        "Que8: What is the purpose of the with statement when handling files in Python\n",
        "\n",
        " Ans8: The with statement in Python is used to manage file operations efficiently by ensuring proper resource handling.\n",
        "\n",
        " Properties and benefits of using 'with' statement:\n",
        "\n",
        "- Automatic File Closure: Ensures the file is closed after execution, even if an error occurs.\n",
        "- Improved Readability: Eliminates the need for explicit close() calls.\n",
        "- Exception Handling: Prevents resource leaks by handling exceptions gracefully."
      ],
      "metadata": {
        "id": "PU0V7xogIj7N"
      }
    },
    {
      "cell_type": "markdown",
      "source": [
        "Que9: What is the difference between multithreading and multiprocessing?\n",
        "\n",
        "Ans9: Both multithreading and multiprocessing are used for parallel execution in Python, but they handle tasks differently.\n",
        "\n",
        "1. Multithreading:\n",
        "\n",
        "- Uses multiple threads within a single process.\n",
        "- Threads share memory, making communication easier but increasing the risk of race conditions.\n",
        "- Best for I/O-bound tasks (e.g., file handling, network requests).\n",
        "- Limited by Python’s Global Interpreter Lock (GIL), preventing true parallel execution of CPU-bound tasks.\n",
        "\n",
        "2. Multiprocessing:\n",
        "\n",
        "- Uses multiple processes, each with its own memory space.\n",
        "- Achieves true parallelism, making it ideal for CPU-bound tasks (e.g., heavy computations).\n",
        "- Higher memory usage since processes do not share memory.\n",
        "- Avoids GIL limitations, leading to better CPU utilization.\n",
        ""
      ],
      "metadata": {
        "id": "8OC4EzsAImib"
      }
    },
    {
      "cell_type": "markdown",
      "source": [
        "Que10: What are the advantages of using logging in a program?\n",
        "\n",
        "Ans10: Logging is essential for tracking program execution, debugging, and monitoring system behavior. Key benefits include:\n",
        "\n",
        "1. Easier Debugging: Helps identify errors and their causes without disrupting execution.\n",
        "2. Better Error Tracking: Captures runtime issues that might not be immediately visible.\n",
        "3. Improved Maintainability: Provides insights into program flow for future debugging and enhancements.\n",
        "4. Performance Monitoring: Tracks execution time and detects bottlenecks.\n",
        "5. Audit & Security: Records events for compliance, debugging, and detecting suspicious activities.\n",
        "6. Customizable Output: Supports different log levels (DEBUG, INFO, WARNING, ERROR, CRITICAL) for structured reporting.\n",
        "7. Persistent Records: Stores logs in files for long-term analysis and troubleshooting.\n",
        "8. Reduces Print Statement Overuse: More efficient than using print() for debugging.\n"
      ],
      "metadata": {
        "id": "ttomN4bOIo5B"
      }
    },
    {
      "cell_type": "markdown",
      "source": [
        "Que11:  What is memory management in Python?\n",
        "\n",
        "Ans11: Python handles memory automatically using:\n",
        "\n",
        "- Dynamic Allocation: Memory is allocated and freed as needed.\n",
        "- Reference Counting: Objects are deleted when no references remain.\n",
        "- Garbage Collection: Removes unused objects to free memory.\n",
        "- PyMalloc: Optimizes small object allocation.\n",
        "- Stack & Heap: Stack stores function calls; heap stores objects\n",
        ""
      ],
      "metadata": {
        "id": "NVsEHtuqIrVh"
      }
    },
    {
      "cell_type": "markdown",
      "source": [
        "Que12: What are the basic steps involved in exception handling in Python?\n",
        "\n",
        "Ans12: The steps are as follows:\n",
        "1. Try Block (try): Place the code that might cause an exception inside a try block.\n",
        "2. Exception Handling (except): Catch and handle specific or generic exceptions using except.\n",
        "3. Optional Else (else): Executes if no exceptions occur.\n",
        "4. Cleanup (finally): Runs always, ensuring resource cleanup (e.g., closing files).\n",
        ""
      ],
      "metadata": {
        "id": "xkWUzrnmIuYM"
      }
    },
    {
      "cell_type": "markdown",
      "source": [
        "Que13: Why is memory management important in Python?\n",
        "\n",
        "Ans13: Effective memory management ensures efficient resource utilization, prevents memory leaks, and optimizes performance. Key reasons why it is crucial include:\n",
        "\n",
        "- Prevents Memory Leaks: Automatic garbage collection removes unused objects, preventing excessive memory consumption.\n",
        "- Optimizes Performance: Efficient memory allocation improves execution speed, especially in large applications.\n",
        "- Enhances Scalability: Proper memory handling allows programs to run smoothly on various systems with limited resources.\n",
        "- Ensures Stability: Prevents crashes caused by excessive memory usage or fragmentation.\n",
        "- Improves Code Efficiency: Helps developers write optimized, high-performance applications with minimal memory overhead.\n",
        ""
      ],
      "metadata": {
        "id": "VFCyrLqCIx5h"
      }
    },
    {
      "cell_type": "markdown",
      "source": [
        "Que14: What is the role of try and except in exception handling?\n",
        "\n",
        "Ans14: 'try' Block:\n",
        "\n",
        "- Contains code that may raise an exception.\n",
        "- If no error occurs, the except block is skipped.\n",
        "- If an error occurs, execution jumps to the corresponding except block.\n",
        "2. 'except' Block\n",
        "- Handles specific or general exceptions raised in the try block.\n",
        "- Prevents program crashes by providing a fallback mechanism.\n",
        "- Can catch multiple exceptions using separate blocks or a tuple.\n"
      ],
      "metadata": {
        "id": "aZmmgRnkI0Qt"
      }
    },
    {
      "cell_type": "markdown",
      "source": [
        "Que15:  How does Python's garbage collection system work?\n",
        "\n",
        "Ans15: Python's garbage collection automatically manages memory using:\n",
        "\n",
        "Reference Counting- An object is deleted when its reference count drops to zero.\n",
        "Cyclic Garbage Collection- Detects and removes circular references using the gc module.\n",
        "Memory Pools (PyMalloc)- Optimizes small object allocation for efficiency.\n",
        ""
      ],
      "metadata": {
        "id": "S-Pu1wOZI2uD"
      }
    },
    {
      "cell_type": "markdown",
      "source": [
        "Que16: What is the purpose of the else block in exception handling?\n",
        "\n",
        "Ans16: The purpose of 'else' block in exception handling is used to execute code only when no exceptions occur in the try block. It helps separate normal execution logic from exception handling, making the program more structured and readable.\n",
        "\n",
        "Benefits:\n",
        "- Enhances Code Readability: Separates error-prone code from normal execution.\n",
        "- Avoids Unintended Execution: Ensures that certain operations only run if no errors occur.\n",
        "- Improves Debugging: Clearly distinguishes between normal execution and error handling.\n",
        "- Promotes Better Code Organization: Helps structure exception handling cleanly.\n",
        "\n",
        "\n",
        "\n",
        "\n",
        ""
      ],
      "metadata": {
        "id": "ftL7BcyvI5Fy"
      }
    },
    {
      "cell_type": "markdown",
      "source": [
        "Que17: What are the common logging levels in Python?\n",
        "Ans17: Python's logging module provides five standard levels:\n",
        "\n",
        "DEBUG (10): Detailed diagnostic messages for debugging.\n",
        "INFO (20): General program execution updates.\n",
        "WARNING (30): Potential issues that need attention.\n",
        "ERROR (40): Errors that do not halt execution.\n",
        "CRITICAL (50): Severe errors that may cause system failure.\n",
        ""
      ],
      "metadata": {
        "id": "MRpEGmaAI7bC"
      }
    },
    {
      "cell_type": "markdown",
      "source": [
        "Que18: What is the difference between os.fork() and multiprocessing in Python?\n",
        "\n",
        "Ans18: os.fork() creates a child process by duplicating the parent, while multiprocessing spawns new processes using the Process class. os.fork() is limited to Unix-based systems, whereas multiprocessing is cross-platform.\n",
        "\n",
        "Memory handling differs: os.fork() uses copy-on-write, sharing memory between parent and child, while multiprocessing creates separate memory spaces for each process, enabling true parallel execution. The Global Interpreter Lock (GIL) affects os.fork() less due to shared memory but is fully bypassed in multiprocessing.\n",
        "\n",
        "os.fork() is low-level and requires manual handling, while multiprocessing provides a higher-level interface with built-in support for inter-process communication (IPC) using Queues, Pipes, and Shared Memory.\n",
        "\n",
        "Use os.fork() for direct, low-level process management on Unix/Linux, and multiprocessing for structured, scalable parallel processing across platforms.\n"
      ],
      "metadata": {
        "id": "BYyBWOOrI9y8"
      }
    },
    {
      "cell_type": "markdown",
      "source": [
        "Que19:  What is the importance of closing a file in Python?\n",
        "\n",
        "Ans19: Closing a file in Python is crucial for releasing system resources, preventing data corruption, and ensuring changes are saved. Open files consume memory, and excessive open files may lead to resource exhaustion. Unclosed files risk data loss, especially in write mode, as buffered data may not be written to disk. Closing files improves code reliability and prevents file locks that hinder access by other programs. Using with open() ensures automatic closure, reducing the risk of forgetting to close files.\n",
        ""
      ],
      "metadata": {
        "id": "J04uJoDUJAgp"
      }
    },
    {
      "cell_type": "markdown",
      "source": [
        "Que20: What is the difference between file.read() and file.readline() in Python?\n",
        "\n",
        "Ans20: file.read(size)\n",
        "\n",
        "- Reads the entire file or a specified number of bytes.\n",
        "- Returns a single string containing the file’s content.\n",
        "- Useful for reading the whole file at once.\n",
        "\n",
        "file.readline()\n",
        "\n",
        "- Reads only one line from the file at a time.\n",
        "- Returns a string containing a single line.\n",
        "- Useful for processing files line by line.\n"
      ],
      "metadata": {
        "id": "GhS7w4p3JC0d"
      }
    },
    {
      "cell_type": "markdown",
      "source": [
        "Que21:  What is the logging module in Python used for?\n",
        "\n",
        "Ans21: The logging module in Python is used for tracking events, debugging, and monitoring applications by recording messages at different severity levels. It provides a flexible way to log messages to console, files, or external systems for error handling and performance analysis.\n",
        "\n",
        "Uses:\n",
        "- Error Tracking- Logs exceptions and failures.\n",
        "- Debugging- Helps identify and fix issues.\n",
        "- Performance Monitoring- Records execution details.\n",
        "- Audit & Security- Maintains system logs.\n",
        ""
      ],
      "metadata": {
        "id": "FkPc6SW-JFFM"
      }
    },
    {
      "cell_type": "markdown",
      "source": [
        "Que22: What is the os module in Python used for in file handling?\n",
        "\n",
        "Ans22: The os module in Python provides functions for interacting with the operating system, enabling efficient file and directory management.\n",
        "- File Operations – Create, delete, check existence (os.remove(), os.path.exists()).\n",
        "- Directory Management – Create, rename, delete directories (os.mkdir(), os.rmdir()).\n",
        "- Path Handling – Work with file paths (os.path.join(), os.path.abspath()).\n",
        "- File Metadata – Retrieve file size, modification time (os.stat()).\n",
        ""
      ],
      "metadata": {
        "id": "IsuO23R7JIFb"
      }
    },
    {
      "cell_type": "markdown",
      "source": [
        "Que23: What are the challenges associated with memory management in Python?\n",
        "\n",
        "Ans23: Challenges associated with memory management in Python:\n",
        "1. Garbage Collection Overhead: Python's automatic garbage collector (gc) can introduce performance overhead when cleaning up unused objects.\n",
        "2. Memory Leaks: Improper handling of references (e.g., circular references, global variables) can prevent garbage collection, leading to memory leaks.\n",
        "3. High Memory Usage: Dynamic typing and object overhead (e.g., lists, dictionaries) consume more memory compared to lower-level languages like C.\n",
        "4. Fragmentation: Frequent allocations and deallocations can fragment memory, reducing efficiency.\n",
        "5. Limited Manual Control: Unlike C or C++, Python lacks fine-grained control over memory allocation and deallocation.\n",
        ""
      ],
      "metadata": {
        "id": "aDpyGOdfJKF_"
      }
    },
    {
      "cell_type": "markdown",
      "source": [
        "Que24: How do you raise an exception manually in Python?\n",
        "\n",
        "Ans24: Python allows manual exception raising using the `raise` keyword to enforce constraints, handle errors, and interrupt execution when necessary. Both built-in exceptions, like `ValueError`, and custom exceptions, derived from the `Exception` class, can be raised. This improves error detection, prevents invalid operations, and enhances debugging. Raising exceptions ensures robust and controlled program execution by stopping faulty processes and directing flow to exception handling mechanisms.\n",
        ""
      ],
      "metadata": {
        "id": "Tmzuo16IJO0Z"
      }
    },
    {
      "cell_type": "markdown",
      "source": [
        "Que25: Why is it important to use multithreading in certain applications?\n",
        "\n",
        "Ans25: Multithreading enhances performance by enabling concurrent execution within a process. It improves responsiveness in applications, optimizes resource utilization, and is ideal for I/O-bound tasks like networking and file handling. It prevents UI freezing in interactive applications and supports real-time operations in web servers, gaming, and GUI programs. However, for CPU-intensive tasks, multiprocessing is more effective."
      ],
      "metadata": {
        "id": "ukJ-8IxuJRA1"
      }
    },
    {
      "cell_type": "markdown",
      "source": [
        "##Practical Questions"
      ],
      "metadata": {
        "id": "smUKXZ6jJZzY"
      }
    },
    {
      "cell_type": "markdown",
      "source": [
        " Que1: How can you open a file for writing in Python and write a string to it\n",
        ""
      ],
      "metadata": {
        "id": "Y1OhxInrJcXL"
      }
    },
    {
      "cell_type": "code",
      "source": [
        "#Ans1:\n",
        "file = open(\"output.txt\", \"w\")\n",
        "file.write(\"Hello, this is a test string.\")\n",
        "file.close()\n"
      ],
      "metadata": {
        "id": "ZAnS_ufpvYpO"
      },
      "execution_count": null,
      "outputs": []
    },
    {
      "cell_type": "markdown",
      "source": [
        "Que2: Write a Python program to read the contents of a file and print each line\n",
        ""
      ],
      "metadata": {
        "id": "pLXUYmQOJj2e"
      }
    },
    {
      "cell_type": "code",
      "source": [
        "#Ans2:\n",
        "\n",
        "with open(\"example.txt\", \"r\") as file:\n",
        "\n",
        "    for line in file:\n",
        "        print(line.strip())\n"
      ],
      "metadata": {
        "id": "BdhzqBdWvlpV"
      },
      "execution_count": null,
      "outputs": []
    },
    {
      "cell_type": "markdown",
      "source": [
        "Que3: How would you handle a case where the file doesn't exist while trying to open it for reading\n",
        ""
      ],
      "metadata": {
        "id": "E_WtCRjGJovR"
      }
    },
    {
      "cell_type": "code",
      "source": [
        "#Ans3:\n",
        "try:\n",
        "    with open(\"nonexistent.txt\", \"r\") as file:\n",
        "        for line in file:\n",
        "            print(line.strip())\n",
        "except FileNotFoundError:\n",
        "    print(\"Error: The file does not exist.\")\n"
      ],
      "metadata": {
        "id": "UdeIbsFQv6Mf"
      },
      "execution_count": null,
      "outputs": []
    },
    {
      "cell_type": "markdown",
      "source": [
        "Que4: Write a Python script that reads from one file and writes its content to another file\n",
        ""
      ],
      "metadata": {
        "id": "Hk7uL5jHJsc_"
      }
    },
    {
      "cell_type": "code",
      "source": [
        "#Ans4:\n",
        "# Open the source file for reading and the destination file for writing\n",
        "with open(\"source.txt\", \"r\") as source, open(\"destination.txt\", \"w\") as destination:\n",
        "    # Read from the source file and write to the destination file\n",
        "    for line in source:\n",
        "        destination.write(line)\n"
      ],
      "metadata": {
        "id": "-82epKbwwQJa"
      },
      "execution_count": null,
      "outputs": []
    },
    {
      "cell_type": "markdown",
      "source": [
        "Que5: How would you catch and handle division by zero error in Python\n",
        ""
      ],
      "metadata": {
        "id": "fUTeB0gRJvz5"
      }
    },
    {
      "cell_type": "code",
      "source": [
        "#Ans5:\n",
        "try:\n",
        "    result = 10 / 0\n",
        "except ZeroDivisionError:\n",
        "    print(\"Error: Division by zero is not allowed.\")\n"
      ],
      "metadata": {
        "id": "WBUZVXiuwfbY"
      },
      "execution_count": null,
      "outputs": []
    },
    {
      "cell_type": "markdown",
      "source": [
        "Que6: Write a Python program that logs an error message to a log file when a division by zero exception occurs."
      ],
      "metadata": {
        "id": "E9WCYdlrJz8J"
      }
    },
    {
      "cell_type": "code",
      "source": [
        "#Ans6:\n",
        "import logging\n",
        "\n",
        "# Configure logging to write errors to a log file\n",
        "logging.basicConfig(filename=\"error.log\", level=logging.ERROR,\n",
        "                    format=\"%(asctime)s - %(levelname)s - %(message)s\")\n",
        "\n",
        "try:\n",
        "    result = 10 / 0  # Attempting division by zero\n",
        "except ZeroDivisionError:\n",
        "    logging.error(\"Division by zero error occurred.\")  # Log the error\n",
        "    print(\"An error occurred. Check error.log for details.\")\n"
      ],
      "metadata": {
        "id": "KEiWmYVy8lBN"
      },
      "execution_count": null,
      "outputs": []
    },
    {
      "cell_type": "markdown",
      "source": [
        "Que7: How do you log information at different levels (INFO, ERROR, WARNING) in Python using the logging module\n",
        ""
      ],
      "metadata": {
        "id": "OlVeI3gLJ3wq"
      }
    },
    {
      "cell_type": "code",
      "source": [
        "#Ans7:\n",
        "import logging\n",
        "\n",
        "# Configure logging\n",
        "logging.basicConfig(filename=\"app.log\", level=logging.DEBUG,\n",
        "                    format=\"%(asctime)s - %(levelname)s - %(message)s\")\n",
        "\n",
        "# Logging messages at different levels\n",
        "logging.debug(\"This is a debug message.\")\n",
        "logging.info(\"This is an info message.\")\n",
        "logging.warning(\"This is a warning message.\")\n",
        "logging.error(\"This is an error message.\")\n",
        "logging.critical(\"This is a critical message.\")\n"
      ],
      "metadata": {
        "id": "BKQaTAUE8ytd"
      },
      "execution_count": null,
      "outputs": []
    },
    {
      "cell_type": "markdown",
      "source": [
        "Que8: Write a program to handle a file opening error using exception handling\n",
        "\n",
        ""
      ],
      "metadata": {
        "id": "JgEgG6U4J7T5"
      }
    },
    {
      "cell_type": "code",
      "source": [
        "#Ans8:\n",
        "try:\n",
        "    # Attempt to open a non-existent file\n",
        "    with open(\"nonexistent_file.txt\", \"r\") as file:\n",
        "        content = file.read()\n",
        "        print(content)\n",
        "except FileNotFoundError:\n",
        "    print(\"Error: The file does not exist. Please check the filename and try again.\")\n"
      ],
      "metadata": {
        "id": "D9Ztu-XI8-3B"
      },
      "execution_count": null,
      "outputs": []
    },
    {
      "cell_type": "markdown",
      "source": [
        "Que9: How can you read a file line by line and store its content in a list in Python\n"
      ],
      "metadata": {
        "id": "hzLJWpGXJ-xe"
      }
    },
    {
      "cell_type": "code",
      "source": [
        "#Ans9:\n",
        "# Open the file in read mode\n",
        "with open(\"example.txt\", \"r\") as file:\n",
        "    lines = file.readlines()  # Reads all lines into a list\n"
      ],
      "metadata": {
        "id": "W0W8j4Sr9UPv"
      },
      "execution_count": null,
      "outputs": []
    },
    {
      "cell_type": "markdown",
      "source": [
        "Que10:  How can you append data to an existing file in Python\n",
        ""
      ],
      "metadata": {
        "id": "PIyLuBn8KCHj"
      }
    },
    {
      "cell_type": "code",
      "source": [
        "#Ans10:\n",
        "# Open the file in append mode\n",
        "with open(\"example.txt\", \"a\") as file:\n",
        "    file.write(\"\\nThis is an appended line.\")  # This adds a new content at the end\n"
      ],
      "metadata": {
        "id": "8RrH3dZb9crV"
      },
      "execution_count": null,
      "outputs": []
    },
    {
      "cell_type": "markdown",
      "source": [
        "Que11: Write a Python program that uses a try-except block to handle an error when attempting to access a dictionary key that doesn't exist.\n",
        ""
      ],
      "metadata": {
        "id": "3qXY3_AuKFe9"
      }
    },
    {
      "cell_type": "code",
      "source": [
        "#Ans11:\n",
        "# Defining a dictionary\n",
        "data = {\"name\": \"Alice\", \"age\": 25}\n",
        "\n",
        "try:\n",
        "    # Attempting to access a non-existent key\n",
        "    value = data[\"address\"]\n",
        "    print(value)\n",
        "except KeyError:\n",
        "    print(\"Error: The specified key does not exist in the dictionary.\")\n"
      ],
      "metadata": {
        "id": "YRexOFPu9owh"
      },
      "execution_count": null,
      "outputs": []
    },
    {
      "cell_type": "markdown",
      "source": [
        "Que12: Write a program that demonstrates using multiple except blocks to handle different types of exceptions\n",
        ""
      ],
      "metadata": {
        "id": "VC147MFiKJoS"
      }
    },
    {
      "cell_type": "code",
      "source": [
        "#Ans12:\n",
        "try:\n",
        "    num = int(input(\"Enter a number: \"))\n",
        "    result = 10 / num\n",
        "    numbers = [1, 2, 3]\n",
        "    print(numbers[num])\n",
        "\n",
        "except ValueError:\n",
        "    print(\"Error: Invalid input. Please enter a valid integer.\")\n",
        "\n",
        "except ZeroDivisionError:\n",
        "    print(\"Error: Division by zero is not allowed.\")\n",
        "\n",
        "except IndexError:\n",
        "    print(\"Error: Index out of range. Please enter a valid index.\")\n",
        "\n",
        "except Exception as e:\n",
        "    print(f\"An unexpected error occurred: {e}\")\n"
      ],
      "metadata": {
        "id": "G9Umxa5C94Mg"
      },
      "execution_count": null,
      "outputs": []
    },
    {
      "cell_type": "markdown",
      "source": [
        "Que13: How would you check if a file exists before attempting to read it in Python\n",
        "\n",
        "Ans13: To check if a file exists before attempting to read it, use the os.path.exists() function from the os module or the Path module from pathlib."
      ],
      "metadata": {
        "id": "kmNilIVEKL9r"
      }
    },
    {
      "cell_type": "markdown",
      "source": [
        "Que14:  Write a program that uses the logging module to log both informational and error messages\n",
        ""
      ],
      "metadata": {
        "id": "S2xfm_OyKOKa"
      }
    },
    {
      "cell_type": "code",
      "source": [
        "#Ans14:\n",
        "import logging\n",
        "\n",
        "# Configure logging to log both informational and error messages\n",
        "logging.basicConfig(filename=\"app.log\", level=logging.DEBUG,\n",
        "                    format=\"%(asctime)s - %(levelname)s - %(message)s\")\n",
        "\n",
        "# Log an informational message\n",
        "logging.info(\"Application started successfully.\")\n",
        "\n",
        "try:\n",
        "    result = 10 / 0\n",
        "except ZeroDivisionError:\n",
        "    logging.error(\"Division by zero error occurred.\")\n",
        "\n",
        "# Log another informational message\n",
        "logging.info(\"Application executed with logging.\")\n"
      ],
      "metadata": {
        "id": "XDhpV6jm-opm"
      },
      "execution_count": null,
      "outputs": []
    },
    {
      "cell_type": "markdown",
      "source": [
        "Que15: Write a Python program that prints the content of a file and handles the case when the file is empty\n",
        ""
      ],
      "metadata": {
        "id": "cju1YX9bKQTW"
      }
    },
    {
      "cell_type": "code",
      "source": [
        "#Ans15:\n",
        "try:\n",
        "    # Open the file in read mode\n",
        "    with open(\"example.txt\", \"r\") as file:\n",
        "        content = file.read()\n",
        "\n",
        "        # Check if the file is empty\n",
        "        if not content:\n",
        "            print(\"The file is empty.\")\n",
        "        else:\n",
        "            print(\"File Content:\\n\", content)\n",
        "\n",
        "except FileNotFoundError:\n",
        "    print(\"Error: The file does not exist.\")\n"
      ],
      "metadata": {
        "id": "Xxy54tRd-7_x"
      },
      "execution_count": null,
      "outputs": []
    },
    {
      "cell_type": "markdown",
      "source": [
        "Que16: Demonstrate how to use memory profiling to check the memory usage of a small program\n",
        "\n",
        " Ans16:  Python's `memory_profiler` module measures memory usage in a program. It provides line-by-line memory consumption analysis using the `@profile` decorator. To use it, install `memory-profiler`, apply the decorator to functions, and run the script with memory profiling enabled. This helps identify inefficient memory usage and optimize performance."
      ],
      "metadata": {
        "id": "VcEd8kTXKSgR"
      }
    },
    {
      "cell_type": "markdown",
      "source": [
        "Que17: Write a Python program to create and write a list of numbers to a file, one number per line.\n",
        ""
      ],
      "metadata": {
        "id": "OmVUk2xNKUyk"
      }
    },
    {
      "cell_type": "code",
      "source": [
        "#Ans17:\n",
        "numbers = [1, 2, 3, 4, 5]   #list creation\n",
        "\n",
        "# Opening the file in write mode\n",
        "with open(\"numbers.txt\", \"w\") as file:\n",
        "    for number in numbers:\n",
        "        file.write(f\"{number}\\n\")  # Write each number on a new line\n"
      ],
      "metadata": {
        "id": "_KJGftaOEMki"
      },
      "execution_count": 1,
      "outputs": []
    },
    {
      "cell_type": "markdown",
      "source": [
        "Que18: How would you implement a basic logging setup that logs to a file with rotation after 1MB\n",
        ""
      ],
      "metadata": {
        "id": "Bq_MTySdKXAo"
      }
    },
    {
      "cell_type": "code",
      "source": [
        "#Ans18:\n",
        "import logging\n",
        "from logging.handlers import RotatingFileHandler\n",
        "\n",
        "# Configure logging with rotation after 1MB\n",
        "log_file = \"app.log\"\n",
        "handler = RotatingFileHandler(log_file, maxBytes=1_000_000, backupCount=3)\n",
        "logging.basicConfig(level=logging.DEBUG, handlers=[handler],\n",
        "                    format=\"%(asctime)s - %(levelname)s - %(message)s\")\n",
        "\n",
        "# Example log messages\n",
        "logging.info(\"Application started.\")\n",
        "logging.warning(\"This is a warning message.\")\n",
        "logging.error(\"An error occurred.\")\n"
      ],
      "metadata": {
        "id": "xlymm00qIK2-"
      },
      "execution_count": null,
      "outputs": []
    },
    {
      "cell_type": "markdown",
      "source": [
        "Que19: Write a program that handles both IndexError and KeyError using a try-except block\n",
        ""
      ],
      "metadata": {
        "id": "35M8POzUKZU5"
      }
    },
    {
      "cell_type": "code",
      "source": [
        "#Ans19:\n",
        "try:\n",
        "    # List operation that may raise IndexError\n",
        "    numbers = [1, 2, 3]\n",
        "    print(numbers[5])  # Invalid index\n",
        "\n",
        "    # Dictionary operation that may raise KeyError\n",
        "    data = {\"name\": \"Alice\", \"age\": 25}\n",
        "    print(data[\"address\"])  # Missing key\n",
        "\n",
        "except IndexError:\n",
        "    print(\"Error: List index out of range.\")\n",
        "\n",
        "except KeyError:\n",
        "    print(\"Error: Dictionary key not found.\")\n"
      ],
      "metadata": {
        "id": "Vl9II8SUIU3P"
      },
      "execution_count": null,
      "outputs": []
    },
    {
      "cell_type": "markdown",
      "source": [
        "Que20: How would you open a file and read its contents using a context manager in Python\n",
        ""
      ],
      "metadata": {
        "id": "ejgH3r5FKbYd"
      }
    },
    {
      "cell_type": "code",
      "source": [
        "#Ans20:\n",
        "with open(\"example.txt\", \"r\") as file:\n",
        "    content = file.read()\n",
        "    print(content)\n"
      ],
      "metadata": {
        "id": "uikVTlGUIfHH"
      },
      "execution_count": null,
      "outputs": []
    },
    {
      "cell_type": "markdown",
      "source": [
        "Que21: Write a Python program that reads a file and prints the number of occurrences of a specific word\n",
        ""
      ],
      "metadata": {
        "id": "cc41Lhz9Kdn-"
      }
    },
    {
      "cell_type": "code",
      "source": [
        "#Ans21:\n",
        "# Function to count occurrences of a word in a file\n",
        "def count_word_occurrences(filename, word):\n",
        "    try:\n",
        "        with open(filename, \"r\") as file:\n",
        "            content = file.read().lower()\n",
        "            return content.split().count(word.lower())\n",
        "    except FileNotFoundError:\n",
        "        print(\"Error: The file does not exist.\")\n",
        "        return None\n",
        "\n",
        "# Specify the file and word to search\n",
        "filename = \"example.txt\"\n",
        "word = \"python\"\n",
        "\n",
        "# Count and print occurrences\n",
        "count = count_word_occurrences(filename, word)\n",
        "if count is not None:\n",
        "    print(f\"The word '{word}' appears {count} times in {filename}.\")\n"
      ],
      "metadata": {
        "id": "O67ssndyIrGK"
      },
      "execution_count": null,
      "outputs": []
    },
    {
      "cell_type": "markdown",
      "source": [
        "Que22: How can you check if a file is empty before attempting to read its contents\n",
        ""
      ],
      "metadata": {
        "id": "s46MJTbzKfy3"
      }
    },
    {
      "cell_type": "code",
      "source": [
        "#Ans22:\n",
        "with open(\"example.txt\", \"r\") as file:\n",
        "    content = file.read()\n",
        "    if not content:\n",
        "        print(\"The file is empty.\")\n",
        "    else:\n",
        "        print(content)\n"
      ],
      "metadata": {
        "id": "60xzoJ16I7fX"
      },
      "execution_count": null,
      "outputs": []
    },
    {
      "cell_type": "markdown",
      "source": [
        "Que23: Write a Python program that writes to a log file when an error occurs during file handling"
      ],
      "metadata": {
        "id": "2wQmeRfYKiRA"
      }
    },
    {
      "cell_type": "code",
      "source": [
        "#Ans23:\n",
        "import logging\n",
        "logging.basicConfig(filename=\"file_errors.log\", level=logging.ERROR,\n",
        "                    format=\"%(asctime)s - %(levelname)s - %(message)s\")\n",
        "\n",
        "try:\n",
        "    # Attempt to open a non-existent file\n",
        "    with open(\"nonexistent.txt\", \"r\") as file:\n",
        "        content = file.read()\n",
        "except FileNotFoundError:\n",
        "    logging.error(\"Error: The file does not exist.\")\n",
        "    print(\"An error occurred. Check file_errors.log for details.\")\n",
        "except PermissionError:\n",
        "    logging.error(\"Error: Permission denied while accessing the file.\")\n",
        "    print(\"An error occurred. Check file_errors.log for details.\")\n"
      ],
      "metadata": {
        "id": "UHUDqwaVJE2T"
      },
      "execution_count": null,
      "outputs": []
    }
  ]
}