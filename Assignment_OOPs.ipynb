{
  "nbformat": 4,
  "nbformat_minor": 0,
  "metadata": {
    "colab": {
      "provenance": []
    },
    "kernelspec": {
      "name": "python3",
      "display_name": "Python 3"
    },
    "language_info": {
      "name": "python"
    }
  },
  "cells": [
    {
      "cell_type": "markdown",
      "source": [
        "##Theoritical Questions:\n",
        "\n",
        "Que1: What is Object-Oriented Programming (OOP) ?\n",
        "\n",
        "Ans1: Object-Oriented Programming (OOP) is a programming paradigm that organizes code using objects and classes. It enables code reuse, modularity, and organization by representing real-world entities as objects.\n",
        "\n",
        "\n"
      ],
      "metadata": {
        "id": "8PXQ8Z0s_vjk"
      }
    },
    {
      "cell_type": "markdown",
      "source": [
        "Que2: What is a class in OOP?\n",
        "\n",
        "Ans2:A class in Python's Object-Oriented Programming (OOP) is a blueprint for creating objects. It defines attributes (data) and methods (functions) that describe the behavior of the objects.\n",
        "\n",
        "A class enables modularity, reusability, and organization in Python programs.\n"
      ],
      "metadata": {
        "id": "hhV4WxWI_7ie"
      }
    },
    {
      "cell_type": "markdown",
      "source": [
        "Que3:  What is an object in OOP?\n",
        "\n",
        "Ans3: An object in Python OOP is an instance of a class. It contains data (attributes) and behaviors (methods) defined by the class.\n"
      ],
      "metadata": {
        "id": "Kl7mXDo5AAkN"
      }
    },
    {
      "cell_type": "markdown",
      "source": [
        "Que4: What is the difference between abstraction and encapsulation?\n",
        "\n",
        "Ans4: **Data Abstraction: **\n",
        "\n",
        "Hides implementation details and shows only essential features.\n",
        "Focuses on what an object does.\n",
        "Achieved using abstract classes and interfaces.\n",
        "Example\tHiding complex logic behind a simple interface.\n",
        "\n",
        "**Data Encapsulation:**\n",
        "\n",
        "Restricts direct access to data by wrapping it inside a class.\n",
        "\n",
        "Focuses on how data is protected.\n",
        "\n",
        "Achieved using private (_, __) and protected (_) attributes/methods.\n",
        "\n",
        "Restricting access to class variables.\n"
      ],
      "metadata": {
        "id": "AI-2SmjRBiWq"
      }
    },
    {
      "cell_type": "markdown",
      "source": [
        "Que5: What are dunder methods in Python?\n",
        "\n",
        " Ans5: Dunder (Double Underscore) methods, also called magic methods or special methods, are built-in Python methods with double underscores (__) at the beginning and end. They allow customization of object behavior, such as initialization, representation, and operator overloading.\n",
        "\n",
        " Example:\n",
        "\n",
        " __init__()\t- Constructor, initializes objects\n",
        "\n",
        "__str__() -\tReturns a human-readable string representation (str(obj))\n",
        "\n",
        "__repr__() -\tReturns an unambiguous string for debugging (repr(obj))\n",
        "\n",
        "__len__()\t- Defines behavior for len(obj)\n",
        "\n",
        "__getitem__() -\tAllows indexing (obj[key])\n",
        "\n",
        "__setitem__()\t- Allows item assignment (obj[key] = value)\n",
        "\n",
        "__call__()\t- Makes an object callable like a function (obj())\n",
        "\n",
        "__add__()\t- Defines + operator behavior (obj1 + obj2)\n",
        "\n",
        "__eq__()\t- Defines == operator behavior\n",
        "\n",
        "__iter__()\t- Makes an object iterable (for x in obj:)\n",
        "\n"
      ],
      "metadata": {
        "id": "LZIjHLspBmYC"
      }
    },
    {
      "cell_type": "markdown",
      "source": [
        "Que6: Explain the concept of inheritance in OOP?\n",
        "\n",
        "Ans6: Inheritance is an OOP feature that allows a child class to inherit attributes and methods from a parent class. It promotes code reusability and enables hierarchical relationships between classes.\n",
        "\n",
        "**Types of Inheritance:**\n",
        "\n",
        "1. Single Inheritance: One child inherits from one parent.\n",
        "\n",
        "2. Multiple Inheritance:  A child inherits from multiple parents.\n",
        "\n",
        "3. Multilevel Inheritance:  A class inherits from another derived class.\n",
        "\n",
        "4. Hierarchical Inheritance: Multiple child classes inherit from one parent.\n",
        "\n",
        "5. Hybrid Inheritance: A combination of multiple types.\n",
        "\n",
        "Benefits of Inheritance:\n",
        "\n",
        "1. Promotes code reusability\n",
        "2. Establishes relationships between classes\n",
        "3. Supports method overriding for customization\n"
      ],
      "metadata": {
        "id": "l7OFbmw1BqKl"
      }
    },
    {
      "cell_type": "markdown",
      "source": [
        "Que7: What is polymorphism in OOP?\n",
        "\n",
        "Ans7: Polymorphism: Polymorphism allows different classes to have methods with the same name but different behaviors. It enables code flexibility and interchangeability without modifying existing code.\n",
        "\n",
        "Types of Polymorphism-\n",
        "\n",
        "1. Method Overriding: A child class redefines a method from its parent class.\n",
        "2. Method Overloading (not natively supported in Python): Achieved using default arguments or variable arguments.\n",
        "3. Operator Overloading: Redefining operators for user-defined objects.\n"
      ],
      "metadata": {
        "id": "MkUnutHqBtst"
      }
    },
    {
      "cell_type": "code",
      "source": [
        "#Example of Polymorphism\n",
        "\n",
        "class Animal:\n",
        "    def speak(self):\n",
        "        return \"Animal makes a sound\"\n",
        "\n",
        "class Dog(Animal):\n",
        "    def speak(self):\n",
        "        return \"Bark\"\n",
        "\n",
        "class Cat(Animal):\n",
        "    def speak(self):\n",
        "        return \"Meow\"\n",
        "\n",
        "# Using polymorphism\n",
        "animals = [Dog(), Cat()]\n",
        "for animal in animals:\n",
        "    print(animal.speak())\n"
      ],
      "metadata": {
        "id": "lGNdtyoBdwvN"
      },
      "execution_count": null,
      "outputs": []
    },
    {
      "cell_type": "markdown",
      "source": [
        "Benefits:\n",
        "1. Enhances flexibility by allowing the same interface for different objects.\n",
        "2. Supports method overriding for customization.\n",
        "3. Improves maintainability by reducing redundant code."
      ],
      "metadata": {
        "id": "jIGBb2vCd704"
      }
    },
    {
      "cell_type": "markdown",
      "source": [
        "Que8: How is encapsulation achieved in Python?\n",
        "\n",
        "Ans8: Encapsulation: Encapsulation is an OOP principle that restricts direct access to an object's data and methods, ensuring controlled modification. It is achieved using access modifiers:\n",
        "\n",
        "Access Modifiers in Python:\n",
        "\n",
        "Public (self.attribute): Accessible anywhere.\n",
        "\n",
        "Protected (self._attribute): Intended for internal use, but accessible.\n",
        "\n",
        "Private (self.__attribute): Not directly accessible outside the class.\n"
      ],
      "metadata": {
        "id": "vg1AD9F1Bx_f"
      }
    },
    {
      "cell_type": "code",
      "source": [
        "#Example of Encapsulation:\n",
        "class BankAccount:\n",
        "    def __init__(self, account_number, balance):\n",
        "        self.account_number = account_number  # Public attribute\n",
        "        self._bank_name = \"XYZ Bank\"          # Protected attribute\n",
        "        self.__balance = balance              # Private attribute\n",
        "\n",
        "    def deposit(self, amount):\n",
        "        self.__balance += amount\n",
        "\n",
        "    def get_balance(self):\n",
        "        return self.__balance  # Controlled access\n",
        "\n",
        "# Creating an object\n",
        "account = BankAccount(\"123456\", 1000)\n",
        "account.deposit(500)\n",
        "print(account.get_balance())\n",
        "\n",
        "# Direct access\n",
        "print(account.account_number)  # Public: Allowed\n",
        "print(account._bank_name)       # Protected: Allowed but not recommended\n",
        "print(account.__balance)      # Private:this will lead to AttributeError\n"
      ],
      "metadata": {
        "id": "9QA-86d-htCe"
      },
      "execution_count": null,
      "outputs": []
    },
    {
      "cell_type": "markdown",
      "source": [
        "Benefits of Data Encapsulation:\n",
        "1. Encapsulation hides data to prevent unintended modifications.\n",
        "2. Private attributes (__attr) ensure restricted access.\n",
        "3. Getter/Setter methods control access to private data."
      ],
      "metadata": {
        "id": "BX2EmWxGiGSI"
      }
    },
    {
      "cell_type": "markdown",
      "source": [
        "Que9:  What is a constructor in Python?\n",
        "\n",
        "Ans9: A constructor is a special method in a class called __init__, and it runs automatically whenever you create an object. It helps initialize values without extra effort.\n",
        "\n",
        "Benefits of constructor:\n",
        "1. Saves time: no need to manually assign values after creating an object.\n",
        "2. Ensures every object starts with valid attributes.\n",
        "3. Makes your code cleaner and more efficient.\n"
      ],
      "metadata": {
        "id": "CL2VAY0JB5G9"
      }
    },
    {
      "cell_type": "code",
      "source": [
        "class Robot:\n",
        "    def __init__(self, name, power_level):  # Constructor\n",
        "        self.name = name\n",
        "        self.power_level = power_level\n",
        "\n",
        "    def introduce(self):\n",
        "        return f\"Hi, I'm {self.name} with power level {self.power_level}!\"\n",
        "\n",
        "# Creating a Robot object (Constructor runs automatically)\n",
        "robot1 = Robot(\"Robo-X\", 100)\n",
        "print(robot1.introduce())\n"
      ],
      "metadata": {
        "id": "3s8_K7szkC2Z"
      },
      "execution_count": null,
      "outputs": []
    },
    {
      "cell_type": "markdown",
      "source": [
        "Que10:  What are class and static methods in Python?\n",
        "\n",
        "Ans10: In Python, class methods and static methods are used when we don't need to operate on instance-specific data. They are defined using decorators:\n",
        "\n",
        " 1. Instance Method-\n",
        "\n",
        "Decorator Used: None (default)\n",
        "\n",
        "Access Level: Works with instance (self)\n",
        "\n",
        "Purpose: Operates on instance attributes\n",
        "\n",
        "2. Class Method-\n",
        "\n",
        "Decorator used: @classmethod\n",
        "\n",
        "Access Level: Works with class (cls)\n",
        "\n",
        "Purpose: Modifies class-level attributes\n",
        "\n",
        "3. Static Method-\n",
        "\n",
        "Decorator used:\t@staticmethod\n",
        "\n",
        "Access Level: No access to class or instance\n",
        "\n",
        "Purpose: Utility function related to class\n",
        "\n",
        "**Class Method** (@classmethod)\n",
        "\n",
        "1. Works with the class itself, not instances.\n",
        "\n",
        "2. Uses cls as its first parameter.\n",
        "\n",
        "3. Can modify class-level variables.\n",
        "\n"
      ],
      "metadata": {
        "id": "D-4UPkGyB8uy"
      }
    },
    {
      "cell_type": "code",
      "source": [
        "#Example @classmethod:\n",
        "class Car:\n",
        "    wheels = 4  # Class variable\n",
        "\n",
        "    @classmethod\n",
        "    def update_wheels(cls, new_wheel_count):\n",
        "        cls.wheels = new_wheel_count  # Modifying class attribute\n",
        "\n",
        "print(Car.wheels)\n",
        "\n",
        "# Using class method to modify wheels\n",
        "Car.update_wheels(6)\n",
        "print(Car.wheels)\n"
      ],
      "metadata": {
        "id": "IQgQSRXCnMa2"
      },
      "execution_count": null,
      "outputs": []
    },
    {
      "cell_type": "markdown",
      "source": [
        "**Static Method** (@staticmethod)\n",
        "1. Does not access self (instance) or cls (class).\n",
        "2. Used for utility functions related to the class.\n",
        "3. Behaves like a normal function inside the class."
      ],
      "metadata": {
        "id": "z8zJBhxfniu6"
      }
    },
    {
      "cell_type": "code",
      "source": [
        "#Example @staticmethod:\n",
        "class MathUtils:\n",
        "    @staticmethod\n",
        "    def add(x, y):\n",
        "        return x + y  # No self or cls needed\n",
        "\n",
        "# Calling static method\n",
        "print(MathUtils.add(5, 3))\n"
      ],
      "metadata": {
        "id": "-ZAANgzmnsDi"
      },
      "execution_count": null,
      "outputs": []
    },
    {
      "cell_type": "markdown",
      "source": [
        "Que11: What is method overloading in Python?\n",
        "\n",
        " Ans11: Method Overloading allows a class to define multiple methods with the same name but different parameters. However, Python does not support true method overloading like some other languages (e.g., Java, C++). Instead, it can be simulated using default arguments or variable arguments (*args, **kwargs)."
      ],
      "metadata": {
        "id": "VnuJjuaQCAWP"
      }
    },
    {
      "cell_type": "markdown",
      "source": [
        "Que12: What is method overriding in OOP?\n",
        "\n",
        "Ans12: Method Overriding is when a child class provides a new implementation for a method that is already defined in its parent class. It allows customizing or extending the behavior of inherited methods.\n",
        "\n",
        "Importance:\n",
        "\n",
        "1. The method must have the same name and parameters in both parent and child classes.\n",
        "2. The child class's method replaces the parent class's method when called on an instance of the child.\n",
        "3. The super() function can be used to call the parent’s method inside the child class.\n"
      ],
      "metadata": {
        "id": "az5dR453CDSi"
      }
    },
    {
      "cell_type": "markdown",
      "source": [
        "Que13: What is a property decorator in Python?\n",
        "\n",
        "Ans13: The property decorator (@property) is used to define getter, setter, and deleter methods in a class, allowing controlled access to private attributes. It makes method calls look like attribute access, improving code readability and encapsulation.\n",
        "\n",
        "Benefits of @propertydecorator:\n",
        "\n",
        "1. Encapsulates attribute access (hides internal details).\n",
        "2. Allows validation or computed properties without changing syntax.\n",
        "3. Prevents direct modification of sensitive data.\n",
        "\n",
        "\n"
      ],
      "metadata": {
        "id": "iXB29j8cCGJj"
      }
    },
    {
      "cell_type": "code",
      "source": [
        "#Example @propertydecorator\n",
        "class Person:\n",
        "    def __init__(self, name):\n",
        "        self._name = name  # Private attribute (_name)\n",
        "\n",
        "    @property\n",
        "    def name(self):  # Getter method\n",
        "        return self._name\n",
        "\n",
        "    @name.setter\n",
        "    def name(self, new_name):  # Setter method\n",
        "        if len(new_name) < 3:\n",
        "            raise ValueError(\"Name must be at least 3 characters long\")\n",
        "        self._name = new_name\n",
        "\n",
        "    @name.deleter\n",
        "    def name(self):  # Deleter method\n",
        "        del self._name\n",
        "\n",
        "# Creating an object\n",
        "person = Person(\"Alice\")\n",
        "print(person.name)  # Accessing name like an attribute (calls @property)\n",
        "\n",
        "person.name = \"Bob\"  # Modifying name (calls @name.setter)\n",
        "print(person.name)  # Output: Bob\n",
        "\n",
        "del person.name  # Deletes the name attribute (calls @name.deleter)\n"
      ],
      "metadata": {
        "id": "o8HK-y8kHYBl"
      },
      "execution_count": null,
      "outputs": []
    },
    {
      "cell_type": "markdown",
      "source": [
        "Que14: Why is polymorphism important in OOP?\n",
        "\n",
        "Ans14: Polymorphism is crucial in Object-Oriented Programming (OOP) because it allows a single interface to represent different types of objects, making code more flexible, reusable, and maintainable.\n",
        "\n",
        "Why is Polymorphism Important?\n",
        "1. Code Reusability: The same function can work with different object types, reducing duplication.\n",
        "2. Flexibility & Extensibility: New classes can be added without changing existing code.\n",
        "3. Improved Readability: Keeps the code clean and organized by using a unified interface.\n",
        "4. Supports Dynamic Method Binding: The correct method is called at runtime based on the object type.\n"
      ],
      "metadata": {
        "id": "uiStX-9hCJY7"
      }
    },
    {
      "cell_type": "code",
      "source": [
        "class Payment:\n",
        "    def pay(self):\n",
        "        raise NotImplementedError\n",
        "\n",
        "class CreditCard(Payment):\n",
        "    def pay(self):\n",
        "        return \"Paid using Credit Card\"\n",
        "\n",
        "class PayPal(Payment):\n",
        "    def pay(self):\n",
        "        return \"Paid using PayPal\"\n",
        "\n",
        "# Polymorphism in action\n",
        "def process_payment(payment_method):\n",
        "    print(payment_method.pay())\n",
        "\n",
        "process_payment(CreditCard())  # Output: Paid using Credit Card\n",
        "process_payment(PayPal())      # Output: Paid using PayPal\n",
        "\n",
        "#here, the same function process_payment() can handle different payment methods dynamically."
      ],
      "metadata": {
        "id": "NntEBAJfMN6t"
      },
      "execution_count": null,
      "outputs": []
    },
    {
      "cell_type": "markdown",
      "source": [
        "Que15: What is an abstract class in Python?\n",
        "\n",
        " Ans15: An abstract class in Python is a class that cannot be instantiated and serves as a blueprint for other classes. It enforces method implementation in its subclasses. Abstract classes are created using the ABC (Abstract Base Class) module.\n",
        "\n",
        "Key Characteristics of Abstract Classes:\n",
        "1. Cannot create objects from an abstract class.\n",
        "2. Must have at least one abstract method (declared but not implemented).\n",
        "3. Forces child classes to implement required methods, ensuring consistency.\n",
        "4. Uses ABC (Abstract Base Class) and @abstractmethod decorator.\n",
        "\n",
        "Benefits:\n",
        "1. Ensures method consistency across subclasses.\n",
        "2. Encourages structured and maintainable code.\n",
        "3. Prevents incomplete object creation by enforcing method implementation."
      ],
      "metadata": {
        "id": "tNvjcfUtCMVG"
      }
    },
    {
      "cell_type": "markdown",
      "source": [
        "Que16: What are the advantages of OOP?\n",
        "\n",
        "Ans16: Advantages of OOP:\n",
        "1. Code Reusability: Inheritance allows reusing existing code, reducing redundancy.\n",
        "2. Encapsulation: Protects data by restricting direct access to private attributes.\n",
        "3. Polymorphism: Enables a single interface to handle different object types.\n",
        "4. Modularity: Organizes code into classes, improving structure and readability.\n",
        "5. Maintainability: Easier to update and modify without affecting other parts.\n",
        "6. Abstraction: Hides complex implementation details, exposing only necessary features.\n",
        "7. Scalability: Well-suited for large applications, making them more manageable.\n"
      ],
      "metadata": {
        "id": "PEJcZJ30CP5x"
      }
    },
    {
      "cell_type": "markdown",
      "source": [
        "Que17: What is multiple inheritance in Python?\n",
        "\n",
        "Ans17: Multiple inheritance is a feature in Python where a class can inherit from more than one parent class. This allows a child class to access attributes and methods from multiple parent classes.\n",
        "\n",
        "Benefits of multiple inheritance:\n",
        "1. Code reusability from multiple sources.\n",
        "2. Allows combining features from multiple classes.\n"
      ],
      "metadata": {
        "id": "VmBe67-RCTNU"
      }
    },
    {
      "cell_type": "markdown",
      "source": [
        "Que18: What is the difference between a class variable and an instance variable?\n",
        "\n",
        "***Class Variable:***\n",
        "\n",
        "1. Shared by all instances of a class.\n",
        "2. Defined inside the class but outside any method.\n",
        "3. Common across all objects of the class.\n",
        "4. Modification affects all instances.\n",
        "**Instance Variable:**\n",
        "\n",
        "1. Unique to each object (instance).\n",
        "2. Defined inside the constructor (__init__) using self.\n",
        "3. Specific to individual objects.\n",
        "4. Modification affects only that instance."
      ],
      "metadata": {
        "id": "9n0uNQRVCWc2"
      }
    },
    {
      "cell_type": "markdown",
      "source": [
        "Que19: Explain the purpose of ‘’__str__’ and ‘__repr__’ ‘ methods in Python?\n",
        "\n",
        "Ans19: __str__() (User-Friendly Representation)\n",
        "\n",
        "a). Used for a human-readable string representation of an object.\n",
        "\n",
        "b). Called by print() or str().\n",
        "\n",
        "c). Should be informative and easy to read.\n",
        "\n",
        " __repr__() (Developer-Friendly Representation)\n",
        "\n",
        "a). Used for a formal, unambiguous representation of an object.\n",
        "\n",
        "b). Called by repr() or when printing an object in the interactive shell.\n",
        "\n",
        "c). Should return a string that can recreate the object.\n",
        "\n"
      ],
      "metadata": {
        "id": "NGrFnRmSCaHm"
      }
    },
    {
      "cell_type": "markdown",
      "source": [
        "Que20: What is the significance of the 'super()' function in Python?\n",
        "\n",
        "Ans20: Significance of 'super()' function :\n",
        "1. super() allows access to parent class methods and constructors without explicitly naming the parent.\n",
        "2. Used in inheritance to avoid code duplication and maintain scalability.\n",
        "3. Supports multiple inheritance by following Method Resolution Order (MRO).\n"
      ],
      "metadata": {
        "id": "cQNvlUu2Cda0"
      }
    },
    {
      "cell_type": "markdown",
      "source": [
        "Que21: What is the significance of the __del__ method in Python?\n",
        "\n",
        "Ans21: Significance of __del__ Method in Python\n",
        "1.  __del__() is a destructor method that is called when an object is about to be destroyed (garbage collected).\n",
        "2. Used to release resources like closing files, network connections, or database connections.\n",
        "3. Automatically invoked when an object's reference count drops to zero.\n"
      ],
      "metadata": {
        "id": "tAP1TyTkCg0U"
      }
    },
    {
      "cell_type": "markdown",
      "source": [
        "Que22: What is the difference between @staticmethod and @classmethod in Python?\n",
        "\n",
        "Ans22: @staticmethod (Independent Method)\n",
        "\n",
        "1. Does not use self or cls.\n",
        "2. Acts like a regular function inside a class.\n",
        "3. Cannot modify class or instance attributes.\n",
        "4. Called using ClassName.method() or object.method().\n",
        "@classmethod (Class-Level Method)\n",
        "\n",
        "1. Uses cls as the first parameter (accesses class attributes).\n",
        "2. Can modify class-level variables.\n",
        "3. Called using ClassName.method() or object.method()."
      ],
      "metadata": {
        "id": "H4nfPg9vCjxk"
      }
    },
    {
      "cell_type": "markdown",
      "source": [
        "Que23: How does polymorphism work in Python with inheritance?\n",
        "\n",
        "Ans23: Working:\n",
        "1. Polymorphism allows different classes to have methods with the same name but different behaviors.\n",
        "2. It enables code flexibility by using a common interface for multiple object types.\n",
        "3. Works with method overriding, where a subclass provides a specific implementation of a method from the parent class.\n"
      ],
      "metadata": {
        "id": "Jv_EnkdWCntx"
      }
    },
    {
      "cell_type": "code",
      "source": [
        "#Example: How Polymorphism work in Python with Inheritance.\n",
        "\n",
        "class Animal:\n",
        "    def speak(self):\n",
        "        return \"Animal makes a sound\"\n",
        "\n",
        "class Dog(Animal):\n",
        "    def speak(self):\n",
        "        return \"Bark\"\n",
        "\n",
        "class Cat(Animal):\n",
        "    def speak(self):\n",
        "        return \"Meow\"\n",
        "\n",
        "# Using polymorphism\n",
        "animals = [Dog(), Cat()]\n",
        "\n",
        "for animal in animals:\n",
        "    print(animal.speak())"
      ],
      "metadata": {
        "id": "ie8WDdU8TA6o"
      },
      "execution_count": null,
      "outputs": []
    },
    {
      "cell_type": "markdown",
      "source": [
        "Que24: What is method chaining in Python OOP?\n",
        "\n",
        "Ans24: Method chaining allows calling multiple methods sequentially on the same object in a single line. Each method returns self, enabling further method calls. Improves code readability and reduces lines of code.\n"
      ],
      "metadata": {
        "id": "AsszFo3DCq_G"
      }
    },
    {
      "cell_type": "markdown",
      "source": [
        "Que25: What is the purpose of the __call__ method in Python?\n",
        "\n",
        "Ans25: The __call__ method makes an instance of a class callable like a function. It allows objects to be used as functions, enhancing flexibility. It is useful for custom function objects, decorators, and dynamic behavior."
      ],
      "metadata": {
        "id": "uf22rcqFCt0b"
      }
    },
    {
      "cell_type": "markdown",
      "source": [
        "##Practical Questions:"
      ],
      "metadata": {
        "id": "n3wF8trWT1F2"
      }
    },
    {
      "cell_type": "markdown",
      "source": [
        "Que1:  Create a parent class Animal with a method speak() that prints a generic message. Create a child class Dog that overrides the speak() method to print \"Bark!\"."
      ],
      "metadata": {
        "id": "Vt9vq27NT9SN"
      }
    },
    {
      "cell_type": "code",
      "source": [
        "#Ans1:\n",
        "class Animal:\n",
        "  def speak(self):\n",
        "    return \"The animal makes a sound.\"\n",
        "\n",
        "class Dog(Animal):\n",
        "  def speak(self):\n",
        "    return \"Bark!\"\n",
        "\n",
        "animal = Animal()\n",
        "dog = Dog()\n",
        "print(f\"{animal.speak()}\")\n",
        "print(f\"{dog.speak()}\")"
      ],
      "metadata": {
        "colab": {
          "base_uri": "https://localhost:8080/"
        },
        "id": "Fql5t4KnT4hC",
        "outputId": "c3e0779d-1729-42da-aaed-93f702825977"
      },
      "execution_count": null,
      "outputs": [
        {
          "output_type": "stream",
          "name": "stdout",
          "text": [
            "The animal makes a sound.\n",
            "Bark!\n"
          ]
        }
      ]
    },
    {
      "cell_type": "markdown",
      "source": [
        "Que2:  Write a program to create an abstract class Shape with a method area(). Derive classes Circle and Rectangle from it and implement the area() method in both."
      ],
      "metadata": {
        "id": "2Ck4CyGFanUL"
      }
    },
    {
      "cell_type": "code",
      "source": [
        "#Ans2:\n",
        "class Shape:\n",
        "  def area(self):\n",
        "    pass\n",
        "\n",
        "class Circle(Shape):\n",
        "  def __init__(self, radius):\n",
        "    self.radius = radius\n",
        "  def area(self):\n",
        "    return 3.14*self.radius*self.radius\n",
        "\n",
        "class Rectangle(Shape):\n",
        "  def __init__(self, length, breadth):\n",
        "    self.length = length\n",
        "    self.breadth = breadth\n",
        "  def area(self):\n",
        "    return self.length*self.breadth\n",
        "\n",
        "area_circle = Circle(5)\n",
        "area_rect = Rectangle(3,7)\n",
        "\n",
        "print(f\"Area of the circle = {area_circle.area():.2f}\")\n",
        "print(f\"Area of the rectangle = {area_rect.area():.2f}\")"
      ],
      "metadata": {
        "colab": {
          "base_uri": "https://localhost:8080/"
        },
        "id": "OpDcSP_9s73t",
        "outputId": "e95fe1e6-9958-4633-b662-1ea8a55728e0"
      },
      "execution_count": null,
      "outputs": [
        {
          "output_type": "stream",
          "name": "stdout",
          "text": [
            "Area of the circle = 78.50\n",
            "Area of the rectangle = 21.00\n"
          ]
        }
      ]
    },
    {
      "cell_type": "markdown",
      "source": [
        "Que3:  Implement a multi-level inheritance scenario where a class Vehicle has an attribute type. Derive a class Car and further derive a class ElectricCar that adds a battery attribute."
      ],
      "metadata": {
        "id": "fzQmFxqbtJ9E"
      }
    },
    {
      "cell_type": "code",
      "source": [
        "#Ans3:\n",
        "class Vehicle:\n",
        "    def __init__(self, type):\n",
        "        self.type = type\n",
        "\n",
        "    def typeofcar(self):\n",
        "        return f\"This is a {self.type} vehicle.\"\n",
        "\n",
        "class Car(Vehicle):\n",
        "    def __init__(self, type, transmission_type):\n",
        "        super().__init__(type)  # Call the parent constructor\n",
        "        self.transmission_type = transmission_type\n",
        "\n",
        "    def typeofcar(self):\n",
        "        return f\"Class name is Car and it is inherited from Vehicle class. It has a {self.transmission_type} transmission.\"\n",
        "\n",
        "class ElectricCar(Car):\n",
        "    def __init__(self, type, transmission_type, battery):\n",
        "        super().__init__(type, transmission_type)  # Call the Car constructor\n",
        "        self.battery = battery\n",
        "\n",
        "    def typeofcar(self):\n",
        "        return f\"Class name is ElectricCar and it is inherited from Car class. It has a {self.battery} battery.\"\n",
        "\n",
        "# Creating objects with required parameters\n",
        "veh = Vehicle(\"General\")\n",
        "car = Car(\"Sedan\", \"Automatic\")\n",
        "ev = ElectricCar(\"Sedan\", \"Automatic\", \"75 kWh\")\n",
        "\n",
        "# Output statements\n",
        "print(f\"Vehicle Class's type of Car: {veh.typeofcar()}\")\n",
        "print(f\"Car Class's type of Car: {car.typeofcar()}\")\n",
        "print(f\"Car Class's Transmission type: {car.transmission_type}\")\n",
        "print(f\"ElectricCar Class's type of Car: {ev.typeofcar()}\")\n",
        "print(f\"ElectricCar Class's Battery Capacity: {ev.battery}\")\n"
      ],
      "metadata": {
        "colab": {
          "base_uri": "https://localhost:8080/"
        },
        "id": "k1tew0HwtLZ2",
        "outputId": "b2252ef5-d22c-422f-b475-2ab86747f9b3"
      },
      "execution_count": 16,
      "outputs": [
        {
          "output_type": "stream",
          "name": "stdout",
          "text": [
            "Vehicle Class's type of Car: This is a General vehicle.\n",
            "Car Class's type of Car: Class name is Car and it is inherited from Vehicle class. It has a Automatic transmission.\n",
            "Car Class's Transmission type: Automatic\n",
            "ElectricCar Class's type of Car: Class name is ElectricCar and it is inherited from Car class. It has a 75 kWh battery.\n",
            "ElectricCar Class's Battery Capacity: 75 kWh\n"
          ]
        }
      ]
    },
    {
      "cell_type": "markdown",
      "source": [
        "Que4:  Demonstrate polymorphism by creating a base class Bird with a method fly(). Create two derived classes Sparrow and Penguin that override the fly() method."
      ],
      "metadata": {
        "id": "ydG8OcDVvlF0"
      }
    },
    {
      "cell_type": "code",
      "source": [
        "#Ans4:\n",
        "class Bird:\n",
        "  def __init__(self):\n",
        "    pass\n",
        "  def fly(self):\n",
        "    return \"Birds fly high in the sky.\"\n",
        "\n",
        "class Sparrow(Bird):\n",
        "  def __init__(self):\n",
        "    pass\n",
        "  def fly(self):\n",
        "    return \"Sparrows fly beautifully in the air.\"\n",
        "\n",
        "class Penguin(Bird):\n",
        "  def __init__(self):\n",
        "    pass\n",
        "  def fly(self):\n",
        "    return \"Penguins are the birds that do not fly.\"\n",
        "\n",
        "def flying_method(bird):\n",
        "  print(bird.fly())\n",
        "\n",
        "sparrow = Sparrow()\n",
        "penguin = Penguin()\n",
        "\n",
        "flying_method(sparrow)\n",
        "flying_method(penguin)\n",
        "\n"
      ],
      "metadata": {
        "colab": {
          "base_uri": "https://localhost:8080/"
        },
        "id": "1IxRF1YI0zJP",
        "outputId": "edc6ba12-a788-4e31-9330-12cc8c9471c4"
      },
      "execution_count": 3,
      "outputs": [
        {
          "output_type": "stream",
          "name": "stdout",
          "text": [
            "Sparrows fly beautifully in the air.\n",
            "Penguins are the birds that do not fly.\n"
          ]
        }
      ]
    },
    {
      "cell_type": "markdown",
      "source": [
        "Que5: Write a program to demonstrate encapsulation by creating a class BankAccount with private attributes balance and methods to deposit, withdraw, and check balance"
      ],
      "metadata": {
        "id": "xOQRwkzoCQ2d"
      }
    },
    {
      "cell_type": "code",
      "source": [
        "#Ans5:\n",
        "class BankAccount:\n",
        "    def __init__(self, account_holder, balance):\n",
        "        self.account_holder = account_holder  # Public attribute\n",
        "        self.__balance = balance  # Private attribute (cannot be accessed directly)\n",
        "\n",
        "    def deposit(self, amount):\n",
        "        if amount > 0:\n",
        "            self.__balance += amount\n",
        "            return f\"Deposited ${amount}. New balance: ${self.__balance}\"\n",
        "        return \"Deposit amount must be positive.\"\n",
        "\n",
        "    def withdraw(self, amount):\n",
        "        if 0 < amount <= self.__balance:\n",
        "            self.__balance -= amount\n",
        "            return f\"Withdrew ${amount}. Remaining balance: ${self.__balance}\"\n",
        "        return \"Insufficient balance or invalid amount.\"\n",
        "\n",
        "    def get_balance(self):\n",
        "        return f\"Balance: ${self.__balance}\"  # Providing controlled access to private data\n",
        "\n",
        "# Creating an object\n",
        "account = BankAccount(\"Alice\", 1000)\n",
        "\n",
        "# Accessing public method (Encapsulation in action)\n",
        "print(account.deposit(500))  # ✅ Deposited $500. New balance: $1500\n",
        "print(account.withdraw(300))  # ✅ Withdrew $300. Remaining balance: $1200\n",
        "print(account.get_balance())  # ✅ Balance: $1200\n"
      ],
      "metadata": {
        "colab": {
          "base_uri": "https://localhost:8080/"
        },
        "id": "ETs76BsjCXJf",
        "outputId": "c81e557f-f64b-4b7e-ee53-3618c87075db"
      },
      "execution_count": 1,
      "outputs": [
        {
          "output_type": "stream",
          "name": "stdout",
          "text": [
            "Deposited $500. New balance: $1500\n",
            "Withdrew $300. Remaining balance: $1200\n",
            "Balance: $1200\n"
          ]
        }
      ]
    },
    {
      "cell_type": "markdown",
      "source": [
        "Que6:  Demonstrate runtime polymorphism using a method play() in a base class Instrument. Derive classes Guitar and Piano that implement their own version of play().\n",
        ""
      ],
      "metadata": {
        "id": "ix77ZqqTvTca"
      }
    },
    {
      "cell_type": "code",
      "source": [
        "#Ans6:\n",
        "class Instrument:\n",
        "    def play(self):\n",
        "        return \"Playing an instrument.\"\n",
        "\n",
        "class Guitar(Instrument):\n",
        "    def play(self):\n",
        "        return \"Strumming the guitar.\"\n",
        "\n",
        "class Piano(Instrument):\n",
        "    def play(self):\n",
        "        return \"Playing the piano.\"\n",
        "\n",
        "# Function demonstrating runtime polymorphism\n",
        "def start_playing(instrument):\n",
        "    print(instrument.play())\n",
        "\n",
        "# Creating different instrument objects\n",
        "guitar = Guitar()\n",
        "piano = Piano()\n",
        "\n",
        "# Calling the same method, but different implementations at runtime\n",
        "start_playing(guitar)\n",
        "start_playing(piano)\n"
      ],
      "metadata": {
        "id": "PigW2Vg8v5Mj"
      },
      "execution_count": null,
      "outputs": []
    },
    {
      "cell_type": "markdown",
      "source": [
        "7. Create a class MathOperations with a class method add_numbers() to add two numbers and a static method subtract_numbers() to subtract two numbers.\n",
        ""
      ],
      "metadata": {
        "id": "4AvBxuX9vi7J"
      }
    },
    {
      "cell_type": "code",
      "source": [
        "#Ans7:\n",
        "class MathOperations:\n",
        "    @classmethod\n",
        "    def add_numbers(cls, a, b):\n",
        "        return a + b\n",
        "\n",
        "    @staticmethod\n",
        "    def subtract_numbers(a, b):\n",
        "        return a - b\n",
        "\n",
        "# Example usage:\n",
        "print(MathOperations.add_numbers(10, 5))\n",
        "print(MathOperations.subtract_numbers(10, 5))\n"
      ],
      "metadata": {
        "colab": {
          "base_uri": "https://localhost:8080/"
        },
        "id": "nxfCfngjzz6w",
        "outputId": "a9fb0bbd-f052-487c-c0e9-9ce6ba2407ec"
      },
      "execution_count": 2,
      "outputs": [
        {
          "output_type": "stream",
          "name": "stdout",
          "text": [
            "15\n",
            "5\n"
          ]
        }
      ]
    },
    {
      "cell_type": "markdown",
      "source": [
        "8. Implement a class Person with a class method to count the total number of persons created.\n",
        ""
      ],
      "metadata": {
        "id": "4Wg8QTcJvl0X"
      }
    },
    {
      "cell_type": "code",
      "source": [
        "#Ans8:\n",
        "class Person:\n",
        "    count = 0  # Class variable to keep track of the number of persons\n",
        "\n",
        "    def __init__(self, name):\n",
        "        self.name = name\n",
        "        Person.count += 1  # Increment count when a new Person is created\n",
        "\n",
        "    @classmethod\n",
        "    def get_total_persons(cls):\n",
        "        return cls.count  # Access class variable using cls\n",
        "\n",
        "p1 = Person(\"Alice\")\n",
        "p2 = Person(\"Bob\")\n",
        "p3 = Person(\"Charlie\")\n",
        "p4 = Person(\"David\")\n",
        "p5 = Person(\"Eva\")\n",
        "p6 = Person(\"Fiza\")\n",
        "\n",
        "print(Person.get_total_persons())"
      ],
      "metadata": {
        "colab": {
          "base_uri": "https://localhost:8080/"
        },
        "id": "z6p6y_G50LVl",
        "outputId": "80a20f2e-149a-4ee6-9bff-776c0099ddd6"
      },
      "execution_count": 5,
      "outputs": [
        {
          "output_type": "stream",
          "name": "stdout",
          "text": [
            "6\n"
          ]
        }
      ]
    },
    {
      "cell_type": "markdown",
      "source": [
        "9. Write a class Fraction with attributes numerator and denominator. Override the str method to display the fraction as \"numerator/denominator\".\n",
        ""
      ],
      "metadata": {
        "id": "2yfIO4Nnvn9Y"
      }
    },
    {
      "cell_type": "code",
      "source": [
        "#Ans9:\n",
        "class Fraction:\n",
        "    def __init__(self, numerator, denominator):\n",
        "        self.numerator = numerator\n",
        "        self.denominator = denominator\n",
        "\n",
        "    def __str__(self):\n",
        "        return f\"{self.numerator}/{self.denominator}\"\n",
        "\n",
        "frac1 = Fraction(3, 5)\n",
        "frac2 = Fraction(7, 2)\n",
        "\n",
        "print(frac1)\n",
        "print(frac2)\n"
      ],
      "metadata": {
        "colab": {
          "base_uri": "https://localhost:8080/"
        },
        "id": "5zlOfK-O0_0R",
        "outputId": "b2ea86d7-401a-4723-c495-d1a65df527b0"
      },
      "execution_count": 6,
      "outputs": [
        {
          "output_type": "stream",
          "name": "stdout",
          "text": [
            "3/5\n",
            "7/2\n"
          ]
        }
      ]
    },
    {
      "cell_type": "markdown",
      "source": [
        "10. Demonstrate operator overloading by creating a class Vector and overriding the add method to add two vectors.\n",
        ""
      ],
      "metadata": {
        "id": "bxbS6m0cvp98"
      }
    },
    {
      "cell_type": "code",
      "source": [
        "#Ans10:\n",
        "class Vector:\n",
        "    def __init__(self, x, y):\n",
        "        self.x = x\n",
        "        self.y = y\n",
        "\n",
        "    def __add__(self, other):\n",
        "        if isinstance(other, Vector):\n",
        "            return Vector(self.x + other.x, self.y + other.y)\n",
        "        return NotImplemented\n",
        "\n",
        "    def __str__(self):\n",
        "        return f\"({self.x}, {self.y})\"\n",
        "\n",
        "v1 = Vector(2, 3)\n",
        "v2 = Vector(4, 5)\n",
        "v3 = v1 + v2  # Calls the __add__ method\n",
        "\n",
        "print(v3)\n"
      ],
      "metadata": {
        "colab": {
          "base_uri": "https://localhost:8080/"
        },
        "id": "4IK68dOz1Nht",
        "outputId": "81413e89-a3d1-4cad-9639-79a457a0b4f5"
      },
      "execution_count": 7,
      "outputs": [
        {
          "output_type": "stream",
          "name": "stdout",
          "text": [
            "(6, 8)\n"
          ]
        }
      ]
    },
    {
      "cell_type": "markdown",
      "source": [
        "11. Create a class Person with attributes name and age. Add a method greet() that prints \"Hello, my name is {name} and I am {age} years old.\"\n"
      ],
      "metadata": {
        "id": "anRQs4bRvr2L"
      }
    },
    {
      "cell_type": "code",
      "source": [
        "#Ans11:\n",
        "class Person:\n",
        "    def __init__(self, name, age):\n",
        "        self.name = name\n",
        "        self.age = age\n",
        "\n",
        "    def greet(self):\n",
        "        print(f\"Hello, my name is {self.name} and I am {self.age} years old.\")\n",
        "\n",
        "# Example usage:\n",
        "p1 = Person(\"Alice\", 25)\n",
        "p2 = Person(\"Bob\", 30)\n",
        "\n",
        "p1.greet()\n",
        "p2.greet()\n"
      ],
      "metadata": {
        "colab": {
          "base_uri": "https://localhost:8080/"
        },
        "id": "T20jjybJ2aHN",
        "outputId": "5ea94a0e-cb27-4d3d-fc4f-5bd77e4ebb05"
      },
      "execution_count": 8,
      "outputs": [
        {
          "output_type": "stream",
          "name": "stdout",
          "text": [
            "Hello, my name is Alice and I am 25 years old.\n",
            "Hello, my name is Bob and I am 30 years old.\n"
          ]
        }
      ]
    },
    {
      "cell_type": "markdown",
      "source": [
        " 12. Implement a class Student with attributes name and grades. Create a method average_grade() to compute the average of the grades.\n",
        ""
      ],
      "metadata": {
        "id": "mikgLFt-vuGe"
      }
    },
    {
      "cell_type": "code",
      "source": [
        "#Ans12:\n",
        "class Student:\n",
        "    def __init__(self, name, grades):\n",
        "        self.name = name\n",
        "        self.grades = grades  # List of grades\n",
        "\n",
        "    def average_grade(self):\n",
        "        return sum(self.grades) / len(self.grades) if self.grades else 0\n",
        "\n",
        "s1 = Student(\"Alice\", [85, 90, 78, 92])\n",
        "s2 = Student(\"Bob\", [88, 76, 95, 89])\n",
        "\n",
        "print(f\"{s1.name}'s average grade: {s1.average_grade():.2f}\")\n",
        "print(f\"{s2.name}'s average grade: {s2.average_grade():.2f}\")\n"
      ],
      "metadata": {
        "colab": {
          "base_uri": "https://localhost:8080/"
        },
        "id": "-pEnGf8Z2i7N",
        "outputId": "0a8e9f30-de91-46fa-d6e2-cf369e757faf"
      },
      "execution_count": 9,
      "outputs": [
        {
          "output_type": "stream",
          "name": "stdout",
          "text": [
            "Alice's average grade: 86.25\n",
            "Bob's average grade: 87.00\n"
          ]
        }
      ]
    },
    {
      "cell_type": "markdown",
      "source": [
        "13. Create a class Rectangle with methods set_dimensions() to set the dimensions and area() to calculate the area.\n",
        ""
      ],
      "metadata": {
        "id": "fxkYv7f3vwK-"
      }
    },
    {
      "cell_type": "code",
      "source": [
        "#Ans13:\n",
        "class Rectangle:\n",
        "    def __init__(self, length=0, width=0):\n",
        "        self.length = length\n",
        "        self.width = width\n",
        "\n",
        "    def set_dimensions(self, length, width):\n",
        "        self.length = length\n",
        "        self.width = width\n",
        "\n",
        "    def area(self):\n",
        "        return self.length * self.width\n",
        "\n",
        "rect = Rectangle()\n",
        "rect.set_dimensions(5, 10)\n",
        "print(f\"Area of rectangle: {rect.area()}\")"
      ],
      "metadata": {
        "colab": {
          "base_uri": "https://localhost:8080/"
        },
        "id": "Mu5sHE-g2208",
        "outputId": "8bd4a89c-8f13-4186-f1c5-61a1a0e30a56"
      },
      "execution_count": 10,
      "outputs": [
        {
          "output_type": "stream",
          "name": "stdout",
          "text": [
            "Area of rectangle: 50\n"
          ]
        }
      ]
    },
    {
      "cell_type": "markdown",
      "source": [
        "14. Create a class Employee with a method calculate_salary() that computes the salary based on hours worked and hourly rate. Create a derived class Manager that adds a bonus to the salary."
      ],
      "metadata": {
        "id": "B3mkPOaYvyeb"
      }
    },
    {
      "cell_type": "code",
      "source": [
        "#Ans14:\n",
        "class Employee:\n",
        "    def __init__(self, name, hours_worked, hourly_rate):\n",
        "        self.name = name\n",
        "        self.hours_worked = hours_worked\n",
        "        self.hourly_rate = hourly_rate\n",
        "\n",
        "    def calculate_salary(self):\n",
        "        return self.hours_worked * self.hourly_rate\n",
        "\n",
        "class Manager(Employee):\n",
        "    def __init__(self, name, hours_worked, hourly_rate, bonus):\n",
        "        super().__init__(name, hours_worked, hourly_rate)\n",
        "        self.bonus = bonus\n",
        "\n",
        "    def calculate_salary(self):\n",
        "        return super().calculate_salary() + self.bonus\n",
        "\n",
        "emp = Employee(\"Alice\", 40, 20)  # Regular employee\n",
        "mgr = Manager(\"Bob\", 40, 30, 500)  # Manager with bonus\n",
        "\n",
        "print(f\"{emp.name}'s salary: ${emp.calculate_salary()}\")\n",
        "print(f\"{mgr.name}'s salary: ${mgr.calculate_salary()}\")\n"
      ],
      "metadata": {
        "colab": {
          "base_uri": "https://localhost:8080/"
        },
        "id": "hseRfbjS3C04",
        "outputId": "7577a302-3098-4eb4-ee01-f5120e411986"
      },
      "execution_count": 11,
      "outputs": [
        {
          "output_type": "stream",
          "name": "stdout",
          "text": [
            "Alice's salary: $800\n",
            "Bob's salary: $1700\n"
          ]
        }
      ]
    },
    {
      "cell_type": "code",
      "source": [
        "Que15: Create a class Product with attributes name, price, and quantity. Implement a method total_price() that\n",
        "calculates the total price of the product.\n",
        ""
      ],
      "metadata": {
        "id": "T2Tnh13P3Ji8"
      },
      "execution_count": null,
      "outputs": []
    },
    {
      "cell_type": "code",
      "source": [
        "#Ans15:\n",
        "class Product:\n",
        "    def __init__(self, name, price, quantity):\n",
        "        self.name = name\n",
        "        self.price = price\n",
        "        self.quantity = quantity\n",
        "\n",
        "    def total_price(self):\n",
        "        return self.price * self.quantity\n",
        "\n",
        "product1 = Product(\"Laptop\", 800, 2)\n",
        "product2 = Product(\"Phone\", 500, 3)\n",
        "\n",
        "print(f\"Total price of {product1.name}: ${product1.total_price()}\")\n",
        "print(f\"Total price of {product2.name}: ${product2.total_price()}\")"
      ],
      "metadata": {
        "colab": {
          "base_uri": "https://localhost:8080/"
        },
        "id": "bfaWDu3_8NFt",
        "outputId": "f3b7a4e6-6310-440c-9ac7-896e5eda9de9"
      },
      "execution_count": 12,
      "outputs": [
        {
          "output_type": "stream",
          "name": "stdout",
          "text": [
            "Total price of Laptop: $1600\n",
            "Total price of Phone: $1500\n"
          ]
        }
      ]
    },
    {
      "cell_type": "markdown",
      "source": [
        "Que16: Create a class Animal with an abstract method sound(). Create two derived classes Cow and Sheep that implement the sound() method.\n"
      ],
      "metadata": {
        "id": "y7LeeUzR74Lj"
      }
    },
    {
      "cell_type": "code",
      "source": [
        "#Ans16:\n",
        "from abc import ABC, abstractmethod\n",
        "\n",
        "class Animal(ABC):  # Abstract base class\n",
        "    @abstractmethod\n",
        "    def sound(self):\n",
        "        pass  # Abstract method (must be implemented by subclasses)\n",
        "\n",
        "class Cow(Animal):\n",
        "    def sound(self):\n",
        "        return \"Moo\"\n",
        "\n",
        "class Sheep(Animal):\n",
        "    def sound(self):\n",
        "        return \"Baa\"\n",
        "\n",
        "cow = Cow()\n",
        "sheep = Sheep()\n",
        "\n",
        "print(f\"Cow sound: {cow.sound()}\")\n",
        "print(f\"Sheep sound: {sheep.sound()}\")\n"
      ],
      "metadata": {
        "colab": {
          "base_uri": "https://localhost:8080/"
        },
        "id": "IWW6NnCLBbFt",
        "outputId": "e00ffe30-b6ea-4226-d929-465c38e3a079"
      },
      "execution_count": 13,
      "outputs": [
        {
          "output_type": "stream",
          "name": "stdout",
          "text": [
            "Cow sound: Moo\n",
            "Sheep sound: Baa\n"
          ]
        }
      ]
    },
    {
      "cell_type": "markdown",
      "source": [
        " Que17: Create a class Book with attributes title, author, and year_published. Add a method get_book_info() that returns a formatted string with the book's details.\n",
        ""
      ],
      "metadata": {
        "id": "zrJvyZ1y76ld"
      }
    },
    {
      "cell_type": "code",
      "source": [
        "#Ans17:\n",
        "class Book:\n",
        "    def __init__(self, title, author, year_published):\n",
        "        self.title = title\n",
        "        self.author = author\n",
        "        self.year_published = year_published\n",
        "\n",
        "    def get_book_info(self):\n",
        "        return f\"'{self.title}' by {self.author}, published in {self.year_published}.\"\n",
        "\n",
        "book1 = Book(\"To Kill a Mockingbird\", \"Harper Lee\", 1960)\n",
        "book2 = Book(\"1984\", \"George Orwell\", 1949)\n",
        "\n",
        "print(book1.get_book_info())\n",
        "print(book2.get_book_info())\n"
      ],
      "metadata": {
        "colab": {
          "base_uri": "https://localhost:8080/"
        },
        "id": "aeSf4OfCBswZ",
        "outputId": "37e9bf1f-c1b1-4b25-9bbc-0bc730476edd"
      },
      "execution_count": 14,
      "outputs": [
        {
          "output_type": "stream",
          "name": "stdout",
          "text": [
            "'To Kill a Mockingbird' by Harper Lee, published in 1960.\n",
            "'1984' by George Orwell, published in 1949.\n"
          ]
        }
      ]
    },
    {
      "cell_type": "markdown",
      "source": [
        "Que18: Create a class House with attributes address and price. Create a derived class Mansion that adds an attribute number_of_rooms."
      ],
      "metadata": {
        "id": "8esKmM6278qD"
      }
    },
    {
      "cell_type": "code",
      "source": [
        "#Ans18:\n",
        "class House:\n",
        "    def __init__(self, address, price):\n",
        "        self.address = address\n",
        "        self.price = price\n",
        "\n",
        "    def get_info(self):\n",
        "        return f\"Address: {self.address}, Price: ${self.price}\"\n",
        "\n",
        "class Mansion(House):\n",
        "    def __init__(self, address, price, number_of_rooms):\n",
        "        super().__init__(address, price)\n",
        "        self.number_of_rooms = number_of_rooms\n",
        "\n",
        "    def get_info(self):\n",
        "        return f\"Address: {self.address}, Price: ${self.price}, Rooms: {self.number_of_rooms}\"\n",
        "\n",
        "house = House(\"123 Main St\", 250000)\n",
        "mansion = Mansion(\"456 Luxury Ave\", 5000000, 10)\n",
        "\n",
        "print(house.get_info())\n",
        "print(mansion.get_info())\n"
      ],
      "metadata": {
        "colab": {
          "base_uri": "https://localhost:8080/"
        },
        "id": "OETIcjihB9C2",
        "outputId": "fbfff5fa-6e1f-438f-dfcb-9b7c6d1bffee"
      },
      "execution_count": 15,
      "outputs": [
        {
          "output_type": "stream",
          "name": "stdout",
          "text": [
            "Address: 123 Main St, Price: $250000\n",
            "Address: 456 Luxury Ave, Price: $5000000, Rooms: 10\n"
          ]
        }
      ]
    }
  ]
}