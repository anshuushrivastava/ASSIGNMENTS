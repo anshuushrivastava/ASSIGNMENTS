{
  "nbformat": 4,
  "nbformat_minor": 0,
  "metadata": {
    "colab": {
      "provenance": []
    },
    "kernelspec": {
      "name": "python3",
      "display_name": "Python 3"
    },
    "language_info": {
      "name": "python"
    }
  },
  "cells": [
    {
      "cell_type": "markdown",
      "source": [
        "Que1: What are data structures, and why are they important?\n",
        "\n",
        "Ans1: Data structures in Python are fundamental tools that organize,\n",
        "manage, and store data efficiently for various computational tasks. They are essential for optimizing the performance of algorithms and handling large amounts of data. Here are some common data structures in Python and their importance:\n",
        "- Lists: -> Ordered, mutable collection of items.\n",
        "            -> Allows easy access, modification, and iteration over\n",
        "            elements. Used for storing and manipulating sequences\n",
        "            of data.\n",
        "-Tuples: ->Ordered, immutable collections of items.\n",
        "              ->Ensures data integrity by preventing changes. Useful for\n",
        "              fixed collections of data.\n",
        "-Dictionaries: ->Unordered collections of key-value pairs.\n",
        "                       ->Provides fast lookups, insertions, and deletions\n",
        "                       based on keys. Ideal for mapping relationships\n",
        "                       between data.\n",
        "-Sets: -> Unordered collections of unique items.\n",
        "          ->Allows efficient membership testing, union, intersection, and difference operations. Useful for handling distinct elements.\n",
        "-Strings: ->Immutable sequences of characters.\n",
        "               ->Widely used for text processing and manipulation.\n",
        "Importance of Data Structure:\n",
        "- Proper use of data structures can significantly reduce the time complexity of algorithms, leading to faster execution\n",
        "- They help in organizing data logically and efficiently, making it easier to manage and retrieve information.\n",
        "- Efficient data structures enable the handling of large volumes of data, which is crucial for real-world applications.\n",
        "-Understanding data structures allows developers to choose the most appropriate one for specific tasks, improving problem-solving abilities."
      ],
      "metadata": {
        "id": "JtK4HEWtNxv4"
      }
    },
    {
      "cell_type": "markdown",
      "source": [
        "Que2:Explain the difference between mutable and immutable data types with examples.\n",
        "\n",
        "Ans2: Mutable data types allow modification of their content after creation. Changes to mutable objects affect the original object. Examples include lists, dictionaries, and sets. For instance, lists can have their elements altered.\n",
        "\n",
        "Immutable data types, on the other hand, cannot be changed once created. Any operation that attempts to modify the object results in the creation of a new object. Examples of immutable types include integers, floats, strings, and tuples. For example, a string cannot be changed in place, and any modification creates a new string instead of altering the original."
      ],
      "metadata": {
        "id": "GyoVurSzS8dD"
      }
    },
    {
      "cell_type": "code",
      "source": [
        "#Mutable\n",
        "lst = [1, 2, 3]\n",
        "lst[0] = 10  # Modifies the list\n",
        "\n",
        "#Immutable\n",
        "s = \"hello\"\n",
        "s[0] = \"H\"  # Error: 'str' object does not support item assignment\n"
      ],
      "metadata": {
        "id": "sJcvOxXtUAF3"
      },
      "execution_count": null,
      "outputs": []
    },
    {
      "cell_type": "markdown",
      "source": [
        "Que3: What are the main differences between lists and tuples in Python?\n",
        "Ans3:\n",
        "\n",
        "**List:**\n",
        "-\tMutable (can be modified after creation)\n",
        "-\tDefined with square brackets: [ ]\n",
        "-\tSlower due to mutability\n",
        "-\tIdeal when data needs to be changed or updated\n",
        "-\tSupports many methods like .append(), .remove(), etc.\n",
        "-\tConsumes more memory due to its mutability\n",
        "-\tSlightly slower when iterating\n",
        "-\tExample- my_list = [1, 2, 3]\n",
        "\n",
        "**Tuple:**\n",
        "-\tImmutable (cannot be modified after creation)\n",
        "-\tDefined with parentheses: ( )\n",
        "-\tFaster due to immutability\n",
        "-\tIdeal for fixed, unchanging data\n",
        "-\tSupports fewer methods (e.g., .count(), .index())\n",
        "-\tUses less memory due to its immutability\n",
        "-\tSlightly faster when iterating\n",
        "-\tSlightly faster when iterating\n",
        "-\tExample- my_tuple = (1, 2, 3)\n"
      ],
      "metadata": {
        "id": "ZNcAmJJDUMD3"
      }
    },
    {
      "cell_type": "markdown",
      "source": [
        "Que4: Describe how dictionaries store data.\n",
        "\n",
        "Ans4: In Python, dictionaries store data as key-value pairs. Each key is unique and maps to a corresponding value. The data is stored in an unordered collection, meaning the order of items is not guaranteed. Keys must be immutable types (like strings, numbers, or tuples), while values can be of any data type. Dictionary elements are accessed efficiently using keys."
      ],
      "metadata": {
        "id": "XxnGotxgXCLN"
      }
    },
    {
      "cell_type": "code",
      "source": [
        "#Example\n",
        "my_dict = {\"name\": \"Anshu\", \"age\": 29}"
      ],
      "metadata": {
        "id": "oM6YQl7jXXua"
      },
      "execution_count": 1,
      "outputs": []
    },
    {
      "cell_type": "markdown",
      "source": [
        "Que5: Why might you use a set instead of a list in Python?\n",
        "\n",
        "Ans5: The reasons why I would choose set over list are mentioned as below:\n",
        "1.\t‘Sets’ automatically eliminate duplicate elements, ensuring each item is unique.\n",
        "2.\t‘Sets’ offer faster membership tests (in keyword) due to their underlying hash table structure.\n",
        "3.\t‘Sets’ support mathematical operations like union, intersection, and difference, which are not directly available for lists.\n",
        "4.\tIf the order of elements does not matter, ‘sets’ are a more appropriate choice due to their unordered nature.\n"
      ],
      "metadata": {
        "id": "51FwlzfCXmRr"
      }
    },
    {
      "cell_type": "markdown",
      "source": [
        "Que6: What is a string in Python, and how is it different from a list?\n",
        "\n",
        "Ans6: A string is a sequence of characters enclosed in single quotes (') or double quotes (\"), used to represent textual data. Strings are immutable, meaning their content cannot be modified after creation.\n",
        "\n",
        "**String**\n",
        "-\tA sequence of characters\n",
        "-\tImmutable (cannot be changed)\n",
        "-\tDefined with quotes: 'hello'\n",
        "-\tConsists of characters (text)\n",
        "-\tString-specific methods like upper(), lower()\n",
        "-\tRepresents textual data\n",
        "\n",
        "**List**\n",
        "-\tA collection of heterogeneous elements\n",
        "-\tMutable (can be modified)\n",
        "-\tDefined with square brackets: [1, 2, 3]\n",
        "-\tCan contain any data type (integers, strings, etc.)\n",
        "-\tList-specific methods like append(), remove()\n",
        "-\tUsed for ordered collections of items\n",
        "\n",
        "While strings represent immutable sequences of characters, lists are flexible, mutable collections that can store various types of data.\n"
      ],
      "metadata": {
        "id": "cCksOR6xYZQ2"
      }
    },
    {
      "cell_type": "markdown",
      "source": [
        "Que7: How do tuples ensure data integrity in Python?\n",
        "\n",
        "Ans7: Tuples ensure data integrity in Python through the property of immutability. Once a tuple is created, its contents cannot be modified, meaning that:\n",
        "1.\t**No Element Changes:** You cannot add, remove, or modify elements, preventing accidental data modification.\n",
        "2.\t**Hashable:** Due to immutability, tuples can be used as dictionary keys, unlike lists.\n",
        "3.\t**Preserved Order:** The elements in a tuple are guaranteed to stay in the same order, which helps maintain consistency in data.\n",
        "This immutability makes tuples ideal for storing constant, reliable data that should remain unchanged throughout the program.\n"
      ],
      "metadata": {
        "id": "uFZAqJEdavFZ"
      }
    },
    {
      "cell_type": "markdown",
      "source": [
        "Que8:  What is a hash table, and how does it relate to dictionaries in Python?\n",
        "\n",
        "Ans8: A hash table is a data structure that stores key-value pairs and uses a hash function to compute an index (or hash value) where the value associated with a key is stored. The key is passed through the hash function, which generates a unique hash value used to quickly locate the corresponding value in the table. Hash tables provide efficient constant time complexity (O(1)) for lookups, inserts, and deletions.\n",
        "Relation to dictionaries in Python:\n",
        "•\tPython dictionaries are implemented using hash tables.\n",
        "\n",
        "•\tIn a dictionary, the key is hashed to determine the index where its corresponding value is stored.\n",
        "\n",
        "•\tThis allows for fast lookups and efficient access to values based on keys.\n"
      ],
      "metadata": {
        "id": "ou_sCZykbeen"
      }
    },
    {
      "cell_type": "code",
      "source": [
        "my_dict = {\"name\": \"Anshu\", \"age\": 29}\n",
        "# The key \"name\" is hashed to locate the value \"Anshu\" in the hash table.\n",
        "\n"
      ],
      "metadata": {
        "id": "mVAgdMR6b3mO"
      },
      "execution_count": null,
      "outputs": []
    },
    {
      "cell_type": "markdown",
      "source": [
        "Que9: Can lists contain different data types in Python?\n",
        "\n",
        "Ans9: Yes, lists in Python can contain elements of different data types. Unlike arrays in some other programming languages, Python lists are flexible and can store a mix of integers, strings, floats, booleans, and even other lists or objects.\n"
      ],
      "metadata": {
        "id": "1we_G3itcEUm"
      }
    },
    {
      "cell_type": "code",
      "source": [
        "my_list = [1, \"hello\", 3.14, True, [1, 2, 3]]\n"
      ],
      "metadata": {
        "id": "pVY6dZIkcXgD"
      },
      "execution_count": null,
      "outputs": []
    },
    {
      "cell_type": "markdown",
      "source": [
        "Que10:  Explain why strings are immutable in Python.\n",
        "\n",
        "Ans10: Strings in Python are immutable to provide efficiency, safety, and consistency. Immutability allows strings to be shared across different parts of a program without risk of accidental modification, improving memory usage and performance. Python can reuse the same string object, supporting string interning for better memory management. Immutability also ensures that strings can be safely used as dictionary keys or in sets, as their hash values remain constant. Furthermore, it makes multi-threading easier since strings can't be changed by different threads, avoiding race conditions. This design simplifies debugging, reduces errors, and ensures predictable behavior in Python programs."
      ],
      "metadata": {
        "id": "CpHwOsdEcdfC"
      }
    },
    {
      "cell_type": "markdown",
      "source": [
        "Que11: What advantages do dictionaries offer over lists for certain tasks?\n",
        "\n",
        "Ans11:\n",
        "Dictionaries offer several advantages over lists for certain tasks:\n",
        "\n",
        "1. **Fast Lookups:** Dictionaries use keys to access values, which is much faster than searching through a list. Lookups in a dictionary are typically O(1) (constant time), while searching a list is O(n) (linear time).\n",
        "\n",
        "2. **Key-Value Pair Storage:** Dictionaries store data as key-value pairs, allowing you to associate unique keys with specific values. This makes them ideal for tasks like counting occurrences, storing configurations, or mapping data.\n",
        "\n",
        "3. **Unique Keys:** Since dictionary keys must be unique, they prevent duplication automatically, unlike lists where duplicate values can be stored.\n",
        "\n",
        "4. **Flexible Data Access:** With dictionaries, you can directly access data using meaningful keys, whereas with lists, you rely on index positions, which can be less intuitive.\n",
        "\n",
        "5. **Efficient Updates:** Adding, modifying, or deleting elements in a dictionary is usually more efficient compared to lists, especially for large datasets.\n",
        "\n",
        "In summary, dictionaries are preferred when fast lookups, key-value associations, or uniqueness are important for the task at hand."
      ],
      "metadata": {
        "id": "P-6gWtDudWDG"
      }
    },
    {
      "cell_type": "markdown",
      "source": [
        "Que12: Describe a scenario where using a tuple would be preferable over a list.\n",
        "\n",
        "Ans12: A tuple would be preferable over a list when you need to store data that should remain constant and unchanged, such as coordinates (x, y) or RGB values. Tuples are faster and use less memory, making them ideal for fixed data that doesn’t require modification during the program."
      ],
      "metadata": {
        "id": "ZZ-tazEVdxuR"
      }
    },
    {
      "cell_type": "markdown",
      "source": [
        "Que13: How do sets handle duplicate values in Python?\n",
        "\n",
        "Ans13: In Python, sets automatically remove duplicate values. A set is an unordered collection of unique elements, so if you try to add a duplicate value, it will be ignored. This ensures that each element in a set appears only once, making sets useful for tasks like eliminating duplicates from a list."
      ],
      "metadata": {
        "id": "Q27O2MW9d-V0"
      }
    },
    {
      "cell_type": "markdown",
      "source": [
        "Que14: How does the “in” keyword work differently for lists and dictionaries.\n",
        "\n",
        "Ans14:The \"in\" keyword works differently for lists and dictionaries in the following ways:\n",
        "\n",
        "**For Lists:**\n",
        "\n",
        "The \"in\" keyword checks if a value is present in the list. It looks for the element in the list and returns 'True' if found, otherwise 'False'.\n"
      ],
      "metadata": {
        "id": "FuYb4l9QeQNy"
      }
    },
    {
      "cell_type": "code",
      "source": [
        "my_list = [1, 2, 3]\n",
        "2 in my_list\n"
      ],
      "metadata": {
        "id": "227X4VZUel-c"
      },
      "execution_count": null,
      "outputs": []
    },
    {
      "cell_type": "markdown",
      "source": [
        "**For Dictionaries:**\n",
        "\n",
        "The \"in\" keyword checks if a key is present in the dictionary, not the value. It returns 'True' if the key exists in the dictionary, otherwise 'False'.\n"
      ],
      "metadata": {
        "id": "eeYgTPnYeoce"
      }
    },
    {
      "cell_type": "code",
      "source": [
        "my_dict = {'a': 1, 'b': 2}\n",
        "'a' in my_dict\n"
      ],
      "metadata": {
        "id": "gqWDnaIRexVz"
      },
      "execution_count": null,
      "outputs": []
    },
    {
      "cell_type": "markdown",
      "source": [
        "\"in\" checks for values in lists and keys in dictionaries."
      ],
      "metadata": {
        "id": "6qkwaATie4Mw"
      }
    },
    {
      "cell_type": "markdown",
      "source": [
        "Que15: Can you modify the elements of a tuple? Explain why or why not.\n",
        "\n",
        "Ans15: No, you cannot modify the elements of a tuple in Python. This is because tuples are **immutable**, meaning their content cannot be changed after creation. Once a tuple is defined, you cannot add, remove, or modify any of its elements. This immutability ensures that tuples remain constant and can be used safely in scenarios where fixed data is required, such as for storing coordinates or configuration settings.\n",
        "\n",
        "If you need to modify elements, you might need to use a list instead, which is mutable."
      ],
      "metadata": {
        "id": "MKShtbWKe5m2"
      }
    },
    {
      "cell_type": "markdown",
      "source": [
        "Que16: What is a nested dictionary, and give an example of its use case.\n",
        "\n",
        "Ans16: A nested dictionary is a dictionary where the values are themselves dictionaries. This allows you to store more complex data structures and represent hierarchical relationships. It can be useful when you need to organize data with multiple levels of information.\n"
      ],
      "metadata": {
        "id": "CgPFZFbcfHR2"
      }
    },
    {
      "cell_type": "code",
      "source": [
        "#Storing contact information for multiple people.\n",
        "contacts = {\n",
        "    \"Anshu\": {\"phone\": \"1234\", \"email\": \"anshu@gmail.com\"},\n",
        "    \"Alka\": {\"phone\": \"5678\", \"email\": \"alka@yahoo.com\"}\n",
        "}\n",
        "\n",
        "# Accessing Alka's phone number\n",
        "print(contacts[\"Alka\"][\"phone\"])\n"
      ],
      "metadata": {
        "colab": {
          "base_uri": "https://localhost:8080/"
        },
        "collapsed": true,
        "id": "q6lctkYZfiJc",
        "outputId": "5d3355e4-1f2e-4a0f-ec9d-f601af9b6cfd"
      },
      "execution_count": 2,
      "outputs": [
        {
          "output_type": "stream",
          "name": "stdout",
          "text": [
            "5678\n"
          ]
        }
      ]
    },
    {
      "cell_type": "markdown",
      "source": [
        "Que17:Describe the time complexity of accessing elements in a dictionary.\n",
        "\n",
        "Ans17: In Python, the time complexity of accessing elements in a dictionary is **O(1)** on average, which means it takes constant time. This is because dictionaries are implemented using a hash table, where keys are hashed to quickly find their associated values.\n",
        "\n",
        "However, in rare cases, such as hash collisions, the time complexity can degrade to **O(n)**, where `n` is the number of elements in the dictionary. But in general, due to efficient hashing, accessing elements is very fast and typically constant time, O(1)."
      ],
      "metadata": {
        "id": "EzDd17Ztf7w9"
      }
    },
    {
      "cell_type": "markdown",
      "source": [
        "Que18: In what situations are lists preferred over dictionaries.\n",
        "\n",
        "Ans18: Situations where **Lists** are Preferred over **Dictionaries**:\n",
        "\n",
        "- **Ordered Data**:\n",
        "  - Lists maintain the order of elements and allow index-based access.\n",
        "  - Useful when you need to keep track of data in a specific sequence.\n",
        "\n",
        "- **Simple Data**:\n",
        "  - Lists are suitable for collections of simple items (numbers, strings, etc.) without needing key-value relationships.\n",
        "\n",
        "- **Allowing Duplicates**:\n",
        "  - Lists support multiple occurrences of the same value, whereas dictionaries only allow unique keys.\n",
        "\n",
        "- **Iteration over Elements**:\n",
        "  - Lists are ideal when you need to perform operations on every element in a sequence, especially if the order matters.\n",
        "\n",
        "- **Small Data**:\n",
        "  - For small datasets, lists offer simplicity and may perform just as well as dictionaries for basic use cases.\n",
        "\n",
        "Conclusively,\n",
        "- **Lists**: Use when you need ordered, indexable, and potentially duplicate data.\n",
        "- **Dictionaries**: Use when you need efficient key-value lookups or when data requires unique keys."
      ],
      "metadata": {
        "id": "f5pd68angP03"
      }
    },
    {
      "cell_type": "markdown",
      "source": [
        "Que19: Why are dictionaries considered unordered, and how does that affect data retrieval?\n",
        "\n",
        "Ans19: Dictionaries in Python are considered **unordered** because, prior to Python 3.7, the order of items in a dictionary was not guaranteed. Starting from Python 3.7, dictionaries maintain insertion order, but they still remain conceptually unordered from a design perspective. This means that while elements appear in the order they were added, the underlying data structure (a hash table) does not rely on order.\n",
        "\n",
        "How it Affects Data Retrieval:\n",
        "- **Access by Key:** You access data in dictionaries using **keys**, not by position or order. The unordered nature of dictionaries doesn’t affect the retrieval of data because it’s done via the key, and Python can efficiently locate the value associated with the key in **constant time (O(1))**.\n",
        "- **Iteration Order:** While Python 3.7+ maintains insertion order, dictionaries should still not be relied upon for ordering. If you need data to be in a specific order, you should use **`sorted()`** or other ordered collections, like lists or `collections.OrderedDict`.\n"
      ],
      "metadata": {
        "id": "LZ3-yIRSgqFA"
      }
    },
    {
      "cell_type": "markdown",
      "source": [
        "Que20: Explain the difference between a list and a dictionary in terms of data retrieval.\n",
        "\n",
        "Ans20:\n",
        "1. **Access Method:**\n",
        "\n",
        "**List:** Data is accessed via index positions (integer-based). We refer to elements by their position in the list.\n",
        "\n",
        "example:\n",
        "\n",
        "my_list = [10, 20, 30]\n",
        "\n",
        "print(my_list[1])\n",
        "\n",
        "**Dictionary:** Data is accessed via keys (which can be any immutable type, not just integers). We reference values by their associated key.\n",
        "\n",
        " example:\n",
        "\n",
        " my_dict = {'a': 10, 'b': 20}\n",
        "\n",
        "print(my_dict['b'])\n",
        "\n",
        "2. **Data Structure:**\n",
        "List: An ordered collection that stores data sequentially, allowing access by position.\n",
        "Dictionary: An unordered collection that stores data as key-value pairs. You access data by the key, not the position.\n",
        "3. **Time Complexity:**\n",
        "List: Accessing an element by index is O(1), but searching for an element by value takes O(n) time because it requires iterating through the list.\n",
        "Dictionary: Accessing an element by key is typically O(1) due to the hash table structure, making lookups faster, especially for large datasets.\n",
        "4. **Use Cases:**\n",
        "List: Best for storing data that needs to be ordered or accessed by position, such as a collection of numbers or a sequence of items.\n",
        "Dictionary: Ideal for associating unique keys with specific values, like a contact book or student information, where each key directly maps to a value."
      ],
      "metadata": {
        "id": "Ro-L6gvVg-TF"
      }
    },
    {
      "cell_type": "markdown",
      "source": [
        "**Practical Questions**\n",
        "\n",
        "Que1:  Write a code to create a string with your name and print it."
      ],
      "metadata": {
        "id": "7U5JoWHJK_Ez"
      }
    },
    {
      "cell_type": "code",
      "source": [
        "#Ans1\n",
        "str = \"Anshu\"\n",
        "print(f\"Hello, my name is {str}.\")\n"
      ],
      "metadata": {
        "colab": {
          "base_uri": "https://localhost:8080/"
        },
        "id": "Gdu_BI6vXjdZ",
        "outputId": "39c1f0b3-4699-4422-e787-2123745da41f"
      },
      "execution_count": 1,
      "outputs": [
        {
          "output_type": "stream",
          "name": "stdout",
          "text": [
            "Hello, my name is Anshu.\n"
          ]
        }
      ]
    },
    {
      "cell_type": "markdown",
      "source": [
        "Que2: Write a code to find the length of the string \"Hello World\"."
      ],
      "metadata": {
        "id": "pSnA95QTX3eg"
      }
    },
    {
      "cell_type": "code",
      "source": [
        "#Ans2\n",
        "str = \"Hello World\"\n",
        "print(f\"The length of the string, \\'{str}\\' = {len(str)}\")"
      ],
      "metadata": {
        "colab": {
          "base_uri": "https://localhost:8080/"
        },
        "id": "LnYAEkx_X7tA",
        "outputId": "01f30406-1a21-4b6a-9016-ec628eacf8c3"
      },
      "execution_count": 2,
      "outputs": [
        {
          "output_type": "stream",
          "name": "stdout",
          "text": [
            "The length of the string, 'Hello World' = 11\n"
          ]
        }
      ]
    },
    {
      "cell_type": "markdown",
      "source": [
        "Que3: Write a code to slice the first 3 characters from the string \"Python Programming\"."
      ],
      "metadata": {
        "id": "5bgwWRzfYuhw"
      }
    },
    {
      "cell_type": "code",
      "source": [
        " #Ans3\n",
        " text = \"Python Language\"\n",
        "sliced_text = text[:3]\n",
        "print(sliced_text)\n"
      ],
      "metadata": {
        "colab": {
          "base_uri": "https://localhost:8080/"
        },
        "id": "J8VrodiwZAqU",
        "outputId": "66d72064-9060-4b97-e769-0b455a42e26f"
      },
      "execution_count": 3,
      "outputs": [
        {
          "output_type": "stream",
          "name": "stdout",
          "text": [
            "Pyt\n"
          ]
        }
      ]
    },
    {
      "cell_type": "markdown",
      "source": [
        "Que4: Write a code to convert the string \"hello\" to uppercase."
      ],
      "metadata": {
        "id": "2PQv7USbfCOW"
      }
    },
    {
      "cell_type": "code",
      "source": [
        "#Ans4\n",
        "str = \"hello\"\n",
        "print(f\"The converted uppercase string is= {str.upper()}\")"
      ],
      "metadata": {
        "colab": {
          "base_uri": "https://localhost:8080/"
        },
        "id": "FCI-nt_-fIMJ",
        "outputId": "d4dd8af1-dfb2-43e1-bfe9-34073436f90d"
      },
      "execution_count": 5,
      "outputs": [
        {
          "output_type": "stream",
          "name": "stdout",
          "text": [
            "The converted uppercase string is= HELLO\n"
          ]
        }
      ]
    },
    {
      "cell_type": "markdown",
      "source": [
        "Que5:  Write a code to replace the word \"apple\" with \"orange\" in the string \"I like apple\"."
      ],
      "metadata": {
        "id": "fRmqdc5tfbiu"
      }
    },
    {
      "cell_type": "code",
      "source": [
        "#Ans5\n",
        "str = \"I like apple\"\n",
        "new_str = str.replace(\"apple\", \"orange\")\n",
        "print(f\"The old string was: {str}\")\n",
        "print(f\"The updated string is: {new_str}\")"
      ],
      "metadata": {
        "colab": {
          "base_uri": "https://localhost:8080/"
        },
        "id": "g43JIQ5_fgsF",
        "outputId": "072aef28-12ff-4717-e756-2e34c189ec2e"
      },
      "execution_count": 7,
      "outputs": [
        {
          "output_type": "stream",
          "name": "stdout",
          "text": [
            "The old string was: I like apple\n",
            "The updated string is: I like orange\n"
          ]
        }
      ]
    },
    {
      "cell_type": "markdown",
      "source": [
        "Que6: Write a code to create a list with numbers 1 to 5 and print it."
      ],
      "metadata": {
        "id": "THVzgQJkgXZ3"
      }
    },
    {
      "cell_type": "code",
      "source": [
        "#Ans6\n",
        "numbers = [1, 2, 3, 4, 5]\n",
        "print(numbers)\n"
      ],
      "metadata": {
        "colab": {
          "base_uri": "https://localhost:8080/"
        },
        "id": "usugY3Tfgc3Z",
        "outputId": "4f2ee4e0-5485-40bd-cbc2-965edd273e66"
      },
      "execution_count": 8,
      "outputs": [
        {
          "output_type": "stream",
          "name": "stdout",
          "text": [
            "[1, 2, 3, 4, 5]\n"
          ]
        }
      ]
    },
    {
      "cell_type": "markdown",
      "source": [
        "Que7: Write a code to append the number 10 to the list [1, 2, 3, 4]."
      ],
      "metadata": {
        "id": "2wek4THggopb"
      }
    },
    {
      "cell_type": "code",
      "source": [
        "#Ans7:\n",
        "list1 = [1,2,3,4]\n",
        "list1.append(10)\n",
        "print(f\"The appended list is: {list1}\")"
      ],
      "metadata": {
        "colab": {
          "base_uri": "https://localhost:8080/"
        },
        "id": "J1ugEKe2guB-",
        "outputId": "5d4532bd-fc63-4587-bfc0-e535c78efc5d"
      },
      "execution_count": 9,
      "outputs": [
        {
          "output_type": "stream",
          "name": "stdout",
          "text": [
            "The appended list is: [1, 2, 3, 4, 10]\n"
          ]
        }
      ]
    },
    {
      "cell_type": "markdown",
      "source": [
        "Que8: Write a code to remove the number 3 from the list [1, 2, 3, 4, 5]."
      ],
      "metadata": {
        "id": "vTuY3QsNhCtr"
      }
    },
    {
      "cell_type": "code",
      "source": [
        "#Ans8\n",
        "list1 = [1,2,3,4,5]\n",
        "list1.remove(3)\n",
        "print(f\"The list after removing element \\'3\\' = {list1}\")"
      ],
      "metadata": {
        "colab": {
          "base_uri": "https://localhost:8080/"
        },
        "id": "Q-KXElTwhHhs",
        "outputId": "f5d6b364-2bcf-437e-e744-8e962bd054b7"
      },
      "execution_count": 10,
      "outputs": [
        {
          "output_type": "stream",
          "name": "stdout",
          "text": [
            "The list after removing element '3' = [1, 2, 4, 5]\n"
          ]
        }
      ]
    },
    {
      "cell_type": "markdown",
      "source": [
        "Que9: Write a code to access the second element in the list ['a', 'b', 'c', 'd']."
      ],
      "metadata": {
        "id": "Zpzxa-Mjhga5"
      }
    },
    {
      "cell_type": "code",
      "source": [
        "#Ans9\n",
        "list1 = ['a','b','c','d']\n",
        "print(f\"Second number in the list is: {list1[1]}\")"
      ],
      "metadata": {
        "colab": {
          "base_uri": "https://localhost:8080/"
        },
        "id": "LeTbS6GfhlIj",
        "outputId": "940b2b6b-016e-4b53-8f66-1bc57bcf7e51"
      },
      "execution_count": 11,
      "outputs": [
        {
          "output_type": "stream",
          "name": "stdout",
          "text": [
            "Second number in the list is: b\n"
          ]
        }
      ]
    },
    {
      "cell_type": "markdown",
      "source": [
        "Que10: Write a code to reverse the list [10, 20, 30, 40, 50]."
      ],
      "metadata": {
        "id": "eukd1eq_jwbj"
      }
    },
    {
      "cell_type": "code",
      "source": [
        "#Ans10\n",
        "list1 = [10,20,30,40,50]\n",
        "print(f\"Reversed list is= {list1[::-1]}\")"
      ],
      "metadata": {
        "colab": {
          "base_uri": "https://localhost:8080/"
        },
        "id": "CyXIRqiGj2A4",
        "outputId": "ea314e7a-715f-411a-8b8d-616440533147"
      },
      "execution_count": 15,
      "outputs": [
        {
          "output_type": "stream",
          "name": "stdout",
          "text": [
            "Reversed list is= [50, 40, 30, 20, 10]\n"
          ]
        }
      ]
    },
    {
      "cell_type": "markdown",
      "source": [
        "Que11: Write a code to create a tuple with the elements 100, 200, 300 and print it."
      ],
      "metadata": {
        "id": "fMYmGr2prHb0"
      }
    },
    {
      "cell_type": "code",
      "source": [
        "#Ans11\n",
        "t1 = (100,200,300)\n",
        "print(f\"Tuple= {t1}\")"
      ],
      "metadata": {
        "colab": {
          "base_uri": "https://localhost:8080/"
        },
        "id": "CjVXuwHSrMto",
        "outputId": "cb2d5fd5-79fc-4e69-cdd2-9121938d3d19"
      },
      "execution_count": 16,
      "outputs": [
        {
          "output_type": "stream",
          "name": "stdout",
          "text": [
            "Tuple= (100, 200, 300)\n"
          ]
        }
      ]
    },
    {
      "cell_type": "markdown",
      "source": [
        "Que12: Write a code to access the second-to-last element of the tuple ('red', 'green', 'blue', 'yellow')."
      ],
      "metadata": {
        "id": "Wxomhneornlh"
      }
    },
    {
      "cell_type": "code",
      "source": [
        "#Ans12\n",
        "t1 = ('red','green', 'blue', 'yellow')\n",
        "print(f\"Accessing second to last element={t1[1:4]}\")"
      ],
      "metadata": {
        "colab": {
          "base_uri": "https://localhost:8080/"
        },
        "id": "_YNHbF7nruuy",
        "outputId": "8798e0a1-7c11-434d-a015-7bd15c2806dc"
      },
      "execution_count": 19,
      "outputs": [
        {
          "output_type": "stream",
          "name": "stdout",
          "text": [
            "Accessing second to last element=('green', 'blue', 'yellow')\n"
          ]
        }
      ]
    },
    {
      "cell_type": "markdown",
      "source": [
        "Que13: Write a code to find the minimum number in the tuple (10, 20, 5, 15)."
      ],
      "metadata": {
        "id": "VIGrBH6msa9g"
      }
    },
    {
      "cell_type": "code",
      "source": [
        "#Ans13\n",
        "t1 = (10,20,5,15)\n",
        "print(f\"The minimum number in the tuple {t1} = {min(t1)}\")"
      ],
      "metadata": {
        "colab": {
          "base_uri": "https://localhost:8080/"
        },
        "id": "z_7gDiotsgwp",
        "outputId": "4a96c858-5db4-4121-8c89-fc0f799e4771"
      },
      "execution_count": 21,
      "outputs": [
        {
          "output_type": "stream",
          "name": "stdout",
          "text": [
            "The minimum number in the tuple (10, 20, 5, 15) = 5\n"
          ]
        }
      ]
    },
    {
      "cell_type": "markdown",
      "source": [
        "Que14: Write a code to find the index of the element \"cat\" in the tuple ('dog', 'cat', 'rabbit')."
      ],
      "metadata": {
        "id": "5YSgjDVHvq00"
      }
    },
    {
      "cell_type": "code",
      "source": [
        "#Ans14\n",
        "tup = ('dog','cat','rabbit')\n",
        "print(f\"The index of  the element \\'cat\\' = {tup.index('cat')}\")"
      ],
      "metadata": {
        "colab": {
          "base_uri": "https://localhost:8080/"
        },
        "id": "rAuE5Hx0vvwJ",
        "outputId": "4148df46-1ed1-4957-a805-d2dd12ab68ee"
      },
      "execution_count": 22,
      "outputs": [
        {
          "output_type": "stream",
          "name": "stdout",
          "text": [
            "The index of  the element 'cat' = 1\n"
          ]
        }
      ]
    },
    {
      "cell_type": "markdown",
      "source": [
        "Que15: Write a code to create a tuple containing three different fruits and check if \"kiwi\" is in it."
      ],
      "metadata": {
        "id": "GiNAY3umwjio"
      }
    },
    {
      "cell_type": "code",
      "source": [
        "#Ans15\n",
        "t = ('apple','banana','jackfruit')\n",
        "'kiwi' in t\n"
      ],
      "metadata": {
        "colab": {
          "base_uri": "https://localhost:8080/"
        },
        "id": "-SZuQPOcwn7c",
        "outputId": "b6d1f0ee-23c8-44de-b829-ef3607b314da"
      },
      "execution_count": 25,
      "outputs": [
        {
          "output_type": "execute_result",
          "data": {
            "text/plain": [
              "False"
            ]
          },
          "metadata": {},
          "execution_count": 25
        }
      ]
    },
    {
      "cell_type": "markdown",
      "source": [
        "Que16: Write a code to create a set with the elements 'a', 'b', 'c' and print it."
      ],
      "metadata": {
        "id": "b2vjDwX2xLI4"
      }
    },
    {
      "cell_type": "code",
      "source": [
        "#Ans16\n",
        "s = {1,2,3}\n",
        "print(f\"Set= {s}\")"
      ],
      "metadata": {
        "colab": {
          "base_uri": "https://localhost:8080/"
        },
        "id": "g2tE5GUqxSGn",
        "outputId": "03bd5041-d114-48b6-cc30-783331e42f7f"
      },
      "execution_count": 27,
      "outputs": [
        {
          "output_type": "stream",
          "name": "stdout",
          "text": [
            "Set= {1, 2, 3}\n"
          ]
        }
      ]
    },
    {
      "cell_type": "markdown",
      "source": [
        "Que17:  Write a code to clear all elements from the set {1, 2, 3, 4, 5}."
      ],
      "metadata": {
        "id": "UkpQ4O5BxnaS"
      }
    },
    {
      "cell_type": "code",
      "source": [
        "#Ans17\n",
        "s = {1,2,3,4,5}\n",
        "print(s)\n",
        "s.clear()\n",
        "print(s)"
      ],
      "metadata": {
        "colab": {
          "base_uri": "https://localhost:8080/"
        },
        "id": "_xPL5DEVxr7L",
        "outputId": "50d8e2b8-0ab9-412e-90f1-e7702c28bd87"
      },
      "execution_count": 30,
      "outputs": [
        {
          "output_type": "stream",
          "name": "stdout",
          "text": [
            "{1, 2, 3, 4, 5}\n",
            "set()\n"
          ]
        }
      ]
    },
    {
      "cell_type": "markdown",
      "source": [
        "Que18: Write a code to remove the element 4 from the set {1, 2, 3, 4}."
      ],
      "metadata": {
        "id": "3LAicRYuyGY2"
      }
    },
    {
      "cell_type": "code",
      "source": [
        "#Ans18\n",
        "s = {1,2,3,4}\n",
        "print(s)\n",
        "s.remove(4)\n",
        "print(s)"
      ],
      "metadata": {
        "colab": {
          "base_uri": "https://localhost:8080/"
        },
        "id": "Agqv2jmeyN_z",
        "outputId": "c2aab6a6-a678-4262-a2f3-ed0500b18f2f"
      },
      "execution_count": 31,
      "outputs": [
        {
          "output_type": "stream",
          "name": "stdout",
          "text": [
            "{1, 2, 3, 4}\n",
            "{1, 2, 3}\n"
          ]
        }
      ]
    },
    {
      "cell_type": "markdown",
      "source": [
        "Que19: Write a code to find the union of two sets {1, 2, 3} and {3, 4, 5}."
      ],
      "metadata": {
        "id": "1omaHCZLya1P"
      }
    },
    {
      "cell_type": "code",
      "source": [
        "#Ans19\n",
        "s1 = {1,2,3}\n",
        "s2 = {3,4,5}\n",
        "print(f\"First set = {s1}\")\n",
        "print(f\"Second set = {s2}\")\n",
        "print(f\"Union of {s1} and {s2} = {s1|s2}\")"
      ],
      "metadata": {
        "colab": {
          "base_uri": "https://localhost:8080/"
        },
        "id": "rm85yxtPyf4c",
        "outputId": "595671eb-1a25-4274-db7c-817923108e39"
      },
      "execution_count": 34,
      "outputs": [
        {
          "output_type": "stream",
          "name": "stdout",
          "text": [
            "First set = {1, 2, 3}\n",
            "Second set = {3, 4, 5}\n",
            "Union of {1, 2, 3} and {3, 4, 5} = {1, 2, 3, 4, 5}\n"
          ]
        }
      ]
    },
    {
      "cell_type": "markdown",
      "source": [
        "Que20:  Write a code to find the intersection of two sets {1, 2, 3} and {2, 3, 4}."
      ],
      "metadata": {
        "id": "jW5PRgiXy3m6"
      }
    },
    {
      "cell_type": "code",
      "source": [
        "#Ans20\n",
        "s1 = {1,2,3}\n",
        "s2 = {2,3,4}\n",
        "print(f\"First set = {s1}\")\n",
        "print(f\"Second set = {s2}\")\n",
        "print(f\"Intersection of {s1} and {s2} = {s1&s2}\")"
      ],
      "metadata": {
        "colab": {
          "base_uri": "https://localhost:8080/"
        },
        "id": "cJSiJZpXy8sn",
        "outputId": "6ad9305b-76bd-41fd-9e81-247de724e0ab"
      },
      "execution_count": 35,
      "outputs": [
        {
          "output_type": "stream",
          "name": "stdout",
          "text": [
            "First set = {1, 2, 3}\n",
            "Second set = {2, 3, 4}\n",
            "Intersection of {1, 2, 3} and {2, 3, 4} = {2, 3}\n"
          ]
        }
      ]
    },
    {
      "cell_type": "markdown",
      "source": [
        "Que21: Write a code to create a dictionary with the keys \"name\", \"age\", and \"city\", and print it."
      ],
      "metadata": {
        "id": "T5JC3FgNzk6z"
      }
    },
    {
      "cell_type": "code",
      "source": [
        "#Ans21\n",
        "my_dict = {\"Name\" : \"John\", \"Age\" : \"25\", \"City\" : \"Indonesia\"}\n",
        "print(my_dict)"
      ],
      "metadata": {
        "colab": {
          "base_uri": "https://localhost:8080/"
        },
        "id": "PFp907MtzouM",
        "outputId": "ffaf147c-95ef-4efb-a3b0-168450b89461"
      },
      "execution_count": 38,
      "outputs": [
        {
          "output_type": "stream",
          "name": "stdout",
          "text": [
            "{'Name': 'John', 'Age': '25', 'City': 'Indonesia'}\n"
          ]
        }
      ]
    },
    {
      "cell_type": "markdown",
      "source": [
        "Que22:  Write a code to add a new key-value pair \"country\": \"USA\" to the dictionary {'name': 'John', 'age': 25}."
      ],
      "metadata": {
        "id": "VAGKyh1_0k0T"
      }
    },
    {
      "cell_type": "code",
      "source": [
        "#Ans22\n",
        "og_dic = {'Name' : 'John', 'Age' : '25'}\n",
        "print(f\"The original dictionary = {og_dic}\")\n",
        "og_dic['Country'] = 'USA'\n",
        "print(f\"Updated dictionary = {og_dic}\")"
      ],
      "metadata": {
        "colab": {
          "base_uri": "https://localhost:8080/"
        },
        "id": "DwnH-POz0qK5",
        "outputId": "31d548f1-cf7f-41e8-df5b-12c8138f7d1d"
      },
      "execution_count": 40,
      "outputs": [
        {
          "output_type": "stream",
          "name": "stdout",
          "text": [
            "The original dictionary = {'Name': 'John', 'Age': '25'}\n",
            "Updated dictionary = {'Name': 'John', 'Age': '25', 'Country': 'USA'}\n"
          ]
        }
      ]
    },
    {
      "cell_type": "markdown",
      "source": [
        "Que23:  Write a code to access the value associated with the key \"name\" in the dictionary {'name': 'Alice', 'age': 30}"
      ],
      "metadata": {
        "id": "E_g4nn8o1yky"
      }
    },
    {
      "cell_type": "code",
      "source": [
        "#Ans23\n",
        "diction = {\"Name\" : \"Alice\", \"Age\" : \"30\"}\n",
        "val = diction[\"Name\"]\n",
        "print(f\"Value associated with the key \\'Name\\' = {val}\")"
      ],
      "metadata": {
        "colab": {
          "base_uri": "https://localhost:8080/"
        },
        "id": "HPxIEE9Z13dh",
        "outputId": "236be11e-013a-4557-8ca9-ec300157d4c1"
      },
      "execution_count": 41,
      "outputs": [
        {
          "output_type": "stream",
          "name": "stdout",
          "text": [
            "Value associated with the key 'Name' = Alice\n"
          ]
        }
      ]
    },
    {
      "cell_type": "markdown",
      "source": [
        "Que24: Write a code to remove the key \"age\" from the dictionary {'name': 'Bob', 'age': 22, 'city': 'New York'}."
      ],
      "metadata": {
        "id": "4Cf007rO2nDd"
      }
    },
    {
      "cell_type": "code",
      "source": [
        "#Ans24\n",
        "diction = {\"Name\" : \"Bob\", \"Age\" : \"22\", \"City\" : \"New York\"}\n",
        "print(f\"Original dictionary = {diction}\")\n",
        "del diction[\"Age\"]\n",
        "print(f\"Dictionary after removal of elements = {diction}\")"
      ],
      "metadata": {
        "colab": {
          "base_uri": "https://localhost:8080/"
        },
        "id": "UoFyvVaA2rea",
        "outputId": "e5e7c1c9-e339-48ad-b0fb-e2a94fac9cfc"
      },
      "execution_count": 44,
      "outputs": [
        {
          "output_type": "stream",
          "name": "stdout",
          "text": [
            "Original dictionary = {'Name': 'Bob', 'Age': '22', 'City': 'New York'}\n",
            "Dictionary after removal of elements = {'Name': 'Bob', 'City': 'New York'}\n"
          ]
        }
      ]
    },
    {
      "cell_type": "markdown",
      "source": [
        "Que25: Write a code to check if the key \"city\" exists in the dictionary {'name': 'Alice', 'city': 'Paris'}."
      ],
      "metadata": {
        "id": "5SninqRQ3hNp"
      }
    },
    {
      "cell_type": "code",
      "source": [
        "#Ans25\n",
        "diction = {\"Name\" : \"Alice\", \"City\" : \"Paris\"}\n",
        "if  \"City\" in diction:\n",
        "    print(\"Key 'city' exists.\")\n",
        "else:\n",
        "    print(\"Key 'city' does not exist.\")"
      ],
      "metadata": {
        "colab": {
          "base_uri": "https://localhost:8080/"
        },
        "id": "qa7GKQic3mrv",
        "outputId": "e43b43c6-b7f8-4657-fd1e-6bf89e8beb76"
      },
      "execution_count": 20,
      "outputs": [
        {
          "output_type": "stream",
          "name": "stdout",
          "text": [
            "Key 'city' exists.\n"
          ]
        }
      ]
    },
    {
      "cell_type": "markdown",
      "source": [
        "Que26: Write a code to create a list, a tuple, and a dictionary, and print them all."
      ],
      "metadata": {
        "id": "mbCBiaaY4Y9N"
      }
    },
    {
      "cell_type": "code",
      "source": [
        "#Ans26\n",
        "lis = [1,2,3,4,5]\n",
        "tup = (1,2,3,4,5)\n",
        "diction = {\"val\" : \"1\", \"bval\" : \"2\"}\n",
        "print(f\"List - {lis}\\nTuple - {tup}\\nDiction - {diction}\")"
      ],
      "metadata": {
        "colab": {
          "base_uri": "https://localhost:8080/"
        },
        "id": "GhuSY1-14e8I",
        "outputId": "21fbc080-6468-4338-b6eb-b603ec9f7103"
      },
      "execution_count": 47,
      "outputs": [
        {
          "output_type": "stream",
          "name": "stdout",
          "text": [
            "List - [1, 2, 3, 4, 5]\n",
            "Tuple - (1, 2, 3, 4, 5)\n",
            "Diction - {'val': '1', 'bval': '2'}\n"
          ]
        }
      ]
    },
    {
      "cell_type": "markdown",
      "source": [
        "Que27: Write a code to create a list of 5 random numbers between 1 and 100, sort it in ascending order, and print the result. (replaced)"
      ],
      "metadata": {
        "id": "KxgaI4iU5Lnv"
      }
    },
    {
      "cell_type": "code",
      "source": [
        "#Ans27\n",
        "import random\n",
        "\n",
        "random_numbers = [random.randint(1, 100) for _ in range(5)]\n",
        "print(f\"The randomly generated list = {random_numbers}\")\n",
        "random_numbers.sort()\n",
        "print(f\"The sorted list = {random_numbers}\")\n"
      ],
      "metadata": {
        "colab": {
          "base_uri": "https://localhost:8080/"
        },
        "id": "POoHpNu65acw",
        "outputId": "1e5ffd66-306a-427f-b073-a12c83f2e825"
      },
      "execution_count": 19,
      "outputs": [
        {
          "output_type": "stream",
          "name": "stdout",
          "text": [
            "The randomly generated list = [58, 65, 18, 98, 64]\n",
            "The sorted list = [18, 58, 64, 65, 98]\n"
          ]
        }
      ]
    },
    {
      "cell_type": "markdown",
      "source": [
        "Que28: Write a code to create a list with strings and print the element at the third index."
      ],
      "metadata": {
        "id": "mxRa0JeN7SlD"
      }
    },
    {
      "cell_type": "code",
      "source": [
        "#Ans28\n",
        "l = [\"Apple\", \"Banana\", \"Guava\", \"Kiwi\", \"Dragonfruit\", \"Peach\"]\n",
        "print(f\"The element at third index is : {l[3]}\")"
      ],
      "metadata": {
        "colab": {
          "base_uri": "https://localhost:8080/"
        },
        "id": "RKRpvPDd7YGw",
        "outputId": "542461fc-b94f-4d6b-8d5e-175980b662f9"
      },
      "execution_count": 2,
      "outputs": [
        {
          "output_type": "stream",
          "name": "stdout",
          "text": [
            "The element at third index is : Kiwi\n"
          ]
        }
      ]
    },
    {
      "cell_type": "markdown",
      "source": [
        "Que29: Write a code to combine two dictionaries into one and print the result."
      ],
      "metadata": {
        "id": "bX9ufpNoWE-e"
      }
    },
    {
      "cell_type": "code",
      "source": [
        "#Ans29\n",
        "dic1 = {\"Anshu\": \"98989\", \"Alka\": \"90098\", \"Anshuman\": \"90909\"}\n",
        "dic2 = {\"Birju\": \"90990\", \"Barkha\": \"98889\"}\n",
        "print(f\"Dictionary 1 = {dic1}\\nDictionary 2 = {dic2}\\n\")\n",
        "com_dic = {**dic1, **dic2}\n",
        "print(f\"Combined dictionaries = {com_dic}\")\n"
      ],
      "metadata": {
        "colab": {
          "base_uri": "https://localhost:8080/"
        },
        "id": "z9VbN5krWMnm",
        "outputId": "9f27f503-3df6-4060-a660-af1a90b6e85a"
      },
      "execution_count": 10,
      "outputs": [
        {
          "output_type": "stream",
          "name": "stdout",
          "text": [
            "Dictionary 1 = {'Anshu': '98989', 'Alka': '90098', 'Anshuman': '90909'}\n",
            "Dictionary 2 = {'Birju': '90990', 'Barkha': '98889'}\n",
            "\n",
            "Combined dictionaries = {'Anshu': '98989', 'Alka': '90098', 'Anshuman': '90909', 'Birju': '90990', 'Barkha': '98889'}\n"
          ]
        }
      ]
    },
    {
      "cell_type": "markdown",
      "source": [
        "Que30: Write a code to convert a list of strings into a set."
      ],
      "metadata": {
        "id": "QRwuRz4dYHVD"
      }
    },
    {
      "cell_type": "code",
      "source": [
        "#Ans30\n",
        "l = ['Name', 'Age', 'Location', 'Object', 'Age', 'Location']\n",
        "conv = set(l)\n",
        "print(f\"The original list = {l}\")\n",
        "print(f\"The list after converting into set = {conv}\")"
      ],
      "metadata": {
        "colab": {
          "base_uri": "https://localhost:8080/"
        },
        "id": "Y93WMvktYNPE",
        "outputId": "a7d7a6c8-1ef3-474e-a3f0-08c92222997a"
      },
      "execution_count": 11,
      "outputs": [
        {
          "output_type": "stream",
          "name": "stdout",
          "text": [
            "The original list = ['Name', 'Age', 'Location', 'Object', 'Age', 'Location']\n",
            "The list after converting into set = {'Location', 'Object', 'Age', 'Name'}\n"
          ]
        }
      ]
    }
  ]
}