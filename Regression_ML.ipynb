{
  "nbformat": 4,
  "nbformat_minor": 0,
  "metadata": {
    "colab": {
      "provenance": []
    },
    "kernelspec": {
      "name": "python3",
      "display_name": "Python 3"
    },
    "language_info": {
      "name": "python"
    }
  },
  "cells": [
    {
      "cell_type": "markdown",
      "source": [
        "Que1: What is Simple Linear Regression?\n",
        "\n",
        "Ans1: Simple Linear Regression is a statistical method used to model the relationship between a dependent variable (Y) and a single independent variable (X).\n",
        "\n"
      ],
      "metadata": {
        "id": "YYv2y9HBbc7A"
      }
    },
    {
      "cell_type": "markdown",
      "source": [
        "Que2: What are the key assumptions of Simple Linear Regression?\n",
        "\n",
        "Ans2:\n",
        "1. Linearity\n",
        "2. Independence\n",
        "3. Homoscedasticity\n",
        "4. Normality of residuals\n",
        "5. No multicollinearity (not relevant with a single predictor)"
      ],
      "metadata": {
        "id": "ymD12y0Sdhxy"
      }
    },
    {
      "cell_type": "markdown",
      "source": [
        "Que3: What does the coefficient m represent in the equation Y = mX + c?\n",
        "\n",
        "Ans3: m is the slope of the line, indicating the change in Y for a one-unit change in X."
      ],
      "metadata": {
        "id": "Gtsa8bxsfRx0"
      }
    },
    {
      "cell_type": "markdown",
      "source": [
        "Que4: What does the intercept c represent in the equation Y = mX + c?\n",
        "\n",
        "Ans4: c is the value of Y when X is 0, representing the starting point of the line."
      ],
      "metadata": {
        "id": "wVg0SGhffL5u"
      }
    },
    {
      "cell_type": "markdown",
      "source": [
        "Que5: How do we calculate the slope m in Simple Linear Regression?\n",
        "\n",
        "Ans5: Using the formula:\n",
        "m = covariance(X, Y) / variance(X)"
      ],
      "metadata": {
        "id": "HjYp4OdjfIvZ"
      }
    },
    {
      "cell_type": "markdown",
      "source": [
        "Que6: What is the purpose of the least squares method in Simple Linear Regression?\n",
        "\n",
        "Ans6: To minimize the sum of the squared differences between observed and predicted values."
      ],
      "metadata": {
        "id": "gDfBJvucfEwN"
      }
    },
    {
      "cell_type": "markdown",
      "source": [
        "Que7: How is the coefficient of determination (R²) interpreted in Simple Linear Regression?\n",
        "\n",
        "Ans7: R² indicates the proportion of the variance in the dependent variable that is predictable from the independent variable."
      ],
      "metadata": {
        "id": "2wi3WKTjfBoY"
      }
    },
    {
      "cell_type": "markdown",
      "source": [
        "Que8: What is Multiple Linear Regression?\n",
        "\n",
        "Ans8: It is a regression method used to model the relationship between a dependent variable and multiple independent variables."
      ],
      "metadata": {
        "id": "sF7gTsx8e9f1"
      }
    },
    {
      "cell_type": "markdown",
      "source": [
        "Que9: What is the main difference between Simple and Multiple Linear Regression?\n",
        "\n",
        "Ans9: Simple Linear Regression has one independent variable; Multiple Linear Regression has two or more."
      ],
      "metadata": {
        "id": "9w2wCiV7e6Qw"
      }
    },
    {
      "cell_type": "markdown",
      "source": [
        "Que10: What are the key assumptions of Multiple Linear Regression?\n",
        "\n",
        "Ans10:\n",
        "1. Linearity\n",
        "2. Independence of errors\n",
        "3. Homoscedasticity\n",
        "4. Normality of errors\n",
        "5. No multicollinearity"
      ],
      "metadata": {
        "id": "7hMYXHfVe13G"
      }
    },
    {
      "cell_type": "markdown",
      "source": [
        "Que11: What is heteroscedasticity, and how does it affect the results of a Multiple Linear Regression model?\n",
        "\n",
        "Ans11: Heteroscedasticity refers to non-constant variance of residuals. It can lead to inefficient estimates and invalid statistical tests."
      ],
      "metadata": {
        "id": "0l4VgABbeyp5"
      }
    },
    {
      "cell_type": "markdown",
      "source": [
        "Que12: How can you improve a Multiple Linear Regression model with high multicollinearity?\n",
        "\n",
        "Ans12: By removing or combining correlated variables, or using regularization techniques like Ridge or Lasso."
      ],
      "metadata": {
        "id": "oIZm5Xjceu6e"
      }
    },
    {
      "cell_type": "markdown",
      "source": [
        "Que13: What are some common techniques for transforming categorical variables for use in regression models?\n",
        "\n",
        "Ans13: One-hot encoding, label encoding, binary encoding."
      ],
      "metadata": {
        "id": "n0ML6zcverOf"
      }
    },
    {
      "cell_type": "markdown",
      "source": [
        "Que14: What is the role of interaction terms in Multiple Linear Regression?\n",
        "\n",
        "Ans14: Interaction terms allow the effect of one predictor variable to depend on the level of another predictor."
      ],
      "metadata": {
        "id": "U0T-FGJJenYs"
      }
    },
    {
      "cell_type": "markdown",
      "source": [
        "Que15: How can the interpretation of intercept differ between Simple and Multiple Linear Regression?\n",
        "\n",
        "Ans15: In Simple Linear Regression, it is the value of Y when X = 0. In Multiple, it is the value of Y when all predictors = 0."
      ],
      "metadata": {
        "id": "sXXjUdiMej_x"
      }
    },
    {
      "cell_type": "markdown",
      "source": [
        "Que16: What is the significance of the slope in regression analysis, and how does it affect predictions?\n",
        "\n",
        "Ans16: The slope quantifies the relationship between predictor and outcome. Higher slope = greater impact on prediction."
      ],
      "metadata": {
        "id": "kdOAqWXSeg-v"
      }
    },
    {
      "cell_type": "markdown",
      "source": [
        "Que17: How does the intercept in a regression model provide context for the relationship between variables?\n",
        "\n",
        "Ans17: It sets the baseline value of the dependent variable when all independent variables are zero."
      ],
      "metadata": {
        "id": "kPSXB9Ased-P"
      }
    },
    {
      "cell_type": "markdown",
      "source": [
        "Que18: What are the limitations of using R² as a sole measure of model performance?\n",
        "\n",
        "Ans18: It doesn't account for model complexity or overfitting and doesn't reflect predictive performance on new data."
      ],
      "metadata": {
        "id": "WLTU0_eOeaxO"
      }
    },
    {
      "cell_type": "markdown",
      "source": [
        "Que19: How would you interpret a large standard error for a regression coefficient?\n",
        "\n",
        "Ans19: It suggests high variability and low confidence in the estimate, possibly indicating insignificance."
      ],
      "metadata": {
        "id": "8dfOwjxpeXq7"
      }
    },
    {
      "cell_type": "markdown",
      "source": [
        "Que20: How can heteroscedasticity be identified in residual plots, and why is it important to address it?\n",
        "\n",
        "Ans20: Non-constant spread in residual plots signals heteroscedasticity. Ignoring it can invalidate statistical tests."
      ],
      "metadata": {
        "id": "FoTtZJQxeT9u"
      }
    },
    {
      "cell_type": "markdown",
      "source": [
        "Que21: What does it mean if a Multiple Linear Regression model has a high R² but low adjusted R²?\n",
        "\n",
        "Ans21: The model may be overfitting by including irrelevant predictors."
      ],
      "metadata": {
        "id": "79QDflV2eQMt"
      }
    },
    {
      "cell_type": "markdown",
      "source": [
        "Que22: Why is it important to scale variables in Multiple Linear Regression?\n",
        "\n",
        "Ans22: Scaling improves numerical stability and interpretability, especially when using regularization."
      ],
      "metadata": {
        "id": "DhYTZ0QyeMPF"
      }
    },
    {
      "cell_type": "markdown",
      "source": [
        "Que23: What is polynomial regression?\n",
        "\n",
        "Ans23: A form of regression that models the relationship between the independent variable(s) and the dependent variable as an nth-degree polynomial."
      ],
      "metadata": {
        "id": "P_xM6RUJeJ3G"
      }
    },
    {
      "cell_type": "markdown",
      "source": [
        "Que24: How does polynomial regression differ from linear regression?\n",
        "\n",
        "Ans24: It includes higher-degree terms of predictors, allowing it to model nonlinear relationships."
      ],
      "metadata": {
        "id": "-I8dsCx4eGAY"
      }
    },
    {
      "cell_type": "markdown",
      "source": [
        "Que25: When is polynomial regression used?\n",
        "\n",
        "Ans25: When the data shows a nonlinear trend that a straight line cannot capture.\n"
      ],
      "metadata": {
        "id": "5C9LGWQaeDYp"
      }
    },
    {
      "cell_type": "markdown",
      "source": [
        "Que26: What is the general equation for polynomial regression?\n",
        "\n",
        "Ans26: Y = b0 + b1*X + b2*X^2 + ... + bn*X^n\n",
        "\n"
      ],
      "metadata": {
        "id": "itNWBqo8eAJu"
      }
    },
    {
      "cell_type": "markdown",
      "source": [
        "Que27: Can polynomial regression be applied to multiple variables?\n",
        "\n",
        "Ans27: Yes, using polynomial terms for each variable and their interactions."
      ],
      "metadata": {
        "id": "PEh85q-ud6Xb"
      }
    },
    {
      "cell_type": "markdown",
      "source": [
        "Que28: What are the limitations of polynomial regression?\n",
        "\n",
        "Ans28: Prone to overfitting, especially with high-degree polynomials. Harder to interpret.\n"
      ],
      "metadata": {
        "id": "h7WCkstud0xu"
      }
    },
    {
      "cell_type": "markdown",
      "source": [
        "Que29: What methods can be used to evaluate model fit when selecting the degree of a polynomial?\n",
        "\n",
        "Ans29: Cross-validation, Adjusted R², AIC/BIC, RMSE.\n",
        "\n"
      ],
      "metadata": {
        "id": "13Wf0xYYdzVB"
      }
    },
    {
      "cell_type": "markdown",
      "source": [
        "Que30: Why is visualization important in polynomial regression?\n",
        "\n",
        "Ans30: It helps in understanding the curve fitting and detecting overfitting or underfitting.\n"
      ],
      "metadata": {
        "id": "y9bmfsGjdvhq"
      }
    },
    {
      "cell_type": "markdown",
      "source": [
        "Que31: How is polynomial regression implemented in Python?\n"
      ],
      "metadata": {
        "id": "20VIFPvQdpSo"
      }
    },
    {
      "cell_type": "code",
      "source": [
        "#Ans31:\n",
        "import numpy as np\n",
        "import matplotlib.pyplot as plt\n",
        "from sklearn.linear_model import LinearRegression\n",
        "from sklearn.preprocessing import PolynomialFeatures\n",
        "\n",
        "# Sample data\n",
        "X = np.array([1, 2, 3, 4, 5]).reshape(-1, 1)\n",
        "y = np.array([1, 4, 9, 16, 25])\n",
        "\n",
        "# Transform the features to polynomial features\n",
        "poly = PolynomialFeatures(degree=2)\n",
        "X_poly = poly.fit_transform(X)\n",
        "\n",
        "# Fit the polynomial regression model\n",
        "model = LinearRegression()\n",
        "model.fit(X_poly, y)\n",
        "\n",
        "# Predict\n",
        "y_pred = model.predict(X_poly)\n",
        "\n",
        "# Plotting\n",
        "plt.scatter(X, y, color='red')\n",
        "plt.plot(X, y_pred, color='blue')\n",
        "plt.title('Polynomial Regression Example')\n",
        "plt.xlabel('X')\n",
        "plt.ylabel('y')\n",
        "plt.show()\n"
      ],
      "metadata": {
        "colab": {
          "base_uri": "https://localhost:8080/",
          "height": 472
        },
        "id": "tqzkB0MDdsJv",
        "outputId": "54377767-18dc-473d-bffd-72d5db57248b"
      },
      "execution_count": null,
      "outputs": [
        {
          "output_type": "display_data",
          "data": {
            "text/plain": [
              "<Figure size 640x480 with 1 Axes>"
            ],
            "image/png": "[encoded data removed]"
          },
          "metadata": {}
        }
      ]
    }
  ]
}