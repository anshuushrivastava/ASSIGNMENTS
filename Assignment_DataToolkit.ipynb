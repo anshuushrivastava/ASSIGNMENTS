{
  "nbformat": 4,
  "nbformat_minor": 0,
  "metadata": {
    "colab": {
      "provenance": []
    },
    "kernelspec": {
      "name": "python3",
      "display_name": "Python 3"
    },
    "language_info": {
      "name": "python"
    }
  },
  "cells": [
    {
      "cell_type": "markdown",
      "source": [
        "#Theoritical Questions  \n",
        "\n"
      ],
      "metadata": {
        "id": "rx_kyMsfGS9K"
      }
    },
    {
      "cell_type": "markdown",
      "source": [
        "Que1: What is NumPy, and why is it widely used in Python?\n",
        "\n",
        "Ans1: NumPy (Numerical Python) is a powerful library for numerical computing in Python. It is widely used because:  \n",
        "- It provides support for large, multi-dimensional arrays and matrices.  \n",
        "- It offers optimized mathematical functions for array operations.  \n",
        "- It allows vectorized operations, making computations faster than traditional Python lists.  \n",
        "- It is the foundation for many data science and machine learning libraries like Pandas, SciPy, and TensorFlow.  "
      ],
      "metadata": {
        "id": "xoZDJNrQGWHy"
      }
    },
    {
      "cell_type": "markdown",
      "source": [
        "Que2: How does broadcasting work in NumPy?  \n",
        "\n",
        "Ans2:  Broadcasting allows NumPy to perform arithmetic operations on arrays of different shapes without explicitly replicating data. It works by expanding smaller arrays along a dimension to match the shape of the larger array, ensuring element-wise operations can be performed efficiently.  "
      ],
      "metadata": {
        "id": "eWSCwWI-Gb9H"
      }
    },
    {
      "cell_type": "code",
      "source": [
        "#Example\n",
        "import numpy as np\n",
        "a = np.array([1, 2, 3])\n",
        "b = np.array([[1], [2], [3]])\n",
        "print(a + b)  # Broadcasting occurs\n"
      ],
      "metadata": {
        "id": "nH3Y4KdeGhy1"
      },
      "execution_count": null,
      "outputs": []
    },
    {
      "cell_type": "markdown",
      "source": [
        "Que3: What is a Pandas DataFrame?\n",
        "\n",
        "Ans3: A Pandas DataFrame is a two-dimensional, tabular data structure similar to an Excel spreadsheet or SQL table. It consists of labeled rows and columns, allowing easy manipulation and analysis of structured data."
      ],
      "metadata": {
        "id": "zjnr1mEgGk0b"
      }
    },
    {
      "cell_type": "code",
      "source": [
        "import pandas as pd\n",
        "data = {'A': [1, 2, 3], 'B': [4, 5, 6]}\n",
        "df = pd.DataFrame(data)\n",
        "print(df)\n"
      ],
      "metadata": {
        "id": "LZZp6fKsGqMj"
      },
      "execution_count": null,
      "outputs": []
    },
    {
      "cell_type": "markdown",
      "source": [
        "Que4: Explain the use of the groupby() method in Pandas.\n",
        "Ans4: The groupby() method is used to group data based on one or more columns and perform aggregate functions like sum, mean, count, etc."
      ],
      "metadata": {
        "id": "Cv_J4C4jGqx4"
      }
    },
    {
      "cell_type": "code",
      "source": [
        "df = pd.DataFrame({'Category': ['A', 'B', 'A', 'B'], 'Values': [10, 20, 30, 40]})\n",
        "grouped = df.groupby('Category').sum()\n",
        "print(grouped)\n"
      ],
      "metadata": {
        "id": "BVAj87eCGv2K"
      },
      "execution_count": null,
      "outputs": []
    },
    {
      "cell_type": "markdown",
      "source": [
        "Que5: Why is Seaborn preferred for statistical visualizations?\n",
        "Ans5: Seaborn is preferred because:\n",
        "- It provides built-in support for complex statistical plots.\n",
        "- It offers better aesthetics and default themes.\n",
        "- It integrates well with Pandas DataFrames."
      ],
      "metadata": {
        "id": "dlg_leEmGw80"
      }
    },
    {
      "cell_type": "code",
      "source": [
        "#Example:\n",
        "import seaborn as sns\n",
        "import matplotlib.pyplot as plt\n",
        "sns.scatterplot(x=[1, 2, 3], y=[4, 5, 6])\n",
        "plt.show()\n"
      ],
      "metadata": {
        "id": "UiJhKWSsG0O7"
      },
      "execution_count": null,
      "outputs": []
    },
    {
      "cell_type": "markdown",
      "source": [
        "Que6: What are the differences between NumPy arrays and Python lists?\n",
        "Ans6:\n",
        "\n",
        "Here's a comparison between NumPy arrays and Python lists:\n",
        "\n",
        "- Data Type Homogeneity:\n",
        "  \n",
        "  - NumPy arrays require all elements to be of the same data type, while Python lists can hold elements of mixed data types.\n",
        "\n",
        "- Memory Efficiency:\n",
        "  \n",
        "  - NumPy arrays are more memory-efficient than Python lists, as they store elements contiguously in memory. Python lists, on the other hand, store elements as references, leading to higher memory consumption.\n",
        "\n",
        "- Performance:\n",
        "  \n",
        "  - NumPy arrays are optimized for numerical operations and offer significantly faster performance compared to Python lists, especially for large datasets. This is due to vectorized operations and the use of efficient C implementations.\n",
        "\n",
        "- Functionality:\n",
        "\n",
        "  - NumPy provides a wide range of built-in functions for array manipulation, mathematical operations, and linear algebra. Python lists have fewer built-in functionalities and often require loops for similar operations.\n",
        "\n",
        "- Size:\n",
        "\n",
        " - NumPy arrays have a fixed size upon creation, while Python lists are dynamic and can be resized easily by adding or removing elements.\n",
        "\n",
        "- Mutability:\n",
        "\n",
        " - Modifying a NumPy array might involve creating a new array, which can be inefficient. Python lists allow for in-place modifications without creating new lists."
      ],
      "metadata": {
        "id": "zxo-041YG3xN"
      }
    },
    {
      "cell_type": "code",
      "source": [
        "import numpy as np\n",
        "import time\n",
        "\n",
        "# Performance comparison\n",
        "size = 1000000\n",
        "\n",
        "# Python list\n",
        "python_list = list(range(size))\n",
        "start_time = time.time()\n",
        "sum(python_list)\n",
        "end_time = time.time()\n",
        "print(\"Time taken by Python list:\", end_time - start_time, \"seconds\")\n",
        "\n",
        "# NumPy array\n",
        "numpy_array = np.arange(size)\n",
        "start_time = time.time()\n",
        "np.sum(numpy_array)\n",
        "end_time = time.time()\n",
        "print(\"Time taken by NumPy array:\", end_time - start_time, \"seconds\")\n",
        "\n",
        "# Memory comparison\n",
        "import sys\n",
        "print(\"Memory used by Python list:\", sys.getsizeof(python_list), \"bytes\")\n",
        "print(\"Memory used by NumPy array:\", numpy_array.nbytes, \"bytes\")"
      ],
      "metadata": {
        "id": "ISaeLvekG3Pj"
      },
      "execution_count": null,
      "outputs": []
    },
    {
      "cell_type": "markdown",
      "source": [
        "Que7: What is a heatmap, and when should it be used?\n",
        "\n",
        "Ans7: A heatmap is a visualization technique that represents data using color gradients. It is useful for showing correlations, missing values, or density distributions."
      ],
      "metadata": {
        "id": "nDUz9nVLHC-i"
      }
    },
    {
      "cell_type": "code",
      "source": [
        "import seaborn as sns\n",
        "import numpy as np\n",
        "import matplotlib.pyplot as plt\n",
        "data = np.random.rand(5, 5)\n",
        "sns.heatmap(data, annot=True, cmap='coolwarm')\n",
        "plt.show()\n"
      ],
      "metadata": {
        "id": "KosCipGpHDnt"
      },
      "execution_count": null,
      "outputs": []
    },
    {
      "cell_type": "markdown",
      "source": [
        "Que8: What does the term \"vectorized operation\" mean in NumPy?\n",
        "\n",
        "Ans8: Vectorized operations refer to element-wise operations on arrays without explicit loops, making computations faster and more efficient."
      ],
      "metadata": {
        "id": "bcFY7YOeHHHx"
      }
    },
    {
      "cell_type": "code",
      "source": [
        "import numpy as np\n",
        "a = np.array([1, 2, 3])\n",
        "b = np.array([4, 5, 6])\n",
        "print(a + b)  # Vectorized addition\n"
      ],
      "metadata": {
        "id": "Bu9LRdpyHGwb"
      },
      "execution_count": null,
      "outputs": []
    },
    {
      "cell_type": "markdown",
      "source": [
        "Que9: How does Matplotlib differ from Plotly?\n",
        "Ans9:\n",
        "\n",
        "Matplotlib: Used for static and basic visualizations.\n",
        "\n",
        "Plotly: Used for interactive visualizations."
      ],
      "metadata": {
        "id": "XgJRUpDTHMZ3"
      }
    },
    {
      "cell_type": "code",
      "source": [
        "#Example of Matplotlib\n",
        "import matplotlib.pyplot as plt\n",
        "plt.plot([1, 2, 3], [4, 5, 6])\n",
        "plt.show()\n"
      ],
      "metadata": {
        "id": "Lot9fIdyHP66"
      },
      "execution_count": null,
      "outputs": []
    },
    {
      "cell_type": "code",
      "source": [
        "#Example of Plotly:\n",
        "import plotly.express as px\n",
        "fig = px.line(x=[1, 2, 3], y=[4, 5, 6])\n",
        "fig.show()\n"
      ],
      "metadata": {
        "id": "OBfkABHPHXch"
      },
      "execution_count": null,
      "outputs": []
    },
    {
      "cell_type": "markdown",
      "source": [
        "Que10: What is the significance of hierarchical indexing in Pandas?\n",
        "Ans10: Hierarchical indexing allows multiple levels of indexing in a DataFrame, making it easier to represent complex datasets."
      ],
      "metadata": {
        "id": "S0t-I_KuHSoc"
      }
    },
    {
      "cell_type": "code",
      "source": [
        "import pandas as pd\n",
        "arrays = [['A', 'A', 'B', 'B'], ['X', 'Y', 'X', 'Y']]\n",
        "index = pd.MultiIndex.from_arrays(arrays, names=('Group', 'Subgroup'))\n",
        "df = pd.DataFrame({'Values': [1, 2, 3, 4]}, index=index)\n",
        "print(df)\n"
      ],
      "metadata": {
        "id": "Um7yDjZiHl5q"
      },
      "execution_count": null,
      "outputs": []
    },
    {
      "cell_type": "markdown",
      "source": [
        "Que11: What is the role of Seaborn's  pairplot() function?\n",
        "\n",
        "Ans11: The pairplot() function visualizes pairwise relationships in a dataset."
      ],
      "metadata": {
        "id": "J28h3xIkHn3s"
      }
    },
    {
      "cell_type": "code",
      "source": [
        "import seaborn as sns\n",
        "df = sns.load_dataset('iris')\n",
        "sns.pairplot(df, hue='species')\n"
      ],
      "metadata": {
        "id": "a8H3R5tRHtKL"
      },
      "execution_count": null,
      "outputs": []
    },
    {
      "cell_type": "markdown",
      "source": [
        "Que12: What is the purpose of the describe() function in Pandas?\n",
        "\n",
        "Ans12: The describe() function provides summary statistics (count, mean, std, min, max, etc.) for numerical columns in a DataFrame."
      ],
      "metadata": {
        "id": "j6gXEPK8HyUD"
      }
    },
    {
      "cell_type": "code",
      "source": [
        "import pandas as pd\n",
        "\n",
        "data = [[10, 18, 11], [13, 15, 8], [9, 20, 3]]\n",
        "\n",
        "df = pd.DataFrame(data)\n",
        "\n",
        "print(df.describe())\n"
      ],
      "metadata": {
        "id": "-V3ZMzVNHx_3"
      },
      "execution_count": null,
      "outputs": []
    },
    {
      "cell_type": "markdown",
      "source": [
        "Que13: Why is handling missing data important in Pandas?\n",
        "\n",
        "Ans13: Missing data can lead to incorrect analysis. Pandas provides methods like dropna() and fillna() to handle missing values."
      ],
      "metadata": {
        "id": "nic0M-jFH1kZ"
      }
    },
    {
      "cell_type": "code",
      "source": [
        "import pandas as pd\n",
        "import numpy as np\n",
        "\n",
        "data = {'A': [1, 2, np.nan], 'B': [4, np.nan, 6], 'C': [7, 8, 9]}\n",
        "df = pd.DataFrame(data)\n",
        "\n",
        "df_dropped = df.dropna() #Removes rows with any NaN values\n",
        "df_dropped_all = df.dropna(how='all') #Removes rows where all values are NaN\n",
        "df_col_dropped = df.dropna(axis=1) #Removes columns with any NaN values\n",
        "df.dropna(inplace=True) #Modifies the DataFrame directly"
      ],
      "metadata": {
        "id": "jg3l04OPH4pB"
      },
      "execution_count": null,
      "outputs": []
    },
    {
      "cell_type": "markdown",
      "source": [
        "Que14: What are the benefits of using Plotly for data visualization?\n",
        "\n",
        "Ans14: The benefits of using Plotly for data visualization are as follows :-\n",
        "\n",
        "- Interactive graphs\n",
        "- Supports 3D plots\n",
        "- Easy to integrate with web applications"
      ],
      "metadata": {
        "id": "P9Qfc0-UH7fC"
      }
    },
    {
      "cell_type": "markdown",
      "source": [
        "Que15: How does NumPy handle multidimensional arrays?\n",
        "\n",
        "Ans15: NumPy uses ndarray objects to represent multidimensional arrays."
      ],
      "metadata": {
        "id": "iq81uyn_IC2H"
      }
    },
    {
      "cell_type": "code",
      "source": [
        "import numpy as np\n",
        "a = np.array([[1, 2], [3, 4]])\n",
        "print(a.shape)  # Output: (2,2)\n"
      ],
      "metadata": {
        "id": "8oOtQ3edIAEX"
      },
      "execution_count": null,
      "outputs": []
    },
    {
      "cell_type": "markdown",
      "source": [
        "Que16: What is the role of Bokeh in data visualization?\n",
        "\n",
        "Ans16:  Bokeh is a Python library for interactive and web-friendly visualizations."
      ],
      "metadata": {
        "id": "ss029e2VIFyT"
      }
    },
    {
      "cell_type": "code",
      "source": [
        "from bokeh.plotting import figure, show\n",
        "p = figure(title=\"Bokeh Example\")\n",
        "p.line([1, 2, 3], [4, 5, 6])\n",
        "show(p)\n"
      ],
      "metadata": {
        "id": "Mj2ptfOeIIsY"
      },
      "execution_count": null,
      "outputs": []
    },
    {
      "cell_type": "markdown",
      "source": [
        "Que17: Explain the difference between apply() and map() in Pandas.\n",
        "Ans17: The difference between apply() and map() in Pandas :-\n",
        "\n",
        "- apply() is used to apply a function to rows or columns in a DataFrame.\n",
        "\n",
        "- map() is used for element-wise transformations on a Series."
      ],
      "metadata": {
        "id": "X7wYSSLJIK4y"
      }
    },
    {
      "cell_type": "code",
      "source": [
        "import pandas as pd\n",
        "df = pd.DataFrame({'A': [1, 2, 3], 'B': [4, 5, 6]})\n",
        "df['A'] = df['A'].apply(lambda x: x * 2)  # Using apply()\n",
        "print(df)\n",
        "\n",
        "df['B'] = df['B'].map(lambda x: x + 1)  # Using map()\n",
        "print(df)\n"
      ],
      "metadata": {
        "id": "jpnyjGnKIOfI"
      },
      "execution_count": null,
      "outputs": []
    },
    {
      "cell_type": "markdown",
      "source": [
        "Que18: What are some advanced features of NumPy?\n",
        "\n",
        "Ans18: The advanced features of NumPy are :-\n",
        "\n",
        "- Broadcasting for efficient operations.\n",
        "- Memory-mapped files for large datasets.\n",
        "- Vectorized operations for performance optimization.\n",
        "- Masked arrays to handle missing data."
      ],
      "metadata": {
        "id": "oVz-wqfnIPSd"
      }
    },
    {
      "cell_type": "code",
      "source": [
        "Example of masked array:\n",
        "import numpy as np\n",
        "masked = np.ma.array([1, 2, 3], mask=[False, True, False])\n",
        "print(masked)\n"
      ],
      "metadata": {
        "id": "lx6buoYxIWlQ"
      },
      "execution_count": null,
      "outputs": []
    },
    {
      "cell_type": "markdown",
      "source": [
        "Que19: How does Pandas simplify time series analysis?\n",
        "Ans19: Supports DateTimeIndex for time-based indexing.\n",
        "Provides functions like resample(), shift(), and rolling() for analysis."
      ],
      "metadata": {
        "id": "xRSl3IxQISJm"
      }
    },
    {
      "cell_type": "code",
      "source": [
        "df = pd.DataFrame({'Date': pd.date_range(start='1/1/2023', periods=5), 'Values': [10, 20, 30, 40, 50]})\n",
        "df.set_index('Date', inplace=True)\n",
        "print(df.rolling(window=2).mean())  # Rolling average\n"
      ],
      "metadata": {
        "id": "Oofi-lPYIdl-"
      },
      "execution_count": null,
      "outputs": []
    },
    {
      "cell_type": "markdown",
      "source": [
        "Que20: What is the role of a pivot table in Pandas?\n",
        "\n",
        "Ans20:A pivot table summarizes data in a DataFrame by aggregating values."
      ],
      "metadata": {
        "id": "0SdGIJeCIe2b"
      }
    },
    {
      "cell_type": "code",
      "source": [
        "df = pd.DataFrame({'Category': ['A', 'B', 'A', 'B'], 'Sales': [10, 20, 30, 40]})\n",
        "pivot = df.pivot_table(values='Sales', index='Category', aggfunc='sum')\n",
        "print(pivot)\n"
      ],
      "metadata": {
        "id": "fjsQaP-NIh-J"
      },
      "execution_count": null,
      "outputs": []
    },
    {
      "cell_type": "markdown",
      "source": [
        "Que21: Why is NumPy's array slicing faster than Python's list slicing?\n",
        "\n",
        "Ans21: NumPy uses contiguous memory storage, making slicing operations efficient.\n",
        "Python lists store elements individually in memory, making slicing slower.\n"
      ],
      "metadata": {
        "id": "Q55YIYCQIksq"
      }
    },
    {
      "cell_type": "code",
      "source": [
        "import numpy as np\n",
        "a = np.array([1, 2, 3, 4, 5])\n",
        "print(a[1:4])  # Faster slicing\n"
      ],
      "metadata": {
        "id": "_wXRWAecIqQb"
      },
      "execution_count": null,
      "outputs": []
    },
    {
      "cell_type": "markdown",
      "source": [
        "Que22: What are some common use cases for Seaborn?\n",
        "\n",
        "Ans22: The common use cases for Seaborn are :-\n",
        "\n",
        "- Correlation analysis (heatmap())\n",
        "- Pairwise relationships (pairplot())\n",
        "- Distribution plots (histplot(), boxplot())"
      ],
      "metadata": {
        "id": "zT4eUyWvIoUM"
      }
    },
    {
      "cell_type": "code",
      "source": [
        "import seaborn as sns\n",
        "df = sns.load_dataset('iris')\n",
        "sns.boxplot(x='species', y='sepal_length', data=df)\n"
      ],
      "metadata": {
        "id": "LF-Kz8jxItqT"
      },
      "execution_count": null,
      "outputs": []
    },
    {
      "cell_type": "markdown",
      "source": [
        "#Practical Questions"
      ],
      "metadata": {
        "id": "vtsVIoF4Iw0W"
      }
    },
    {
      "cell_type": "markdown",
      "source": [
        "Que1: How do you create a 2D NumPy array and calculate the sum of each row?"
      ],
      "metadata": {
        "id": "CHXWOLHuI1cm"
      }
    },
    {
      "cell_type": "code",
      "source": [
        "#Ans1:\n",
        "import numpy as np\n",
        "a = np.array([[1, 2, 3], [4, 5, 6]])\n",
        "print(np.sum(a, axis=1))  # Sum of rows\n"
      ],
      "metadata": {
        "id": "KjKnQxKcI2G6"
      },
      "execution_count": null,
      "outputs": []
    },
    {
      "cell_type": "markdown",
      "source": [
        "Que2: Write a Pandas script to find the mean of a specific column in a DataFrame."
      ],
      "metadata": {
        "id": "kh3NymnHI4oc"
      }
    },
    {
      "cell_type": "code",
      "source": [
        "#Ans2:\n",
        "import pandas as pd\n",
        "df = pd.DataFrame({'A': [10, 20, 30], 'B': [40, 50, 60]})\n",
        "print(df['A'].mean())  # Mean of column A\n"
      ],
      "metadata": {
        "id": "zhKqK9k7I8Dg"
      },
      "execution_count": null,
      "outputs": []
    },
    {
      "cell_type": "markdown",
      "source": [
        "Que3: Create a scatter plot using Matplotlib."
      ],
      "metadata": {
        "id": "VtH79_a8I_Iu"
      }
    },
    {
      "cell_type": "code",
      "source": [
        "#Ans3:\n",
        "import matplotlib.pyplot as plt\n",
        "x = [1, 2, 3, 4]\n",
        "y = [10, 20, 25, 30]\n",
        "plt.scatter(x, y)\n",
        "plt.show()\n"
      ],
      "metadata": {
        "id": "BnfPB_TPJBcn"
      },
      "execution_count": null,
      "outputs": []
    },
    {
      "cell_type": "markdown",
      "source": [
        "Que4: How do you calculate the correlation matrix using Seaborn and visualize it with a heatmap?"
      ],
      "metadata": {
        "id": "HcMbVz1bJDZ_"
      }
    },
    {
      "cell_type": "code",
      "source": [
        "#Ans4:\n",
        "import seaborn as sns\n",
        "import pandas as pd\n",
        "import numpy as np\n",
        "df = pd.DataFrame(np.random.rand(5, 5), columns=['A', 'B', 'C', 'D', 'E'])\n",
        "corr_matrix = df.corr()\n",
        "sns.heatmap(corr_matrix, annot=True, cmap='coolwarm')\n"
      ],
      "metadata": {
        "id": "hxc7OstyJGT_"
      },
      "execution_count": null,
      "outputs": []
    },
    {
      "cell_type": "markdown",
      "source": [
        "Que5: Generate a bar plot using Plotly."
      ],
      "metadata": {
        "id": "CE9X3qXmJInN"
      }
    },
    {
      "cell_type": "code",
      "source": [
        "#Ans5:\n",
        "import plotly.express as px\n",
        "df = pd.DataFrame({'Category': ['A', 'B', 'C'], 'Values': [10, 20, 30]})\n",
        "fig = px.bar(df, x='Category', y='Values')\n",
        "fig.show()\n"
      ],
      "metadata": {
        "id": "Ic-N1JcmJKom"
      },
      "execution_count": null,
      "outputs": []
    },
    {
      "cell_type": "markdown",
      "source": [
        "Que6: Create a DataFrame and add a new column based on an existing column."
      ],
      "metadata": {
        "id": "6y8nwDUxJN3a"
      }
    },
    {
      "cell_type": "code",
      "source": [
        "#Ans6:\n",
        "import pandas as pd\n",
        "\n",
        "data = {'Name': ['Alice', 'Bob', 'Charlie', 'Diana'], 'Age': [25, 30, 28, 42]}\n",
        "df = pd.DataFrame(data)\n",
        "\n",
        "df['Age_Category'] = pd.cut(df['Age'], bins=[0, 25, 35, 50], labels=['Young', 'Mid-Aged', 'Senior'])\n",
        "\n",
        "print(df)"
      ],
      "metadata": {
        "id": "9ozb0t62JP9q"
      },
      "execution_count": null,
      "outputs": []
    },
    {
      "cell_type": "markdown",
      "source": [
        "Que7: Write a program to perform element-wise multiplication of two NumPy arrays."
      ],
      "metadata": {
        "id": "ks9x0o_AJSsi"
      }
    },
    {
      "cell_type": "code",
      "source": [
        "#Ans7:\n",
        "import numpy as np\n",
        "a = np.array([1, 2, 3])\n",
        "b = np.array([4, 5, 6])\n",
        "print(a * b)  # Element-wise multiplication\n"
      ],
      "metadata": {
        "id": "tQP4GOHHJUt8"
      },
      "execution_count": null,
      "outputs": []
    },
    {
      "cell_type": "markdown",
      "source": [
        "Que8: Create a line plot with multiple lines using Matplotlib."
      ],
      "metadata": {
        "id": "zs6cIlEKJW5s"
      }
    },
    {
      "cell_type": "code",
      "source": [
        "#Ans8:\n",
        "import matplotlib.pyplot as plt\n",
        "x = [1, 2, 3, 4]\n",
        "y1 = [10, 20, 25, 30]\n",
        "y2 = [5, 15, 20, 25]\n",
        "plt.plot(x, y1, label='Line 1')\n",
        "plt.plot(x, y2, label='Line 2')\n",
        "plt.legend()\n",
        "plt.show()\n"
      ],
      "metadata": {
        "id": "fJe-izWGJZdw"
      },
      "execution_count": null,
      "outputs": []
    },
    {
      "cell_type": "markdown",
      "source": [
        "Que9: Generate a Pandas DataFrame and filter rows where a column value is greater than a threshold."
      ],
      "metadata": {
        "id": "tJ-AQF5yJcmU"
      }
    },
    {
      "cell_type": "code",
      "source": [
        "#Ans9:\n",
        "df = pd.DataFrame({'A': [10, 20, 30, 40]})\n",
        "filtered_df = df[df['A'] > 20]\n",
        "print(filtered_df)\n"
      ],
      "metadata": {
        "id": "5u3NoAn_Jetf"
      },
      "execution_count": null,
      "outputs": []
    },
    {
      "cell_type": "markdown",
      "source": [
        "Que10: Create a histogram using Seaborn to visualize a distribution."
      ],
      "metadata": {
        "id": "OaNxRLBnJgrT"
      }
    },
    {
      "cell_type": "code",
      "source": [
        "#Ans10:\n",
        "import seaborn as sns\n",
        "import numpy as np\n",
        "data = np.random.randn(100)\n",
        "sns.histplot(data, bins=20, kde=True)\n"
      ],
      "metadata": {
        "id": "eQF9FlZWJi-k"
      },
      "execution_count": null,
      "outputs": []
    },
    {
      "cell_type": "markdown",
      "source": [
        "Que11: Perform matrix multiplication using NumPy."
      ],
      "metadata": {
        "id": "yodO3QfhJlV6"
      }
    },
    {
      "cell_type": "code",
      "source": [
        "#Ans11:\n",
        "import numpy as np\n",
        "a = np.array([[1, 2], [3, 4]])\n",
        "b = np.array([[5, 6], [7, 8]])\n",
        "print(np.dot(a, b))  # Matrix multiplication\n"
      ],
      "metadata": {
        "id": "N5S-jiv2JnWI"
      },
      "execution_count": null,
      "outputs": []
    },
    {
      "cell_type": "markdown",
      "source": [
        "Que12: Use Pandas to load a CSV file and display its first 5 rows."
      ],
      "metadata": {
        "id": "p9Ub-0DqJpR2"
      }
    },
    {
      "cell_type": "code",
      "source": [
        "#Ans12:\n",
        "df = pd.read_csv('data.csv')\n",
        "print(df.head())\n"
      ],
      "metadata": {
        "id": "9Wpx6warJsAk"
      },
      "execution_count": null,
      "outputs": []
    },
    {
      "cell_type": "markdown",
      "source": [
        "Que13: Create a 3D scatter plot using Plotly."
      ],
      "metadata": {
        "id": "WjPGS_whJuAa"
      }
    },
    {
      "cell_type": "code",
      "source": [
        "#Ans13:\n",
        "import plotly.express as px\n",
        "df = px.data.iris()\n",
        "fig = px.scatter_3d(df, x='sepal_width', y='sepal_length', z='petal_width', color='species')\n",
        "fig.show()\n"
      ],
      "metadata": {
        "id": "-vnd9qvlJwI2"
      },
      "execution_count": null,
      "outputs": []
    },
    {
      "cell_type": "markdown",
      "source": [],
      "metadata": {
        "id": "CdJD2dIPJyTj"
      }
    }
  ]
}