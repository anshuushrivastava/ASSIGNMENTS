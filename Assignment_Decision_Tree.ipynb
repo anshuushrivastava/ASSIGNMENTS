{
  "cells": [
    {
      "cell_type": "markdown",
      "source": [
        "#Theoritical Questions"
      ],
      "metadata": {
        "id": "S6OkkN3IM0i_"
      },
      "id": "S6OkkN3IM0i_"
    },
    {
      "cell_type": "markdown",
      "source": [
        "Que1: What is a Decision Tree, and how does it work?\n",
        "\n",
        "Ans1: A Decision Tree is a supervised learning algorithm used for classification and regression. It splits data into branches based on feature values, forming a tree-like structure. At each node, the best split is determined by a criterion like Gini or Entropy. The process continues until the data is sufficiently classified or a stopping condition is met."
      ],
      "metadata": {
        "id": "xkxY5jbQM88Y"
      },
      "id": "xkxY5jbQM88Y"
    },
    {
      "cell_type": "markdown",
      "source": [
        "Que2: What are impurity measures in Decision Trees?\n",
        "\n",
        "Ans2: Impurity measures quantify the heterogeneity of a node. Lower impurity means the node is more \"pure\" (i.e., more homogenous). Common impurity measures include Gini Impurity and Entropy. These help determine the optimal splits in the tree by evaluating how well a feature separates the data."
      ],
      "metadata": {
        "id": "wi0v06_-M92F"
      },
      "id": "wi0v06_-M92F"
    },
    {
      "cell_type": "markdown",
      "source": [
        "Que3: What is the mathematical formula for Gini Impurity?\n",
        "\n",
        "The formula for Gini Impurity is: [ Gini = 1 - \\sum_{i=1}^{n} p_i^2 ] where ( p_i ) is the probability of class ( i ) in a node. A lower Gini value indicates a purer node."
      ],
      "metadata": {
        "id": "Xrs5jQGLN3vD"
      },
      "id": "Xrs5jQGLN3vD"
    },
    {
      "cell_type": "markdown",
      "source": [
        "Que4: What is the mathematical formula for Entropy?\n",
        "\n",
        "Ans4: The formula for Entropy is: [ Entropy = - \\sum_{i=1}^{n} p_i \\log_2(p_i) ] where ( p_i ) is the probability of class ( i ). Entropy measures the uncertainty in the data; 0 means complete purity."
      ],
      "metadata": {
        "id": "hN3RVtwsN0d5"
      },
      "id": "hN3RVtwsN0d5"
    },
    {
      "cell_type": "markdown",
      "source": [
        "Que5: What is Information Gain, and how is it used in Decision Trees?\n",
        "\n",
        "Ans5: Information Gain measures the reduction in impurity after a dataset is split on an attribute. It is calculated as the difference between the entropy of the parent node and the weighted sum of the entropies of child nodes. It's used to choose the best split."
      ],
      "metadata": {
        "id": "T83orjWKNxgu"
      },
      "id": "T83orjWKNxgu"
    },
    {
      "cell_type": "markdown",
      "source": [
        "Que6: What is the difference between Gini Impurity and Entropy?\n",
        "\n",
        "Ans6: Both Gini Impurity and Entropy measure the purity of a node, but Gini is simpler and faster to compute, making it more common. Entropy involves logarithmic calculations and provides a more information-theoretic view. They often lead to similar splits in practice."
      ],
      "metadata": {
        "id": "jjuG-2y4NuWV"
      },
      "id": "jjuG-2y4NuWV"
    },
    {
      "cell_type": "markdown",
      "source": [
        "Que7: What is the mathematical explanation behind Decision Trees?\n",
        "\n",
        "Ans7: Decision Trees use a recursive partitioning method. At each node, the algorithm selects the feature and threshold that maximizes a split criterion (like Information Gain or Gini reduction). The process continues until a stopping condition like max depth or min samples is met."
      ],
      "metadata": {
        "id": "NiS8rpL2Nm_U"
      },
      "id": "NiS8rpL2Nm_U"
    },
    {
      "cell_type": "markdown",
      "source": [
        "Que8: What is Pre-Pruning in Decision Trees?\n",
        "\n",
        "Ans8: Pre-pruning stops the tree from growing once a condition is met, such as maximum depth, minimum samples per node, or impurity threshold. It prevents overfitting by avoiding overly complex trees that might model noise in the data."
      ],
      "metadata": {
        "id": "Hn1XksrdNk6k"
      },
      "id": "Hn1XksrdNk6k"
    },
    {
      "cell_type": "markdown",
      "source": [
        "Que9: What is Post-Pruning in Decision Trees?\n",
        "\n",
        "Ans9: Post-pruning allows the tree to grow fully, then removes nodes that do not provide significant predictive power. Techniques like cost complexity pruning are used to cut branches that have little effect on accuracy, thereby reducing overfitting."
      ],
      "metadata": {
        "id": "w23-2xHtNh4m"
      },
      "id": "w23-2xHtNh4m"
    },
    {
      "cell_type": "markdown",
      "source": [
        "Que10: What is the difference between Pre-Pruning and Post-Pruning?\n",
        "\n",
        "Ans10: Pre-pruning limits tree growth during training using set conditions, while post-pruning trims the tree after it has been fully grown. Pre-pruning is faster but might underfit; post-pruning is more accurate but computationally intensive."
      ],
      "metadata": {
        "id": "mZbtGfw3NeQI"
      },
      "id": "mZbtGfw3NeQI"
    },
    {
      "cell_type": "markdown",
      "source": [
        "Que11: What is a Decision Tree Regressor?\n",
        "\n",
        "Ans11: A Decision Tree Regressor is a variant of a decision tree used for predicting continuous values instead of classes. It splits the data to minimize variance in the target variable within each leaf node, making it suitable for regression tasks."
      ],
      "metadata": {
        "id": "QaSqUMTSNbKM"
      },
      "id": "QaSqUMTSNbKM"
    },
    {
      "cell_type": "markdown",
      "source": [
        "Que12: What are the advantages and disadvantages of Decision Trees?\n",
        "\n",
        "Ans12: Advantages: Easy to understand, non-parametric, handles both categorical and numerical data, requires little data preprocessing.\n",
        "Disadvantages: Prone to overfitting, sensitive to data changes, and less accurate than ensemble methods."
      ],
      "metadata": {
        "id": "PB7JTPQRNX74"
      },
      "id": "PB7JTPQRNX74"
    },
    {
      "cell_type": "markdown",
      "source": [
        "Que13: How does a Decision Tree handle missing values?\n",
        "\n",
        "Ans13: Decision Trees can handle missing values using techniques like surrogate splits, which find alternative features for decision-making when the primary feature is missing. Some implementations also ignore or impute missing values during training."
      ],
      "metadata": {
        "id": "QSkFmTXkNS95"
      },
      "id": "QSkFmTXkNS95"
    },
    {
      "cell_type": "markdown",
      "source": [
        "Que14: How does a Decision Tree handle categorical features?\n",
        "\n",
        "Ans14: Categorical features can be directly handled by splitting nodes based on categories. For example, a node might split based on whether a feature equals a certain category. Some algorithms encode categories numerically before training."
      ],
      "metadata": {
        "id": "fCFCI1AENLg_"
      },
      "id": "fCFCI1AENLg_"
    },
    {
      "cell_type": "markdown",
      "source": [
        "Que15: What are some real-world applications of Decision Trees?\n",
        "\n",
        "Ans15: Decision Trees are used in medical diagnosis, credit risk evaluation, customer segmentation, fraud detection, and recommendation systems. Their interpretability and versatility make them suitable for many domains where decision rules are valuable."
      ],
      "metadata": {
        "id": "Pmlv1NZDNDjy"
      },
      "id": "Pmlv1NZDNDjy"
    },
    {
      "cell_type": "markdown",
      "id": "1641898c",
      "metadata": {
        "id": "1641898c"
      },
      "source": [
        "# Practical Questions"
      ]
    },
    {
      "cell_type": "markdown",
      "id": "41070bfc",
      "metadata": {
        "id": "41070bfc"
      },
      "source": [
        "Que16: Write a Python program to train a Decision Tree Classifier on the Iris dataset and print the model accuracy?"
      ]
    },
    {
      "cell_type": "code",
      "execution_count": null,
      "id": "ebacef9a",
      "metadata": {
        "colab": {
          "base_uri": "https://localhost:8080/"
        },
        "id": "ebacef9a",
        "outputId": "65257800-c1a7-420e-e486-b8780497fef4"
      },
      "outputs": [
        {
          "output_type": "stream",
          "name": "stdout",
          "text": [
            "Accuracy: 1.0\n"
          ]
        }
      ],
      "source": [
        "#Ans16:\n",
        "from sklearn.datasets import load_iris\n",
        "from sklearn.model_selection import train_test_split\n",
        "from sklearn.tree import DecisionTreeClassifier\n",
        "from sklearn.metrics import accuracy_score\n",
        "\n",
        "iris = load_iris()\n",
        "X_train, X_test, y_train, y_test = train_test_split(iris.data, iris.target, random_state=42)\n",
        "model = DecisionTreeClassifier()\n",
        "model.fit(X_train, y_train)\n",
        "y_pred = model.predict(X_test)\n",
        "print(\"Accuracy:\", accuracy_score(y_test, y_pred))"
      ]
    },
    {
      "cell_type": "markdown",
      "id": "7007d903",
      "metadata": {
        "id": "7007d903"
      },
      "source": [
        "Que17: Write a Python program to train a Decision Tree Classifier using Gini Impurity as the criterion and print the feature importances?"
      ]
    },
    {
      "cell_type": "code",
      "execution_count": null,
      "id": "71c0ce3d",
      "metadata": {
        "colab": {
          "base_uri": "https://localhost:8080/"
        },
        "id": "71c0ce3d",
        "outputId": "fed55ce4-ebd3-4d95-e965-0e7741c5d1eb"
      },
      "outputs": [
        {
          "output_type": "stream",
          "name": "stdout",
          "text": [
            "Feature importances: [0.         0.01333333 0.56405596 0.42261071]\n"
          ]
        }
      ],
      "source": [
        "#Ans17:\n",
        "from sklearn.datasets import load_iris\n",
        "from sklearn.tree import DecisionTreeClassifier\n",
        "\n",
        "data = load_iris()\n",
        "clf = DecisionTreeClassifier(criterion='gini')\n",
        "clf.fit(data.data, data.target)\n",
        "print(\"Feature importances:\", clf.feature_importances_)"
      ]
    },
    {
      "cell_type": "markdown",
      "id": "8ca87463",
      "metadata": {
        "id": "8ca87463"
      },
      "source": [
        "Que18: Write a Python program to train a Decision Tree Classifier using Entropy as the splitting criterion and print the model accuracy?"
      ]
    },
    {
      "cell_type": "code",
      "execution_count": null,
      "id": "a66a5ece",
      "metadata": {
        "colab": {
          "base_uri": "https://localhost:8080/"
        },
        "id": "a66a5ece",
        "outputId": "019549cb-05e7-4564-b5ab-03161fa1d98d"
      },
      "outputs": [
        {
          "output_type": "stream",
          "name": "stdout",
          "text": [
            "Accuracy: 0.9736842105263158\n"
          ]
        }
      ],
      "source": [
        "#Ans18:\n",
        "from sklearn.datasets import load_iris\n",
        "from sklearn.model_selection import train_test_split\n",
        "from sklearn.tree import DecisionTreeClassifier\n",
        "from sklearn.metrics import accuracy_score\n",
        "\n",
        "iris = load_iris()\n",
        "X_train, X_test, y_train, y_test = train_test_split(iris.data, iris.target, random_state=42)\n",
        "model = DecisionTreeClassifier(criterion='entropy')\n",
        "model.fit(X_train, y_train)\n",
        "y_pred = model.predict(X_test)\n",
        "print(\"Accuracy:\", accuracy_score(y_test, y_pred))"
      ]
    },
    {
      "cell_type": "markdown",
      "id": "b34829af",
      "metadata": {
        "id": "b34829af"
      },
      "source": [
        "Que19: Write a Python program to train a Decision Tree Regressor on a housing dataset and evaluate using Mean Squared Error (MSE)?"
      ]
    },
    {
      "cell_type": "code",
      "execution_count": null,
      "id": "4f147984",
      "metadata": {
        "colab": {
          "base_uri": "https://localhost:8080/"
        },
        "id": "4f147984",
        "outputId": "48adb0ca-ca49-42c3-c08c-74540cb0d18f"
      },
      "outputs": [
        {
          "output_type": "stream",
          "name": "stdout",
          "text": [
            "MSE: 0.521826300050872\n"
          ]
        }
      ],
      "source": [
        "#Ans19:\n",
        "from sklearn.datasets import fetch_california_housing\n",
        "from sklearn.model_selection import train_test_split\n",
        "from sklearn.tree import DecisionTreeRegressor\n",
        "from sklearn.metrics import mean_squared_error\n",
        "\n",
        "data = fetch_california_housing()\n",
        "X_train, X_test, y_train, y_test = train_test_split(data.data, data.target, random_state=42)\n",
        "regressor = DecisionTreeRegressor()\n",
        "regressor.fit(X_train, y_train)\n",
        "y_pred = regressor.predict(X_test)\n",
        "print(\"MSE:\", mean_squared_error(y_test, y_pred))"
      ]
    },
    {
      "cell_type": "markdown",
      "id": "53d9a3aa",
      "metadata": {
        "id": "53d9a3aa"
      },
      "source": [
        "Que20: Write a Python program to train a Decision Tree Classifier and visualize the tree using graphviz?"
      ]
    },
    {
      "cell_type": "code",
      "execution_count": null,
      "id": "92620d62",
      "metadata": {
        "colab": {
          "base_uri": "https://localhost:8080/",
          "height": 916
        },
        "id": "92620d62",
        "outputId": "2ca1e014-5798-4f3b-a136-2a0457b7d9c1"
      },
      "outputs": [
        {
          "output_type": "execute_result",
          "data": {
            "image/svg+xml": "<?xml version=\"1.0\" encoding=\"UTF-8\" standalone=\"no\"?>\n<!DOCTYPE svg PUBLIC \"-//W3C//DTD SVG 1.1//EN\"\n \"http://www.w3.org/Graphics/SVG/1.1/DTD/svg11.dtd\">\n<!-- Generated by graphviz version 2.43.0 (0)\n -->\n<!-- Title: Tree Pages: 1 -->\n<svg width=\"869pt\" height=\"671pt\"\n viewBox=\"0.00 0.00 869.00 671.00\" xmlns=\"http://www.w3.org/2000/svg\" xmlns:xlink=\"http://www.w3.org/1999/xlink\">\n<g id=\"graph0\" class=\"graph\" transform=\"scale(1 1) rotate(0) translate(4 667)\">\n<title>Tree</title>\n<polygon fill=\"white\" stroke=\"transparent\" points=\"-4,4 -4,-667 865,-667 865,4 -4,4\"/>\n<!-- 0 -->\n<g id=\"node1\" class=\"node\">\n<title>0</title>\n<polygon fill=\"#ffffff\" stroke=\"black\" points=\"531,-663 376,-663 376,-580 531,-580 531,-663\"/>\n<text text-anchor=\"middle\" x=\"453.5\" y=\"-647.8\" font-family=\"Helvetica,sans-Serif\" font-size=\"14.00\">petal width (cm) &lt;= 0.8</text>\n<text text-anchor=\"middle\" x=\"453.5\" y=\"-632.8\" font-family=\"Helvetica,sans-Serif\" font-size=\"14.00\">gini = 0.667</text>\n<text text-anchor=\"middle\" x=\"453.5\" y=\"-617.8\" font-family=\"Helvetica,sans-Serif\" font-size=\"14.00\">samples = 150</text>\n<text text-anchor=\"middle\" x=\"453.5\" y=\"-602.8\" font-family=\"Helvetica,sans-Serif\" font-size=\"14.00\">value = [50, 50, 50]</text>\n<text text-anchor=\"middle\" x=\"453.5\" y=\"-587.8\" font-family=\"Helvetica,sans-Serif\" font-size=\"14.00\">class = setosa</text>\n</g>\n<!-- 1 -->\n<g id=\"node2\" class=\"node\">\n<title>1</title>\n<polygon fill=\"#e58139\" stroke=\"black\" points=\"433,-536.5 316,-536.5 316,-468.5 433,-468.5 433,-536.5\"/>\n<text text-anchor=\"middle\" x=\"374.5\" y=\"-521.3\" font-family=\"Helvetica,sans-Serif\" font-size=\"14.00\">gini = 0.0</text>\n<text text-anchor=\"middle\" x=\"374.5\" y=\"-506.3\" font-family=\"Helvetica,sans-Serif\" font-size=\"14.00\">samples = 50</text>\n<text text-anchor=\"middle\" x=\"374.5\" y=\"-491.3\" font-family=\"Helvetica,sans-Serif\" font-size=\"14.00\">value = [50, 0, 0]</text>\n<text text-anchor=\"middle\" x=\"374.5\" y=\"-476.3\" font-family=\"Helvetica,sans-Serif\" font-size=\"14.00\">class = setosa</text>\n</g>\n<!-- 0&#45;&gt;1 -->\n<g id=\"edge1\" class=\"edge\">\n<title>0&#45;&gt;1</title>\n<path fill=\"none\" stroke=\"black\" d=\"M426.09,-579.91C418.49,-568.65 410.23,-556.42 402.59,-545.11\"/>\n<polygon fill=\"black\" stroke=\"black\" points=\"405.39,-543 396.89,-536.67 399.59,-546.91 405.39,-543\"/>\n<text text-anchor=\"middle\" x=\"392.14\" y=\"-557.51\" font-family=\"Helvetica,sans-Serif\" font-size=\"14.00\">True</text>\n</g>\n<!-- 2 -->\n<g id=\"node3\" class=\"node\">\n<title>2</title>\n<polygon fill=\"#ffffff\" stroke=\"black\" points=\"614,-544 451,-544 451,-461 614,-461 614,-544\"/>\n<text text-anchor=\"middle\" x=\"532.5\" y=\"-528.8\" font-family=\"Helvetica,sans-Serif\" font-size=\"14.00\">petal width (cm) &lt;= 1.75</text>\n<text text-anchor=\"middle\" x=\"532.5\" y=\"-513.8\" font-family=\"Helvetica,sans-Serif\" font-size=\"14.00\">gini = 0.5</text>\n<text text-anchor=\"middle\" x=\"532.5\" y=\"-498.8\" font-family=\"Helvetica,sans-Serif\" font-size=\"14.00\">samples = 100</text>\n<text text-anchor=\"middle\" x=\"532.5\" y=\"-483.8\" font-family=\"Helvetica,sans-Serif\" font-size=\"14.00\">value = [0, 50, 50]</text>\n<text text-anchor=\"middle\" x=\"532.5\" y=\"-468.8\" font-family=\"Helvetica,sans-Serif\" font-size=\"14.00\">class = versicolor</text>\n</g>\n<!-- 0&#45;&gt;2 -->\n<g id=\"edge2\" class=\"edge\">\n<title>0&#45;&gt;2</title>\n<path fill=\"none\" stroke=\"black\" d=\"M480.91,-579.91C486.91,-571.01 493.33,-561.51 499.53,-552.33\"/>\n<polygon fill=\"black\" stroke=\"black\" points=\"502.44,-554.27 505.14,-544.02 496.64,-550.35 502.44,-554.27\"/>\n<text text-anchor=\"middle\" x=\"509.9\" y=\"-564.86\" font-family=\"Helvetica,sans-Serif\" font-size=\"14.00\">False</text>\n</g>\n<!-- 3 -->\n<g id=\"node4\" class=\"node\">\n<title>3</title>\n<polygon fill=\"#4de88e\" stroke=\"black\" points=\"502.5,-425 334.5,-425 334.5,-342 502.5,-342 502.5,-425\"/>\n<text text-anchor=\"middle\" x=\"418.5\" y=\"-409.8\" font-family=\"Helvetica,sans-Serif\" font-size=\"14.00\">petal length (cm) &lt;= 4.95</text>\n<text text-anchor=\"middle\" x=\"418.5\" y=\"-394.8\" font-family=\"Helvetica,sans-Serif\" font-size=\"14.00\">gini = 0.168</text>\n<text text-anchor=\"middle\" x=\"418.5\" y=\"-379.8\" font-family=\"Helvetica,sans-Serif\" font-size=\"14.00\">samples = 54</text>\n<text text-anchor=\"middle\" x=\"418.5\" y=\"-364.8\" font-family=\"Helvetica,sans-Serif\" font-size=\"14.00\">value = [0, 49, 5]</text>\n<text text-anchor=\"middle\" x=\"418.5\" y=\"-349.8\" font-family=\"Helvetica,sans-Serif\" font-size=\"14.00\">class = versicolor</text>\n</g>\n<!-- 2&#45;&gt;3 -->\n<g id=\"edge3\" class=\"edge\">\n<title>2&#45;&gt;3</title>\n<path fill=\"none\" stroke=\"black\" d=\"M492.95,-460.91C483.93,-451.65 474.26,-441.73 464.99,-432.21\"/>\n<polygon fill=\"black\" stroke=\"black\" points=\"467.47,-429.74 457.98,-425.02 462.45,-434.63 467.47,-429.74\"/>\n</g>\n<!-- 12 -->\n<g id=\"node13\" class=\"node\">\n<title>12</title>\n<polygon fill=\"#843de6\" stroke=\"black\" points=\"730.5,-425 562.5,-425 562.5,-342 730.5,-342 730.5,-425\"/>\n<text text-anchor=\"middle\" x=\"646.5\" y=\"-409.8\" font-family=\"Helvetica,sans-Serif\" font-size=\"14.00\">petal length (cm) &lt;= 4.85</text>\n<text text-anchor=\"middle\" x=\"646.5\" y=\"-394.8\" font-family=\"Helvetica,sans-Serif\" font-size=\"14.00\">gini = 0.043</text>\n<text text-anchor=\"middle\" x=\"646.5\" y=\"-379.8\" font-family=\"Helvetica,sans-Serif\" font-size=\"14.00\">samples = 46</text>\n<text text-anchor=\"middle\" x=\"646.5\" y=\"-364.8\" font-family=\"Helvetica,sans-Serif\" font-size=\"14.00\">value = [0, 1, 45]</text>\n<text text-anchor=\"middle\" x=\"646.5\" y=\"-349.8\" font-family=\"Helvetica,sans-Serif\" font-size=\"14.00\">class = virginica</text>\n</g>\n<!-- 2&#45;&gt;12 -->\n<g id=\"edge12\" class=\"edge\">\n<title>2&#45;&gt;12</title>\n<path fill=\"none\" stroke=\"black\" d=\"M572.05,-460.91C581.07,-451.65 590.74,-441.73 600.01,-432.21\"/>\n<polygon fill=\"black\" stroke=\"black\" points=\"602.55,-434.63 607.02,-425.02 597.53,-429.74 602.55,-434.63\"/>\n</g>\n<!-- 4 -->\n<g id=\"node5\" class=\"node\">\n<title>4</title>\n<polygon fill=\"#3de684\" stroke=\"black\" points=\"277,-306 114,-306 114,-223 277,-223 277,-306\"/>\n<text text-anchor=\"middle\" x=\"195.5\" y=\"-290.8\" font-family=\"Helvetica,sans-Serif\" font-size=\"14.00\">petal width (cm) &lt;= 1.65</text>\n<text text-anchor=\"middle\" x=\"195.5\" y=\"-275.8\" font-family=\"Helvetica,sans-Serif\" font-size=\"14.00\">gini = 0.041</text>\n<text text-anchor=\"middle\" x=\"195.5\" y=\"-260.8\" font-family=\"Helvetica,sans-Serif\" font-size=\"14.00\">samples = 48</text>\n<text text-anchor=\"middle\" x=\"195.5\" y=\"-245.8\" font-family=\"Helvetica,sans-Serif\" font-size=\"14.00\">value = [0, 47, 1]</text>\n<text text-anchor=\"middle\" x=\"195.5\" y=\"-230.8\" font-family=\"Helvetica,sans-Serif\" font-size=\"14.00\">class = versicolor</text>\n</g>\n<!-- 3&#45;&gt;4 -->\n<g id=\"edge4\" class=\"edge\">\n<title>3&#45;&gt;4</title>\n<path fill=\"none\" stroke=\"black\" d=\"M341.13,-341.91C321.93,-331.83 301.24,-320.98 281.65,-310.7\"/>\n<polygon fill=\"black\" stroke=\"black\" points=\"283.21,-307.57 272.73,-306.02 279.96,-313.77 283.21,-307.57\"/>\n</g>\n<!-- 7 -->\n<g id=\"node8\" class=\"node\">\n<title>7</title>\n<polygon fill=\"#c09cf2\" stroke=\"black\" points=\"500,-306 337,-306 337,-223 500,-223 500,-306\"/>\n<text text-anchor=\"middle\" x=\"418.5\" y=\"-290.8\" font-family=\"Helvetica,sans-Serif\" font-size=\"14.00\">petal width (cm) &lt;= 1.55</text>\n<text text-anchor=\"middle\" x=\"418.5\" y=\"-275.8\" font-family=\"Helvetica,sans-Serif\" font-size=\"14.00\">gini = 0.444</text>\n<text text-anchor=\"middle\" x=\"418.5\" y=\"-260.8\" font-family=\"Helvetica,sans-Serif\" font-size=\"14.00\">samples = 6</text>\n<text text-anchor=\"middle\" x=\"418.5\" y=\"-245.8\" font-family=\"Helvetica,sans-Serif\" font-size=\"14.00\">value = [0, 2, 4]</text>\n<text text-anchor=\"middle\" x=\"418.5\" y=\"-230.8\" font-family=\"Helvetica,sans-Serif\" font-size=\"14.00\">class = virginica</text>\n</g>\n<!-- 3&#45;&gt;7 -->\n<g id=\"edge7\" class=\"edge\">\n<title>3&#45;&gt;7</title>\n<path fill=\"none\" stroke=\"black\" d=\"M418.5,-341.91C418.5,-333.65 418.5,-324.86 418.5,-316.3\"/>\n<polygon fill=\"black\" stroke=\"black\" points=\"422,-316.02 418.5,-306.02 415,-316.02 422,-316.02\"/>\n</g>\n<!-- 5 -->\n<g id=\"node6\" class=\"node\">\n<title>5</title>\n<polygon fill=\"#39e581\" stroke=\"black\" points=\"121,-179.5 0,-179.5 0,-111.5 121,-111.5 121,-179.5\"/>\n<text text-anchor=\"middle\" x=\"60.5\" y=\"-164.3\" font-family=\"Helvetica,sans-Serif\" font-size=\"14.00\">gini = 0.0</text>\n<text text-anchor=\"middle\" x=\"60.5\" y=\"-149.3\" font-family=\"Helvetica,sans-Serif\" font-size=\"14.00\">samples = 47</text>\n<text text-anchor=\"middle\" x=\"60.5\" y=\"-134.3\" font-family=\"Helvetica,sans-Serif\" font-size=\"14.00\">value = [0, 47, 0]</text>\n<text text-anchor=\"middle\" x=\"60.5\" y=\"-119.3\" font-family=\"Helvetica,sans-Serif\" font-size=\"14.00\">class = versicolor</text>\n</g>\n<!-- 4&#45;&gt;5 -->\n<g id=\"edge5\" class=\"edge\">\n<title>4&#45;&gt;5</title>\n<path fill=\"none\" stroke=\"black\" d=\"M148.66,-222.91C135.04,-211.1 120.17,-198.22 106.6,-186.45\"/>\n<polygon fill=\"black\" stroke=\"black\" points=\"108.62,-183.57 98.77,-179.67 104.03,-188.86 108.62,-183.57\"/>\n</g>\n<!-- 6 -->\n<g id=\"node7\" class=\"node\">\n<title>6</title>\n<polygon fill=\"#8139e5\" stroke=\"black\" points=\"252,-179.5 139,-179.5 139,-111.5 252,-111.5 252,-179.5\"/>\n<text text-anchor=\"middle\" x=\"195.5\" y=\"-164.3\" font-family=\"Helvetica,sans-Serif\" font-size=\"14.00\">gini = 0.0</text>\n<text text-anchor=\"middle\" x=\"195.5\" y=\"-149.3\" font-family=\"Helvetica,sans-Serif\" font-size=\"14.00\">samples = 1</text>\n<text text-anchor=\"middle\" x=\"195.5\" y=\"-134.3\" font-family=\"Helvetica,sans-Serif\" font-size=\"14.00\">value = [0, 0, 1]</text>\n<text text-anchor=\"middle\" x=\"195.5\" y=\"-119.3\" font-family=\"Helvetica,sans-Serif\" font-size=\"14.00\">class = virginica</text>\n</g>\n<!-- 4&#45;&gt;6 -->\n<g id=\"edge6\" class=\"edge\">\n<title>4&#45;&gt;6</title>\n<path fill=\"none\" stroke=\"black\" d=\"M195.5,-222.91C195.5,-212.2 195.5,-200.62 195.5,-189.78\"/>\n<polygon fill=\"black\" stroke=\"black\" points=\"199,-189.67 195.5,-179.67 192,-189.67 199,-189.67\"/>\n</g>\n<!-- 8 -->\n<g id=\"node9\" class=\"node\">\n<title>8</title>\n<polygon fill=\"#8139e5\" stroke=\"black\" points=\"383,-179.5 270,-179.5 270,-111.5 383,-111.5 383,-179.5\"/>\n<text text-anchor=\"middle\" x=\"326.5\" y=\"-164.3\" font-family=\"Helvetica,sans-Serif\" font-size=\"14.00\">gini = 0.0</text>\n<text text-anchor=\"middle\" x=\"326.5\" y=\"-149.3\" font-family=\"Helvetica,sans-Serif\" font-size=\"14.00\">samples = 3</text>\n<text text-anchor=\"middle\" x=\"326.5\" y=\"-134.3\" font-family=\"Helvetica,sans-Serif\" font-size=\"14.00\">value = [0, 0, 3]</text>\n<text text-anchor=\"middle\" x=\"326.5\" y=\"-119.3\" font-family=\"Helvetica,sans-Serif\" font-size=\"14.00\">class = virginica</text>\n</g>\n<!-- 7&#45;&gt;8 -->\n<g id=\"edge8\" class=\"edge\">\n<title>7&#45;&gt;8</title>\n<path fill=\"none\" stroke=\"black\" d=\"M386.58,-222.91C377.64,-211.54 367.92,-199.18 358.95,-187.77\"/>\n<polygon fill=\"black\" stroke=\"black\" points=\"361.51,-185.36 352.58,-179.67 356.01,-189.69 361.51,-185.36\"/>\n</g>\n<!-- 9 -->\n<g id=\"node10\" class=\"node\">\n<title>9</title>\n<polygon fill=\"#9cf2c0\" stroke=\"black\" points=\"572,-187 401,-187 401,-104 572,-104 572,-187\"/>\n<text text-anchor=\"middle\" x=\"486.5\" y=\"-171.8\" font-family=\"Helvetica,sans-Serif\" font-size=\"14.00\">sepal length (cm) &lt;= 6.95</text>\n<text text-anchor=\"middle\" x=\"486.5\" y=\"-156.8\" font-family=\"Helvetica,sans-Serif\" font-size=\"14.00\">gini = 0.444</text>\n<text text-anchor=\"middle\" x=\"486.5\" y=\"-141.8\" font-family=\"Helvetica,sans-Serif\" font-size=\"14.00\">samples = 3</text>\n<text text-anchor=\"middle\" x=\"486.5\" y=\"-126.8\" font-family=\"Helvetica,sans-Serif\" font-size=\"14.00\">value = [0, 2, 1]</text>\n<text text-anchor=\"middle\" x=\"486.5\" y=\"-111.8\" font-family=\"Helvetica,sans-Serif\" font-size=\"14.00\">class = versicolor</text>\n</g>\n<!-- 7&#45;&gt;9 -->\n<g id=\"edge9\" class=\"edge\">\n<title>7&#45;&gt;9</title>\n<path fill=\"none\" stroke=\"black\" d=\"M442.09,-222.91C447.16,-214.2 452.56,-204.9 457.79,-195.89\"/>\n<polygon fill=\"black\" stroke=\"black\" points=\"460.95,-197.43 462.95,-187.02 454.9,-193.91 460.95,-197.43\"/>\n</g>\n<!-- 10 -->\n<g id=\"node11\" class=\"node\">\n<title>10</title>\n<polygon fill=\"#39e581\" stroke=\"black\" points=\"479,-68 358,-68 358,0 479,0 479,-68\"/>\n<text text-anchor=\"middle\" x=\"418.5\" y=\"-52.8\" font-family=\"Helvetica,sans-Serif\" font-size=\"14.00\">gini = 0.0</text>\n<text text-anchor=\"middle\" x=\"418.5\" y=\"-37.8\" font-family=\"Helvetica,sans-Serif\" font-size=\"14.00\">samples = 2</text>\n<text text-anchor=\"middle\" x=\"418.5\" y=\"-22.8\" font-family=\"Helvetica,sans-Serif\" font-size=\"14.00\">value = [0, 2, 0]</text>\n<text text-anchor=\"middle\" x=\"418.5\" y=\"-7.8\" font-family=\"Helvetica,sans-Serif\" font-size=\"14.00\">class = versicolor</text>\n</g>\n<!-- 9&#45;&gt;10 -->\n<g id=\"edge10\" class=\"edge\">\n<title>9&#45;&gt;10</title>\n<path fill=\"none\" stroke=\"black\" d=\"M461.18,-103.73C455.74,-94.97 449.99,-85.7 444.52,-76.91\"/>\n<polygon fill=\"black\" stroke=\"black\" points=\"447.43,-74.95 439.18,-68.3 441.48,-78.64 447.43,-74.95\"/>\n</g>\n<!-- 11 -->\n<g id=\"node12\" class=\"node\">\n<title>11</title>\n<polygon fill=\"#8139e5\" stroke=\"black\" points=\"610,-68 497,-68 497,0 610,0 610,-68\"/>\n<text text-anchor=\"middle\" x=\"553.5\" y=\"-52.8\" font-family=\"Helvetica,sans-Serif\" font-size=\"14.00\">gini = 0.0</text>\n<text text-anchor=\"middle\" x=\"553.5\" y=\"-37.8\" font-family=\"Helvetica,sans-Serif\" font-size=\"14.00\">samples = 1</text>\n<text text-anchor=\"middle\" x=\"553.5\" y=\"-22.8\" font-family=\"Helvetica,sans-Serif\" font-size=\"14.00\">value = [0, 0, 1]</text>\n<text text-anchor=\"middle\" x=\"553.5\" y=\"-7.8\" font-family=\"Helvetica,sans-Serif\" font-size=\"14.00\">class = virginica</text>\n</g>\n<!-- 9&#45;&gt;11 -->\n<g id=\"edge11\" class=\"edge\">\n<title>9&#45;&gt;11</title>\n<path fill=\"none\" stroke=\"black\" d=\"M511.45,-103.73C516.81,-94.97 522.48,-85.7 527.86,-76.91\"/>\n<polygon fill=\"black\" stroke=\"black\" points=\"530.89,-78.66 533.12,-68.3 524.92,-75 530.89,-78.66\"/>\n</g>\n<!-- 13 -->\n<g id=\"node14\" class=\"node\">\n<title>13</title>\n<polygon fill=\"#c09cf2\" stroke=\"black\" points=\"725.5,-306 567.5,-306 567.5,-223 725.5,-223 725.5,-306\"/>\n<text text-anchor=\"middle\" x=\"646.5\" y=\"-290.8\" font-family=\"Helvetica,sans-Serif\" font-size=\"14.00\">sepal width (cm) &lt;= 3.1</text>\n<text text-anchor=\"middle\" x=\"646.5\" y=\"-275.8\" font-family=\"Helvetica,sans-Serif\" font-size=\"14.00\">gini = 0.444</text>\n<text text-anchor=\"middle\" x=\"646.5\" y=\"-260.8\" font-family=\"Helvetica,sans-Serif\" font-size=\"14.00\">samples = 3</text>\n<text text-anchor=\"middle\" x=\"646.5\" y=\"-245.8\" font-family=\"Helvetica,sans-Serif\" font-size=\"14.00\">value = [0, 1, 2]</text>\n<text text-anchor=\"middle\" x=\"646.5\" y=\"-230.8\" font-family=\"Helvetica,sans-Serif\" font-size=\"14.00\">class = virginica</text>\n</g>\n<!-- 12&#45;&gt;13 -->\n<g id=\"edge13\" class=\"edge\">\n<title>12&#45;&gt;13</title>\n<path fill=\"none\" stroke=\"black\" d=\"M646.5,-341.91C646.5,-333.65 646.5,-324.86 646.5,-316.3\"/>\n<polygon fill=\"black\" stroke=\"black\" points=\"650,-316.02 646.5,-306.02 643,-316.02 650,-316.02\"/>\n</g>\n<!-- 16 -->\n<g id=\"node17\" class=\"node\">\n<title>16</title>\n<polygon fill=\"#8139e5\" stroke=\"black\" points=\"861,-298.5 744,-298.5 744,-230.5 861,-230.5 861,-298.5\"/>\n<text text-anchor=\"middle\" x=\"802.5\" y=\"-283.3\" font-family=\"Helvetica,sans-Serif\" font-size=\"14.00\">gini = 0.0</text>\n<text text-anchor=\"middle\" x=\"802.5\" y=\"-268.3\" font-family=\"Helvetica,sans-Serif\" font-size=\"14.00\">samples = 43</text>\n<text text-anchor=\"middle\" x=\"802.5\" y=\"-253.3\" font-family=\"Helvetica,sans-Serif\" font-size=\"14.00\">value = [0, 0, 43]</text>\n<text text-anchor=\"middle\" x=\"802.5\" y=\"-238.3\" font-family=\"Helvetica,sans-Serif\" font-size=\"14.00\">class = virginica</text>\n</g>\n<!-- 12&#45;&gt;16 -->\n<g id=\"edge16\" class=\"edge\">\n<title>12&#45;&gt;16</title>\n<path fill=\"none\" stroke=\"black\" d=\"M700.62,-341.91C716.66,-329.88 734.19,-316.73 750.11,-304.79\"/>\n<polygon fill=\"black\" stroke=\"black\" points=\"752.38,-307.47 758.28,-298.67 748.18,-301.87 752.38,-307.47\"/>\n</g>\n<!-- 14 -->\n<g id=\"node15\" class=\"node\">\n<title>14</title>\n<polygon fill=\"#8139e5\" stroke=\"black\" points=\"703,-179.5 590,-179.5 590,-111.5 703,-111.5 703,-179.5\"/>\n<text text-anchor=\"middle\" x=\"646.5\" y=\"-164.3\" font-family=\"Helvetica,sans-Serif\" font-size=\"14.00\">gini = 0.0</text>\n<text text-anchor=\"middle\" x=\"646.5\" y=\"-149.3\" font-family=\"Helvetica,sans-Serif\" font-size=\"14.00\">samples = 2</text>\n<text text-anchor=\"middle\" x=\"646.5\" y=\"-134.3\" font-family=\"Helvetica,sans-Serif\" font-size=\"14.00\">value = [0, 0, 2]</text>\n<text text-anchor=\"middle\" x=\"646.5\" y=\"-119.3\" font-family=\"Helvetica,sans-Serif\" font-size=\"14.00\">class = virginica</text>\n</g>\n<!-- 13&#45;&gt;14 -->\n<g id=\"edge14\" class=\"edge\">\n<title>13&#45;&gt;14</title>\n<path fill=\"none\" stroke=\"black\" d=\"M646.5,-222.91C646.5,-212.2 646.5,-200.62 646.5,-189.78\"/>\n<polygon fill=\"black\" stroke=\"black\" points=\"650,-189.67 646.5,-179.67 643,-189.67 650,-189.67\"/>\n</g>\n<!-- 15 -->\n<g id=\"node16\" class=\"node\">\n<title>15</title>\n<polygon fill=\"#39e581\" stroke=\"black\" points=\"842,-179.5 721,-179.5 721,-111.5 842,-111.5 842,-179.5\"/>\n<text text-anchor=\"middle\" x=\"781.5\" y=\"-164.3\" font-family=\"Helvetica,sans-Serif\" font-size=\"14.00\">gini = 0.0</text>\n<text text-anchor=\"middle\" x=\"781.5\" y=\"-149.3\" font-family=\"Helvetica,sans-Serif\" font-size=\"14.00\">samples = 1</text>\n<text text-anchor=\"middle\" x=\"781.5\" y=\"-134.3\" font-family=\"Helvetica,sans-Serif\" font-size=\"14.00\">value = [0, 1, 0]</text>\n<text text-anchor=\"middle\" x=\"781.5\" y=\"-119.3\" font-family=\"Helvetica,sans-Serif\" font-size=\"14.00\">class = versicolor</text>\n</g>\n<!-- 13&#45;&gt;15 -->\n<g id=\"edge15\" class=\"edge\">\n<title>13&#45;&gt;15</title>\n<path fill=\"none\" stroke=\"black\" d=\"M693.34,-222.91C706.96,-211.1 721.83,-198.22 735.4,-186.45\"/>\n<polygon fill=\"black\" stroke=\"black\" points=\"737.97,-188.86 743.23,-179.67 733.38,-183.57 737.97,-188.86\"/>\n</g>\n</g>\n</svg>\n",
            "text/plain": [
              "<graphviz.sources.Source at 0x78dde61282d0>"
            ]
          },
          "metadata": {},
          "execution_count": 5
        }
      ],
      "source": [
        "#Ans20:\n",
        "from sklearn.datasets import load_iris\n",
        "from sklearn.tree import DecisionTreeClassifier, export_graphviz\n",
        "import graphviz\n",
        "\n",
        "iris = load_iris()\n",
        "clf = DecisionTreeClassifier()\n",
        "clf.fit(iris.data, iris.target)\n",
        "\n",
        "dot_data = export_graphviz(clf, out_file=None, feature_names=iris.feature_names,\n",
        "                           class_names=iris.target_names, filled=True)\n",
        "graph = graphviz.Source(dot_data)\n",
        "graph.render(\"iris_tree\", format='png', cleanup=True)\n",
        "graph"
      ]
    },
    {
      "cell_type": "markdown",
      "id": "2cc0cb19",
      "metadata": {
        "id": "2cc0cb19"
      },
      "source": [
        "Que21: Write a Python program to train a Decision Tree Classifier with a maximum depth of 3 and compare its accuracy with a fully grown tree?"
      ]
    },
    {
      "cell_type": "code",
      "execution_count": null,
      "id": "f41e1201",
      "metadata": {
        "colab": {
          "base_uri": "https://localhost:8080/"
        },
        "id": "f41e1201",
        "outputId": "ff8d41ec-2bda-4d04-bdf4-654e0ad4861d"
      },
      "outputs": [
        {
          "output_type": "stream",
          "name": "stdout",
          "text": [
            "Full tree accuracy: 1.0\n",
            "Limited depth accuracy: 1.0\n"
          ]
        }
      ],
      "source": [
        "#Ans21:\n",
        "from sklearn.datasets import load_iris\n",
        "from sklearn.model_selection import train_test_split\n",
        "from sklearn.tree import DecisionTreeClassifier\n",
        "from sklearn.metrics import accuracy_score\n",
        "\n",
        "data = load_iris()\n",
        "X_train, X_test, y_train, y_test = train_test_split(data.data, data.target, random_state=42)\n",
        "\n",
        "clf_full = DecisionTreeClassifier()\n",
        "clf_limited = DecisionTreeClassifier(max_depth=3)\n",
        "\n",
        "clf_full.fit(X_train, y_train)\n",
        "clf_limited.fit(X_train, y_train)\n",
        "\n",
        "print(\"Full tree accuracy:\", accuracy_score(y_test, clf_full.predict(X_test)))\n",
        "print(\"Limited depth accuracy:\", accuracy_score(y_test, clf_limited.predict(X_test)))"
      ]
    },
    {
      "cell_type": "markdown",
      "id": "f66dd5e5",
      "metadata": {
        "id": "f66dd5e5"
      },
      "source": [
        "Que22: Write a Python program to train a Decision Tree Classifier using min_samples_split=5 and compare its accuracy with a default tree?"
      ]
    },
    {
      "cell_type": "code",
      "execution_count": null,
      "id": "63b726c1",
      "metadata": {
        "colab": {
          "base_uri": "https://localhost:8080/"
        },
        "id": "63b726c1",
        "outputId": "ac19bb8a-75b7-4ab7-bcbe-b5a215a233d2"
      },
      "outputs": [
        {
          "output_type": "stream",
          "name": "stdout",
          "text": [
            "Default accuracy: 1.0\n",
            "min_samples_split=5 accuracy: 1.0\n"
          ]
        }
      ],
      "source": [
        "#Ans22:\n",
        "from sklearn.datasets import load_iris\n",
        "from sklearn.model_selection import train_test_split\n",
        "from sklearn.tree import DecisionTreeClassifier\n",
        "from sklearn.metrics import accuracy_score\n",
        "\n",
        "iris = load_iris()\n",
        "X_train, X_test, y_train, y_test = train_test_split(iris.data, iris.target, random_state=42)\n",
        "\n",
        "default_tree = DecisionTreeClassifier()\n",
        "minsplit_tree = DecisionTreeClassifier(min_samples_split=5)\n",
        "\n",
        "default_tree.fit(X_train, y_train)\n",
        "minsplit_tree.fit(X_train, y_train)\n",
        "\n",
        "print(\"Default accuracy:\", accuracy_score(y_test, default_tree.predict(X_test)))\n",
        "print(\"min_samples_split=5 accuracy:\", accuracy_score(y_test, minsplit_tree.predict(X_test)))"
      ]
    },
    {
      "cell_type": "markdown",
      "id": "b6253a88",
      "metadata": {
        "id": "b6253a88"
      },
      "source": [
        "Que23: Write a Python program to apply feature scaling before training a Decision Tree Classifier and compare its accuracy with unscaled data?"
      ]
    },
    {
      "cell_type": "code",
      "execution_count": null,
      "id": "bfe0a955",
      "metadata": {
        "colab": {
          "base_uri": "https://localhost:8080/"
        },
        "id": "bfe0a955",
        "outputId": "83b30b0f-2c8b-4b53-9afe-29bab15ffc4c"
      },
      "outputs": [
        {
          "output_type": "stream",
          "name": "stdout",
          "text": [
            "Accuracy without scaling: 1.0\n",
            "Accuracy with scaling: 1.0\n"
          ]
        }
      ],
      "source": [
        "#Ans23:\n",
        "from sklearn.datasets import load_iris\n",
        "from sklearn.model_selection import train_test_split\n",
        "from sklearn.preprocessing import StandardScaler\n",
        "from sklearn.tree import DecisionTreeClassifier\n",
        "from sklearn.metrics import accuracy_score\n",
        "\n",
        "data = load_iris()\n",
        "X_train, X_test, y_train, y_test = train_test_split(data.data, data.target, random_state=42)\n",
        "\n",
        "# Without scaling\n",
        "clf_unscaled = DecisionTreeClassifier()\n",
        "clf_unscaled.fit(X_train, y_train)\n",
        "\n",
        "# With scaling\n",
        "scaler = StandardScaler()\n",
        "X_train_scaled = scaler.fit_transform(X_train)\n",
        "X_test_scaled = scaler.transform(X_test)\n",
        "\n",
        "clf_scaled = DecisionTreeClassifier()\n",
        "clf_scaled.fit(X_train_scaled, y_train)\n",
        "\n",
        "print(\"Accuracy without scaling:\", accuracy_score(y_test, clf_unscaled.predict(X_test)))\n",
        "print(\"Accuracy with scaling:\", accuracy_score(y_test, clf_scaled.predict(X_test_scaled)))"
      ]
    },
    {
      "cell_type": "markdown",
      "id": "deec9a68",
      "metadata": {
        "id": "deec9a68"
      },
      "source": [
        "Que24: Write a Python program to train a Decision Tree Classifier using One-vs-Rest (OvR) strategy for multiclass classification?"
      ]
    },
    {
      "cell_type": "code",
      "execution_count": null,
      "id": "e00787d2",
      "metadata": {
        "colab": {
          "base_uri": "https://localhost:8080/"
        },
        "id": "e00787d2",
        "outputId": "4d5f9d21-ae59-4a4c-e047-8b3293210ae8"
      },
      "outputs": [
        {
          "output_type": "stream",
          "name": "stdout",
          "text": [
            "OvR accuracy: 1.0\n"
          ]
        }
      ],
      "source": [
        "#Ans24:\n",
        "from sklearn.datasets import load_iris\n",
        "from sklearn.model_selection import train_test_split\n",
        "from sklearn.tree import DecisionTreeClassifier\n",
        "from sklearn.multiclass import OneVsRestClassifier\n",
        "from sklearn.metrics import accuracy_score\n",
        "\n",
        "data = load_iris()\n",
        "X_train, X_test, y_train, y_test = train_test_split(data.data, data.target, random_state=42)\n",
        "\n",
        "ovr_clf = OneVsRestClassifier(DecisionTreeClassifier())\n",
        "ovr_clf.fit(X_train, y_train)\n",
        "print(\"OvR accuracy:\", accuracy_score(y_test, ovr_clf.predict(X_test)))"
      ]
    },
    {
      "cell_type": "markdown",
      "id": "7c40937f",
      "metadata": {
        "id": "7c40937f"
      },
      "source": [
        "Que25: Write a Python program to train a Decision Tree Classifier and display the feature importance scores?"
      ]
    },
    {
      "cell_type": "code",
      "execution_count": null,
      "id": "d611f410",
      "metadata": {
        "colab": {
          "base_uri": "https://localhost:8080/"
        },
        "id": "d611f410",
        "outputId": "35452a38-2805-436f-c274-697b71dca138"
      },
      "outputs": [
        {
          "output_type": "stream",
          "name": "stdout",
          "text": [
            "sepal length (cm): 0.0000\n",
            "sepal width (cm): 0.0133\n",
            "petal length (cm): 0.5641\n",
            "petal width (cm): 0.4226\n"
          ]
        }
      ],
      "source": [
        "#Ans25:\n",
        "from sklearn.datasets import load_iris\n",
        "from sklearn.tree import DecisionTreeClassifier\n",
        "\n",
        "data = load_iris()\n",
        "clf = DecisionTreeClassifier()\n",
        "clf.fit(data.data, data.target)\n",
        "\n",
        "for name, importance in zip(data.feature_names, clf.feature_importances_):\n",
        "    print(f\"{name}: {importance:.4f}\")"
      ]
    },
    {
      "cell_type": "markdown",
      "id": "fdb60660",
      "metadata": {
        "id": "fdb60660"
      },
      "source": [
        "Que26: Write a Python program to train a Decision Tree Regressor with max_depth=5 and compare its performance with an unrestricted tree?"
      ]
    },
    {
      "cell_type": "code",
      "execution_count": null,
      "id": "9a510a51",
      "metadata": {
        "colab": {
          "base_uri": "https://localhost:8080/"
        },
        "id": "9a510a51",
        "outputId": "20cd6b3e-29f0-4296-d0a0-c43d85cfbd2c"
      },
      "outputs": [
        {
          "output_type": "stream",
          "name": "stdout",
          "text": [
            "MSE (unlimited): 0.5225620259114728\n",
            "MSE (max_depth=5): 0.5267999896911421\n"
          ]
        }
      ],
      "source": [
        "#Ans26:\n",
        "from sklearn.datasets import fetch_california_housing\n",
        "from sklearn.model_selection import train_test_split\n",
        "from sklearn.tree import DecisionTreeRegressor\n",
        "from sklearn.metrics import mean_squared_error\n",
        "\n",
        "data = fetch_california_housing()\n",
        "X_train, X_test, y_train, y_test = train_test_split(data.data, data.target, random_state=42)\n",
        "\n",
        "reg_unlimited = DecisionTreeRegressor()\n",
        "reg_limited = DecisionTreeRegressor(max_depth=5)\n",
        "\n",
        "reg_unlimited.fit(X_train, y_train)\n",
        "reg_limited.fit(X_train, y_train)\n",
        "\n",
        "print(\"MSE (unlimited):\", mean_squared_error(y_test, reg_unlimited.predict(X_test)))\n",
        "print(\"MSE (max_depth=5):\", mean_squared_error(y_test, reg_limited.predict(X_test)))"
      ]
    },
    {
      "cell_type": "markdown",
      "id": "f19e3f76",
      "metadata": {
        "id": "f19e3f76"
      },
      "source": [
        "Que27: Write a Python program to train a Decision Tree Classifier, apply Cost Complexity Pruning (CCP), and visualize its effect on accuracy?"
      ]
    },
    {
      "cell_type": "code",
      "execution_count": null,
      "id": "5c362537",
      "metadata": {
        "colab": {
          "base_uri": "https://localhost:8080/",
          "height": 472
        },
        "id": "5c362537",
        "outputId": "d469b232-cc41-4ea3-adfa-6608390f5313"
      },
      "outputs": [
        {
          "output_type": "display_data",
          "data": {
            "text/plain": [
              "<Figure size 640x480 with 1 Axes>"
            ],
            "image/png": "[encoded data removed]"
          },
          "metadata": {}
        }
      ],
      "source": [
        "#Ans27:\n",
        "from sklearn.datasets import load_iris\n",
        "from sklearn.model_selection import train_test_split\n",
        "from sklearn.tree import DecisionTreeClassifier\n",
        "import matplotlib.pyplot as plt\n",
        "\n",
        "data = load_iris()\n",
        "X_train, X_test, y_train, y_test = train_test_split(data.data, data.target, random_state=42)\n",
        "\n",
        "clf = DecisionTreeClassifier(random_state=42)\n",
        "path = clf.cost_complexity_pruning_path(X_train, y_train)\n",
        "ccp_alphas = path.ccp_alphas\n",
        "\n",
        "accuracies = []\n",
        "for ccp_alpha in ccp_alphas:\n",
        "    clf = DecisionTreeClassifier(random_state=42, ccp_alpha=ccp_alpha)\n",
        "    clf.fit(X_train, y_train)\n",
        "    accuracies.append(clf.score(X_test, y_test))\n",
        "\n",
        "plt.plot(ccp_alphas, accuracies, marker='o')\n",
        "plt.xlabel(\"ccp_alpha\")\n",
        "plt.ylabel(\"Accuracy\")\n",
        "plt.title(\"Accuracy vs CCP Alpha\")\n",
        "plt.show()"
      ]
    },
    {
      "cell_type": "markdown",
      "id": "527a10d7",
      "metadata": {
        "id": "527a10d7"
      },
      "source": [
        "Que28: Write a Python program to train a Decision Tree Classifier and evaluate its performance using Precision, Recall, and F1-Score?"
      ]
    },
    {
      "cell_type": "code",
      "execution_count": null,
      "id": "ff709773",
      "metadata": {
        "colab": {
          "base_uri": "https://localhost:8080/"
        },
        "id": "ff709773",
        "outputId": "5b03a6f5-889d-451e-de51-0825fb12235d"
      },
      "outputs": [
        {
          "output_type": "stream",
          "name": "stdout",
          "text": [
            "              precision    recall  f1-score   support\n",
            "\n",
            "      setosa       1.00      1.00      1.00        15\n",
            "  versicolor       1.00      1.00      1.00        11\n",
            "   virginica       1.00      1.00      1.00        12\n",
            "\n",
            "    accuracy                           1.00        38\n",
            "   macro avg       1.00      1.00      1.00        38\n",
            "weighted avg       1.00      1.00      1.00        38\n",
            "\n"
          ]
        }
      ],
      "source": [
        "#Ans28:\n",
        "from sklearn.datasets import load_iris\n",
        "from sklearn.model_selection import train_test_split\n",
        "from sklearn.tree import DecisionTreeClassifier\n",
        "from sklearn.metrics import classification_report\n",
        "\n",
        "iris = load_iris()\n",
        "X_train, X_test, y_train, y_test = train_test_split(iris.data, iris.target, random_state=42)\n",
        "clf = DecisionTreeClassifier()\n",
        "clf.fit(X_train, y_train)\n",
        "y_pred = clf.predict(X_test)\n",
        "\n",
        "print(classification_report(y_test, y_pred, target_names=iris.target_names))"
      ]
    },
    {
      "cell_type": "markdown",
      "id": "97eb0a37",
      "metadata": {
        "id": "97eb0a37"
      },
      "source": [
        "Que29: Write a Python program to train a Decision Tree Classifier and visualize the confusion matrix using seaborn?"
      ]
    },
    {
      "cell_type": "code",
      "execution_count": null,
      "id": "1698284b",
      "metadata": {
        "colab": {
          "base_uri": "https://localhost:8080/",
          "height": 472
        },
        "id": "1698284b",
        "outputId": "af2f62ff-cb2b-40c2-c9a5-7504d275be60"
      },
      "outputs": [
        {
          "output_type": "display_data",
          "data": {
            "text/plain": [
              "<Figure size 640x480 with 2 Axes>"
            ],
            "image/png": "[encoded data removed]"
          },
          "metadata": {}
        }
      ],
      "source": [
        "#Ans29:\n",
        "import seaborn as sns\n",
        "import matplotlib.pyplot as plt\n",
        "from sklearn.datasets import load_iris\n",
        "from sklearn.model_selection import train_test_split\n",
        "from sklearn.tree import DecisionTreeClassifier\n",
        "from sklearn.metrics import confusion_matrix\n",
        "\n",
        "iris = load_iris()\n",
        "X_train, X_test, y_train, y_test = train_test_split(iris.data, iris.target, random_state=42)\n",
        "clf = DecisionTreeClassifier()\n",
        "clf.fit(X_train, y_train)\n",
        "y_pred = clf.predict(X_test)\n",
        "\n",
        "cm = confusion_matrix(y_test, y_pred)\n",
        "sns.heatmap(cm, annot=True, fmt=\"d\", cmap=\"Blues\", xticklabels=iris.target_names, yticklabels=iris.target_names)\n",
        "plt.xlabel(\"Predicted\")\n",
        "plt.ylabel(\"True\")\n",
        "plt.title(\"Confusion Matrix\")\n",
        "plt.show()"
      ]
    },
    {
      "cell_type": "markdown",
      "id": "59a4cffe",
      "metadata": {
        "id": "59a4cffe"
      },
      "source": [
        "Que30: Write a Python program to train a Decision Tree Classifier and use GridSearchCV to find the optimal values for max_depth and min_samples_split?"
      ]
    },
    {
      "cell_type": "code",
      "execution_count": null,
      "id": "9f391c6d",
      "metadata": {
        "colab": {
          "base_uri": "https://localhost:8080/"
        },
        "id": "9f391c6d",
        "outputId": "369e4625-2c63-4d7d-c561-405fd6c8b4d1"
      },
      "outputs": [
        {
          "output_type": "stream",
          "name": "stdout",
          "text": [
            "Best parameters: {'max_depth': 4, 'min_samples_split': 2}\n",
            "Best score: 0.9367588932806324\n"
          ]
        }
      ],
      "source": [
        "#Ans30:\n",
        "from sklearn.datasets import load_iris\n",
        "from sklearn.model_selection import GridSearchCV, train_test_split\n",
        "from sklearn.tree import DecisionTreeClassifier\n",
        "\n",
        "iris = load_iris()\n",
        "X_train, X_test, y_train, y_test = train_test_split(iris.data, iris.target, random_state=42)\n",
        "\n",
        "param_grid = {\n",
        "    'max_depth': [2, 3, 4, 5, None],\n",
        "    'min_samples_split': [2, 5, 10]\n",
        "}\n",
        "\n",
        "grid_search = GridSearchCV(DecisionTreeClassifier(), param_grid, cv=5)\n",
        "grid_search.fit(X_train, y_train)\n",
        "print(\"Best parameters:\", grid_search.best_params_)\n",
        "print(\"Best score:\", grid_search.best_score_)"
      ]
    }
  ],
  "metadata": {
    "colab": {
      "provenance": []
    },
    "language_info": {
      "name": "python"
    },
    "kernelspec": {
      "name": "python3",
      "display_name": "Python 3"
    }
  },
  "nbformat": 4,
  "nbformat_minor": 5
}