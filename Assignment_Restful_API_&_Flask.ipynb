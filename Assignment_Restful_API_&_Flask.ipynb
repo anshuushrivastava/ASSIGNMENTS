{
  "nbformat": 4,
  "nbformat_minor": 0,
  "metadata": {
    "colab": {
      "provenance": []
    },
    "kernelspec": {
      "name": "python3",
      "display_name": "Python 3"
    },
    "language_info": {
      "name": "python"
    }
  },
  "cells": [
    {
      "cell_type": "markdown",
      "source": [
        "##Theoritical Questions"
      ],
      "metadata": {
        "id": "WHakqG8xY4so"
      }
    },
    {
      "cell_type": "markdown",
      "source": [
        "Que1: What is a RESTful API?\n",
        "\n",
        "Ans1: A RESTful API (Representational State Transfer API) is a web service that follows REST (Representational State Transfer) principles to enable communication between client and server using HTTP methods.  \n",
        "1. Stateless:  Each request from a client contains all the necessary information; the server does not store client state.  \n",
        "2. Resource-Based: Data is represented as resources (e.g., users, products) identified by URIs (e.g., '/users/1').  \n",
        "3. Uses Standard HTTP Methods:  \n",
        "   - 'GET'-  Retrieve data  \n",
        "   - 'POST'- Create a new resource  \n",
        "   - 'PUT'-  Update an existing resource  \n",
        "   - 'DELETE'- Remove a resource  \n",
        "4. Supports Multiple Data Formats- Typically JSON or XML for request/response.  \n",
        "5. Uses HTTP Status Codes- Provides meaningful responses, e.g., '200 OK', '404 Not Found', '500 Internal Server Error'.  \n",
        "\n",
        "Example of a RESTful API Endpoint:\n",
        "- GET '/users/1' - Fetch user with ID 1  \n",
        "- POST '/users' - Create a new user  \n",
        "- PUT '/users/1' - Update user with ID 1  \n",
        "- DELETE '/users/1' - Remove user with ID 1  \n",
        ""
      ],
      "metadata": {
        "id": "7WV9lH4RY8s4"
      }
    },
    {
      "cell_type": "markdown",
      "source": [
        "Que2: Explain the concept of API specification\n",
        "\n",
        "Ans2: An API specification is a structured document that defines an API's behavior, including endpoints, request/response formats, authentication, and error handling. It ensures consistency and interoperability between systems.  \n",
        "Elements:\n",
        "1. Endpoints & Methods- Defines URL paths (e.g., '/users/{id}') and HTTP methods ('GET', 'POST', etc.).  \n",
        "2. Request Structure- Specifies headers, query parameters, and request body formats.  \n",
        "3. Response Structure- Details expected response data, formats (JSON/XML), and status codes ('200 OK', '404 Not Found').  \n",
        "4. Authentication- Defines security mechanisms like API keys, OAuth, or JWT.  \n",
        "5. Error Handling- Lists error codes and standardized messages for failures.  \n"
      ],
      "metadata": {
        "id": "EFArWJyPiMil"
      }
    },
    {
      "cell_type": "markdown",
      "source": [
        "Que3: What is Flask, and why is it popular for building APIs\n",
        "\n",
        " Ans3: Flask is a lightweight, micro web framework for Python, designed to build web applications and APIs easily. It provides essential tools without enforcing a strict structure, making it flexible and scalable.  \n",
        "Reasons why flasks are popular for building APIs-  \n",
        "1. Minimal & Lightweight- Provides only the core features, allowing developers to add extensions as needed.  \n",
        "2. Easy to Use- Simple syntax and quick setup for rapid API development.  \n",
        "3. Supports RESTful APIs- Efficiently handles HTTP methods ('GET', 'POST', 'PUT', 'DELETE').  \n",
        "4. Extensible- Integrates with libraries like Flask-SQLAlchemy for databases and Flask-JWT for authentication.  \n",
        "5. Built-in Development Server- Enables easy testing and debugging.  \n",
        "6. Scalability- Suitable for both small projects and large-scale applications.  "
      ],
      "metadata": {
        "id": "ZSleoMW6iPQQ"
      }
    },
    {
      "cell_type": "markdown",
      "source": [
        "Que4: What is routing in Flask?\n",
        "\n",
        "Ans4:Routing in Flask refers to the process of mapping URLs to specific functions that handle client requests. It defines how different URLs in a web application trigger specific actions.  "
      ],
      "metadata": {
        "id": "N2E73M6YiohD"
      }
    },
    {
      "cell_type": "markdown",
      "source": [
        "Que5: How do you create a simple Flask application?\n",
        "\n",
        "Ans5: A Flask application is built by setting up a Python script that initializes Flask and defines routes to handle requests.  \n",
        "\n",
        "Steps to Create a Flask App:\n",
        "1. Install Flask- Use 'pip install flask' to install Flask.  \n",
        "2. Import Flask- Load the 'Flask' class in a Python script.  \n",
        "3. Initialize the App- Create an instance of 'Flask(__name__)'.  \n",
        "4. Define Routes- Use '@app.route()' to define URL endpoints and their corresponding functions.  \n",
        "5. Run the Application- Call 'app.run(debug=True)' to start the server.  \n"
      ],
      "metadata": {
        "id": "ILBL7SbZjzGD"
      }
    },
    {
      "cell_type": "markdown",
      "source": [
        "Que6:  What are HTTP methods used in RESTful APIs?\n",
        "\n",
        "Ans6: Various HTTPS menthods in RESTful APIs are as follows-\n",
        "1. GET Retrieves data from the server.  \n",
        "2. POST- Creates a new resource on the server.  \n",
        "3. PUT- Updates an existing resource (replaces entire data).  \n",
        "4. PATCH- Partially updates an existing resource.  \n",
        "5. DELETE- Removes a resource from the server.  \n",
        "6. OPTIONS- Returns supported HTTP methods for a resource.  \n",
        "7. HEAD- Retrieves headers without the response body.  "
      ],
      "metadata": {
        "id": "42mEDKkXkKjh"
      }
    },
    {
      "cell_type": "markdown",
      "source": [
        "Que7: What is the purpose of the @app.route() decorator in Flask?\n",
        "\n",
        "Ans7:The `@app.route()` decorator in Flask is used to define URL routes that map specific URLs to functions. These functions handle incoming requests and return responses.  \n",
        "Functions:\n",
        "- URL Mapping- Associates a URL path (e.g., `/home`) with a specific function.  \n",
        "- Request Handling- Determines which HTTP methods (`GET`, `POST`, etc.) a route should accept.  \n",
        "- Dynamic Routing- Allows variable URL parameters (e.g., `/user/<int:id>`).  \n",
        "- Simplifies Routing- Eliminates the need for manual request handling.  \n"
      ],
      "metadata": {
        "id": "RUN-DOhzkUQX"
      }
    },
    {
      "cell_type": "markdown",
      "source": [
        "Que8: What is the difference between GET and POST HTTP methods?\n",
        "\n",
        "Ans8:GET Method:\n",
        "- Retrieves data from the server.  \n",
        "- Sends data in the URL as query parameters.  \n",
        "- Visible in the URL (less secure).  \n",
        "- Can be cached.  \n",
        "- Idempotent (same request returns the same result).  \n",
        "- Used for fetching data (e.g., '/users?id=1').  \n",
        "\n",
        "POST Method:  \n",
        "- Sends data to the server to create a resource.  \n",
        "- Sends data in the request body.  \n",
        "- Hidden from the URL (more secure).  \n",
        "- Not cached.  \n",
        "- Not idempotent (multiple requests may create duplicate resources).  \n",
        "- Used for submitting forms, login, or creating records."
      ],
      "metadata": {
        "id": "cIpwNEXZmC3h"
      }
    },
    {
      "cell_type": "markdown",
      "source": [
        "Que9: How do you handle errors in Flask APIs?\n",
        "\n",
        "Ans9: Error handling in Flask APIs ensures that applications respond gracefully to unexpected situations. Flask provides multiple ways to manage errors efficiently.  \n",
        "\n",
        "1. Using 'abort()'- Immediately stops execution and returns an HTTP error code (e.g., 'abort(404)').  \n",
        "2. Custom Error Handlers ('@app.errorhandler')- Defines custom responses for specific errors (e.g., '404 Not Found', '500 Internal Server Error').  \n",
        "3. Try-Except Blocks- Catches exceptions like 'ZeroDivisionError' or 'ValueError' and returns meaningful JSON responses.  \n",
        "4. Logging Errors- Helps track issues using Python's logging module ('import logging').  \n",
        "5. Returning Standardized Error Messages- Ensures consistency in API responses.  "
      ],
      "metadata": {
        "id": "2KB4KHRZmPpI"
      }
    },
    {
      "cell_type": "markdown",
      "source": [
        "Que10:How do you connect Flask to a SQL database?\n",
        "\n",
        "Ans10: Flask connects to a SQL database using Flask-SQLAlchemy, an ORM (Object Relational Mapper) that simplifies database interactions.  \n",
        "Connecting Flask to SQL database-\n",
        "1. Install Flask-SQLAlchemy- Ensures Flask can communicate with databases.  \n",
        "2. Configure Database URI- Defines the database connection string in Flask's configuration.  \n",
        "3. Initialize SQLAlchemy- Creates a database object for handling queries.  \n",
        "4. Define Models- Represents database tables using Python classes.  \n",
        "5. Create Tables- Uses 'db.create_all()' to generate tables from models.  \n",
        "6. Perform CRUD Operations- Interacts with the database using 'db.session'.  "
      ],
      "metadata": {
        "id": "yH_tVAHcmdjA"
      }
    },
    {
      "cell_type": "markdown",
      "source": [
        "Que11: What is the role of Flask-SQLAlchemy?\n",
        "\n",
        "Ans11:Flask-SQLAlchemy is an ORM (Object Relational Mapper) for Flask that simplifies database interactions.  \n",
        "\n",
        "Role:\n",
        "- Database Connection Management- Connects Flask to SQL databases easily.  \n",
        "- ORM Functionality- Allows interacting with the database using Python objects instead of raw SQL.  \n",
        "- Schema Definition- Defines tables using Python classes.  \n",
        "- Automatic Table Creation- Creates tables based on defined models.  \n",
        "- Querying Data- Provides easy-to-use methods like 'User.query.all()'.  \n",
        "- Session Handling- Manages transactions with 'db.session.add()' and 'db.session.commit()'.  \n"
      ],
      "metadata": {
        "id": "okNA-ST6mqvY"
      }
    },
    {
      "cell_type": "markdown",
      "source": [
        "Que12: What are Flask blueprints, and how are they useful?\n",
        "\n",
        "Ans12: Flask Blueprints are a feature that allows developers to structure and modularize large Flask applications by dividing them into smaller, reusable components.  \n",
        "\n",
        "Why are Flask blueprints useful-\n",
        "- **Modularity- Helps split large apps into separate modules (e.g., authentication, users, admin).  \n",
        "- Reusability- Allows using the same blueprint across multiple projects.  \n",
        "- Better Maintainability- Keeps code organized and easier to manage.  \n",
        "- Separation of Concerns- Each feature or functionality can have its own blueprint, improving clarity.  \n",
        "- Scalability- Ideal for growing applications with multiple components.  \n"
      ],
      "metadata": {
        "id": "T6p4Abxum1Jh"
      }
    },
    {
      "cell_type": "markdown",
      "source": [
        "Que13: What is the purpose of Flask's request object?\n",
        "\n",
        "Ans13:The 'request' object in Flask is used to access and handle incoming HTTP request data sent by a client (browser, API consumer, etc.). It provides methods to extract various request components such as:  \n",
        "\n",
        "Key Functions of `request` Object:\n",
        "- Retrieve Query Parameters- Access data sent via URL ('request.args').  \n",
        "- Process Form Data- Extract values from HTML forms ('request.form').  \n",
        "- Handle JSON Payloads- Parse JSON data from API requests ('request.get_json()').  \n",
        "- Access Request Headers-  Retrieve metadata like content type and authentication ('request.headers').  \n",
        "- Identify HTTP Methods- Determine whether the request is 'GET', 'POST', etc. ('request.method').  \n",
        "- Manage File Uploads- Handle files sent by users ('request.files').  \n"
      ],
      "metadata": {
        "id": "cH_PspZHnECl"
      }
    },
    {
      "cell_type": "markdown",
      "source": [
        "Que14:  How do you create a RESTful API endpoint using Flask?\n",
        "\n",
        "Ans14: To create a RESTful API endpoint in Flask, follow these key steps:  \n",
        "\n",
        "1. Install Flask- Use 'pip install flask'.  \n",
        "2. Initialize Flask App- Create a Flask instance ('app = Flask(__name__)').  \n",
        "3. Define Routes- Use '@app.route()' to specify API endpoints.  \n",
        "4. Handle HTTP Methods- Support 'GET', POST', 'PUT', 'DELETE' using methods=['GET', 'POST']', etc.  \n",
        "5. Process Requests- Use 'request.get_json()' to handle input data.  \n",
        "6. Return JSON Responses- Use 'jsonify()' to send structured responses.  \n",
        "7. Run the App- Start the server with 'app.run(debug=True)'.  \n"
      ],
      "metadata": {
        "id": "1RRtwq9Dpm8j"
      }
    },
    {
      "cell_type": "markdown",
      "source": [
        "Que15: What is the purpose of Flask's jsonify() function?\n",
        "\n",
        "Ans15: The 'jsonify()' function in Flask is used to convert Python data structures (e.g., dictionaries, lists) into a JSON response. It ensures proper formatting and sets the correct 'Content-Type' ('application/json') for API responses.\n",
        "\n",
        "Benefits:\n",
        "- Automatic JSON Conversion- Converts Python objects to JSON format.  \n",
        "- Sets Correct Headers- Ensures 'Content-Type: application/json' in the response.  \n",
        "- Simplifies API Responses Makes API development cleaner and more efficient.  \n"
      ],
      "metadata": {
        "id": "dSf1pPloqS1_"
      }
    },
    {
      "cell_type": "markdown",
      "source": [
        "Que16: Explain Flask’s url_for() function?\n",
        "\n",
        "Ans16: The 'url_for()' function in Flask is used to generate dynamic URLs for routes based on function names instead of hardcoding URLs.  \n",
        "\n",
        "Benefits:\n",
        "- Avoids Hardcoded URLs- Generates URLs dynamically, making code maintainable.  \n",
        "- Handles URL Changes- Updates automatically if the route changes.  \n",
        "- Supports Query Parameters- Allows passing arguments ('url_for('profile', user='John') → `/profile?user=John').  \n",
        "- Works with Static Files- Generates URLs for assets like CSS and images ('url_for('static', filename='style.css')').  \n"
      ],
      "metadata": {
        "id": "wUIs2XZIqeNj"
      }
    },
    {
      "cell_type": "markdown",
      "source": [
        "Que17: How does Flask handle static files (CSS, JavaScript, etc.)?\n",
        "\n",
        "Ans17: Flask serves static files (CSS, JavaScript, images) through the 'static/' folder. The framework automatically maps files placed inside this directory.  \n",
        "\n",
        "- Default Static Folder: Flask looks for static files in the 'static/' directory.  \n",
        "- Accessing Static Files: Use 'url_for('static', filename='style.css')' to generate URLs dynamically.  \n",
        "- Custom Static Folder: Can be changed by specifying 'static_folder' in 'Flask(__name__, static_folder='assets')'.  "
      ],
      "metadata": {
        "id": "8Suu8KZ8qraH"
      }
    },
    {
      "cell_type": "markdown",
      "source": [
        "Que18: What is an API specification, and how does it help in building a Flask API?\n",
        "\n",
        "Ans18:  An API specification is a structured document that defines how an API should function, including its endpoints, request/response formats, authentication, and error handling.  \n",
        "\n",
        "- Standardization Ensures consistent API design across teams.  \n",
        "- Clear Documentation- Helps developers understand API usage ('Swagger, OpenAPI').  \n",
        "- Improved Collaboration- Facilitates smooth integration between frontend and backend.  \n",
        "- Error Handling & Security- Defines proper error responses and authentication methods.  \n",
        "- Automation- Tools like Flask-RESTPlus can generate APIs from specifications.  "
      ],
      "metadata": {
        "id": "236stxfNq2P3"
      }
    },
    {
      "cell_type": "markdown",
      "source": [
        "Que19: What are HTTP status codes, and why are they important in a Flask API?\n",
        "\n",
        "Ans19:HTTP status codes are three-digit responses from a server that indicate the outcome of an API request. They help clients understand whether a request was successful, failed, or requires action.  \n",
        "\n",
        "Why Are They Important in a Flask API-  \n",
        "- Indicate Success or Failure- (e.g., '200 OK' for success, '400 Bad Request' for client errors).  \n",
        "- Improve Debugging- Helps developers identify and fix issues.  \n",
        "- Enhance User Experience- Provides meaningful responses to users.  \n",
        "- Standardized Communication- Ensures API clients and servers interact efficiently.  \n"
      ],
      "metadata": {
        "id": "mjnac-kfrANs"
      }
    },
    {
      "cell_type": "markdown",
      "source": [
        "Que20: How do you handle POST requests in Flask?\n",
        "\n",
        "Ans20: A POST request in Flask is used to send data to the server, typically for creating or updating resources.  \n",
        "\n",
        "Steps to Handle a POST Request:\n",
        "1. Define a Route- Use '@app.route('/endpoint', methods=['POST'])`.  \n",
        "2. Access Request Data- Extract JSON data using 'request.get_json()', or form data using 'request.form'.  \n",
        "3. Process the Data- Validate and store the data in a database or perform necessary operations.  \n",
        "4. Return a Response- Use 'jsonify()' with a status code (e.g., '201 Created').  \n"
      ],
      "metadata": {
        "id": "szxjyOP8rN-6"
      }
    },
    {
      "cell_type": "markdown",
      "source": [
        "Que21:  How would you secure a Flask API?\n",
        "\n",
        "Ans21: Securing a Flask API ensures data integrity, confidentiality, and protection from attacks.  \n",
        "\n",
        "Security Measures:\n",
        "1. Authentication & Authorization- Use JWT (Flask-JWT) or OAuth to control access.  \n",
        "2. Input Validation & Sanitization- Prevent SQL Injection and XSS attacks by validating user input.  \n",
        "3. Rate Limiting- Limit API requests using Flask-Limiter to prevent DDoS attacks.  \n",
        "4. Secure API Keys & Secrets- Store sensitive credentials in environment variables.  \n",
        "5. Use HTTPS- Encrypt communication with SSL/TLS.  \n",
        "6. Enable CORS- Use Flask-CORS to control cross-origin requests.  \n",
        "7. Logging & Monitoring- Track API activity for anomalies using Flask-Logging.  \n"
      ],
      "metadata": {
        "id": "jVPDh7rPrZ1-"
      }
    },
    {
      "cell_type": "markdown",
      "source": [
        "Que22: What is the significance of the Flask-RESTful extension?\n",
        "\n",
        "Ans22: Flask-RESTful is an extension that simplifies building RESTful APIs in Flask by providing a structured and scalable approach.  \n",
        "\n",
        "1. Simplifies API Development- Provides a class-based approach for defining resources.  \n",
        "2. Automatic Request Parsing- Easily handles JSON data and request arguments.  \n",
        "3. Built-in Error Handling- Returns proper HTTP status codes and error messages.  \n",
        "4. Supports Resource Routing- Uses 'Resource' classes with 'api.add_resource()' for clean routing.  \n",
        "5. Enhances Code Maintainability-  Promotes structured and reusable API design.  \n"
      ],
      "metadata": {
        "id": "YWJ6zgP6ruwd"
      }
    },
    {
      "cell_type": "markdown",
      "source": [
        "Que23: What is the role of Flask’s session object?\n",
        "\n",
        "Ans23: The 'session' object in Flask is used to store user-specific data across multiple requests. It keeps data persistent between different pages during a user's session.  \n",
        "\n",
        "Functions:\n",
        "- Stores User Data- Saves session data using cookies.  \n",
        "- Maintains State- Preserves user authentication and preferences.  \n",
        "- Secure Data Storage- Uses signed cookies with a secret key ('app.secret_key') to prevent tampering.  \n",
        "- Temporary Data Storage- Data is cleared when the session expires or the browser is closed.  "
      ],
      "metadata": {
        "id": "Mf5nTDh8r-qQ"
      }
    },
    {
      "cell_type": "markdown",
      "source": [
        "##Practical Questions:"
      ],
      "metadata": {
        "id": "dhc_R9-8sGsU"
      }
    },
    {
      "cell_type": "markdown",
      "source": [
        "Que1:  How do you create a basic Flask application?\n"
      ],
      "metadata": {
        "id": "gxWxbWYssJKe"
      }
    },
    {
      "cell_type": "code",
      "source": [
        "#Ans1:\n",
        "from flask import Flask\n",
        "\n",
        "# Initialize Flask app\n",
        "app = Flask(__name__)\n",
        "\n",
        "# Define a route\n",
        "@app.route('/')\n",
        "def home():\n",
        "    return \"Hello, Flask!\"\n",
        "\n",
        "# Run the Flask application\n",
        "if __name__ == '__main__':\n",
        "    app.run(debug=True)\n"
      ],
      "metadata": {
        "id": "A8JWheawsjjq"
      },
      "execution_count": null,
      "outputs": []
    },
    {
      "cell_type": "markdown",
      "source": [
        "Que2: How do you serve static files like images or CSS in Flask?\n"
      ],
      "metadata": {
        "id": "vIHKUAF3sqEA"
      }
    },
    {
      "cell_type": "code",
      "source": [
        "#Ans2: from flask import Flask, render_template, url_for\n",
        "\n",
        "app = Flask(__name__)\n",
        "\n",
        "@app.route('/')\n",
        "def home():\n",
        "    return render_template('index.html')\n",
        "\n",
        "if __name__ == '__main__':\n",
        "    app.run(debug=True)\n"
      ],
      "metadata": {
        "id": "DIe0UKw0suwL"
      },
      "execution_count": null,
      "outputs": []
    },
    {
      "cell_type": "markdown",
      "source": [
        "Que3:  How do you define different routes with different HTTP methods in Flask?"
      ],
      "metadata": {
        "id": "Vxofxt0esvJ4"
      }
    },
    {
      "cell_type": "code",
      "source": [
        "#Ans3:\n",
        "from flask import Flask, request, jsonify\n",
        "\n",
        "app = Flask(__name__)\n",
        "\n",
        "# Route handling GET requests\n",
        "@app.route('/get', methods=['GET'])\n",
        "def get_method():\n",
        "    return jsonify({\"message\": \"GET request received\"})\n",
        "\n",
        "# Route handling POST requests\n",
        "@app.route('/post', methods=['POST'])\n",
        "def post_method():\n",
        "    data = request.get_json()\n",
        "    return jsonify({\"message\": \"POST request received\", \"data\": data})\n",
        "\n",
        "# Route handling PUT requests\n",
        "@app.route('/put', methods=['PUT'])\n",
        "def put_method():\n",
        "    data = request.get_json()\n",
        "    return jsonify({\"message\": \"PUT request received\", \"updated_data\": data})\n",
        "\n",
        "# Route handling DELETE requests\n",
        "@app.route('/delete', methods=['DELETE'])\n",
        "def delete_method():\n",
        "    return jsonify({\"message\": \"DELETE request received\"})\n",
        "\n",
        "# Run Flask app\n",
        "if __name__ == '__main__':\n",
        "    app.run(debug=True)\n"
      ],
      "metadata": {
        "id": "NL_5TsqQs5ER"
      },
      "execution_count": null,
      "outputs": []
    },
    {
      "cell_type": "markdown",
      "source": [
        "Que4: How do you render HTML templates in Flask?"
      ],
      "metadata": {
        "id": "eXc07w3ZtaIz"
      }
    },
    {
      "cell_type": "code",
      "source": [
        "#Ans4:\n",
        "from flask import Flask, render_template\n",
        "\n",
        "app = Flask(__name__)\n",
        "\n",
        "# Route to render an HTML page\n",
        "@app.route('/')\n",
        "def home():\n",
        "    return render_template('index.html')\n",
        "\n",
        "if __name__ == '__main__':\n",
        "    app.run(debug=True)\n"
      ],
      "metadata": {
        "id": "JzTUDoFXtpOh"
      },
      "execution_count": null,
      "outputs": []
    },
    {
      "cell_type": "markdown",
      "source": [
        "Que5: How can you generate URLs for routes in Flask using url_for?"
      ],
      "metadata": {
        "id": "MNOkFhEyuAnd"
      }
    },
    {
      "cell_type": "markdown",
      "source": [
        "#Ans5:\n",
        "from flask import Flask, url_for, redirect\n",
        "\n",
        "app = Flask(__name__)\n",
        "\n",
        "# Home route\n",
        "@app.route('/')\n",
        "def home():\n",
        "    return f'Home Page - <a href=\"{url_for(\"profile\", username=\"John\")}\">Go to Profile</a>'\n",
        "\n",
        "# Profile route with a dynamic parameter\n",
        "@app.route('/profile/<username>')\n",
        "def profile(username):\n",
        "    return f'Hello, {username}! Welcome to your profile.'\n",
        "\n",
        "# Redirect to the home page using url_for()\n",
        "@app.route('/redirect-home')\n",
        "def go_home():\n",
        "    return redirect(url_for('home'))\n",
        "\n",
        "if __name__ == '__main__':\n",
        "    app.run(debug=True)\n"
      ],
      "metadata": {
        "id": "n6ETpTlkuLxH"
      }
    },
    {
      "cell_type": "markdown",
      "source": [
        "Que6: How do you handle forms in Flask?\n"
      ],
      "metadata": {
        "id": "HLkeGi8CuOsc"
      }
    },
    {
      "cell_type": "code",
      "source": [
        "#Ans6:\n",
        "from flask import Flask, render_template, request\n",
        "\n",
        "app = Flask(__name__)\n",
        "\n",
        "# Route to display the form\n",
        "@app.route('/')\n",
        "def form():\n",
        "    return render_template('form.html')\n",
        "\n",
        "# Route to handle form submission\n",
        "@app.route('/submit', methods=['POST'])\n",
        "def submit():\n",
        "    name = request.form['name']\n",
        "    return f'Hello, {name}! Form submitted successfully.'\n",
        "\n",
        "if __name__ == '__main__':\n",
        "    app.run(debug=True)\n"
      ],
      "metadata": {
        "id": "bkw4Cqfsuicn"
      },
      "execution_count": null,
      "outputs": []
    },
    {
      "cell_type": "markdown",
      "source": [
        "Que7: How can you validate form data in Flask?"
      ],
      "metadata": {
        "id": "ykCnjRiFumwM"
      }
    },
    {
      "cell_type": "code",
      "source": [
        "#Ans7:\n",
        "from flask import Flask, render_template, request, flash, redirect, url_for\n",
        "from flask_wtf import FlaskForm\n",
        "from wtforms import StringField, PasswordField, SubmitField\n",
        "from wtforms.validators import DataRequired, Length\n",
        "\n",
        "app = Flask(__name__)\n",
        "app.secret_key = 'secret_key'  # Required for flash messages\n",
        "\n",
        "# Form Class with Validation\n",
        "class LoginForm(FlaskForm):\n",
        "    username = StringField('Username', validators=[DataRequired(), Length(min=3, max=15)])\n",
        "    password = PasswordField('Password', validators=[DataRequired(), Length(min=6)])\n",
        "    submit = SubmitField('Login')\n",
        "\n",
        "# Route to Display Form\n",
        "@app.route('/', methods=['GET', 'POST'])\n",
        "def login():\n",
        "    form = LoginForm()\n",
        "    if form.validate_on_submit():  # Validates form data\n",
        "        flash(f'Welcome, {form.username.data}!', 'success')\n",
        "        return redirect(url_for('login'))\n",
        "    return render_template('login.html', form=form)\n",
        "\n",
        "if __name__ == '__main__':\n",
        "    app.run(debug=True)\n"
      ],
      "metadata": {
        "id": "IGRXzV6buoql"
      },
      "execution_count": null,
      "outputs": []
    },
    {
      "cell_type": "markdown",
      "source": [
        "Que8: How do you manage sessions in Flask?"
      ],
      "metadata": {
        "id": "Acezof6MvCbZ"
      }
    },
    {
      "cell_type": "code",
      "source": [
        "#Ans8:\n",
        "from flask import Flask, session, redirect, url_for, request, render_template\n",
        "\n",
        "app = Flask(__name__)\n",
        "app.secret_key = 'your_secret_key'  # Required for session security\n",
        "\n",
        "# Home route\n",
        "@app.route('/')\n",
        "def home():\n",
        "    user = session.get('username')\n",
        "    return render_template('index.html', user=user)\n",
        "\n",
        "# Login route (stores username in session)\n",
        "@app.route('/login', methods=['POST'])\n",
        "def login():\n",
        "    username = request.form['username']\n",
        "    session['username'] = username  # Store in session\n",
        "    return redirect(url_for('home'))\n",
        "\n",
        "# Logout route (removes session data)\n",
        "@app.route('/logout')\n",
        "def logout():\n",
        "    session.pop('username', None)  # Clear session\n",
        "    return redirect(url_for('home'))\n",
        "\n",
        "if __name__ == '__main__':\n",
        "    app.run(debug=True)\n"
      ],
      "metadata": {
        "id": "Xjx8gS7AvMtW"
      },
      "execution_count": null,
      "outputs": []
    },
    {
      "cell_type": "markdown",
      "source": [
        "Que9: How do you redirect to a different route in Flask?"
      ],
      "metadata": {
        "id": "6d9zgocavSLA"
      }
    },
    {
      "cell_type": "code",
      "source": [
        "#Ans9:\n",
        "from flask import Flask, redirect, url_for\n",
        "\n",
        "app = Flask(__name__)\n",
        "\n",
        "# Home route\n",
        "@app.route('/')\n",
        "def home():\n",
        "    return 'Welcome to the Home Page! <a href=\"/go-to-dashboard\">Go to Dashboard</a>'\n",
        "\n",
        "# Redirect route\n",
        "@app.route('/go-to-dashboard')\n",
        "def go_to_dashboard():\n",
        "    return redirect(url_for('dashboard'))\n",
        "\n",
        "# Target route (dashboard)\n",
        "@app.route('/dashboard')\n",
        "def dashboard():\n",
        "    return 'Welcome to the Dashboard!'\n",
        "\n",
        "if __name__ == '__main__':\n",
        "    app.run(debug=True)\n"
      ],
      "metadata": {
        "id": "gwD3Xs29va9F"
      },
      "execution_count": null,
      "outputs": []
    },
    {
      "cell_type": "markdown",
      "source": [
        "Que10: How do you handle errors in Flask (e.g., 404)"
      ],
      "metadata": {
        "id": "bCwb_sBOvjV8"
      }
    },
    {
      "cell_type": "code",
      "source": [
        "#Ans10:\n",
        "from flask import Flask, render_template\n",
        "\n",
        "app = Flask(__name__)\n",
        "\n",
        "# Home route\n",
        "@app.route('/')\n",
        "def home():\n",
        "    return 'Welcome to the Home Page!'\n",
        "\n",
        "# Custom 404 Error Handler\n",
        "@app.errorhandler(404)\n",
        "def page_not_found(error):\n",
        "    return render_template('404.html'), 404\n",
        "\n",
        "# Custom 500 Error Handler\n",
        "@app.errorhandler(500)\n",
        "def internal_server_error(error):\n",
        "    return render_template('500.html'), 500\n",
        "\n",
        "if __name__ == '__main__':\n",
        "    app.run(debug=True)\n"
      ],
      "metadata": {
        "id": "UllgztpFvzkC"
      },
      "execution_count": null,
      "outputs": []
    },
    {
      "cell_type": "markdown",
      "source": [
        "Que12: How do you define a custom Jinja filter in Flask"
      ],
      "metadata": {
        "id": "Yt1KX51ov781"
      }
    },
    {
      "cell_type": "code",
      "source": [
        "#Ans12:\n",
        "from flask import Flask, render_template\n",
        "\n",
        "app = Flask(__name__)\n",
        "\n",
        "# Custom Jinja Filter: Reverse a String\n",
        "def reverse_string(s):\n",
        "    return s[::-1]\n",
        "\n",
        "# Register the filter with Jinja\n",
        "app.jinja_env.filters['reverse'] = reverse_string\n",
        "\n",
        "@app.route('/')\n",
        "def home():\n",
        "    return render_template('home.html', message=\"Flask\")\n",
        "\n",
        "if __name__ == '__main__':\n",
        "    app.run(debug=True)\n"
      ],
      "metadata": {
        "id": "IKlDgZGyv2Ux"
      },
      "execution_count": null,
      "outputs": []
    },
    {
      "cell_type": "markdown",
      "source": [
        "Que13: How can you redirect with query parameters in Flask?\n"
      ],
      "metadata": {
        "id": "oFB-Sow3whFJ"
      }
    },
    {
      "cell_type": "code",
      "source": [
        "#Ans13:\n",
        "from flask import Flask, redirect, url_for, request\n",
        "\n",
        "app = Flask(__name__)\n",
        "\n",
        "# Home route\n",
        "@app.route('/')\n",
        "def home():\n",
        "    return 'Welcome to the Home Page! <a href=\"/redirect-user?name=John\">Go to Greet</a>'\n",
        "\n",
        "# Redirecting with Query Parameters\n",
        "@app.route('/redirect-user')\n",
        "def redirect_user():\n",
        "    name = request.args.get('name', 'Guest')  # Get query parameter\n",
        "    return redirect(url_for('greet', username=name))\n",
        "\n",
        "# Target route using query parameters\n",
        "@app.route('/greet/<username>')\n",
        "def greet(username):\n",
        "    return f'Hello, {username}! Welcome to Flask.'\n",
        "\n",
        "if __name__ == '__main__':\n",
        "    app.run(debug=True)\n"
      ],
      "metadata": {
        "id": "5VEUGE3ywpGX"
      },
      "execution_count": null,
      "outputs": []
    },
    {
      "cell_type": "markdown",
      "source": [
        "Que14: How do you return JSON responses in Flask?\n"
      ],
      "metadata": {
        "id": "B8sRi4h4wuS9"
      }
    },
    {
      "cell_type": "code",
      "source": [
        "#Ans14:\n",
        "from flask import Flask, jsonify\n",
        "\n",
        "app = Flask(__name__)\n",
        "\n",
        "# Route returning JSON response\n",
        "@app.route('/api/user')\n",
        "def get_user():\n",
        "    user_data = {\n",
        "        \"id\": 1,\n",
        "        \"name\": \"John Doe\",\n",
        "        \"email\": \"john@example.com\"\n",
        "    }\n",
        "    return jsonify(user_data)  # Convert dictionary to JSON response\n",
        "\n",
        "if __name__ == '__main__':\n",
        "    app.run(debug=True)\n"
      ],
      "metadata": {
        "id": "nVllLMj9wvt6"
      },
      "execution_count": null,
      "outputs": []
    },
    {
      "cell_type": "markdown",
      "source": [
        "Que15: How do you capture URL parameters in Flask?"
      ],
      "metadata": {
        "id": "OSJ1ko89w8EC"
      }
    },
    {
      "cell_type": "code",
      "source": [
        "#Ans15:\n",
        "from flask import Flask\n",
        "\n",
        "app = Flask(__name__)\n",
        "\n",
        "# Route with a URL parameter\n",
        "@app.route('/user/<string:username>')\n",
        "def show_user(username):\n",
        "    return f'Hello, {username}! Welcome to Flask.'\n",
        "\n",
        "# Route with multiple parameters\n",
        "@app.route('/post/<int:post_id>')\n",
        "def show_post(post_id):\n",
        "    return f'Viewing Post ID: {post_id}'\n",
        "\n",
        "if __name__ == '__main__':\n",
        "    app.run(debug=True)\n"
      ],
      "metadata": {
        "id": "GCexJ-psw9IJ"
      },
      "execution_count": null,
      "outputs": []
    }
  ]
}