{
  "cells": [
    {
      "cell_type": "markdown",
      "id": "3d9a109b",
      "metadata": {
        "id": "3d9a109b"
      },
      "source": [
        "##QUESTIONS on EDA (EDA-1: Bike Details Dataset)"
      ]
    },
    {
      "cell_type": "code",
      "execution_count": null,
      "id": "ab11a365",
      "metadata": {
        "id": "ab11a365"
      },
      "outputs": [],
      "source": [
        "import pandas as pd\n",
        "import numpy as np\n",
        "import seaborn as sns\n",
        "import matplotlib.pyplot as plt\n",
        "\n",
        "df = pd.read_csv('BIKE DETAILS.csv')\n",
        "df.head()"
      ]
    },
    {
      "cell_type": "markdown",
      "id": "0ce0f22e",
      "metadata": {
        "id": "0ce0f22e"
      },
      "source": [
        "Que1: What is the range of selling prices in the dataset?"
      ]
    },
    {
      "cell_type": "code",
      "execution_count": null,
      "id": "c73194bb",
      "metadata": {
        "id": "c73194bb",
        "colab": {
          "base_uri": "https://localhost:8080/",
          "height": 326
        },
        "outputId": "1852947c-5d4a-4f5e-f725-5e0bb4d3045e"
      },
      "outputs": [
        {
          "output_type": "display_data",
          "data": {
            "text/plain": [
              "<IPython.core.display.HTML object>"
            ],
            "text/html": [
              "\n",
              "     <input type=\"file\" id=\"files-f7ba871a-1c49-4310-8581-7a08a6f9dbf2\" name=\"files[]\" multiple disabled\n",
              "        style=\"border:none\" />\n",
              "     <output id=\"result-f7ba871a-1c49-4310-8581-7a08a6f9dbf2\">\n",
              "      Upload widget is only available when the cell has been executed in the\n",
              "      current browser session. Please rerun this cell to enable.\n",
              "      </output>\n",
              "      <script>// Copyright 2017 Google LLC\n",
              "//\n",
              "// Licensed under the Apache License, Version 2.0 (the \"License\");\n",
              "// you may not use this file except in compliance with the License.\n",
              "// You may obtain a copy of the License at\n",
              "//\n",
              "//      http://www.apache.org/licenses/LICENSE-2.0\n",
              "//\n",
              "// Unless required by applicable law or agreed to in writing, software\n",
              "// distributed under the License is distributed on an \"AS IS\" BASIS,\n",
              "// WITHOUT WARRANTIES OR CONDITIONS OF ANY KIND, either express or implied.\n",
              "// See the License for the specific language governing permissions and\n",
              "// limitations under the License.\n",
              "\n",
              "/**\n",
              " * @fileoverview Helpers for google.colab Python module.\n",
              " */\n",
              "(function(scope) {\n",
              "function span(text, styleAttributes = {}) {\n",
              "  const element = document.createElement('span');\n",
              "  element.textContent = text;\n",
              "  for (const key of Object.keys(styleAttributes)) {\n",
              "    element.style[key] = styleAttributes[key];\n",
              "  }\n",
              "  return element;\n",
              "}\n",
              "\n",
              "// Max number of bytes which will be uploaded at a time.\n",
              "const MAX_PAYLOAD_SIZE = 100 * 1024;\n",
              "\n",
              "function _uploadFiles(inputId, outputId) {\n",
              "  const steps = uploadFilesStep(inputId, outputId);\n",
              "  const outputElement = document.getElementById(outputId);\n",
              "  // Cache steps on the outputElement to make it available for the next call\n",
              "  // to uploadFilesContinue from Python.\n",
              "  outputElement.steps = steps;\n",
              "\n",
              "  return _uploadFilesContinue(outputId);\n",
              "}\n",
              "\n",
              "// This is roughly an async generator (not supported in the browser yet),\n",
              "// where there are multiple asynchronous steps and the Python side is going\n",
              "// to poll for completion of each step.\n",
              "// This uses a Promise to block the python side on completion of each step,\n",
              "// then passes the result of the previous step as the input to the next step.\n",
              "function _uploadFilesContinue(outputId) {\n",
              "  const outputElement = document.getElementById(outputId);\n",
              "  const steps = outputElement.steps;\n",
              "\n",
              "  const next = steps.next(outputElement.lastPromiseValue);\n",
              "  return Promise.resolve(next.value.promise).then((value) => {\n",
              "    // Cache the last promise value to make it available to the next\n",
              "    // step of the generator.\n",
              "    outputElement.lastPromiseValue = value;\n",
              "    return next.value.response;\n",
              "  });\n",
              "}\n",
              "\n",
              "/**\n",
              " * Generator function which is called between each async step of the upload\n",
              " * process.\n",
              " * @param {string} inputId Element ID of the input file picker element.\n",
              " * @param {string} outputId Element ID of the output display.\n",
              " * @return {!Iterable<!Object>} Iterable of next steps.\n",
              " */\n",
              "function* uploadFilesStep(inputId, outputId) {\n",
              "  const inputElement = document.getElementById(inputId);\n",
              "  inputElement.disabled = false;\n",
              "\n",
              "  const outputElement = document.getElementById(outputId);\n",
              "  outputElement.innerHTML = '';\n",
              "\n",
              "  const pickedPromise = new Promise((resolve) => {\n",
              "    inputElement.addEventListener('change', (e) => {\n",
              "      resolve(e.target.files);\n",
              "    });\n",
              "  });\n",
              "\n",
              "  const cancel = document.createElement('button');\n",
              "  inputElement.parentElement.appendChild(cancel);\n",
              "  cancel.textContent = 'Cancel upload';\n",
              "  const cancelPromise = new Promise((resolve) => {\n",
              "    cancel.onclick = () => {\n",
              "      resolve(null);\n",
              "    };\n",
              "  });\n",
              "\n",
              "  // Wait for the user to pick the files.\n",
              "  const files = yield {\n",
              "    promise: Promise.race([pickedPromise, cancelPromise]),\n",
              "    response: {\n",
              "      action: 'starting',\n",
              "    }\n",
              "  };\n",
              "\n",
              "  cancel.remove();\n",
              "\n",
              "  // Disable the input element since further picks are not allowed.\n",
              "  inputElement.disabled = true;\n",
              "\n",
              "  if (!files) {\n",
              "    return {\n",
              "      response: {\n",
              "        action: 'complete',\n",
              "      }\n",
              "    };\n",
              "  }\n",
              "\n",
              "  for (const file of files) {\n",
              "    const li = document.createElement('li');\n",
              "    li.append(span(file.name, {fontWeight: 'bold'}));\n",
              "    li.append(span(\n",
              "        `(${file.type || 'n/a'}) - ${file.size} bytes, ` +\n",
              "        `last modified: ${\n",
              "            file.lastModifiedDate ? file.lastModifiedDate.toLocaleDateString() :\n",
              "                                    'n/a'} - `));\n",
              "    const percent = span('0% done');\n",
              "    li.appendChild(percent);\n",
              "\n",
              "    outputElement.appendChild(li);\n",
              "\n",
              "    const fileDataPromise = new Promise((resolve) => {\n",
              "      const reader = new FileReader();\n",
              "      reader.onload = (e) => {\n",
              "        resolve(e.target.result);\n",
              "      };\n",
              "      reader.readAsArrayBuffer(file);\n",
              "    });\n",
              "    // Wait for the data to be ready.\n",
              "    let fileData = yield {\n",
              "      promise: fileDataPromise,\n",
              "      response: {\n",
              "        action: 'continue',\n",
              "      }\n",
              "    };\n",
              "\n",
              "    // Use a chunked sending to avoid message size limits. See b/62115660.\n",
              "    let position = 0;\n",
              "    do {\n",
              "      const length = Math.min(fileData.byteLength - position, MAX_PAYLOAD_SIZE);\n",
              "      const chunk = new Uint8Array(fileData, position, length);\n",
              "      position += length;\n",
              "\n",
              "      const base64 = btoa(String.fromCharCode.apply(null, chunk));\n",
              "      yield {\n",
              "        response: {\n",
              "          action: 'append',\n",
              "          file: file.name,\n",
              "          data: base64,\n",
              "        },\n",
              "      };\n",
              "\n",
              "      let percentDone = fileData.byteLength === 0 ?\n",
              "          100 :\n",
              "          Math.round((position / fileData.byteLength) * 100);\n",
              "      percent.textContent = `${percentDone}% done`;\n",
              "\n",
              "    } while (position < fileData.byteLength);\n",
              "  }\n",
              "\n",
              "  // All done.\n",
              "  yield {\n",
              "    response: {\n",
              "      action: 'complete',\n",
              "    }\n",
              "  };\n",
              "}\n",
              "\n",
              "scope.google = scope.google || {};\n",
              "scope.google.colab = scope.google.colab || {};\n",
              "scope.google.colab._files = {\n",
              "  _uploadFiles,\n",
              "  _uploadFilesContinue,\n",
              "};\n",
              "})(self);\n",
              "</script> "
            ]
          },
          "metadata": {}
        },
        {
          "output_type": "stream",
          "name": "stdout",
          "text": [
            "Saving BIKEDETAILS.csv to BIKEDETAILS.csv\n",
            "                                  name  selling_price  year seller_type  \\\n",
            "0            Royal Enfield Classic 350         175000  2019  Individual   \n",
            "1                            Honda Dio          45000  2017  Individual   \n",
            "2  Royal Enfield Classic Gunmetal Grey         150000  2018  Individual   \n",
            "3    Yamaha Fazer FI V 2.0 [2016-2018]          65000  2015  Individual   \n",
            "4                Yamaha SZ [2013-2014]          20000  2011  Individual   \n",
            "\n",
            "       owner  km_driven  ex_showroom_price  \n",
            "0  1st owner        350                NaN  \n",
            "1  1st owner       5650                NaN  \n",
            "2  1st owner      12000           148114.0  \n",
            "3  1st owner      23000            89643.0  \n",
            "4  2nd owner      21000                NaN  \n",
            "Range of selling prices: 755000\n"
          ]
        }
      ],
      "source": [
        "#Ans1:\n",
        "import pandas as pd\n",
        "import numpy as np\n",
        "import seaborn as sns\n",
        "import matplotlib.pyplot as plt\n",
        "\n",
        "from google.colab import files\n",
        "uploaded = files.upload()\n",
        "\n",
        "# This will load the dataset\n",
        "df = pd.read_csv('BIKEDETAILS.csv')\n",
        "\n",
        "# Display the first few rows\n",
        "print(df.head())\n",
        "\n",
        "# This will calculate and print the range of selling prices\n",
        "if 'selling_price' in df.columns:\n",
        "    price_range = df['selling_price'].max() - df['selling_price'].min()\n",
        "    print(\"Range of selling prices:\", price_range)\n",
        "else:\n",
        "    print(\"Column 'selling_price' not found in the dataset.\")"
      ]
    },
    {
      "cell_type": "markdown",
      "id": "432344b0",
      "metadata": {
        "id": "432344b0"
      },
      "source": [
        "Que2: What is the median selling price for bikes in the dataset?"
      ]
    },
    {
      "cell_type": "code",
      "execution_count": null,
      "id": "e43eeb68",
      "metadata": {
        "id": "e43eeb68",
        "colab": {
          "base_uri": "https://localhost:8080/"
        },
        "outputId": "b52b6a9c-befe-4e0c-a55c-f9b4cf218682"
      },
      "outputs": [
        {
          "output_type": "stream",
          "name": "stdout",
          "text": [
            "Median selling price: 45000.0\n"
          ]
        }
      ],
      "source": [
        "#Ans2:\n",
        "median_price = df['selling_price'].median()\n",
        "print(\"Median selling price:\", median_price)"
      ]
    },
    {
      "cell_type": "markdown",
      "id": "1f781e37",
      "metadata": {
        "id": "1f781e37"
      },
      "source": [
        "Que3: What is the most common seller type?"
      ]
    },
    {
      "cell_type": "code",
      "execution_count": null,
      "id": "12f5afea",
      "metadata": {
        "id": "12f5afea",
        "colab": {
          "base_uri": "https://localhost:8080/"
        },
        "outputId": "2cc80636-5161-41dc-b35e-66901c3ddf52"
      },
      "outputs": [
        {
          "output_type": "stream",
          "name": "stdout",
          "text": [
            "Most common seller type: Individual\n"
          ]
        }
      ],
      "source": [
        "#Ans3:\n",
        "common_seller = df['seller_type'].mode()[0]\n",
        "print(\"Most common seller type:\", common_seller)"
      ]
    },
    {
      "cell_type": "markdown",
      "id": "261cf9d1",
      "metadata": {
        "id": "261cf9d1"
      },
      "source": [
        "Que4: How many bikes have driven more than 50,000 kilometers?"
      ]
    },
    {
      "cell_type": "code",
      "execution_count": null,
      "id": "2ebf77e7",
      "metadata": {
        "id": "2ebf77e7",
        "colab": {
          "base_uri": "https://localhost:8080/"
        },
        "outputId": "b56cda3c-0f13-4728-939d-13c88463db80"
      },
      "outputs": [
        {
          "output_type": "stream",
          "name": "stdout",
          "text": [
            "Bikes with >50,000 km driven: 170\n"
          ]
        }
      ],
      "source": [
        "#Ans4:\n",
        "high_km_bikes = df[df['km_driven'] > 50000].shape[0]\n",
        "print(\"Bikes with >50,000 km driven:\", high_km_bikes)"
      ]
    },
    {
      "cell_type": "markdown",
      "id": "19e5a700",
      "metadata": {
        "id": "19e5a700"
      },
      "source": [
        "Que5: What is the average km_driven value for each ownership type?"
      ]
    },
    {
      "cell_type": "code",
      "execution_count": null,
      "id": "78c19dbd",
      "metadata": {
        "id": "78c19dbd"
      },
      "outputs": [],
      "source": [
        "#Ans5:\n",
        "avg_km_by_ownership = df.groupby('ownership')['km_driven'].mean()\n",
        "print(\"Average km driven by ownership:\\n\", avg_km_by_ownership)"
      ]
    },
    {
      "cell_type": "markdown",
      "id": "4597f039",
      "metadata": {
        "id": "4597f039"
      },
      "source": [
        "Que6: What proportion of bikes are from the year 2015 or older?"
      ]
    },
    {
      "cell_type": "code",
      "execution_count": null,
      "id": "b6c083e0",
      "metadata": {
        "id": "b6c083e0"
      },
      "outputs": [],
      "source": [
        "#Ans6:\n",
        "proportion_old_bikes = (df['year'] <= 2015).mean()\n",
        "print(\"Proportion of bikes from 2015 or older:\", proportion_old_bikes)"
      ]
    },
    {
      "cell_type": "markdown",
      "id": "c391ab97",
      "metadata": {
        "id": "c391ab97"
      },
      "source": [
        "Que7: What is the trend of missing values across the dataset?"
      ]
    },
    {
      "cell_type": "code",
      "execution_count": null,
      "id": "d428dfa3",
      "metadata": {
        "id": "d428dfa3"
      },
      "outputs": [],
      "source": [
        "#Ans7:\n",
        "missing_values = df.isnull().sum()\n",
        "print(\"Missing values:\\n\", missing_values)"
      ]
    },
    {
      "cell_type": "markdown",
      "id": "09d22c33",
      "metadata": {
        "id": "09d22c33"
      },
      "source": [
        "Que8: What is the highest ex_showroom_price recorded, and for which bike?"
      ]
    },
    {
      "cell_type": "code",
      "execution_count": null,
      "id": "f8f441d3",
      "metadata": {
        "id": "f8f441d3"
      },
      "outputs": [],
      "source": [
        "#Ans8:\n",
        "max_price_row = df.loc[df['ex_showroom_price'].idxmax()]\n",
        "print(\"Bike with highest ex_showroom_price:\\n\", max_price_row[['name', 'ex_showroom_price']])"
      ]
    },
    {
      "cell_type": "markdown",
      "id": "8d24c3d3",
      "metadata": {
        "id": "8d24c3d3"
      },
      "source": [
        "Que9: What is the total number of bikes listed by each seller type?"
      ]
    },
    {
      "cell_type": "code",
      "execution_count": null,
      "id": "d62852ff",
      "metadata": {
        "id": "d62852ff"
      },
      "outputs": [],
      "source": [
        "#Ans9:\n",
        "bikes_by_seller = df['seller_type'].value_counts()\n",
        "print(\"Number of bikes by seller type:\\n\", bikes_by_seller)"
      ]
    },
    {
      "cell_type": "markdown",
      "id": "f3388cba",
      "metadata": {
        "id": "f3388cba"
      },
      "source": [
        "Que10: What is the relationship between selling_price and km_driven for first-owner bikes?"
      ]
    },
    {
      "cell_type": "code",
      "execution_count": null,
      "id": "31f7abd2",
      "metadata": {
        "id": "31f7abd2"
      },
      "outputs": [],
      "source": [
        "#Ans10:\n",
        "first_owner_df = df[df['ownership'].str.contains(\"First\", na=False)]\n",
        "sns.scatterplot(data=first_owner_df, x='km_driven', y='selling_price')\n",
        "plt.title(\"Selling Price vs KM Driven (First Owner)\")\n",
        "plt.show()"
      ]
    },
    {
      "cell_type": "markdown",
      "id": "83a4cf7c",
      "metadata": {
        "id": "83a4cf7c"
      },
      "source": [
        "Que11: Identify and remove outliers in the km_driven column using the IQR method"
      ]
    },
    {
      "cell_type": "code",
      "execution_count": null,
      "id": "eee83dfe",
      "metadata": {
        "id": "eee83dfe"
      },
      "outputs": [],
      "source": [
        "#Ans11:\n",
        "Q1 = df['km_driven'].quantile(0.25)\n",
        "Q3 = df['km_driven'].quantile(0.75)\n",
        "IQR = Q3 - Q1\n",
        "lower_bound = Q1 - 1.5 * IQR\n",
        "upper_bound = Q3 + 1.5 * IQR\n",
        "\n",
        "df_no_outliers = df[(df['km_driven'] >= lower_bound) & (df['km_driven'] <= upper_bound)]\n",
        "df_no_outliers.shape"
      ]
    },
    {
      "cell_type": "markdown",
      "id": "d0e96d12",
      "metadata": {
        "id": "d0e96d12"
      },
      "source": [
        "Que12: Perform a bivariate analysis to visualize the relationship between year and selling_price"
      ]
    },
    {
      "cell_type": "code",
      "execution_count": null,
      "id": "b6f6ef49",
      "metadata": {
        "id": "b6f6ef49"
      },
      "outputs": [],
      "source": [
        "#Ans12:\n",
        "sns.boxplot(x='year', y='selling_price', data=df)\n",
        "plt.xticks(rotation=45)\n",
        "plt.title(\"Year vs Selling Price\")\n",
        "plt.show()"
      ]
    },
    {
      "cell_type": "markdown",
      "id": "5e1602c8",
      "metadata": {
        "id": "5e1602c8"
      },
      "source": [
        "Que13: What is the average depreciation in selling price based on the bike's age"
      ]
    },
    {
      "cell_type": "code",
      "execution_count": null,
      "id": "1cdc49d5",
      "metadata": {
        "id": "1cdc49d5"
      },
      "outputs": [],
      "source": [
        "#Ans13:\n",
        "current_year = 2025\n",
        "df['age'] = current_year - df['year']\n",
        "avg_depreciation = df.groupby('age')['selling_price'].mean()\n",
        "print(\"Average selling price by age:\\n\", avg_depreciation)"
      ]
    },
    {
      "cell_type": "markdown",
      "id": "d5886fb3",
      "metadata": {
        "id": "d5886fb3"
      },
      "source": [
        "Que14: Which bike names are priced significantly above the average price for their manufacturing year (current year - manufacturing\n",
        "year)?"
      ]
    },
    {
      "cell_type": "code",
      "execution_count": null,
      "id": "b5576739",
      "metadata": {
        "id": "b5576739",
        "colab": {
          "base_uri": "https://localhost:8080/"
        },
        "outputId": "93c27047-f5b6-4b8a-8eea-dd5b0b8354dd"
      },
      "outputs": [
        {
          "output_type": "stream",
          "name": "stdout",
          "text": [
            "Bikes priced significantly above average:\n",
            "                                      name  year  selling_price\n",
            "7    Royal Enfield Bullet 350 [2007-2011]  2008         180000\n",
            "13                          Yamaha YZF R3  2019         365000\n",
            "52              Royal Enfield Electra 5 S  2010          90000\n",
            "134            Harley-Davidson Street Bob  2013         750000\n",
            "137          KTM 390 Duke ABS [2013-2016]  2015         130000\n",
            "161    Royal Enfield Classic Desert Storm  2012         100000\n",
            "208              Royal Enfield Bullet 500  2015         130000\n",
            "224  Royal Enfield Bullet 350 [2007-2011]  2007          90000\n",
            "242                            KTM RC 390  2017         210000\n",
            "286    Royal Enfield Classic Desert Storm  2015         130000\n",
            "289        Kawasaki Ninja 650 [2018-2019]  2017         425000\n",
            "291                   Kawasaki Ninja 250R  2010         125000\n",
            "295                       Suzuki GSX S750  2019         760000\n",
            "306                             Yamaha Rx  2000          70000\n",
            "311            Harley-Davidson Street 750  2014         330000\n",
            "344                            BMW G310GS  2018         300000\n",
            "345         Royal Enfield Thunderbird 350  2012          87000\n",
            "356         Royal Enfield Thunderbird 500  2014         125000\n",
            "369             Royal Enfield Classic 350  2016         140000\n",
            "389         Royal Enfield Thunderbird 350  2010          85000\n",
            "411          KTM 390 Duke ABS [2013-2016]  2015         180000\n",
            "421          Royal Enfield Classic Chrome  2015         135000\n",
            "449         Royal Enfield Classic Signals  2018         195000\n",
            "471    Royal Enfield Classic Desert Storm  2015         150000\n",
            "770         Royal Enfield Thunderbird 350  2016         135000\n",
            "776             Royal Enfield Electra 5 S  2006          99000\n",
            "825         Royal Enfield Thunderbird 350  2012         100000\n",
            "860        Kawasaki Ninja 650 [2018-2019]  2011         300000\n",
            "865        Royal Enfield Thunderbird 500X  2018         185000\n",
            "889         Royal Enfield Thunderbird 350  2005          59000\n",
            "890          Royal Enfield Classic Chrome  2015         185000\n",
            "892                          KTM 390 Duke  2018         205000\n",
            "897                    Kawasaki Ninja 300  2016         300000\n",
            "950             Royal Enfield Electra 5 S  2012          99000\n",
            "951             Royal Enfield Electra 5 S  2012          90000\n",
            "958                Hero Honda CBZ extreme  2009          40000\n",
            "966                        Hyosung GT250R  2016         135000\n"
          ]
        }
      ],
      "source": [
        "#Ans14:\n",
        "grouped = df.groupby('year')['selling_price']\n",
        "thresholds = grouped.transform(lambda x: x.mean() + 2 * x.std())\n",
        "high_price_bikes = df[df['selling_price'] > thresholds]\n",
        "print(\"Bikes priced significantly above average:\\n\", high_price_bikes[['name', 'year', 'selling_price']])"
      ]
    },
    {
      "cell_type": "markdown",
      "id": "fd30f83b",
      "metadata": {
        "id": "fd30f83b"
      },
      "source": [
        "Que15: Develop a correlation matrix for numeric columns and visualize it using a heatmap."
      ]
    },
    {
      "cell_type": "code",
      "execution_count": null,
      "id": "c27877dd",
      "metadata": {
        "id": "c27877dd",
        "colab": {
          "base_uri": "https://localhost:8080/",
          "height": 575
        },
        "outputId": "26f6fb75-67f5-4c2b-bad9-f025ab66b948"
      },
      "outputs": [
        {
          "output_type": "display_data",
          "data": {
            "text/plain": [
              "<Figure size 640x480 with 2 Axes>"
            ],
            "image/png": "[encoded data removed]"
          },
          "metadata": {}
        }
      ],
      "source": [
        "#Ans15:\n",
        "corr_matrix = df.select_dtypes(include=np.number).corr()\n",
        "sns.heatmap(corr_matrix, annot=True, cmap='coolwarm')\n",
        "plt.title(\"Correlation Heatmap\")\n",
        "plt.show()"
      ]
    }
  ],
  "metadata": {
    "colab": {
      "provenance": []
    },
    "language_info": {
      "name": "python"
    },
    "kernelspec": {
      "name": "python3",
      "display_name": "Python 3"
    }
  },
  "nbformat": 4,
  "nbformat_minor": 5
}