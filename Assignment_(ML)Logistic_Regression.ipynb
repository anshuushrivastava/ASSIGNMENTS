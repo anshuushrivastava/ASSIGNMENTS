{
  "nbformat": 4,
  "nbformat_minor": 0,
  "metadata": {
    "colab": {
      "provenance": []
    },
    "kernelspec": {
      "name": "python3",
      "display_name": "Python 3"
    },
    "language_info": {
      "name": "python"
    }
  },
  "cells": [
    {
      "cell_type": "markdown",
      "source": [
        "#Theoretical Questions"
      ],
      "metadata": {
        "id": "KwSg10KPs1D8"
      }
    },
    {
      "cell_type": "markdown",
      "source": [
        "Que1: What is Logistic Regression, and how does it differ from Linear Regression\n",
        "\n",
        "Ans1: Logistic Regression is a supervised learning algorithm used for binary classification problems. Unlike Linear Regression, which predicts continuous values, Logistic Regression predicts the probability of class membership using a logistic (sigmoid) function to map predictions between 0 and 1."
      ],
      "metadata": {
        "id": "hqj8Gj48yzGs"
      }
    },
    {
      "cell_type": "markdown",
      "source": [
        "Que2: What is the mathematical equation of Logistic Regression\n",
        "\n",
        "Ans2: The mathematical equation is: P(Y=1|X) = 1 / (1 + e^-(β0 + β1X1 + ... + βnXn))"
      ],
      "metadata": {
        "id": "UHjYh87Vswws"
      }
    },
    {
      "cell_type": "markdown",
      "source": [
        "Que3: Why do we use the Sigmoid function in Logistic Regression\n",
        "\n",
        "Ans3: The Sigmoid function maps any real-valued number into the range (0, 1), making it suitable for modeling probabilities in binary classification tasks."
      ],
      "metadata": {
        "id": "vER2sdq6ss3Q"
      }
    },
    {
      "cell_type": "markdown",
      "source": [
        "Que4: What is the cost function of Logistic Regression\n",
        "\n",
        "Ans4: The cost function used is the Log Loss (Binary Cross Entropy):\n",
        " J(θ) = -[y*log(h(x)) + (1-y)*log(1-h(x))]."
      ],
      "metadata": {
        "id": "yvYhMAfgsn3B"
      }
    },
    {
      "cell_type": "markdown",
      "source": [
        "Que5: What is Regularization in Logistic Regression? Why is it needed?\n",
        "\n",
        "Ans5: Regularization involves adding a penalty term to the cost function to prevent overfitting by discouraging overly complex models. It's essential for better generalization on unseen data."
      ],
      "metadata": {
        "id": "qMPK67q_sj5_"
      }
    },
    {
      "cell_type": "markdown",
      "source": [
        "Que6: Explain the difference between Lasso, Ridge, and Elastic Net regression\n",
        "\n",
        "Ans6: Lasso (L1) adds absolute value penalties and can shrink coefficients to zero. Ridge (L2) uses squared penalties and retains all variables. Elastic Net combines both L1 and L2 penalties."
      ],
      "metadata": {
        "id": "37HFuCK9sge6"
      }
    },
    {
      "cell_type": "markdown",
      "source": [
        "Que7: When should we use Elastic Net instead of Lasso or Ridge?\n",
        "\n",
        "Ans7: Elastic Net is preferred when there are multiple correlated features. It combines the strengths of both Lasso and Ridge to perform better in such scenarios."
      ],
      "metadata": {
        "id": "sNO1ZOhoscxv"
      }
    },
    {
      "cell_type": "markdown",
      "source": [
        "Que8: What is the impact of the regularization parameter (λ) in Logistic Regression?\n",
        "\n",
        "Ans8: A higher λ increases the penalty, leading to simpler models with smaller coefficients. Too high a value can underfit, while too low may overfit."
      ],
      "metadata": {
        "id": "MrVAR2fhsYJ3"
      }
    },
    {
      "cell_type": "markdown",
      "source": [
        "Que9: What are the key assumptions of Logistic Regression?\n",
        "\n",
        "Ans9: Key assumptions include: linear relationship between log-odds and predictors, independence of observations, minimal multicollinearity, and a sufficiently large sample size."
      ],
      "metadata": {
        "id": "PuXj53iLsTOY"
      }
    },
    {
      "cell_type": "markdown",
      "source": [
        "Que10: What are some alternatives to Logistic Regression for classification tasks?\n",
        "\n",
        "Ans10: Alternatives include Decision Trees, Random Forests, Support Vector Machines, k-Nearest Neighbors, and Neural Networks."
      ],
      "metadata": {
        "id": "TR94XfGlsOyt"
      }
    },
    {
      "cell_type": "markdown",
      "source": [
        "Que11: What are Classification Evaluation Metrics?\n",
        "\n",
        "Ans11:  Metrics include Accuracy, Precision, Recall, F1-Score, ROC-AUC, and Confusion Matrix."
      ],
      "metadata": {
        "id": "xPnXR1mrrjEr"
      }
    },
    {
      "cell_type": "markdown",
      "source": [
        "Que12: How does class imbalance affect Logistic Regression?\n",
        "\n",
        "Ans12: Class imbalance can lead to biased models favoring the majority class. Techniques like resampling, using different metrics, or penalized models can help."
      ],
      "metadata": {
        "id": "2o58Z3GRrXv5"
      }
    },
    {
      "cell_type": "markdown",
      "source": [
        "Que13: What is Hyperparameter Tuning in Logistic Regression?\n",
        "\n",
        "Ans13: Hyperparameter tuning involves selecting the best parameters (like regularization strength) using techniques such as grid search or cross-validation."
      ],
      "metadata": {
        "id": "30QrrmlTrPbj"
      }
    },
    {
      "cell_type": "markdown",
      "source": [
        "Que14: What are different solvers in Logistic Regression? Which one should be used?\n",
        "\n",
        "Ans14: Common solvers include 'liblinear', 'saga', 'newton-cg', 'lbfgs'. 'liblinear' is good for small datasets; 'saga' supports L1 and L2 penalties for larger datasets."
      ],
      "metadata": {
        "id": "p9ls5DfirL30"
      }
    },
    {
      "cell_type": "markdown",
      "source": [
        "Que15: How is Logistic Regression extended for multiclass classification?\n",
        "\n",
        "Ans15: It is extended using One-vs-Rest (OvR) or Softmax (Multinomial Logistic Regression) approaches."
      ],
      "metadata": {
        "id": "XFDRFZryrFtD"
      }
    },
    {
      "cell_type": "markdown",
      "source": [
        "Que16: What are the advantages and disadvantages of Logistic Regression?\n",
        "\n",
        "Ans16: Advantages: simple, interpretable, efficient. Disadvantages: assumes linearity, sensitive to outliers, not suitable for complex relationships."
      ],
      "metadata": {
        "id": "0VSoZljlq6FA"
      }
    },
    {
      "cell_type": "markdown",
      "source": [
        "Que17: What are some use cases of Logistic Regression?\n",
        "\n",
        "Ans17: Use cases include spam detection, disease diagnosis, customer churn prediction, and credit scoring."
      ],
      "metadata": {
        "id": "Og32UAxMq2Gs"
      }
    },
    {
      "cell_type": "markdown",
      "source": [
        "Que18: What is the difference between Softmax Regression and Logistic Regression?\n",
        "\n",
        "Ans18: Logistic Regression handles binary classification, while Softmax Regression generalizes it for multiclass problems by modeling probabilities across multiple classes.\n"
      ],
      "metadata": {
        "id": "RnXQROztqwBZ"
      }
    },
    {
      "cell_type": "markdown",
      "source": [
        "Que19: How do we choose between One-vs-Rest (OvR) and Softmax for multiclass classification?\n",
        "\n",
        "Ans19: OvR is simpler and works well with imbalanced classes. Softmax is preferred when classes are mutually exclusive and equally important."
      ],
      "metadata": {
        "id": "Y1bBg32iqocQ"
      }
    },
    {
      "cell_type": "markdown",
      "source": [
        "Que20: How do we interpret coefficients in Logistic Regression?\n",
        "\n",
        "Ans20: Coefficients represent the change in the log-odds of the outcome for a one-unit increase in the predictor, holding other variables constant.\n"
      ],
      "metadata": {
        "id": "gAMXBE3Dy6Az"
      }
    },
    {
      "cell_type": "markdown",
      "source": [
        "#Practical Questions"
      ],
      "metadata": {
        "id": "pF6Gi2iKKZPB"
      }
    },
    {
      "cell_type": "markdown",
      "source": [
        "Que1: Load dataset, split into train/test, apply Logistic Regression, print accuracy."
      ],
      "metadata": {
        "id": "89rpVjjiKb-I"
      }
    },
    {
      "cell_type": "code",
      "source": [
        "#Ans1:\n",
        "from sklearn.datasets import load_iris\n",
        "from sklearn.linear_model import LogisticRegression\n",
        "from sklearn.model_selection import train_test_split\n",
        "from sklearn.metrics import accuracy_score\n",
        "\n",
        "X, y = load_iris(return_X_y=True)\n",
        "X_train, X_test, y_train, y_test = train_test_split(X, y, test_size=0.2, random_state=42)\n",
        "model = LogisticRegression(max_iter=200)\n",
        "model.fit(X_train, y_train)\n",
        "y_pred = model.predict(X_test)\n",
        "print(\"Accuracy:\", accuracy_score(y_test, y_pred))"
      ],
      "metadata": {
        "colab": {
          "base_uri": "https://localhost:8080/"
        },
        "id": "hctwL_nhSBLn",
        "outputId": "e27a1afe-2e5e-4874-9153-4245dd2a7eb7"
      },
      "execution_count": 1,
      "outputs": [
        {
          "output_type": "stream",
          "name": "stdout",
          "text": [
            "Accuracy: 1.0\n"
          ]
        }
      ]
    },
    {
      "cell_type": "markdown",
      "source": [
        "Que2: Write a Python program to apply L1 regularization (Lasso) on a dataset using LogisticRegression(penalty='l1')  and print the model accuracy."
      ],
      "metadata": {
        "id": "nHqMOoQvQ9MV"
      }
    },
    {
      "cell_type": "code",
      "source": [
        "#Ans2:\n",
        "model_l1 = LogisticRegression(penalty='l1', solver='liblinear')\n",
        "model_l1.fit(X_train, y_train)\n",
        "y_pred_l1 = model_l1.predict(X_test)\n",
        "print(\"L1 Accuracy:\", accuracy_score(y_test, y_pred_l1))"
      ],
      "metadata": {
        "colab": {
          "base_uri": "https://localhost:8080/"
        },
        "id": "Iwyiwp1CQ6u_",
        "outputId": "ad842d2f-a7a7-4573-ab33-222042b90d05"
      },
      "execution_count": 2,
      "outputs": [
        {
          "output_type": "stream",
          "name": "stdout",
          "text": [
            "L1 Accuracy: 1.0\n"
          ]
        }
      ]
    },
    {
      "cell_type": "markdown",
      "source": [
        "Que3: Write a Python program to train Logistic Regression with L2 regularization (Ridge) using LogisticRegression(penalty='l2'). Print model accuracy and coefficients."
      ],
      "metadata": {
        "id": "L1FfPsjhQ0GL"
      }
    },
    {
      "cell_type": "code",
      "source": [
        "#Ans3:\n",
        "model_l2 = LogisticRegression(penalty='l2')\n",
        "model_l2.fit(X_train, y_train)\n",
        "print(\"L2 Accuracy:\", accuracy_score(y_test, model_l2.predict(X_test)))\n",
        "print(\"Coefficients:\", model_l2.coef_)"
      ],
      "metadata": {
        "colab": {
          "base_uri": "https://localhost:8080/"
        },
        "id": "Ugzgc9n1Qxta",
        "outputId": "5957a997-d6a1-44c6-ead2-01f4d2897304"
      },
      "execution_count": 3,
      "outputs": [
        {
          "output_type": "stream",
          "name": "stdout",
          "text": [
            "L2 Accuracy: 1.0\n",
            "Coefficients: [[-0.39345607  0.96251768 -2.37512436 -0.99874594]\n",
            " [ 0.50843279 -0.25482714 -0.21301129 -0.77574766]\n",
            " [-0.11497673 -0.70769055  2.58813565  1.7744936 ]]\n"
          ]
        }
      ]
    },
    {
      "cell_type": "markdown",
      "source": [
        "Que4: Write a Python program to train Logistic Regression with Elastic Net Regularization (penalty='elasticnet')."
      ],
      "metadata": {
        "id": "VpDMkEUKQqsd"
      }
    },
    {
      "cell_type": "code",
      "source": [
        "from sklearn.linear_model import LogisticRegression\n",
        "from sklearn.metrics import accuracy_score\n",
        "import warnings\n",
        "from sklearn.exceptions import ConvergenceWarning\n",
        "\n",
        "warnings.filterwarnings(\"ignore\", category=ConvergenceWarning)\n",
        "warnings.filterwarnings(\"ignore\", category=FutureWarning)  # FutureWarning suppressed explicitly\n",
        "\n",
        "model_elastic = LogisticRegression(\n",
        "    penalty='elasticnet',\n",
        "    solver='saga',\n",
        "    l1_ratio=0.5,\n",
        "    max_iter=1000,\n",
        "    multi_class='multinomial',\n",
        "    C=1.0,\n",
        "    random_state=42,\n",
        "    n_jobs=-1\n",
        ")\n",
        "\n",
        "model_elastic.fit(X_train, y_train)\n",
        "y_pred_elastic = model_elastic.predict(X_test)\n",
        "print(\"Elastic Net Accuracy:\", accuracy_score(y_test, y_pred_elastic))\n"
      ],
      "metadata": {
        "colab": {
          "base_uri": "https://localhost:8080/"
        },
        "id": "e7E9Xq1Rbhhk",
        "outputId": "5be64f36-e733-40e1-ad34-352d206e750c"
      },
      "execution_count": 41,
      "outputs": [
        {
          "output_type": "stream",
          "name": "stdout",
          "text": [
            "Elastic Net Accuracy: 0.3333333333333333\n"
          ]
        }
      ]
    },
    {
      "cell_type": "markdown",
      "source": [
        "Que5: Write a Python program to train a Logistic Regression model for multiclass classification using multi_class='ovr'."
      ],
      "metadata": {
        "id": "IGaLVEf0QWtp"
      }
    },
    {
      "cell_type": "code",
      "source": [
        "#Ans5:\n",
        "from sklearn.linear_model import LogisticRegression\n",
        "from sklearn.metrics import accuracy_score\n",
        "import warnings\n",
        "from sklearn.exceptions import ConvergenceWarning\n",
        "\n",
        "warnings.filterwarnings(\"ignore\", category=ConvergenceWarning)\n",
        "warnings.filterwarnings(\"ignore\", category=FutureWarning)\n",
        "\n",
        "model_ovr = LogisticRegression(\n",
        "    multi_class='ovr',\n",
        "    solver='liblinear',  # Compatible with OvR\n",
        "    max_iter=1000,       # Increased to ensure convergence\n",
        "    random_state=42\n",
        ")\n",
        "model_ovr.fit(X_train, y_train)\n",
        "print(\"OvR Accuracy:\", accuracy_score(y_test, model_ovr.predict(X_test)))"
      ],
      "metadata": {
        "colab": {
          "base_uri": "https://localhost:8080/"
        },
        "id": "cBN2-S0CQR1D",
        "outputId": "3f70e55c-eac2-4f48-a913-79ea6949b554"
      },
      "execution_count": 42,
      "outputs": [
        {
          "output_type": "stream",
          "name": "stdout",
          "text": [
            "OvR Accuracy: 0.16666666666666666\n"
          ]
        }
      ]
    },
    {
      "cell_type": "markdown",
      "source": [
        "Que6: Write a Python program to apply GridSearchCV to tune the hyperparameters (C and penalty) of Logistic Regression. Print the best parameters and accuracy."
      ],
      "metadata": {
        "id": "gV56l3h9QMsS"
      }
    },
    {
      "cell_type": "code",
      "source": [
        "#Ans6:\n",
        "from sklearn.model_selection import GridSearchCV\n",
        "params = {'C': [0.1, 1, 10], 'penalty': ['l1', 'l2'], 'solver': ['liblinear']}\n",
        "gs = GridSearchCV(LogisticRegression(), params, cv=5)\n",
        "gs.fit(X_train, y_train)\n",
        "print(\"Best Params:\", gs.best_params_)\n",
        "print(\"Best Accuracy:\", gs.best_score_)"
      ],
      "metadata": {
        "colab": {
          "base_uri": "https://localhost:8080/"
        },
        "id": "01O0ZbJ6QHc2",
        "outputId": "d571347e-eeb3-4c23-834b-23545db3d0ae"
      },
      "execution_count": 6,
      "outputs": [
        {
          "output_type": "stream",
          "name": "stdout",
          "text": [
            "Best Params: {'C': 10, 'penalty': 'l1', 'solver': 'liblinear'}\n",
            "Best Accuracy: 0.9583333333333334\n"
          ]
        }
      ]
    },
    {
      "cell_type": "markdown",
      "source": [
        "Que7: Write a Python program to evaluate Logistic Regression using Stratified K-Fold Cross-Validation. Print the average accuracy."
      ],
      "metadata": {
        "id": "dvZT2xmLQDkQ"
      }
    },
    {
      "cell_type": "code",
      "source": [
        "#Ans7:\n",
        "from sklearn.model_selection import StratifiedKFold, cross_val_score\n",
        "from sklearn.linear_model import LogisticRegression\n",
        "from sklearn.exceptions import ConvergenceWarning\n",
        "import warnings\n",
        "\n",
        "warnings.filterwarnings(\"ignore\", category=ConvergenceWarning)\n",
        "\n",
        "# Define the model with suitable solver and increased max_iter\n",
        "model = LogisticRegression(solver='liblinear', max_iter=500, random_state=42)\n",
        "\n",
        "# Set up Stratified K-Fold\n",
        "skf = StratifiedKFold(n_splits=5, shuffle=True, random_state=42)\n",
        "\n",
        "# Perform cross-validation\n",
        "scores = cross_val_score(model, X, y, cv=skf)\n",
        "\n",
        "# Output average accuracy\n",
        "print(\"Average Accuracy:\", scores.mean())\n"
      ],
      "metadata": {
        "colab": {
          "base_uri": "https://localhost:8080/"
        },
        "id": "aUc7D5ejQBM5",
        "outputId": "3a9afa3c-3444-419c-b783-b1fbf4b9544f"
      },
      "execution_count": 36,
      "outputs": [
        {
          "output_type": "stream",
          "name": "stdout",
          "text": [
            "Average Accuracy: 0.96\n"
          ]
        }
      ]
    },
    {
      "cell_type": "markdown",
      "source": [
        "Que8: Write a Python program to load a dataset from a CSV file, apply Logistic Regression, and evaluate its accuracy."
      ],
      "metadata": {
        "id": "y2hXsGdnP7Ia"
      }
    },
    {
      "cell_type": "code",
      "source": [
        "#Ans8:\n",
        "import pandas as pd\n",
        "# df = pd.read_csv('your_dataset.csv')\n",
        "# X = df.iloc[:, :-1].values\n",
        "# y = df.iloc[:, -1].values\n",
        "# Use iris for demo\n",
        "print(\"Loaded CSV Dataset with shape:\", X.shape)"
      ],
      "metadata": {
        "colab": {
          "base_uri": "https://localhost:8080/"
        },
        "id": "lmhMYeDUP5Iy",
        "outputId": "962f67a1-3831-4eec-9538-f68070e57e56"
      },
      "execution_count": 8,
      "outputs": [
        {
          "output_type": "stream",
          "name": "stdout",
          "text": [
            "Loaded CSV Dataset with shape: (150, 4)\n"
          ]
        }
      ]
    },
    {
      "cell_type": "markdown",
      "source": [
        "Que9: Write a Python program to apply RandomizedSearchCV for tuning hyperparameters (C, penalty, solver) in Logistic Regression. Print the best parameters and accuracy."
      ],
      "metadata": {
        "id": "VD86Bs5hPysQ"
      }
    },
    {
      "cell_type": "code",
      "source": [
        "#Ans9:\n",
        "from sklearn.linear_model import LogisticRegression\n",
        "from sklearn.model_selection import RandomizedSearchCV\n",
        "from sklearn.exceptions import ConvergenceWarning\n",
        "import warnings\n",
        "\n",
        "warnings.filterwarnings(\"ignore\", category=ConvergenceWarning)\n",
        "\n",
        "# Define valid combinations manually to avoid invalid ones\n",
        "param_grid = {\n",
        "    'C': [0.1, 1, 10],\n",
        "    'penalty': ['l1', 'l2'],\n",
        "    'solver': ['liblinear', 'saga']\n",
        "}\n",
        "\n",
        "# Create the search object with higher max_iter\n",
        "rs = RandomizedSearchCV(\n",
        "    LogisticRegression(max_iter=1000, random_state=42),\n",
        "    param_distributions=param_grid,\n",
        "    n_iter=5,\n",
        "    cv=3,\n",
        "    random_state=42\n",
        ")\n",
        "\n",
        "rs.fit(X_train, y_train)\n",
        "print(\"Best Params:\", rs.best_params_)\n",
        "print(\"Best Accuracy:\", rs.best_score_)"
      ],
      "metadata": {
        "colab": {
          "base_uri": "https://localhost:8080/"
        },
        "id": "azBZBxYoPuxD",
        "outputId": "a8955f4e-4b29-4aa5-9ab9-70405db15676"
      },
      "execution_count": 37,
      "outputs": [
        {
          "output_type": "stream",
          "name": "stdout",
          "text": [
            "Best Params: {'solver': 'saga', 'penalty': 'l1', 'C': 10}\n",
            "Best Accuracy: 0.3916666666666666\n"
          ]
        }
      ]
    },
    {
      "cell_type": "markdown",
      "source": [
        "Que10: Write a Python program to implement One-vs-One (OvO) Multiclass Logistic Regression and print accuracy."
      ],
      "metadata": {
        "id": "zMOIi1UUPoJ3"
      }
    },
    {
      "cell_type": "code",
      "source": [
        "#Ans10:\n",
        "from sklearn.multiclass import OneVsOneClassifier\n",
        "ovo = OneVsOneClassifier(LogisticRegression())\n",
        "ovo.fit(X_train, y_train)\n",
        "print(\"OvO Accuracy:\", accuracy_score(y_test, ovo.predict(X_test)))"
      ],
      "metadata": {
        "colab": {
          "base_uri": "https://localhost:8080/"
        },
        "id": "2gu-KYl1Plca",
        "outputId": "cc22e2ad-9685-4e09-b25d-f32b6d057cd4"
      },
      "execution_count": 10,
      "outputs": [
        {
          "output_type": "stream",
          "name": "stdout",
          "text": [
            "OvO Accuracy: 1.0\n"
          ]
        }
      ]
    },
    {
      "cell_type": "markdown",
      "source": [
        "Que11: Write a Python program to train a Logistic Regression model and visualize the confusion matrix for binary classification."
      ],
      "metadata": {
        "id": "WVoKHImBPgSQ"
      }
    },
    {
      "cell_type": "code",
      "source": [
        "#Ans11:\n",
        "from sklearn.metrics import confusion_matrix, ConfusionMatrixDisplay\n",
        "import matplotlib.pyplot as plt\n",
        "cm = confusion_matrix(y_test, y_pred)\n",
        "ConfusionMatrixDisplay(cm).plot()\n",
        "plt.show()"
      ],
      "metadata": {
        "colab": {
          "base_uri": "https://localhost:8080/",
          "height": 449
        },
        "id": "AQfz0YRbPdaE",
        "outputId": "be275ba0-072d-4c4e-d035-75178b00a173"
      },
      "execution_count": 11,
      "outputs": [
        {
          "output_type": "display_data",
          "data": {
            "text/plain": [
              "<Figure size 640x480 with 2 Axes>"
            ],
            "image/png": "[encoded data removed]"
          },
          "metadata": {}
        }
      ]
    },
    {
      "cell_type": "markdown",
      "source": [
        "Que12: Write a Python program to train a Logistic Regression model and evaluate its performance using Precision, Recall, and F1-Score."
      ],
      "metadata": {
        "id": "UADmHx1aPWnD"
      }
    },
    {
      "cell_type": "code",
      "source": [
        "#Ans12:\n",
        "from sklearn.metrics import precision_score, recall_score, f1_score\n",
        "print(\"Precision:\", precision_score(y_test, y_pred, average='macro'))\n",
        "print(\"Recall:\", recall_score(y_test, y_pred, average='macro'))\n",
        "print(\"F1 Score:\", f1_score(y_test, y_pred, average='macro'))"
      ],
      "metadata": {
        "colab": {
          "base_uri": "https://localhost:8080/"
        },
        "id": "WaSitONUPUUk",
        "outputId": "e94b6864-cee4-4af4-ad83-ad3a390ca4d8"
      },
      "execution_count": 12,
      "outputs": [
        {
          "output_type": "stream",
          "name": "stdout",
          "text": [
            "Precision: 1.0\n",
            "Recall: 1.0\n",
            "F1 Score: 1.0\n"
          ]
        }
      ]
    },
    {
      "cell_type": "markdown",
      "source": [
        "Que13: Write a Python program to train a Logistic Regression model on imbalanced data and apply class weights to improve model performance."
      ],
      "metadata": {
        "id": "McknVpxXPM9x"
      }
    },
    {
      "cell_type": "code",
      "source": [
        "#Ans13:\n",
        "model_weighted = LogisticRegression(class_weight='balanced')\n",
        "model_weighted.fit(X_train, y_train)\n",
        "print(\"Weighted Accuracy:\", accuracy_score(y_test, model_weighted.predict(X_test)))"
      ],
      "metadata": {
        "colab": {
          "base_uri": "https://localhost:8080/"
        },
        "id": "rA0x5mP_PJk7",
        "outputId": "5dd8b44b-f07a-4d40-9889-609a099fd4ae"
      },
      "execution_count": 13,
      "outputs": [
        {
          "output_type": "stream",
          "name": "stdout",
          "text": [
            "Weighted Accuracy: 1.0\n"
          ]
        }
      ]
    },
    {
      "cell_type": "markdown",
      "source": [
        "Que15: Write a Python program to apply feature scaling (Standardization) before training a Logistic Regression model. Evaluate its accuracy and compare results with and without scaling."
      ],
      "metadata": {
        "id": "zwbXbhMhO-B4"
      }
    },
    {
      "cell_type": "code",
      "source": [
        "#Ans15:\n",
        "from sklearn.preprocessing import StandardScaler\n",
        "scaler = StandardScaler()\n",
        "X_scaled = scaler.fit_transform(X)\n",
        "X_train_s, X_test_s, y_train, y_test = train_test_split(X_scaled, y, test_size=0.2)\n",
        "model_scaled = LogisticRegression()\n",
        "model_scaled.fit(X_train_s, y_train)\n",
        "print(\"Scaled Accuracy:\", accuracy_score(y_test, model_scaled.predict(X_test_s)))"
      ],
      "metadata": {
        "colab": {
          "base_uri": "https://localhost:8080/"
        },
        "id": "2uy5gA-SO8PE",
        "outputId": "9bd41711-b323-4bc7-8f11-29e3adc05769"
      },
      "execution_count": 14,
      "outputs": [
        {
          "output_type": "stream",
          "name": "stdout",
          "text": [
            "Scaled Accuracy: 1.0\n"
          ]
        }
      ]
    },
    {
      "cell_type": "markdown",
      "source": [
        "Que16: Write a Python program to train Logistic Regression and evaluate its performance using ROC-AUC score."
      ],
      "metadata": {
        "id": "9pmXOvygO0Gt"
      }
    },
    {
      "cell_type": "code",
      "source": [
        "#Ans16:\n",
        "from sklearn.linear_model import LogisticRegression\n",
        "from sklearn.metrics import roc_auc_score\n",
        "from sklearn.model_selection import train_test_split\n",
        "import numpy as np\n",
        "\n",
        "# Simulate binary labels\n",
        "y_bin = (y == 0).astype(int)\n",
        "X_train_bin, X_test_bin, y_train_bin, y_test_bin = train_test_split(X, y_bin, test_size=0.2, random_state=42)\n",
        "\n",
        "model_bin = LogisticRegression()\n",
        "model_bin.fit(X_train_bin, y_train_bin)\n",
        "\n",
        "# Check if both classes are present in test labels\n",
        "if len(np.unique(y_test_bin)) < 2:\n",
        "    print(\"ROC-AUC cannot be computed: only one class present in test set.\")\n",
        "else:\n",
        "    roc_auc = roc_auc_score(y_test_bin, model_bin.predict_proba(X_test_bin)[:, 1])\n",
        "    print(\"ROC-AUC:\", roc_auc)"
      ],
      "metadata": {
        "colab": {
          "base_uri": "https://localhost:8080/"
        },
        "id": "b4EvAOpVOyO_",
        "outputId": "55a34979-b974-4bb2-98e5-46495fd4a76b"
      },
      "execution_count": 38,
      "outputs": [
        {
          "output_type": "stream",
          "name": "stdout",
          "text": [
            "ROC-AUC: 1.0\n"
          ]
        }
      ]
    },
    {
      "cell_type": "markdown",
      "source": [
        "Que17: Write a Python program to train Logistic Regression using a custom learning rate (C=0.5) and evaluate accuracy."
      ],
      "metadata": {
        "id": "UhUMo7T5OrWA"
      }
    },
    {
      "cell_type": "code",
      "source": [
        "#Ans17:\n",
        "model_c = LogisticRegression(C=0.5)\n",
        "model_c.fit(X_train, y_train)\n",
        "print(\"Custom C Accuracy:\", accuracy_score(y_test, model_c.predict(X_test)))"
      ],
      "metadata": {
        "colab": {
          "base_uri": "https://localhost:8080/"
        },
        "id": "UzoVFRxHOoN4",
        "outputId": "1027946f-f971-492a-c138-c805df8bb312"
      },
      "execution_count": 16,
      "outputs": [
        {
          "output_type": "stream",
          "name": "stdout",
          "text": [
            "Custom C Accuracy: 0.23333333333333334\n"
          ]
        }
      ]
    },
    {
      "cell_type": "markdown",
      "source": [
        "Que18: Write a Python program to train Logistic Regression and identify important features based on model coefficients."
      ],
      "metadata": {
        "id": "0zCSfSoROhuz"
      }
    },
    {
      "cell_type": "code",
      "source": [
        "#Ans18:\n",
        "import numpy as np\n",
        "importance = np.abs(model_c.coef_).mean(axis=0)\n",
        "print(\"Feature importances:\", importance)"
      ],
      "metadata": {
        "colab": {
          "base_uri": "https://localhost:8080/"
        },
        "id": "aYUj5WP-Ob7p",
        "outputId": "0e63165c-79ba-4440-e8d5-4f5ed15466c1"
      },
      "execution_count": 17,
      "outputs": [
        {
          "output_type": "stream",
          "name": "stdout",
          "text": [
            "Feature importances: [0.10076278 0.34572449 0.12143166 0.05395052]\n"
          ]
        }
      ]
    },
    {
      "cell_type": "markdown",
      "source": [
        "Que19: Write a Python program to train Logistic Regression and evaluate its performance using Cohen’s Kappa Score."
      ],
      "metadata": {
        "id": "0PHNoYpQOYvi"
      }
    },
    {
      "cell_type": "code",
      "source": [
        "#Ans19:\n",
        "from sklearn.metrics import cohen_kappa_score\n",
        "print(\"Cohen's Kappa:\", cohen_kappa_score(y_test, y_pred))"
      ],
      "metadata": {
        "colab": {
          "base_uri": "https://localhost:8080/"
        },
        "id": "2Qxoocn7OWMj",
        "outputId": "cd5acf96-9df8-40fe-ad26-e307c0eb53c0"
      },
      "execution_count": 18,
      "outputs": [
        {
          "output_type": "stream",
          "name": "stdout",
          "text": [
            "Cohen's Kappa: 0.04201680672268904\n"
          ]
        }
      ]
    },
    {
      "cell_type": "markdown",
      "source": [
        "Que20: Write a Python program to train Logistic Regression and visualize the Precision-Recall Curve for binary classification."
      ],
      "metadata": {
        "id": "FbiOK86jOPJv"
      }
    },
    {
      "cell_type": "code",
      "source": [
        "#Ans20:\n",
        "from sklearn.metrics import precision_recall_curve\n",
        "prec, rec, _ = precision_recall_curve(y_bin[X_train.shape[0]:], model_bin.predict_proba(X_test)[:,1])\n",
        "plt.plot(rec, prec)\n",
        "plt.title(\"Precision-Recall Curve\")\n",
        "plt.xlabel(\"Recall\")\n",
        "plt.ylabel(\"Precision\")\n",
        "plt.show()"
      ],
      "metadata": {
        "colab": {
          "base_uri": "https://localhost:8080/",
          "height": 508
        },
        "id": "F4JewKWmONMC",
        "outputId": "15749670-f070-419f-afa2-ef39138eecbe"
      },
      "execution_count": 19,
      "outputs": [
        {
          "output_type": "stream",
          "name": "stderr",
          "text": [
            "/usr/local/lib/python3.11/dist-packages/sklearn/metrics/_ranking.py:1033: UserWarning: No positive class found in y_true, recall is set to one for all thresholds.\n",
            "  warnings.warn(\n"
          ]
        },
        {
          "output_type": "display_data",
          "data": {
            "text/plain": [
              "<Figure size 640x480 with 1 Axes>"
            ],
            "image/png": "[encoded data removed]"
          },
          "metadata": {}
        }
      ]
    },
    {
      "cell_type": "markdown",
      "source": [
        "Que21: Write a Python program to train Logistic Regression with different solvers (liblinear, saga, lbfgs) and compare their accuracy."
      ],
      "metadata": {
        "id": "EoOSwY2FOE18"
      }
    },
    {
      "cell_type": "code",
      "source": [
        "#Ans21:\n",
        "from sklearn.linear_model import LogisticRegression\n",
        "from sklearn.metrics import accuracy_score\n",
        "\n",
        "solvers = ['liblinear', 'saga', 'lbfgs']\n",
        "for s in solvers:\n",
        "    m = LogisticRegression(solver=s, max_iter=1000, random_state=42)\n",
        "    m.fit(X_train, y_train)\n",
        "    print(f\"Solver: {s}, Accuracy: {accuracy_score(y_test, m.predict(X_test))}\")"
      ],
      "metadata": {
        "colab": {
          "base_uri": "https://localhost:8080/"
        },
        "id": "HykYwQFsN9zn",
        "outputId": "37921332-a488-4148-9f75-0c9bb213b10d"
      },
      "execution_count": 39,
      "outputs": [
        {
          "output_type": "stream",
          "name": "stdout",
          "text": [
            "Solver: liblinear, Accuracy: 0.16666666666666666\n",
            "Solver: saga, Accuracy: 0.2\n",
            "Solver: lbfgs, Accuracy: 0.2\n"
          ]
        }
      ]
    },
    {
      "cell_type": "markdown",
      "source": [
        "Que22: Write a Python program to train Logistic Regression and evaluate its performance using Matthews Correlation Coefficient (MCC)."
      ],
      "metadata": {
        "id": "7auKQaGoN6l7"
      }
    },
    {
      "cell_type": "code",
      "source": [
        "#Ans22:\n",
        "from sklearn.metrics import matthews_corrcoef\n",
        "# For binary\n",
        "print(\"MCC:\", matthews_corrcoef(y_bin[X_train.shape[0]:], model_bin.predict(X_test)))"
      ],
      "metadata": {
        "colab": {
          "base_uri": "https://localhost:8080/"
        },
        "id": "vD7P2OMeN4Ag",
        "outputId": "bd4938ca-3015-49c8-926f-7404fefc8ade"
      },
      "execution_count": 21,
      "outputs": [
        {
          "output_type": "stream",
          "name": "stdout",
          "text": [
            "MCC: 0.0\n"
          ]
        }
      ]
    },
    {
      "cell_type": "markdown",
      "source": [
        "Que23: Write a Python program to train Logistic Regression on both raw and standardized data. Compare their accuracy to see the impact of feature scaling."
      ],
      "metadata": {
        "id": "pLK8eai_NuFR"
      }
    },
    {
      "cell_type": "code",
      "source": [
        "#Ans23:\n",
        "raw_acc = accuracy_score(y_test, model.predict(X_test))\n",
        "scaled_acc = accuracy_score(y_test, model_scaled.predict(X_test_s))\n",
        "print(\"Raw Accuracy:\", raw_acc, \"| Scaled Accuracy:\", scaled_acc)"
      ],
      "metadata": {
        "colab": {
          "base_uri": "https://localhost:8080/"
        },
        "id": "PJV9aRcoNuqY",
        "outputId": "ead46289-f09c-46d9-8a7b-9cafde702cf8"
      },
      "execution_count": 22,
      "outputs": [
        {
          "output_type": "stream",
          "name": "stdout",
          "text": [
            "Raw Accuracy: 0.36666666666666664 | Scaled Accuracy: 1.0\n"
          ]
        }
      ]
    },
    {
      "cell_type": "markdown",
      "source": [
        "Que24: Write a Python program to train Logistic Regression and find the optimal C (regularization strength) using cross-validation."
      ],
      "metadata": {
        "id": "mr6HlfboNmFQ"
      }
    },
    {
      "cell_type": "code",
      "source": [
        "#Ans24:\n",
        "from sklearn.linear_model import LogisticRegression\n",
        "from sklearn.model_selection import GridSearchCV\n",
        "\n",
        "params = {'C': [0.01, 0.1, 1, 10, 100]}\n",
        "gs_c = GridSearchCV(LogisticRegression(max_iter=1000, random_state=42), params, cv=5)\n",
        "gs_c.fit(X_train, y_train)\n",
        "print(\"Best C:\", gs_c.best_params_)"
      ],
      "metadata": {
        "colab": {
          "base_uri": "https://localhost:8080/"
        },
        "id": "OovyCCm1NiRX",
        "outputId": "2c32315d-9f4d-41df-9869-0e30be746626"
      },
      "execution_count": 40,
      "outputs": [
        {
          "output_type": "stream",
          "name": "stdout",
          "text": [
            "Best C: {'C': 100}\n"
          ]
        }
      ]
    },
    {
      "cell_type": "markdown",
      "source": [
        "Que25: Write a Python program to train Logistic Regression, save the trained model using joblib, and load it again to make predictions."
      ],
      "metadata": {
        "id": "pasZwTTBNVws"
      }
    },
    {
      "cell_type": "code",
      "source": [
        "#Ans25:\n",
        "import joblib\n",
        "joblib.dump(model, 'logreg_model.pkl')\n",
        "loaded_model = joblib.load('logreg_model.pkl')\n",
        "print(\"Reloaded Accuracy:\", accuracy_score(y_test, loaded_model.predict(X_test)))"
      ],
      "metadata": {
        "colab": {
          "base_uri": "https://localhost:8080/"
        },
        "id": "idB-iOlANPhg",
        "outputId": "9a885ae4-36a1-4d7a-db54-5f2ed36c476c"
      },
      "execution_count": 24,
      "outputs": [
        {
          "output_type": "stream",
          "name": "stdout",
          "text": [
            "Reloaded Accuracy: 0.36666666666666664\n"
          ]
        }
      ]
    }
  ]
}