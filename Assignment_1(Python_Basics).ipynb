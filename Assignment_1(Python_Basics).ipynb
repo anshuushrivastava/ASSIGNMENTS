{
  "nbformat": 4,
  "nbformat_minor": 0,
  "metadata": {
    "colab": {
      "provenance": []
    },
    "kernelspec": {
      "name": "python3",
      "display_name": "Python 3"
    },
    "language_info": {
      "name": "python"
    }
  },
  "cells": [
    {
      "cell_type": "markdown",
      "source": [
        "Que1: What is Python, and why is it popular?\n",
        "\n",
        "Ans1:\n",
        "\n",
        "  - Python is a high-level, interpreted programming language created by Guido van Rossum in 1991.\n",
        "  - It is known for its simple, readable syntax, making it beginner-friendly and easy to write.\n",
        "  - Python is versatile and can be used for web development, data science, automation, machine learning, and more.\n",
        "  - It has a vast collection of libraries and frameworks that accelerate development.\n",
        "  - Python is cross-platform and works on various operating systems like Windows, macOS, and Linux.\n",
        "  - It is open-source, with an active and supportive global community.\n",
        "  - Major companies use Python, contributing to its widespread adoption and popularity."
      ],
      "metadata": {
        "id": "z0ifh9MTRu7l"
      }
    },
    {
      "cell_type": "markdown",
      "source": [
        "Que2: What is an interpreter in Python?\n",
        "\n",
        "Ans2:\n",
        "\n",
        "In Python, an interpreter is a program that reads and executes Python\n",
        "code line by line. It translates high-level Python code into machine code directly, without needing a separate compilation step. This allows for interactive execution, making Python code easier to test and debug, while offering portability across platforms."
      ],
      "metadata": {
        "id": "JphM8xQDSI0A"
      }
    },
    {
      "cell_type": "markdown",
      "source": [
        "Que3: What are pre-defined keywords in Python?\n",
        "\n",
        "Ans3:\n",
        "\n",
        "       Pre-defined keywords in Python are reserved words that have a\n",
        "       special meaning and cannot be used as identifiers (like variable\n",
        "       names or function names). These keywords define the syntax and\n",
        "       structure of the Python language. They are part of the language's\n",
        "       grammar and help control the flow of execution.\n",
        "\n",
        "       Examples of pre-defined keywords in Python:\n",
        "       if\n",
        "       else\n",
        "       for\n",
        "       while\n",
        "       def\n",
        "       class\n",
        "       try\n",
        "       except\n",
        "       return\n",
        "       import\n",
        "       from\n",
        "       and\n",
        "       or\n",
        "       not\n",
        "       These keywords are fixed, and trying to use them as variable names will result in a syntax error."
      ],
      "metadata": {
        "id": "sjz3NcLdSOy0"
      }
    },
    {
      "cell_type": "markdown",
      "source": [
        "Que4: Can keywords be used as variable names?\n",
        "\n",
        "Ans4:\n",
        "\n",
        "        No, keywords cannot be used as variable names in Python.\n",
        "        Keywords are reserved words that have a special meaning in the\n",
        "        Python language, and using them as identifiers (e.g., variable names,\n",
        "        function names) will result in a syntax error.\n",
        "\n",
        "        For example, trying to use if, while, or def as variable names\n",
        "        will cause an error:"
      ],
      "metadata": {
        "id": "dvaN28nok-Lo"
      }
    },
    {
      "cell_type": "code",
      "source": [
        "# taking def as a variable name and assigning it a value\n",
        "if=8\n",
        "print(f\"Product of {if} with 2 = {if*2}\")"
      ],
      "metadata": {
        "colab": {
          "base_uri": "https://localhost:8080/",
          "height": 106
        },
        "collapsed": true,
        "id": "V9u6D8tJlIje",
        "outputId": "6edcf957-66c3-40c2-df65-fe3ab7f2fc81"
      },
      "execution_count": null,
      "outputs": [
        {
          "output_type": "error",
          "ename": "SyntaxError",
          "evalue": "invalid syntax (<ipython-input-5-5d0a3c320447>, line 2)",
          "traceback": [
            "\u001b[0;36m  File \u001b[0;32m\"<ipython-input-5-5d0a3c320447>\"\u001b[0;36m, line \u001b[0;32m2\u001b[0m\n\u001b[0;31m    if=8\u001b[0m\n\u001b[0m      ^\u001b[0m\n\u001b[0;31mSyntaxError\u001b[0m\u001b[0;31m:\u001b[0m invalid syntax\n"
          ]
        }
      ]
    },
    {
      "cell_type": "markdown",
      "source": [
        "Corrected code should look something like this:"
      ],
      "metadata": {
        "id": "XLhb0BWylbmr"
      }
    },
    {
      "cell_type": "code",
      "source": [
        "'''whereas if you take an identifier which is not same as that of any keyword in the Python library.\n",
        "Then,'''\n",
        "i=8\n",
        "print(f\"Product of {i} with 2 = {i*2}\")"
      ],
      "metadata": {
        "colab": {
          "base_uri": "https://localhost:8080/"
        },
        "collapsed": true,
        "id": "rZV-neR8lgir",
        "outputId": "f7b34554-c5a7-4251-b8a2-adf26bc1cf76"
      },
      "execution_count": null,
      "outputs": [
        {
          "output_type": "stream",
          "name": "stdout",
          "text": [
            "Product of 8 with 2 = 16\n"
          ]
        }
      ]
    },
    {
      "cell_type": "markdown",
      "source": [
        "Que5: What is mutability in Python?\n",
        "\n",
        "Ans5:\n",
        "\n",
        "          Mutability in Python refers to the ability of an object to be\n",
        "          changed or modified after it is created. An object is mutable\n",
        "          if its state or content can be altered, while an object is\n",
        "          immutable if its state cannot be changed once it is created.\n",
        "\n",
        "          Examples:\n",
        "          Mutable objects: List, dictionary and sets. you can modify\n",
        "          their content, such as adding or removing contents.\n",
        "\n"
      ],
      "metadata": {
        "id": "kUe7Vd9Pl2WB"
      }
    },
    {
      "cell_type": "code",
      "source": [
        "# Modification in list by adding and removing\n",
        "list = [1,2,3,6,5,4,0,9,8,7]\n",
        "#changing the value of an element of this list\n",
        "list[4] = 22\n",
        "print(list)"
      ],
      "metadata": {
        "colab": {
          "base_uri": "https://localhost:8080/"
        },
        "collapsed": true,
        "id": "10sHESMqnxWL",
        "outputId": "f2a18c84-bfe0-485d-9e6d-ce97ec8a05a1"
      },
      "execution_count": null,
      "outputs": [
        {
          "output_type": "stream",
          "name": "stdout",
          "text": [
            "[1, 2, 3, 6, 22, 4, 0, 9, 8, 7]\n"
          ]
        }
      ]
    },
    {
      "cell_type": "markdown",
      "source": [
        "Immutable objects: Strings, tuples, and numbers. Once created,\n",
        "their value cannot be changed."
      ],
      "metadata": {
        "id": "RRnnXTdVpBI2"
      }
    },
    {
      "cell_type": "code",
      "source": [
        "g = \"Hello\"\n",
        "g[0] = \"h\"\n"
      ],
      "metadata": {
        "colab": {
          "base_uri": "https://localhost:8080/",
          "height": 158
        },
        "collapsed": true,
        "id": "kPHfhEsdo7zP",
        "outputId": "e0787804-1217-46ec-acaf-aaf5e608a0cb"
      },
      "execution_count": null,
      "outputs": [
        {
          "output_type": "error",
          "ename": "TypeError",
          "evalue": "'str' object does not support item assignment",
          "traceback": [
            "\u001b[0;31m---------------------------------------------------------------------------\u001b[0m",
            "\u001b[0;31mTypeError\u001b[0m                                 Traceback (most recent call last)",
            "\u001b[0;32m<ipython-input-12-aa62c961c931>\u001b[0m in \u001b[0;36m<cell line: 0>\u001b[0;34m()\u001b[0m\n\u001b[1;32m      1\u001b[0m \u001b[0mg\u001b[0m \u001b[0;34m=\u001b[0m \u001b[0;34m\"Hello\"\u001b[0m\u001b[0;34m\u001b[0m\u001b[0;34m\u001b[0m\u001b[0m\n\u001b[0;32m----> 2\u001b[0;31m \u001b[0mg\u001b[0m\u001b[0;34m[\u001b[0m\u001b[0;36m0\u001b[0m\u001b[0;34m]\u001b[0m \u001b[0;34m=\u001b[0m \u001b[0;34m\"h\"\u001b[0m                 \u001b[0;31m# This will raise an error\u001b[0m\u001b[0;34m\u001b[0m\u001b[0;34m\u001b[0m\u001b[0m\n\u001b[0m",
            "\u001b[0;31mTypeError\u001b[0m: 'str' object does not support item assignment"
          ]
        }
      ]
    },
    {
      "cell_type": "markdown",
      "source": [
        "Understanding mutability is important when working with\n",
        "data structures and passing objects between functions,\n",
        "as it can affect how data is modified or shared."
      ],
      "metadata": {
        "id": "iPCKF2agrIlR"
      }
    },
    {
      "cell_type": "markdown",
      "source": [
        "Que6:  Why are lists mutable, but tuples are immutable?\n",
        "\n",
        "Ans6:\n",
        "\n",
        "         Lists in Python are mutable because you can change, add, or remove\n",
        "         elements after creating them. This flexibility is useful for tasks\n",
        "         where data needs to be modified. Tuples, on the other hand, are\n",
        "         immutable, meaning their elements cannot be changed once defined.\n",
        "         This makes tuples useful for storing fixed data that shouldn’t be\n",
        "         altered, ensuring data integrity and potentially improving performance."
      ],
      "metadata": {
        "id": "l_HJbRIfrZA4"
      }
    },
    {
      "cell_type": "markdown",
      "source": [
        "Que7: What is the difference between “==” and “is” operators in Python?\n",
        "\n",
        "Ans7:\n",
        "\n",
        "        In Python, both '==' and 'is' are comparison operators, but they serve\n",
        "        different purposes:\n",
        "\n",
        "        1. == (Equality operator):\n",
        "        The \"==\" operator checks if the values of two objects are equal.\n",
        "        It compares the content of the objects, meaning it checks whether\n",
        "        the values stored inside the objects are the same."
      ],
      "metadata": {
        "id": "Fw2zZHrQtIdy"
      }
    },
    {
      "cell_type": "code",
      "source": [
        "a = [1, 2, 3]\n",
        "b = [1, 2, 3]\n",
        "print(a == b)"
      ],
      "metadata": {
        "colab": {
          "base_uri": "https://localhost:8080/"
        },
        "id": "o0ABbCQpPdRj",
        "outputId": "6c1c7cce-6f4d-49f5-dd65-dce495c5398a"
      },
      "execution_count": null,
      "outputs": [
        {
          "output_type": "stream",
          "name": "stdout",
          "text": [
            "True\n"
          ]
        }
      ]
    },
    {
      "cell_type": "markdown",
      "source": [
        "       2. The is operator:\n",
        "       The 'is' operator checks if two variables refer to the same object\n",
        "       in memory (i.e., whether they have the same identity). It does not\n",
        "       check if the values are equal, but rather if the objects are the\n",
        "       exact same instance.\n",
        "       Example:"
      ],
      "metadata": {
        "id": "AIuMhN2BPi-M"
      }
    },
    {
      "cell_type": "code",
      "source": [
        "a = [1, 2, 3]\n",
        "b = [1, 2, 3]\n",
        "print(a is b)\n",
        "\n",
        "c = a\n",
        "print(a is c)"
      ],
      "metadata": {
        "colab": {
          "base_uri": "https://localhost:8080/"
        },
        "id": "od9YtDw_Ub0H",
        "outputId": "b447232e-34e5-4cce-a38d-d27d9d4c6c61"
      },
      "execution_count": null,
      "outputs": [
        {
          "output_type": "stream",
          "name": "stdout",
          "text": [
            "False\n",
            "True\n"
          ]
        }
      ]
    },
    {
      "cell_type": "markdown",
      "source": [
        "        The basic differences are:\n",
        "        - \"==\" checks for value equality.\n",
        "        - \"is\" checks for identity (object) equality.\n",
        "\n",
        "        In general, \"==\" is used for comparing values (e.g., checking if\n",
        "        two lists contain the same elements).\n",
        "        And, \"is\" is used for checking if two variables point to the same\n",
        "        object in memory (e.g., checking if two references are actually the\n",
        "        same object)."
      ],
      "metadata": {
        "id": "NKKyfwbKVmAh"
      }
    },
    {
      "cell_type": "markdown",
      "source": [
        "Que8: What are logical operators in Python?\n",
        "\n",
        "Ans8:\n",
        "\n",
        "        Logical operators in Python are used to combine conditional\n",
        "        statements and evaluate the truth value of expressions. They are\n",
        "        commonly used in control flow statements (like if, while) to make\n",
        "        decisions based on multiple conditions.\n",
        "        There are three main logical operators:\n",
        "        1. And operator\n",
        "        2. Or operator\n",
        "        3. Not operator\n",
        "\n",
        "        1. And Operator: Returns 'True' if both conditions are 'True'.\n",
        "           Otherwise, it returns 'False.'"
      ],
      "metadata": {
        "id": "UZOJ7G36WSAE"
      }
    },
    {
      "cell_type": "code",
      "source": [
        "#And Operator\n",
        "a = 5\n",
        "b = 10\n",
        "print(a > 0 and b < 20)"
      ],
      "metadata": {
        "colab": {
          "base_uri": "https://localhost:8080/"
        },
        "collapsed": true,
        "id": "sJoXdyBiXLaS",
        "outputId": "479bf5d9-f655-4d5b-d580-511f1a864abd"
      },
      "execution_count": null,
      "outputs": [
        {
          "output_type": "stream",
          "name": "stdout",
          "text": [
            "True\n"
          ]
        }
      ]
    },
    {
      "cell_type": "markdown",
      "source": [
        "        2. Or Operator: Returns 'True' if at least one condition is 'True'.\n",
        "        It only returns 'False' if both conditions are 'False'."
      ],
      "metadata": {
        "id": "RNgn2_9FXWFL"
      }
    },
    {
      "cell_type": "code",
      "source": [
        "#Or Operator\n",
        "a = 5\n",
        "b = 10\n",
        "print(a > 0 or b < 5)"
      ],
      "metadata": {
        "colab": {
          "base_uri": "https://localhost:8080/"
        },
        "collapsed": true,
        "id": "f1FJU2XRXmeY",
        "outputId": "d3e9be57-6807-48c0-aeed-70fa72ee583e"
      },
      "execution_count": null,
      "outputs": [
        {
          "output_type": "stream",
          "name": "stdout",
          "text": [
            "True\n"
          ]
        }
      ]
    },
    {
      "cell_type": "markdown",
      "source": [
        "        3. Not Operator: Reverses the truth value of the condition. It\n",
        "        returns 'True' if the condition is 'False', and 'False' if the\n",
        "        condition is 'True'.\n"
      ],
      "metadata": {
        "id": "y3SsXGQ3X0mE"
      }
    },
    {
      "cell_type": "code",
      "source": [
        "a = 5\n",
        "print(not a > 10)"
      ],
      "metadata": {
        "colab": {
          "base_uri": "https://localhost:8080/"
        },
        "collapsed": true,
        "id": "fuhmFaH2YHXM",
        "outputId": "f0487513-0547-4f59-ee51-4ac269f81d94"
      },
      "execution_count": null,
      "outputs": [
        {
          "output_type": "stream",
          "name": "stdout",
          "text": [
            "True\n"
          ]
        }
      ]
    },
    {
      "cell_type": "markdown",
      "source": [
        "Que9:What is type casting in Python?\n",
        "\n",
        "Ans9:\n",
        "\n",
        "        Type casting in Python refers to converting one data type into\n",
        "        another. It allows you to change the type of a variable or value\n",
        "        to perform operations that require different types, such as\n",
        "        converting an integer to a string, or a string to a float.\n",
        "        \n",
        "        There are two types of typecasting:\n",
        "        1. Implicit Typecasting : Python automatically converts one data\n",
        "        type to another when necessary, without the need for explicit\n",
        "        instruction. It usually happens when you perform operations with\n",
        "        mixed data types."
      ],
      "metadata": {
        "id": "C5iVs5zyYVgh"
      }
    },
    {
      "cell_type": "code",
      "source": [
        "#Implicit Type conversion\n",
        "a = 5  # Integer\n",
        "b = 3.2  # Float\n",
        "result = a + b  # Python automatically converts 'a' to a float\n",
        "print(result)"
      ],
      "metadata": {
        "id": "bY1ZmPYuZXJw"
      },
      "execution_count": null,
      "outputs": []
    },
    {
      "cell_type": "markdown",
      "source": [
        "        Explicit Typecasting: Where the programmer explicitly convert one\n",
        "        data type to another using built-in functions like int(), float(),\n",
        "        str(), etc. This is done when you need to manually control the\n",
        "        conversion between types."
      ],
      "metadata": {
        "id": "a1P_IG6XZc-L"
      }
    },
    {
      "cell_type": "code",
      "source": [
        "#Explicit Typeconversion\n",
        "x = \"10\"     # String\n",
        "y = int(x)   # Explicitly converting string to integer\n",
        "print(y)"
      ],
      "metadata": {
        "colab": {
          "base_uri": "https://localhost:8080/"
        },
        "collapsed": true,
        "id": "_v-R8QHFZz0E",
        "outputId": "3bedba66-54d7-400f-cbc2-20baba603b57"
      },
      "execution_count": null,
      "outputs": [
        {
          "output_type": "stream",
          "name": "stdout",
          "text": [
            "10\n"
          ]
        }
      ]
    },
    {
      "cell_type": "code",
      "source": [
        "# Converting float to integer (truncating the decimal part)\n",
        "num = 3.8\n",
        "int_num = int(num)\n",
        "print(int_num)"
      ],
      "metadata": {
        "colab": {
          "base_uri": "https://localhost:8080/"
        },
        "id": "-a7kPh0waJUC",
        "outputId": "74679c5e-0126-4eb0-b4da-0f6ee7556688"
      },
      "execution_count": null,
      "outputs": [
        {
          "output_type": "stream",
          "name": "stdout",
          "text": [
            "3\n"
          ]
        }
      ]
    },
    {
      "cell_type": "markdown",
      "source": [
        "        Importance and use of Typecasting is as follows:\n",
        "        1. Type casting helps in performing operations with mixed data\n",
        "        types, such as adding integers to strings (by first converting them\n",
        "        to compatible types).\n",
        "        2. It ensures that data is in the correct type for specific\n",
        "        operations (e.g., performing mathematical calculations with\n",
        "        numbers)."
      ],
      "metadata": {
        "id": "rTkrTHLUaRMo"
      }
    },
    {
      "cell_type": "markdown",
      "source": [
        "Que10:  What is the difference between implicit and explicit type casting?\n",
        "\n",
        "Ans10:\n",
        "\n",
        "          Implicit Type casting:\n",
        "          1. Automatic conversion by Python.\n",
        "          2. Python decides the conversion automatically.\n",
        "          3. Adding an integer to a float (integer becomes float) happens\n",
        "          on its own by the interpreter.\n",
        "          4. Generally more efficient, done automatically.\n",
        "\n",
        "          Explicit Type Casting:\n",
        "          1. Manual conversion by the programmer.\n",
        "          2. Programmer decides the conversion.\n",
        "          3. For conversion to happen the programmer needs to use int(),\n",
        "          float(), str(), etc. as and when required explicitly.\n",
        "          4. Requires more code and explicit handling."
      ],
      "metadata": {
        "id": "KpYjjMC0amlq"
      }
    },
    {
      "cell_type": "markdown",
      "source": [
        "Que11: What is the purpose of conditional statements in Python?\n",
        "\n",
        "Ans11:\n",
        "\n",
        "          Conditional statements in Python allow you to make decisions in\n",
        "          your code based on certain conditions. They enable your program\n",
        "          to execute different blocks of code depending on whether a\n",
        "          condition is true or false. The most common conditional\n",
        "          statements are `if`, `elif`, and `else`. For example, an `if`\n",
        "          statement checks if a condition is true and runs a block of code\n",
        "          if it is. `elif` checks additional conditions if the first one\n",
        "          isn’t true, and `else` runs code when none of the conditions are\n",
        "          met. This helps control the flow of the program and makes it more\n",
        "          dynamic."
      ],
      "metadata": {
        "id": "HUs2I0HecgmH"
      }
    },
    {
      "cell_type": "code",
      "source": [
        "age = 18\n",
        "if age >= 18:\n",
        "    print(\"You are an adult.\")"
      ],
      "metadata": {
        "id": "qatMi5lKeGLp"
      },
      "execution_count": null,
      "outputs": []
    },
    {
      "cell_type": "markdown",
      "source": [
        "          'else' statement: Executes a block of code if the condition in\n",
        "          the if statement is 'False'."
      ],
      "metadata": {
        "id": "xc-iX6mleOHH"
      }
    },
    {
      "cell_type": "code",
      "source": [
        "age = 16\n",
        "if age >= 18:\n",
        "    print(\"You are an adult.\")\n",
        "else:\n",
        "    print(\"You are a minor.\")"
      ],
      "metadata": {
        "id": "2RYR6cNSebP5"
      },
      "execution_count": null,
      "outputs": []
    },
    {
      "cell_type": "markdown",
      "source": [
        "          'elif' statement: Used to check multiple conditions, and\n",
        "          executes a block of code if a specific condition is 'True'."
      ],
      "metadata": {
        "id": "v3ARNCV3eh7z"
      }
    },
    {
      "cell_type": "code",
      "source": [
        "age = 20\n",
        "if age < 13:\n",
        "    print(\"Child\")\n",
        "elif age < 18:\n",
        "    print(\"Teenager\")\n",
        "else:\n",
        "    print(\"Adult\")"
      ],
      "metadata": {
        "id": "OAP2TNgueshb"
      },
      "execution_count": null,
      "outputs": []
    },
    {
      "cell_type": "markdown",
      "source": [
        "Que12: How does the elif statement work?\n",
        "\n",
        "Ans12:\n",
        "\n",
        "          The elif statement allows checking multiple conditions\n",
        "          sequentially. If the if condition is False, Python checks each\n",
        "          elif condition in order. The first True condition executes its\n",
        "          block; otherwise, the else block runs.\n",
        "          "
      ],
      "metadata": {
        "id": "zAQLsDvzfFhn"
      }
    },
    {
      "cell_type": "code",
      "source": [
        "age = 20\n",
        "if age < 13:\n",
        "    print(\"Child\")\n",
        "elif age < 18:\n",
        "    print(\"Teenager\")\n",
        "else:\n",
        "    print(\"Adult\")\n"
      ],
      "metadata": {
        "colab": {
          "base_uri": "https://localhost:8080/"
        },
        "id": "DIcuJzPxfTWd",
        "outputId": "541a7577-7d9e-4237-93a4-a1e1350ac4d2"
      },
      "execution_count": null,
      "outputs": [
        {
          "output_type": "stream",
          "name": "stdout",
          "text": [
            "Adult\n"
          ]
        }
      ]
    },
    {
      "cell_type": "markdown",
      "source": [
        "Que13: What is the difference between for and while loops?\n",
        "\n",
        "Ans13:\n",
        "\n",
        "          'for' loop: Iterates over a sequence (e.g., list, range, string)\n",
        "          for a fixed number of times."
      ],
      "metadata": {
        "id": "41xyqJG6faFJ"
      }
    },
    {
      "cell_type": "code",
      "source": [
        "#Example for 'for' loop for printing 0-9, each in new line.\n",
        "for i in range(10):\n",
        "    print(i)"
      ],
      "metadata": {
        "colab": {
          "base_uri": "https://localhost:8080/"
        },
        "collapsed": true,
        "id": "wwn-x_WWf9hq",
        "outputId": "9dc57ac2-40ef-4995-aae9-7779a38d3b48"
      },
      "execution_count": null,
      "outputs": [
        {
          "output_type": "stream",
          "name": "stdout",
          "text": [
            "0\n",
            "1\n",
            "2\n",
            "3\n",
            "4\n",
            "5\n",
            "6\n",
            "7\n",
            "8\n",
            "9\n"
          ]
        }
      ]
    },
    {
      "cell_type": "markdown",
      "source": [
        "          'while' loop: Repeats as long as a condition is True, and stops\n",
        "          when the condition becomes False."
      ],
      "metadata": {
        "id": "aTNn4jTHgEkU"
      }
    },
    {
      "cell_type": "code",
      "source": [
        "#Example for while loop for getting the same output as the 'for' loop's example discussed above.\n",
        "i = 0\n",
        "while i < 10:\n",
        "    print(i)\n",
        "    i += 1"
      ],
      "metadata": {
        "colab": {
          "base_uri": "https://localhost:8080/"
        },
        "collapsed": true,
        "id": "vPofi4L5gLyb",
        "outputId": "04eaa497-052e-4ad0-9b5c-0621a63ea102"
      },
      "execution_count": null,
      "outputs": [
        {
          "output_type": "stream",
          "name": "stdout",
          "text": [
            "0\n",
            "1\n",
            "2\n",
            "3\n",
            "4\n",
            "5\n",
            "6\n",
            "7\n",
            "8\n",
            "9\n"
          ]
        }
      ]
    },
    {
      "cell_type": "markdown",
      "source": [
        "Que14: Describe a scenario where a while loop is more suitable than a for loop.\n",
        "\n",
        "Ans14:\n",
        "\n",
        "          A while loop is ideal when the number of iterations is unknown\n",
        "          and depends on a condition, such as waiting for valid user input\n",
        "          or monitoring a changing condition."
      ],
      "metadata": {
        "id": "DoK7vlUEgpyn"
      }
    },
    {
      "cell_type": "code",
      "source": [
        "#Keep asking the user to guess a number until they get it right.\n",
        "\n",
        "correct_num = 7\n",
        "guess = -1\n",
        "\n",
        "while guess != correct_num:\n",
        "    guess = int(input(\"Guess the number (between 1 and 10): \"))\n",
        "    if guess != correct_num:\n",
        "        print(\"Try again!\")\n",
        "\n",
        "print(\"Correct! You've guessed the number.\")\n"
      ],
      "metadata": {
        "colab": {
          "base_uri": "https://localhost:8080/"
        },
        "collapsed": true,
        "id": "qEUgtguyhbqA",
        "outputId": "91b640a2-591c-4ec7-9a63-ec79e6932c67"
      },
      "execution_count": null,
      "outputs": [
        {
          "output_type": "stream",
          "name": "stdout",
          "text": [
            "Guess the number (between 1 and 10): 2\n",
            "Try again!\n",
            "Guess the number (between 1 and 10): 8\n",
            "Try again!\n",
            "Guess the number (between 1 and 10): 7\n",
            "Correct! You've guessed the number.\n"
          ]
        }
      ]
    },
    {
      "cell_type": "markdown",
      "source": [
        "**Practical questions:**\n",
        "\n",
        "Que1.  Write a Python program to print \"Hello, World!\"."
      ],
      "metadata": {
        "id": "wAz0LLfziCgb"
      }
    },
    {
      "cell_type": "code",
      "source": [
        "#Ans:1\n",
        "print(\"Hello, World!\")"
      ],
      "metadata": {
        "colab": {
          "base_uri": "https://localhost:8080/"
        },
        "collapsed": true,
        "id": "gq0r2pNWiTIA",
        "outputId": "21bada44-350f-4b51-bdf3-9e428104c4e8"
      },
      "execution_count": null,
      "outputs": [
        {
          "output_type": "stream",
          "name": "stdout",
          "text": [
            "Hello, World!\n"
          ]
        }
      ]
    },
    {
      "cell_type": "markdown",
      "source": [
        "Que2: Write a Python program that displays your name and age."
      ],
      "metadata": {
        "id": "8k6_98QwigKR"
      }
    },
    {
      "cell_type": "code",
      "source": [
        "#Ans2: Python program to display my name and age.\n",
        "name = \" Anshu Shrivastava\"\n",
        "age= 30\n",
        "print(f\"\"\"Hello, My name is :{name}\n",
        "      And my age is: {age} years old.\"\"\")"
      ],
      "metadata": {
        "colab": {
          "base_uri": "https://localhost:8080/"
        },
        "id": "oSHPILr4imo_",
        "outputId": "1432e1e1-d836-4ba1-d06b-997c0b8e0d78"
      },
      "execution_count": null,
      "outputs": [
        {
          "output_type": "stream",
          "name": "stdout",
          "text": [
            "Hello, My name is : Anshu Shrivastava\n",
            "      And my age is: 30 years old.\n"
          ]
        }
      ]
    },
    {
      "cell_type": "markdown",
      "source": [
        "Que3: Write code to print all the pre-defined keywords in Python using the keyword library."
      ],
      "metadata": {
        "id": "XkXzkcrxjzvh"
      }
    },
    {
      "cell_type": "code",
      "source": [
        "#Ans3: Python program to print all the pre-defined keywords in Python using the keyword library.\n",
        "\n",
        "import keyword\n",
        "for kw in keyword.kwlist:\n",
        "    print(kw)"
      ],
      "metadata": {
        "colab": {
          "base_uri": "https://localhost:8080/"
        },
        "collapsed": true,
        "id": "dfcwzuFCj-YD",
        "outputId": "0b5a3579-6c9b-4b6a-e9e2-2fc1948a6a1a"
      },
      "execution_count": null,
      "outputs": [
        {
          "output_type": "stream",
          "name": "stdout",
          "text": [
            "False\n",
            "None\n",
            "True\n",
            "and\n",
            "as\n",
            "assert\n",
            "async\n",
            "await\n",
            "break\n",
            "class\n",
            "continue\n",
            "def\n",
            "del\n",
            "elif\n",
            "else\n",
            "except\n",
            "finally\n",
            "for\n",
            "from\n",
            "global\n",
            "if\n",
            "import\n",
            "in\n",
            "is\n",
            "lambda\n",
            "nonlocal\n",
            "not\n",
            "or\n",
            "pass\n",
            "raise\n",
            "return\n",
            "try\n",
            "while\n",
            "with\n",
            "yield\n"
          ]
        }
      ]
    },
    {
      "cell_type": "markdown",
      "source": [
        "Que4:  Write a program that checks if a given word is a Python keyword."
      ],
      "metadata": {
        "id": "44BbThiYkqx_"
      }
    },
    {
      "cell_type": "code",
      "source": [
        "#Ans4:\n",
        "\n",
        "import keyword\n",
        "\n",
        "word = input(\"Enter a word: \")\n",
        "\n",
        "# Check if the word is a Python keyword\n",
        "if keyword.iskeyword(word):\n",
        "    print(f\"'{word}' is a Python keyword.\")\n",
        "else:\n",
        "    print(f\"'{word}' is not a Python keyword.\")\n"
      ],
      "metadata": {
        "colab": {
          "base_uri": "https://localhost:8080/"
        },
        "id": "JBwRjUQelHhn",
        "outputId": "8021573a-9d06-4956-fd84-9a104ef10162"
      },
      "execution_count": null,
      "outputs": [
        {
          "output_type": "stream",
          "name": "stdout",
          "text": [
            "Enter a word: and\n",
            "'and' is a Python keyword.\n"
          ]
        }
      ]
    },
    {
      "cell_type": "markdown",
      "source": [
        "Que5: Create a list and tuple in Python, and demonstrate how attempting to change an element works differently for each."
      ],
      "metadata": {
        "id": "zLrTe4IblfRQ"
      }
    },
    {
      "cell_type": "code",
      "source": [
        "#Ans5:\n",
        "\n",
        "l = [1, 2, 3, 4]                      #List\n",
        "t = (1, 2, 3, 4)                      #Tuple\n",
        "\n",
        "# Attempting to change an element in the list (mutable)\n",
        "l[0] = 150\n",
        "print(\"List after modification:\", l)\n",
        "\n",
        "# Attempting to change an element in the tuple (immutable)\n",
        "try:\n",
        "    t[0] = 100\n",
        "except TypeError as e:\n",
        "    print(\"Error while modifying tuple:\", e)  # Output: 'tuple' object does not support item assignment\n"
      ],
      "metadata": {
        "colab": {
          "base_uri": "https://localhost:8080/"
        },
        "id": "bEJ0Qpjbu79Y",
        "outputId": "cac0a015-d990-4c41-aa02-de856907e7bd"
      },
      "execution_count": null,
      "outputs": [
        {
          "output_type": "stream",
          "name": "stdout",
          "text": [
            "List after modification: [150, 2, 3, 4]\n",
            "Error while modifying tuple: 'tuple' object does not support item assignment\n"
          ]
        }
      ]
    },
    {
      "cell_type": "markdown",
      "source": [
        "Que6: Write a function to demonstrate the behavior of mutable and immutable arguments."
      ],
      "metadata": {
        "id": "Wpjcbq64YUup"
      }
    },
    {
      "cell_type": "code",
      "source": [
        "#Ans6:\n",
        "def modify_arguments(mutable_arg, immutable_arg):\n",
        "    # Modifying mutable argument (list)\n",
        "    mutable_arg.append(100)\n",
        "\n",
        "    # Attempting to modify immutable argument (integer)\n",
        "    immutable_arg += 10\n",
        "\n",
        "    print(\"Inside function:\")\n",
        "    print(f\"Mutable argument (list): {mutable_arg}\")\n",
        "    print(f\"Immutable argument (integer): {immutable_arg}\")\n",
        "\n",
        "# Creating a mutable and an immutable argument\n",
        "my_list = [1, 2, 3]\n",
        "my_int = 5\n",
        "\n",
        "# Calling the function\n",
        "modify_arguments(my_list, my_int)\n",
        "\n",
        "# Checking the values after the function call\n",
        "print(\"\\nOutside function:\")\n",
        "print(f\"Mutable argument (list) after function call: {my_list}\")\n",
        "print(f\"Immutable argument (integer) after function call: {my_int}\")\n"
      ],
      "metadata": {
        "colab": {
          "base_uri": "https://localhost:8080/"
        },
        "id": "BxUlh3Mtndi2",
        "outputId": "60dc2040-6732-44e5-ce15-c5e8e7e38653"
      },
      "execution_count": null,
      "outputs": [
        {
          "output_type": "stream",
          "name": "stdout",
          "text": [
            "Inside function:\n",
            "Mutable argument (list): [1, 2, 3, 100]\n",
            "Immutable argument (integer): 15\n",
            "\n",
            "Outside function:\n",
            "Mutable argument (list) after function call: [1, 2, 3, 100]\n",
            "Immutable argument (integer) after function call: 5\n"
          ]
        }
      ]
    },
    {
      "cell_type": "markdown",
      "source": [
        "Que7: Write a program that performs basic arithmetic operations on two user-input numbers."
      ],
      "metadata": {
        "id": "AZ_lxBYfnpg7"
      }
    },
    {
      "cell_type": "code",
      "source": [
        "#Ans7:\n",
        "\n",
        "x = float(input(\"Enter the first number = \"))\n",
        "y = float(input(\"Enter the second number = \"))\n",
        "\n",
        "print(\"Arithmetic Operations:\")\n",
        "print(f\"Addition of {x} and {y} = {x+y}\")\n",
        "print(f\"Subtraction of {x} from {y} = {x-y}\")\n",
        "print(f\"Multiplication of {x} and {y} = {x*y}\")\n",
        "if y==0:\n",
        " print(f\"Division of {x} by zero is not allowed.\")\n",
        "else:\n",
        "  print(f\"Division of {x} by {y} = {x/y}\")\n"
      ],
      "metadata": {
        "colab": {
          "base_uri": "https://localhost:8080/"
        },
        "collapsed": true,
        "id": "4XowCeRbn1ZT",
        "outputId": "4d9329d7-ef3c-4a95-e16b-fb537b2c033f"
      },
      "execution_count": null,
      "outputs": [
        {
          "output_type": "stream",
          "name": "stdout",
          "text": [
            "Enter the first number = 2\n",
            "Enter the second number = 0\n",
            "Arithmetic Operations:\n",
            "Addition of 2.0 and 0.0 = 2.0\n",
            "Subtraction of 2.0 from 0.0 = 2.0\n",
            "Multiplication of 2.0 and 0.0 = 0.0\n",
            "Division of 2.0 by zero is not allowed.\n"
          ]
        }
      ]
    },
    {
      "cell_type": "markdown",
      "source": [
        "Que8: Write a program to demonstrate the use of logical operators."
      ],
      "metadata": {
        "id": "wRBNqNPitv9M"
      }
    },
    {
      "cell_type": "code",
      "source": [
        "#Ans8:\n",
        "\n",
        "x = int(input(\"Enter a number for x: \"))\n",
        "y = int(input(\"Enter a number for y: \"))\n",
        "\n",
        "# Using 'and' logical operator\n",
        "if x > 5 and y < 15:\n",
        "    print(f\"Both conditions are True: x ({x}) > 5 and y ({y}) < 15.\")\n",
        "else:\n",
        "    print(f\"One or both conditions are False: x ({x}) > 5 or y ({y}) < 15.\")\n",
        "\n",
        "# Using 'or' logical operator\n",
        "if x < 10 or y > 25:\n",
        "    print(f\"At least one condition is True: x ({x}) < 10 or y ({y}) > 25.\")\n",
        "else:\n",
        "    print(f\"Both conditions are False: x ({x}) < 10 and y ({y}) > 25.\")\n",
        "\n",
        "# Using 'not' logical operator\n",
        "if not (x == y):\n",
        "    print(f\"x ({x}) is not equal to y ({y}).\")\n",
        "else:\n",
        "    print(f\"x ({x}) is equal to y ({y}).\")\n"
      ],
      "metadata": {
        "colab": {
          "base_uri": "https://localhost:8080/"
        },
        "collapsed": true,
        "id": "NPWxbT0ut25n",
        "outputId": "88558367-3a83-449f-eacf-37280a556419"
      },
      "execution_count": null,
      "outputs": [
        {
          "output_type": "stream",
          "name": "stdout",
          "text": [
            "Enter a number for x: 11\n",
            "Enter a number for y: 11\n",
            "Both conditions are True: x (11) > 5 and y (11) < 15.\n",
            "Both conditions are False: x (11) < 10 and y (11) > 25.\n",
            "x (11) is equal to y (11).\n"
          ]
        },
        {
          "output_type": "execute_result",
          "data": {
            "text/plain": [
              "1"
            ]
          },
          "metadata": {},
          "execution_count": 14
        }
      ]
    },
    {
      "cell_type": "markdown",
      "source": [
        "Que9: Write a Python program to convert user input from string to integer, float, and boolean types."
      ],
      "metadata": {
        "id": "Yz7MobaM9jjF"
      }
    },
    {
      "cell_type": "code",
      "source": [
        "#Ans9\n",
        "x = input(\"Enter a value: \")\n",
        "\n",
        "print(\"WELCOME TO CONVERSION ARENA:\")\n",
        "\n",
        "#Converting to Integer value:\n",
        "try:\n",
        "        i_val = int(x)\n",
        "        print(f\"Converted Integer value = {i_val}\")\n",
        "except ValueError:\n",
        "        print(\"Cannot be converted to integer.\")\n",
        "\n",
        "#Converting to Float value:\n",
        "\n",
        "try:\n",
        "      f_val = float(x)\n",
        "      print(f\"Converted Float value = {f_val}\")\n",
        "except ValueError:\n",
        "      print(\"Cannot be converted to float.\")\n",
        "\n",
        "# Converting to Boolean value:\n",
        "# For boolean conversion, we check if the input is given in following ways\n",
        "if x.lower() in ['true', '1', 't', 'yes', 'y']:\n",
        "    bval = True\n",
        "elif x.lower() in ['false', '0', 'f', 'no', 'n']:\n",
        "    bval = False\n",
        "else:\n",
        "    bval = bool(x)\n",
        "print(f\"Boolean value: {bval}\")\n"
      ],
      "metadata": {
        "colab": {
          "base_uri": "https://localhost:8080/"
        },
        "collapsed": true,
        "id": "WZysLvsa9svU",
        "outputId": "41b1ad05-f26f-43a1-e8a6-ea326afa7910"
      },
      "execution_count": null,
      "outputs": [
        {
          "output_type": "stream",
          "name": "stdout",
          "text": [
            "Enter a value: two\n",
            "WELCOME TO CONVERSION ARENA:\n",
            "Cannot be converted to integer.\n",
            "Cannot be converted to float.\n",
            "Boolean value: True\n"
          ]
        }
      ]
    },
    {
      "cell_type": "markdown",
      "source": [
        "Que10: Write code to demonstrate type casting with list elements."
      ],
      "metadata": {
        "id": "Zgn7Z2hOFm5r"
      }
    },
    {
      "cell_type": "code",
      "source": [
        "#Ans10:\n",
        "\n",
        "L = ['1', 2, 3.5, '4.5', True]\n",
        "\n",
        "# Convert all elements to integers (only for strings that represent integers, and floats)\n",
        "ilist = [int(float(item)) if isinstance(item, (str, float)) else item for item in L]   #intlist\n",
        "\n",
        "# Convert all elements to floats (only for strings that represent floats or integers)\n",
        "flist = [float(item) if isinstance(item, (str, int)) else item for item in L]             #floatlist\n",
        "\n",
        "# Convert all elements to strings\n",
        "slist = [str(item) for item in L]                                                                            #stringlist\n",
        "\n",
        "print(\"Original List:\", L)\n",
        "print(\"Typecasted Integers list:\", ilist)\n",
        "print(\"Typecasted Float list:\", flist)\n",
        "print(\"Typecasted String list:\", slist)\n"
      ],
      "metadata": {
        "colab": {
          "base_uri": "https://localhost:8080/"
        },
        "id": "kbLj82HEFwLs",
        "outputId": "3b98452c-e7c0-48d8-b751-ef1c2f022c60"
      },
      "execution_count": null,
      "outputs": [
        {
          "output_type": "stream",
          "name": "stdout",
          "text": [
            "Original List: ['1', 2, 3.5, '4.5', True]\n",
            "Typecasted Integers list: [1, 2, 3, 4, True]\n",
            "Typecasted Float list: [1.0, 2.0, 3.5, 4.5, 1.0]\n",
            "Typecasted String list: ['1', '2', '3.5', '4.5', 'True']\n"
          ]
        }
      ]
    },
    {
      "cell_type": "markdown",
      "source": [
        "Que11: Write a program that checks if a number is positive, negative, or zero."
      ],
      "metadata": {
        "id": "ApBgmKaHOyJ_"
      }
    },
    {
      "cell_type": "code",
      "source": [
        "#Ans11:\n",
        "number = float(input(\"Enter the value to check whether it is negative, positive, or equivalent to zero:\"))\n",
        "\n",
        "# Check if the number is positive, negative, or zero\n",
        "if number > 0:\n",
        "    print(\"The number is positive.\")\n",
        "elif number < 0:\n",
        "    print(\"The number is negative.\")\n",
        "else:\n",
        "    print(\"The number is zero.\")\n",
        "\n"
      ],
      "metadata": {
        "colab": {
          "base_uri": "https://localhost:8080/"
        },
        "collapsed": true,
        "id": "V2H8mcyvO6tj",
        "outputId": "28c958e8-48d9-4d24-dae6-ddf2d1eb22d5"
      },
      "execution_count": null,
      "outputs": [
        {
          "output_type": "stream",
          "name": "stdout",
          "text": [
            "Enter the value to check whether it is negative, positive, or equivalent to zero:2.56\n",
            "The number is positive.\n"
          ]
        }
      ]
    },
    {
      "cell_type": "markdown",
      "source": [
        "Que12: Write a for loop to print numbers from 1 to 10."
      ],
      "metadata": {
        "id": "oG-KLKhmw3af"
      }
    },
    {
      "cell_type": "code",
      "source": [
        "#Ans12:\n",
        "print(\"Using 'for' loop to print numbers from 1 to 10 (every number in next line):\")\n",
        "for i in range(1,11):\n",
        "      print(i)\n",
        "      i=i+1\n",
        "print(\"'For' loop to print number from 1 to 10 (every number with single space distance):\")\n",
        "for j in range(1,11):\n",
        "      print(j, end=\" \")\n",
        "      j=j+1"
      ],
      "metadata": {
        "colab": {
          "base_uri": "https://localhost:8080/"
        },
        "id": "LcJXDBf4w9R2",
        "outputId": "c24f6b86-e018-4a66-9d9f-71239cc5db79"
      },
      "execution_count": null,
      "outputs": [
        {
          "output_type": "stream",
          "name": "stdout",
          "text": [
            "Using 'for' loop to print numbers from 1 to 10 (every number in next line):\n",
            "1\n",
            "2\n",
            "3\n",
            "4\n",
            "5\n",
            "6\n",
            "7\n",
            "8\n",
            "9\n",
            "10\n",
            "'For' loop to print number from 1 to 10 (every number with single space distance):\n",
            "1 2 3 4 5 6 7 8 9 10 "
          ]
        }
      ]
    },
    {
      "cell_type": "markdown",
      "source": [
        "Que13: Write a Python program to find the sum of all even numbers between 1 and 50."
      ],
      "metadata": {
        "id": "GfRwDeWFyLMe"
      }
    },
    {
      "cell_type": "code",
      "source": [
        "#Ans13:\n",
        "sum=0\n",
        "for i in range(0,51):\n",
        "  if i%2==0:\n",
        "     sum=sum+i\n",
        "print(f\"The sum of all the even numbers between 1 and 50 = {sum}\")"
      ],
      "metadata": {
        "colab": {
          "base_uri": "https://localhost:8080/"
        },
        "id": "6l6CLJEDyQzk",
        "outputId": "29e1d603-6e8d-45a7-b2fd-847aa95255ed"
      },
      "execution_count": null,
      "outputs": [
        {
          "output_type": "stream",
          "name": "stdout",
          "text": [
            "The sum of all the even numbers between 1 and 50 = 650\n"
          ]
        }
      ]
    },
    {
      "cell_type": "markdown",
      "source": [
        "Que14: Write a program to reverse a string using a while loop."
      ],
      "metadata": {
        "id": "TWKQezES0CMa"
      }
    },
    {
      "cell_type": "code",
      "source": [
        "#Ans14:\n",
        "st = input(\"Enter a word to be reversed: \")\n",
        "\n",
        "reversed_string = \"\"\n",
        "index = len(st) - 1\n",
        "\n",
        "# Use while loop to reverse the string\n",
        "while index >= 0:\n",
        "    reversed_string += st[index]\n",
        "    index -= 1\n",
        "\n",
        "# Print the reversed string\n",
        "print(\"Reversed string:\", reversed_string)\n"
      ],
      "metadata": {
        "colab": {
          "base_uri": "https://localhost:8080/",
          "height": 228
        },
        "collapsed": true,
        "id": "06H6To427Axt",
        "outputId": "ae9ef44d-9b9b-4904-d8a4-9d32ad266daf"
      },
      "execution_count": null,
      "outputs": [
        {
          "name": "stdout",
          "output_type": "stream",
          "text": [
            "Enter a word to be reversed: BAC\n"
          ]
        },
        {
          "output_type": "error",
          "ename": "TypeError",
          "evalue": "'int' object is not callable",
          "traceback": [
            "\u001b[0;31m---------------------------------------------------------------------------\u001b[0m",
            "\u001b[0;31mTypeError\u001b[0m                                 Traceback (most recent call last)",
            "\u001b[0;32m<ipython-input-29-7926e8d387ff>\u001b[0m in \u001b[0;36m<cell line: 0>\u001b[0;34m()\u001b[0m\n\u001b[1;32m      2\u001b[0m \u001b[0;34m\u001b[0m\u001b[0m\n\u001b[1;32m      3\u001b[0m \u001b[0mreversed_string\u001b[0m \u001b[0;34m=\u001b[0m \u001b[0;34m\"\"\u001b[0m\u001b[0;34m\u001b[0m\u001b[0;34m\u001b[0m\u001b[0m\n\u001b[0;32m----> 4\u001b[0;31m \u001b[0mindex\u001b[0m \u001b[0;34m=\u001b[0m \u001b[0mlen\u001b[0m\u001b[0;34m(\u001b[0m\u001b[0mst\u001b[0m\u001b[0;34m)\u001b[0m \u001b[0;34m-\u001b[0m \u001b[0;36m1\u001b[0m\u001b[0;34m\u001b[0m\u001b[0;34m\u001b[0m\u001b[0m\n\u001b[0m\u001b[1;32m      5\u001b[0m \u001b[0;34m\u001b[0m\u001b[0m\n\u001b[1;32m      6\u001b[0m \u001b[0;31m# Use while loop to reverse the string\u001b[0m\u001b[0;34m\u001b[0m\u001b[0;34m\u001b[0m\u001b[0m\n",
            "\u001b[0;31mTypeError\u001b[0m: 'int' object is not callable"
          ]
        }
      ]
    },
    {
      "cell_type": "markdown",
      "source": [
        "Que15: Write a Python program to calculate the factorial of a number provided by the user using a while loop."
      ],
      "metadata": {
        "id": "KI8IeKw57WcH"
      }
    },
    {
      "cell_type": "code",
      "source": [
        "#Ans15:\n",
        "\n",
        "num = int(input(\"Enter a number to calculate its factorial: \"))\n",
        "\n",
        "factorial = 1\n",
        "\n",
        "# Check if the number is negative, zero, or positive\n",
        "if num < 0:\n",
        "    print(\"Factorial does not exist for negative numbers.\")\n",
        "elif num == 0:\n",
        "    print(\"The factorial of 0 is 1.\")\n",
        "else:\n",
        "    while num > 0:\n",
        "        factorial *= num\n",
        "        num -= 1\n",
        "\n",
        "    print(\"The factorial is:\", factorial)\n"
      ],
      "metadata": {
        "colab": {
          "base_uri": "https://localhost:8080/"
        },
        "id": "xcR-nZp87fPt",
        "outputId": "f626d03c-5b77-40c8-d8fd-c6bf68ffda83"
      },
      "execution_count": null,
      "outputs": [
        {
          "output_type": "stream",
          "name": "stdout",
          "text": [
            "Enter a number to calculate its factorial: 6\n",
            "The factorial is: 720\n"
          ]
        }
      ]
    }
  ]
}