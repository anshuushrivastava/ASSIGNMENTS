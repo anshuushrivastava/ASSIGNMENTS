{
  "cells": [
    {
      "cell_type": "markdown",
      "id": "a3d51b5f",
      "metadata": {
        "id": "a3d51b5f"
      },
      "source": [
        "#Theoretical Questions"
      ]
    },
    {
      "cell_type": "markdown",
      "id": "0be0f1ce",
      "metadata": {
        "id": "0be0f1ce"
      },
      "source": [
        "Que1: What is a Support Vector Machine (SVM)?\n",
        "\n",
        "Ans1: A Support Vector Machine (SVM) is a supervised machine learning algorithm used for classification and regression tasks. It finds the optimal hyperplane that best separates data into classes by maximizing the margin between them. SVM is effective in high-dimensional spaces and is versatile due to its ability to use kernel functions."
      ]
    },
    {
      "cell_type": "markdown",
      "id": "35f14ee2",
      "metadata": {
        "id": "35f14ee2"
      },
      "source": [
        "Que2: What is the difference between Hard Margin and Soft Margin SVM?\n",
        "\n",
        "Ans2: Hard Margin SVM assumes data is perfectly linearly separable and finds a hyperplane with maximum margin and no misclassifications. Soft Margin SVM, on the other hand, allows some misclassifications to balance margin maximization and classification error, making it suitable for noisy and non-linearly separable data."
      ]
    },
    {
      "cell_type": "markdown",
      "id": "791e0c28",
      "metadata": {
        "id": "791e0c28"
      },
      "source": [
        "Que3: What is the mathematical intuition behind SVM?\n",
        "\n",
        "Ans3: SVM aims to find the hyperplane that maximizes the margin between classes. Mathematically, this is achieved by minimizing a loss function with constraints, using dot products to measure distances and angles between data points and the decision boundary. This optimization ensures a robust classifier."
      ]
    },
    {
      "cell_type": "markdown",
      "id": "16728208",
      "metadata": {
        "id": "16728208"
      },
      "source": [
        "Q4: What is the role of Lagrange Multipliers in SVM?\n",
        "\n",
        "Ans4: Lagrange Multipliers are used in SVM to convert a constrained optimization problem into a solvable dual problem. They help incorporate the constraints (correct classification) into the objective function, making it easier to solve using optimization techniques and enabling the use of kernels."
      ]
    },
    {
      "cell_type": "markdown",
      "id": "556f5986",
      "metadata": {
        "id": "556f5986"
      },
      "source": [
        "Que5: What are Support Vectors in SVM?\n",
        "\n",
        "Ans5: Support Vectors are the data points closest to the decision boundary or hyperplane. These points are critical as they define the position and orientation of the hyperplane. Only these vectors influence the classifier, making SVM efficient and robust to irrelevant data."
      ]
    },
    {
      "cell_type": "markdown",
      "id": "189c7cf5",
      "metadata": {
        "id": "189c7cf5"
      },
      "source": [
        "Que6: What is a Support Vector Classifier (SVC)?\n",
        "\n",
        "Ans6: A Support Vector Classifier (SVC) is the implementation of the SVM algorithm used for classification tasks. It separates data into classes by finding the optimal hyperplane with maximum margin. SVC can handle linear and non-linear classification using kernel functions."
      ]
    },
    {
      "cell_type": "markdown",
      "id": "cc2777bf",
      "metadata": {
        "id": "cc2777bf"
      },
      "source": [
        "Que7: What is a Support Vector Regressor (SVR)?\n",
        "\n",
        "Ans7: Support Vector Regressor (SVR) is the regression counterpart of SVM. Instead of maximizing the margin between classes, SVR attempts to fit the best line within a margin of tolerance. It ignores errors within this margin and penalizes errors outside it, ensuring robustness."
      ]
    },
    {
      "cell_type": "markdown",
      "id": "46cb8407",
      "metadata": {
        "id": "46cb8407"
      },
      "source": [
        "Que8: What is the Kernel Trick in SVM?\n",
        "\n",
        "Ans8: The Kernel Trick allows SVM to operate in a high-dimensional feature space without explicitly transforming data. It uses kernel functions (like polynomial or RBF) to compute inner products in this space, enabling SVM to handle complex, non-linear relationships in the input space."
      ]
    },
    {
      "cell_type": "markdown",
      "id": "423df0ae",
      "metadata": {
        "id": "423df0ae"
      },
      "source": [
        "Que9: Compare Linear Kernel, Polynomial Kernel, and RBF Kernel?\n",
        "\n",
        "Ans9: Linear Kernel is best for linearly separable data. Polynomial Kernel maps data into a higher-degree polynomial space, capturing interactions between features. RBF (Radial Basis Function) Kernel is powerful for non-linear data, mapping inputs into an infinite-dimensional space to handle complex boundaries."
      ]
    },
    {
      "cell_type": "markdown",
      "id": "cfd4d1d4",
      "metadata": {
        "id": "cfd4d1d4"
      },
      "source": [
        "Que10: What is the effect of the C parameter in SVM?\n",
        "\n",
        "Ans10: The C parameter controls the trade-off between maximizing the margin and minimizing classification error. A small C results in a wider margin but more misclassifications. A large C focuses on classifying all training examples correctly, potentially leading to overfitting."
      ]
    },
    {
      "cell_type": "markdown",
      "id": "da253c89",
      "metadata": {
        "id": "da253c89"
      },
      "source": [
        "Que11: What is the role of the Gamma parameter in RBF Kernel SVM?\n",
        "\n",
        "Ans11: Gamma defines how far the influence of a single training example reaches. Low gamma means far reach, leading to smoother decision boundaries. High gamma leads to narrow reach, capturing more complex patterns but risking overfitting. It affects model flexibility."
      ]
    },
    {
      "cell_type": "markdown",
      "id": "4e8591f2",
      "metadata": {
        "id": "4e8591f2"
      },
      "source": [
        "Que12: What is the Naïve Bayes classifier, and why is it called \"Naïve\"?\n",
        "\n",
        "Ans12: Naïve Bayes is a probabilistic classifier based on Bayes’ Theorem, assuming independence between features. It’s called \"naïve\" because it assumes that all features contribute independently to the outcome, which is rarely true in practice but works well for many applications."
      ]
    },
    {
      "cell_type": "markdown",
      "id": "927edf9d",
      "metadata": {
        "id": "927edf9d"
      },
      "source": [
        "Que13: What is Bayes Theorem?\n",
        "\n",
        "Ans13: Bayes Theorem describes the probability of an event based on prior knowledge of related conditions. Mathematically: P(A|B) = (P(B|A) * P(A)) / P(B). Its fundamental in probabilistic inference, forming the basis of the Naïve Bayes classifier."
      ]
    },
    {
      "cell_type": "markdown",
      "id": "9f2e7afe",
      "metadata": {
        "id": "9f2e7afe"
      },
      "source": [
        "Que14: Explain the differences between Gaussian Naïve Bayes, Multinomial Naïve Bayes, and Bernoulli Naïve Bayes?\n",
        "\n",
        "Ans14: Gaussian Naïve Bayes assumes features are normally distributed, suitable for continuous data. Multinomial Naïve Bayes models count-based features like word frequencies. Bernoulli Naïve Bayes handles binary features (e.g., word presence/absence), making each suitable for specific data types."
      ]
    },
    {
      "cell_type": "markdown",
      "id": "c3e91941",
      "metadata": {
        "id": "c3e91941"
      },
      "source": [
        "Que15: When should you use Gaussian Naïve Bayes over other variants?\n",
        "\n",
        "Ans15: Gaussian Naïve Bayes is ideal when input features are continuous and normally distributed. It is commonly used in real-valued data scenarios, such as sensor measurements or numeric attributes in datasets, where the normal distribution assumption holds."
      ]
    },
    {
      "cell_type": "markdown",
      "id": "d8ea843e",
      "metadata": {
        "id": "d8ea843e"
      },
      "source": [
        "Que16: What are the key assumptions made by Naïve Bayes?\n",
        "\n",
        "Ans16: Naïve Bayes assumes all features are conditionally independent given the class label. It also assumes that each feature contributes equally and independently to the probability of the class, which simplifies computation but may not always reflect real-world data."
      ]
    },
    {
      "cell_type": "markdown",
      "id": "6b254b13",
      "metadata": {
        "id": "6b254b13"
      },
      "source": [
        "Que17: What are the advantages and disadvantages of Naïve Bayes?\n",
        "\n",
        "Ans17: Advantages: Simple, fast, performs well on large datasets, and requires little training data. Disadvantages: Strong independence assumptions rarely hold, leading to reduced accuracy when features are correlated. It can also struggle with rare feature-class combinations."
      ]
    },
    {
      "cell_type": "markdown",
      "id": "6d19f2e6",
      "metadata": {
        "id": "6d19f2e6"
      },
      "source": [
        "Que18: Why is Naïve Bayes a good choice for text classification?\n",
        "\n",
        "Ans18: Naïve Bayes performs well for text classification due to the high dimensionality and sparsity of text data. It handles large feature spaces efficiently, and the conditional independence assumption works reasonably well in practice for bag-of-words models."
      ]
    },
    {
      "cell_type": "markdown",
      "id": "3240e4c6",
      "metadata": {
        "id": "3240e4c6"
      },
      "source": [
        "Que19: Compare SVM and Naïve Bayes for classification tasks?\n",
        "\n",
        "Ans19: SVM is more flexible and accurate for complex, high-dimensional problems, especially with kernels. Naïve Bayes is faster and works well with limited data, particularly in text classification. SVM often performs better but requires more computational resources."
      ]
    },
    {
      "cell_type": "markdown",
      "id": "69d1f40a",
      "metadata": {
        "id": "69d1f40a"
      },
      "source": [
        "Que20: How does Laplace Smoothing help in Naïve Bayes?\n",
        "\n",
        "Ans20: Laplace Smoothing addresses the issue of zero probability for unseen feature-class combinations by adding a small constant to all counts. This prevents the model from assigning zero probability to unknown events, improving robustness and generalization."
      ]
    },
    {
      "cell_type": "markdown",
      "source": [
        "#Practical Questions"
      ],
      "metadata": {
        "id": "4n1FvvSZi1IV"
      },
      "id": "4n1FvvSZi1IV"
    },
    {
      "cell_type": "markdown",
      "source": [
        "Que21: Write a Python program to train an SVM Classifier on the Iris dataset and evaluate accuracy"
      ],
      "metadata": {
        "id": "LIzmAUkyi326"
      },
      "id": "LIzmAUkyi326"
    },
    {
      "cell_type": "code",
      "source": [
        "#Ans21:\n",
        "from sklearn import datasets\n",
        "from sklearn.model_selection import train_test_split\n",
        "from sklearn.svm import SVC\n",
        "from sklearn.metrics import accuracy_score\n",
        "\n",
        "iris = datasets.load_iris()\n",
        "X_train, X_test, y_train, y_test = train_test_split(iris.data, iris.target, test_size=0.3, random_state=42)\n",
        "\n",
        "model = SVC()\n",
        "model.fit(X_train, y_train)\n",
        "predictions = model.predict(X_test)\n",
        "\n",
        "print(\"Accuracy:\", accuracy_score(y_test, predictions))\n"
      ],
      "metadata": {
        "colab": {
          "base_uri": "https://localhost:8080/"
        },
        "id": "JNN7oFdQi5Fe",
        "outputId": "0ef36a18-921f-4e26-e11a-cae5a02e20e1"
      },
      "id": "JNN7oFdQi5Fe",
      "execution_count": 1,
      "outputs": [
        {
          "output_type": "stream",
          "name": "stdout",
          "text": [
            "Accuracy: 1.0\n"
          ]
        }
      ]
    },
    {
      "cell_type": "markdown",
      "source": [
        "Que22: Write a Python program to train two SVM classifiers with Linear and RBF kernels on the Wine dataset, then compare their accuracies?\n"
      ],
      "metadata": {
        "id": "H3E5VNLWjKgt"
      },
      "id": "H3E5VNLWjKgt"
    },
    {
      "cell_type": "code",
      "source": [
        "#Ans22:\n",
        "from sklearn import datasets\n",
        "from sklearn.model_selection import train_test_split\n",
        "from sklearn.svm import SVC\n",
        "from sklearn.metrics import accuracy_score\n",
        "\n",
        "wine = datasets.load_wine()\n",
        "X_train, X_test, y_train, y_test = train_test_split(wine.data, wine.target, test_size=0.3, random_state=42)\n",
        "\n",
        "model_linear = SVC(kernel='linear')\n",
        "model_rbf = SVC(kernel='rbf')\n",
        "\n",
        "model_linear.fit(X_train, y_train)\n",
        "model_rbf.fit(X_train, y_train)\n",
        "\n",
        "print(\"Linear Kernel Accuracy:\", accuracy_score(y_test, model_linear.predict(X_test)))\n",
        "print(\"RBF Kernel Accuracy:\", accuracy_score(y_test, model_rbf.predict(X_test)))\n"
      ],
      "metadata": {
        "colab": {
          "base_uri": "https://localhost:8080/"
        },
        "id": "OzYb8mvqkV_Y",
        "outputId": "8747ae0a-2ae3-45a6-8fce-6800ce3ffd1c"
      },
      "id": "OzYb8mvqkV_Y",
      "execution_count": 2,
      "outputs": [
        {
          "output_type": "stream",
          "name": "stdout",
          "text": [
            "Linear Kernel Accuracy: 0.9814814814814815\n",
            "RBF Kernel Accuracy: 0.7592592592592593\n"
          ]
        }
      ]
    },
    {
      "cell_type": "markdown",
      "source": [
        "Que23: Write a Python program to train an SVM Regressor (SVR) on a housing dataset and evaluate it using Mean Squared Error (MSE)?"
      ],
      "metadata": {
        "id": "h7RzyQ3HkTUN"
      },
      "id": "h7RzyQ3HkTUN"
    },
    {
      "cell_type": "code",
      "source": [
        "#Ans23:\n",
        "from sklearn.datasets import fetch_california_housing\n",
        "from sklearn.model_selection import train_test_split\n",
        "from sklearn.svm import SVR\n",
        "from sklearn.metrics import mean_squared_error\n",
        "\n",
        "data = fetch_california_housing()\n",
        "X_train, X_test, y_train, y_test = train_test_split(data.data, data.target, test_size=0.3, random_state=42)\n",
        "\n",
        "model = SVR()\n",
        "model.fit(X_train, y_train)\n",
        "predictions = model.predict(X_test)\n",
        "\n",
        "print(\"MSE:\", mean_squared_error(y_test, predictions))\n"
      ],
      "metadata": {
        "colab": {
          "base_uri": "https://localhost:8080/"
        },
        "id": "c17jKoILkiUE",
        "outputId": "af33be03-89ab-46cf-85e4-518332fd92b3"
      },
      "id": "c17jKoILkiUE",
      "execution_count": 3,
      "outputs": [
        {
          "output_type": "stream",
          "name": "stdout",
          "text": [
            "MSE: 1.3489971413208723\n"
          ]
        }
      ]
    },
    {
      "cell_type": "markdown",
      "source": [
        "Que24: Write a Python program to train an SVM Classifier with a Polynomial Kernel and visualize the decision boundary?"
      ],
      "metadata": {
        "id": "lZSgpbfDkQ-5"
      },
      "id": "lZSgpbfDkQ-5"
    },
    {
      "cell_type": "code",
      "source": [
        "#Ans24:\n",
        "import matplotlib.pyplot as plt\n",
        "from sklearn.datasets import make_moons\n",
        "from sklearn.svm import SVC\n",
        "from mlxtend.plotting import plot_decision_regions\n",
        "\n",
        "X, y = make_moons(n_samples=100, noise=0.1, random_state=0)\n",
        "model = SVC(kernel='poly', degree=3)\n",
        "model.fit(X, y)\n",
        "\n",
        "plot_decision_regions(X=X, y=y, clf=model, legend=2)\n",
        "plt.title(\"SVM with Polynomial Kernel\")\n",
        "plt.show()\n"
      ],
      "metadata": {
        "colab": {
          "base_uri": "https://localhost:8080/",
          "height": 452
        },
        "id": "tDzwlyiTkrQq",
        "outputId": "5d813dfe-ebb9-4159-865b-d3ad238f59c8"
      },
      "id": "tDzwlyiTkrQq",
      "execution_count": 4,
      "outputs": [
        {
          "output_type": "display_data",
          "data": {
            "text/plain": [
              "<Figure size 640x480 with 1 Axes>"
            ],
            "image/png": "[encoded data removed]"
          },
          "metadata": {}
        }
      ]
    },
    {
      "cell_type": "markdown",
      "source": [
        "Que25: Write a Python program to train a Gaussian Naïve Bayes classifier on the Breast Cancer dataset and evaluate accuracy?"
      ],
      "metadata": {
        "id": "ATQ5k0bKkO8A"
      },
      "id": "ATQ5k0bKkO8A"
    },
    {
      "cell_type": "code",
      "source": [
        "#Ans25:\n",
        "from sklearn.datasets import load_breast_cancer\n",
        "from sklearn.model_selection import train_test_split\n",
        "from sklearn.naive_bayes import GaussianNB\n",
        "from sklearn.metrics import accuracy_score\n",
        "\n",
        "data = load_breast_cancer()\n",
        "X_train, X_test, y_train, y_test = train_test_split(data.data, data.target, test_size=0.3, random_state=42)\n",
        "\n",
        "model = GaussianNB()\n",
        "model.fit(X_train, y_train)\n",
        "predictions = model.predict(X_test)\n",
        "\n",
        "print(\"Accuracy:\", accuracy_score(y_test, predictions))\n"
      ],
      "metadata": {
        "colab": {
          "base_uri": "https://localhost:8080/"
        },
        "id": "vVGgMqP4kyPf",
        "outputId": "acb6a357-d5da-4707-94f6-1702fd4d9420"
      },
      "id": "vVGgMqP4kyPf",
      "execution_count": 5,
      "outputs": [
        {
          "output_type": "stream",
          "name": "stdout",
          "text": [
            "Accuracy: 0.9415204678362573\n"
          ]
        }
      ]
    },
    {
      "cell_type": "markdown",
      "source": [
        "Que26: Write a Python program to train a Multinomial Naïve Bayes classifier for text classification using the 20 Newsgroups dataset."
      ],
      "metadata": {
        "id": "mgtuvJ7LkMZP"
      },
      "id": "mgtuvJ7LkMZP"
    },
    {
      "cell_type": "code",
      "source": [
        "#Ans26:\n",
        "from sklearn.datasets import fetch_20newsgroups\n",
        "from sklearn.feature_extraction.text import CountVectorizer\n",
        "from sklearn.naive_bayes import MultinomialNB\n",
        "from sklearn.pipeline import make_pipeline\n",
        "from sklearn.model_selection import train_test_split\n",
        "from sklearn.metrics import accuracy_score\n",
        "\n",
        "data = fetch_20newsgroups(subset='train', remove=('headers', 'footers', 'quotes'))\n",
        "X_train, X_test, y_train, y_test = train_test_split(data.data, data.target, test_size=0.25, random_state=42)\n",
        "\n",
        "model = make_pipeline(CountVectorizer(), MultinomialNB())\n",
        "model.fit(X_train, y_train)\n",
        "predictions = model.predict(X_test)\n",
        "\n",
        "print(\"Accuracy:\", accuracy_score(y_test, predictions))\n"
      ],
      "metadata": {
        "colab": {
          "base_uri": "https://localhost:8080/"
        },
        "id": "qg5rNaPAk5mG",
        "outputId": "1b6c58c3-cc31-43af-e3a3-afcbfb37c877"
      },
      "id": "qg5rNaPAk5mG",
      "execution_count": 6,
      "outputs": [
        {
          "output_type": "stream",
          "name": "stdout",
          "text": [
            "Accuracy: 0.5503711558854719\n"
          ]
        }
      ]
    },
    {
      "cell_type": "markdown",
      "source": [
        "Que27: Write a Python program to train an SVM Classifier with different C values and compare the decision boundaries visually?"
      ],
      "metadata": {
        "id": "_mnDYBrwkKf3"
      },
      "id": "_mnDYBrwkKf3"
    },
    {
      "cell_type": "code",
      "source": [
        "#Ans27:\n",
        "import matplotlib.pyplot as plt\n",
        "from sklearn.datasets import make_classification\n",
        "from sklearn.svm import SVC\n",
        "from mlxtend.plotting import plot_decision_regions\n",
        "\n",
        "X, y = make_classification(n_samples=100, n_features=2, n_redundant=0, n_clusters_per_class=1, random_state=0)\n",
        "\n",
        "plt.figure(figsize=(12, 4))\n",
        "for i, c in enumerate([0.1, 1, 10]):\n",
        "    model = SVC(C=c, kernel='linear')\n",
        "    model.fit(X, y)\n",
        "    plt.subplot(1, 3, i+1)\n",
        "    plot_decision_regions(X, y, clf=model, legend=0)\n",
        "    plt.title(f\"C = {c}\")\n",
        "plt.tight_layout()\n",
        "plt.show()\n"
      ],
      "metadata": {
        "colab": {
          "base_uri": "https://localhost:8080/",
          "height": 407
        },
        "id": "_LEqotLmk_dZ",
        "outputId": "432cb3a2-5ba2-4551-8deb-7645eb7ba505"
      },
      "id": "_LEqotLmk_dZ",
      "execution_count": 7,
      "outputs": [
        {
          "output_type": "display_data",
          "data": {
            "text/plain": [
              "<Figure size 1200x400 with 3 Axes>"
            ],
            "image/png": "[encoded data removed]"
          },
          "metadata": {}
        }
      ]
    },
    {
      "cell_type": "markdown",
      "source": [
        "Que28: Write a Python program to train a Bernoulli Naïve Bayes classifier for binary classification on a dataset with binary features ?"
      ],
      "metadata": {
        "id": "qR3EUeLxkIdJ"
      },
      "id": "qR3EUeLxkIdJ"
    },
    {
      "cell_type": "code",
      "source": [
        "#Ans28:\n",
        "from sklearn.naive_bayes import BernoulliNB\n",
        "from sklearn.datasets import make_classification\n",
        "from sklearn.model_selection import train_test_split\n",
        "from sklearn.metrics import accuracy_score\n",
        "\n",
        "X, y = make_classification(n_samples=1000, n_features=20, n_informative=2, random_state=42)\n",
        "X = (X > 0).astype(int)  # Binarize features\n",
        "X_train, X_test, y_train, y_test = train_test_split(X, y, test_size=0.3, random_state=42)\n",
        "\n",
        "model = BernoulliNB()\n",
        "model.fit(X_train, y_train)\n",
        "predictions = model.predict(X_test)\n",
        "\n",
        "print(\"Accuracy:\", accuracy_score(y_test, predictions))\n"
      ],
      "metadata": {
        "colab": {
          "base_uri": "https://localhost:8080/"
        },
        "id": "CtaXq-nKlNgb",
        "outputId": "2f10b8de-d21a-4e4a-e7ad-8bb8393aa8d9"
      },
      "id": "CtaXq-nKlNgb",
      "execution_count": 8,
      "outputs": [
        {
          "output_type": "stream",
          "name": "stdout",
          "text": [
            "Accuracy: 0.7966666666666666\n"
          ]
        }
      ]
    },
    {
      "cell_type": "markdown",
      "source": [
        "Que29: Write a Python program to apply feature scaling before training an SVM model and compare results with unscaled data ?"
      ],
      "metadata": {
        "id": "gLrJtre5kFRi"
      },
      "id": "gLrJtre5kFRi"
    },
    {
      "cell_type": "code",
      "source": [
        "#Ans29:\n",
        "from sklearn.preprocessing import StandardScaler\n",
        "from sklearn.svm import SVC\n",
        "from sklearn.model_selection import train_test_split\n",
        "from sklearn.datasets import load_iris\n",
        "from sklearn.metrics import accuracy_score\n",
        "\n",
        "iris = load_iris()\n",
        "X_train, X_test, y_train, y_test = train_test_split(iris.data, iris.target, test_size=0.3, random_state=42)\n",
        "\n",
        "# Without Scaling\n",
        "model1 = SVC()\n",
        "model1.fit(X_train, y_train)\n",
        "acc1 = accuracy_score(y_test, model1.predict(X_test))\n",
        "\n",
        "# With Scaling\n",
        "scaler = StandardScaler()\n",
        "X_train_scaled = scaler.fit_transform(X_train)\n",
        "X_test_scaled = scaler.transform(X_test)\n",
        "\n",
        "model2 = SVC()\n",
        "model2.fit(X_train_scaled, y_train)\n",
        "acc2 = accuracy_score(y_test, model2.predict(X_test_scaled))\n",
        "\n",
        "print(\"Without Scaling Accuracy:\", acc1)\n",
        "print(\"With Scaling Accuracy:\", acc2)\n"
      ],
      "metadata": {
        "colab": {
          "base_uri": "https://localhost:8080/"
        },
        "id": "B6qH1uwPrp49",
        "outputId": "d8ecc821-b8f6-490c-b03f-396321b40798"
      },
      "id": "B6qH1uwPrp49",
      "execution_count": 9,
      "outputs": [
        {
          "output_type": "stream",
          "name": "stdout",
          "text": [
            "Without Scaling Accuracy: 1.0\n",
            "With Scaling Accuracy: 1.0\n"
          ]
        }
      ]
    },
    {
      "cell_type": "markdown",
      "source": [
        "Que30: Write a Python program to train a Gaussian Naïve Bayes model and compare the predictions before and after Laplace Smoothing ?"
      ],
      "metadata": {
        "id": "ilBz46NkkDM_"
      },
      "id": "ilBz46NkkDM_"
    },
    {
      "cell_type": "code",
      "source": [
        "#Ans30:\n",
        "from sklearn.datasets import load_breast_cancer\n",
        "from sklearn.model_selection import train_test_split\n",
        "from sklearn.naive_bayes import GaussianNB\n",
        "from sklearn.metrics import accuracy_score\n",
        "import numpy as np\n",
        "\n",
        "data = load_breast_cancer()\n",
        "X_train, X_test, y_train, y_test = train_test_split(data.data, data.target, test_size=0.3, random_state=42)\n",
        "\n",
        "# GaussianNB (no smoothing)\n",
        "model1 = GaussianNB()\n",
        "model1.fit(X_train, y_train)\n",
        "pred1 = model1.predict(X_test)\n",
        "\n",
        "# \"Laplace smoothing\" doesn't directly apply to GaussianNB, but we simulate it by adding noise\n",
        "X_train_smooth = X_train + np.random.normal(0, 0.01, X_train.shape)\n",
        "model2 = GaussianNB()\n",
        "model2.fit(X_train_smooth, y_train)\n",
        "pred2 = model2.predict(X_test)\n",
        "\n",
        "print(\"Original Accuracy:\", accuracy_score(y_test, pred1))\n",
        "print(\"Smoothed Accuracy:\", accuracy_score(y_test, pred2))\n"
      ],
      "metadata": {
        "colab": {
          "base_uri": "https://localhost:8080/"
        },
        "id": "E0x8DEZTrycO",
        "outputId": "ef4e1804-72a2-42c7-aba4-c3a536b3eac3"
      },
      "id": "E0x8DEZTrycO",
      "execution_count": 10,
      "outputs": [
        {
          "output_type": "stream",
          "name": "stdout",
          "text": [
            "Original Accuracy: 0.9415204678362573\n",
            "Smoothed Accuracy: 0.9415204678362573\n"
          ]
        }
      ]
    },
    {
      "cell_type": "markdown",
      "source": [
        "Que31: Write a Python program to train an SVM Classifier and use GridSearchCV to tune the hyperparameters (C, gamma, kernel)?"
      ],
      "metadata": {
        "id": "mYMt5b0Kj83j"
      },
      "id": "mYMt5b0Kj83j"
    },
    {
      "cell_type": "code",
      "source": [
        "#Ans31:\n",
        "from sklearn.model_selection import GridSearchCV\n",
        "from sklearn.svm import SVC\n",
        "from sklearn.datasets import load_iris\n",
        "from sklearn.model_selection import train_test_split\n",
        "\n",
        "X, y = load_iris(return_X_y=True)\n",
        "X_train, X_test, y_train, y_test = train_test_split(X, y, test_size=0.3, random_state=42)\n",
        "\n",
        "params = {'C': [0.1, 1, 10], 'gamma': ['scale', 0.1, 1], 'kernel': ['linear', 'rbf']}\n",
        "grid = GridSearchCV(SVC(), param_grid=params, cv=5)\n",
        "grid.fit(X_train, y_train)\n",
        "\n",
        "print(\"Best parameters:\", grid.best_params_)\n",
        "print(\"Best score:\", grid.best_score_)\n"
      ],
      "metadata": {
        "colab": {
          "base_uri": "https://localhost:8080/"
        },
        "id": "rI-wIDNOr5nD",
        "outputId": "e6b4da56-82f0-4286-c4bc-43ab1e870108"
      },
      "id": "rI-wIDNOr5nD",
      "execution_count": 11,
      "outputs": [
        {
          "output_type": "stream",
          "name": "stdout",
          "text": [
            "Best parameters: {'C': 1, 'gamma': 'scale', 'kernel': 'linear'}\n",
            "Best score: 0.9619047619047618\n"
          ]
        }
      ]
    },
    {
      "cell_type": "markdown",
      "source": [
        "Que32: Write a Python program to train an SVM Classifier on an imbalanced dataset and apply class weighting and check it improve accuracy?"
      ],
      "metadata": {
        "id": "FTRb0HAKj7O_"
      },
      "id": "FTRb0HAKj7O_"
    },
    {
      "cell_type": "code",
      "source": [
        "#Ans32:\n",
        "from sklearn.datasets import make_classification\n",
        "from sklearn.svm import SVC\n",
        "from sklearn.model_selection import train_test_split\n",
        "from sklearn.metrics import classification_report\n",
        "\n",
        "X, y = make_classification(n_samples=1000, weights=[0.9, 0.1], random_state=42)\n",
        "X_train, X_test, y_train, y_test = train_test_split(X, y, test_size=0.3, random_state=42)\n",
        "\n",
        "model = SVC(class_weight='balanced')\n",
        "model.fit(X_train, y_train)\n",
        "pred = model.predict(X_test)\n",
        "\n",
        "print(classification_report(y_test, pred))\n"
      ],
      "metadata": {
        "colab": {
          "base_uri": "https://localhost:8080/"
        },
        "id": "eck-x-6asGHE",
        "outputId": "14c6c492-d1fa-486d-981c-fbedbcc2ece7"
      },
      "id": "eck-x-6asGHE",
      "execution_count": 12,
      "outputs": [
        {
          "output_type": "stream",
          "name": "stdout",
          "text": [
            "              precision    recall  f1-score   support\n",
            "\n",
            "           0       0.95      0.94      0.94       270\n",
            "           1       0.50      0.57      0.53        30\n",
            "\n",
            "    accuracy                           0.90       300\n",
            "   macro avg       0.73      0.75      0.74       300\n",
            "weighted avg       0.91      0.90      0.90       300\n",
            "\n"
          ]
        }
      ]
    },
    {
      "cell_type": "markdown",
      "source": [
        "Que33: Write a Python program to implement a Naïve Bayes classifier for spam detection using email data ?"
      ],
      "metadata": {
        "id": "_RoRJe9Pj4x1"
      },
      "id": "_RoRJe9Pj4x1"
    },
    {
      "cell_type": "code",
      "source": [
        "#Ans33:\n",
        "from sklearn.model_selection import train_test_split\n",
        "from sklearn.feature_extraction.text import CountVectorizer\n",
        "from sklearn.naive_bayes import MultinomialNB\n",
        "from sklearn.metrics import classification_report\n",
        "\n",
        "# Example data\n",
        "emails = [\"Win a free iPhone\", \"Meeting at 10am\", \"Limited time offer!\", \"Lunch with client\", \"Claim your prize now\"]\n",
        "labels = [1, 0, 1, 0, 1]  # 1 = spam, 0 = ham\n",
        "\n",
        "X_train, X_test, y_train, y_test = train_test_split(emails, labels, test_size=0.4, random_state=42)\n",
        "vectorizer = CountVectorizer()\n",
        "X_train_vec = vectorizer.fit_transform(X_train)\n",
        "X_test_vec = vectorizer.transform(X_test)\n",
        "\n",
        "model = MultinomialNB()\n",
        "model.fit(X_train_vec, y_train)\n",
        "pred = model.predict(X_test_vec)\n",
        "\n",
        "print(classification_report(y_test, pred))\n"
      ],
      "metadata": {
        "colab": {
          "base_uri": "https://localhost:8080/"
        },
        "id": "C13ccGsgsa5z",
        "outputId": "9e860a3d-97a5-4cfe-95ae-e9d81f03a652"
      },
      "id": "C13ccGsgsa5z",
      "execution_count": 13,
      "outputs": [
        {
          "output_type": "stream",
          "name": "stdout",
          "text": [
            "              precision    recall  f1-score   support\n",
            "\n",
            "           0       0.00      0.00      0.00         1\n",
            "           1       0.50      1.00      0.67         1\n",
            "\n",
            "    accuracy                           0.50         2\n",
            "   macro avg       0.25      0.50      0.33         2\n",
            "weighted avg       0.25      0.50      0.33         2\n",
            "\n"
          ]
        },
        {
          "output_type": "stream",
          "name": "stderr",
          "text": [
            "/usr/local/lib/python3.11/dist-packages/sklearn/metrics/_classification.py:1565: UndefinedMetricWarning: Precision is ill-defined and being set to 0.0 in labels with no predicted samples. Use `zero_division` parameter to control this behavior.\n",
            "  _warn_prf(average, modifier, f\"{metric.capitalize()} is\", len(result))\n",
            "/usr/local/lib/python3.11/dist-packages/sklearn/metrics/_classification.py:1565: UndefinedMetricWarning: Precision is ill-defined and being set to 0.0 in labels with no predicted samples. Use `zero_division` parameter to control this behavior.\n",
            "  _warn_prf(average, modifier, f\"{metric.capitalize()} is\", len(result))\n",
            "/usr/local/lib/python3.11/dist-packages/sklearn/metrics/_classification.py:1565: UndefinedMetricWarning: Precision is ill-defined and being set to 0.0 in labels with no predicted samples. Use `zero_division` parameter to control this behavior.\n",
            "  _warn_prf(average, modifier, f\"{metric.capitalize()} is\", len(result))\n"
          ]
        }
      ]
    },
    {
      "cell_type": "markdown",
      "source": [
        "Que34: Write a Python program to train an SVM Classifier and a Naïve Bayes Classifier on the same dataset and compare their accuracy?"
      ],
      "metadata": {
        "id": "KKh83t-zj27F"
      },
      "id": "KKh83t-zj27F"
    },
    {
      "cell_type": "code",
      "source": [
        "#Ans34:\n",
        "from sklearn.svm import SVC\n",
        "from sklearn.naive_bayes import GaussianNB\n",
        "from sklearn.datasets import load_wine\n",
        "from sklearn.model_selection import train_test_split\n",
        "from sklearn.metrics import accuracy_score\n",
        "\n",
        "X, y = load_wine(return_X_y=True)\n",
        "X_train, X_test, y_train, y_test = train_test_split(X, y, test_size=0.3, random_state=42)\n",
        "\n",
        "svm_model = SVC()\n",
        "nb_model = GaussianNB()\n",
        "\n",
        "svm_model.fit(X_train, y_train)\n",
        "nb_model.fit(X_train, y_train)\n",
        "\n",
        "print(\"SVM Accuracy:\", accuracy_score(y_test, svm_model.predict(X_test)))\n",
        "print(\"Naïve Bayes Accuracy:\", accuracy_score(y_test, nb_model.predict(X_test)))\n"
      ],
      "metadata": {
        "colab": {
          "base_uri": "https://localhost:8080/"
        },
        "id": "tbTW0iovsh4X",
        "outputId": "1864f4df-1c60-4d7e-ebd1-3ce4556fdfd0"
      },
      "id": "tbTW0iovsh4X",
      "execution_count": 14,
      "outputs": [
        {
          "output_type": "stream",
          "name": "stdout",
          "text": [
            "SVM Accuracy: 0.7592592592592593\n",
            "Naïve Bayes Accuracy: 1.0\n"
          ]
        }
      ]
    },
    {
      "cell_type": "markdown",
      "source": [
        "Que35: Write a Python program to perform feature selection before training a Naïve Bayes classifier and compare results?"
      ],
      "metadata": {
        "id": "kVDYXQ8Jj0Qi"
      },
      "id": "kVDYXQ8Jj0Qi"
    },
    {
      "cell_type": "code",
      "source": [
        "#Ans35:\n",
        "from sklearn.feature_selection import SelectKBest, f_classif\n",
        "from sklearn.naive_bayes import GaussianNB\n",
        "from sklearn.datasets import load_iris\n",
        "from sklearn.model_selection import train_test_split\n",
        "from sklearn.metrics import accuracy_score\n",
        "\n",
        "X, y = load_iris(return_X_y=True)\n",
        "X_new = SelectKBest(f_classif, k=2).fit_transform(X, y)\n",
        "X_train, X_test, y_train, y_test = train_test_split(X_new, y, test_size=0.3, random_state=42)\n",
        "\n",
        "model = GaussianNB()\n",
        "model.fit(X_train, y_train)\n",
        "\n",
        "print(\"Accuracy after feature selection:\", accuracy_score(y_test, model.predict(X_test)))\n"
      ],
      "metadata": {
        "colab": {
          "base_uri": "https://localhost:8080/"
        },
        "id": "zV_bP0GMt9a5",
        "outputId": "40b36eb1-1835-470b-cdb4-c3893851b131"
      },
      "id": "zV_bP0GMt9a5",
      "execution_count": 15,
      "outputs": [
        {
          "output_type": "stream",
          "name": "stdout",
          "text": [
            "Accuracy after feature selection: 1.0\n"
          ]
        }
      ]
    },
    {
      "cell_type": "markdown",
      "source": [
        "Que36: Write a Python program to train an SVM Classifier using One-vs-Rest (OvR) and One-vs-One (OvO) strategies on the Wine dataset and compare their accuracy?"
      ],
      "metadata": {
        "id": "jADcanOAjxag"
      },
      "id": "jADcanOAjxag"
    },
    {
      "cell_type": "code",
      "source": [
        "#Ans36:\n",
        "from sklearn.multiclass import OneVsRestClassifier, OneVsOneClassifier\n",
        "from sklearn.svm import SVC\n",
        "from sklearn.datasets import load_wine\n",
        "from sklearn.model_selection import train_test_split\n",
        "from sklearn.metrics import accuracy_score\n",
        "\n",
        "X, y = load_wine(return_X_y=True)\n",
        "X_train, X_test, y_train, y_test = train_test_split(X, y, test_size=0.3, random_state=42)\n",
        "\n",
        "ovr = OneVsRestClassifier(SVC())\n",
        "ovo = OneVsOneClassifier(SVC())\n",
        "\n",
        "ovr.fit(X_train, y_train)\n",
        "ovo.fit(X_train, y_train)\n",
        "\n",
        "print(\"OvR Accuracy:\", accuracy_score(y_test, ovr.predict(X_test)))\n",
        "print(\"OvO Accuracy:\", accuracy_score(y_test, ovo.predict(X_test)))\n"
      ],
      "metadata": {
        "colab": {
          "base_uri": "https://localhost:8080/"
        },
        "id": "FPpB_u3nuGXt",
        "outputId": "16df26cb-b2b0-4f3d-89cd-7991ac5861b2"
      },
      "id": "FPpB_u3nuGXt",
      "execution_count": 16,
      "outputs": [
        {
          "output_type": "stream",
          "name": "stdout",
          "text": [
            "OvR Accuracy: 0.7222222222222222\n",
            "OvO Accuracy: 0.7962962962962963\n"
          ]
        }
      ]
    },
    {
      "cell_type": "markdown",
      "source": [
        "Que37: Write a Python program to train an SVM Classifier using Linear, Polynomial, and RBF kernels on the Breast Cancer dataset and compare their accuracy?"
      ],
      "metadata": {
        "id": "52BGlP0yjvDu"
      },
      "id": "52BGlP0yjvDu"
    },
    {
      "cell_type": "code",
      "source": [
        "#Ans37:\n",
        "from sklearn.svm import SVC\n",
        "from sklearn.datasets import load_breast_cancer\n",
        "from sklearn.model_selection import train_test_split\n",
        "from sklearn.metrics import accuracy_score\n",
        "\n",
        "X, y = load_breast_cancer(return_X_y=True)\n",
        "X_train, X_test, y_train, y_test = train_test_split(X, y, test_size=0.3, random_state=42)\n",
        "\n",
        "for kernel in ['linear', 'poly', 'rbf']:\n",
        "    model = SVC(kernel=kernel)\n",
        "    model.fit(X_train, y_train)\n",
        "    print(f\"{kernel} Kernel Accuracy:\", accuracy_score(y_test, model.predict(X_test)))\n"
      ],
      "metadata": {
        "colab": {
          "base_uri": "https://localhost:8080/"
        },
        "id": "H27QLcU_ujdz",
        "outputId": "98833176-6b54-49ac-f311-cf08e45c88b2"
      },
      "id": "H27QLcU_ujdz",
      "execution_count": 17,
      "outputs": [
        {
          "output_type": "stream",
          "name": "stdout",
          "text": [
            "linear Kernel Accuracy: 0.9649122807017544\n",
            "poly Kernel Accuracy: 0.9415204678362573\n",
            "rbf Kernel Accuracy: 0.935672514619883\n"
          ]
        }
      ]
    },
    {
      "cell_type": "markdown",
      "source": [
        "Que38: Write a Python program to train an SVM Classifier using Stratified K-Fold Cross-Validation and compute the average accuracy?"
      ],
      "metadata": {
        "id": "_xnjjbzzjs4n"
      },
      "id": "_xnjjbzzjs4n"
    },
    {
      "cell_type": "code",
      "source": [
        "#Ans38:\n",
        "from sklearn.model_selection import StratifiedKFold, cross_val_score\n",
        "from sklearn.svm import SVC\n",
        "from sklearn.datasets import load_iris\n",
        "\n",
        "X, y = load_iris(return_X_y=True)\n",
        "skf = StratifiedKFold(n_splits=5)\n",
        "scores = cross_val_score(SVC(), X, y, cv=skf)\n",
        "\n",
        "print(\"Cross-validated scores:\", scores)\n",
        "print(\"Average Accuracy:\", scores.mean())\n"
      ],
      "metadata": {
        "colab": {
          "base_uri": "https://localhost:8080/"
        },
        "id": "fSmMIvfBu0Wl",
        "outputId": "7f42571d-a659-4405-a204-c80557ee5725"
      },
      "id": "fSmMIvfBu0Wl",
      "execution_count": 18,
      "outputs": [
        {
          "output_type": "stream",
          "name": "stdout",
          "text": [
            "Cross-validated scores: [0.96666667 0.96666667 0.96666667 0.93333333 1.        ]\n",
            "Average Accuracy: 0.9666666666666666\n"
          ]
        }
      ]
    },
    {
      "cell_type": "markdown",
      "source": [
        "Que39: Write a Python program to train a Naïve Bayes classifier using different prior probabilities and compare performance?"
      ],
      "metadata": {
        "id": "K6wHYl3Ujn5t"
      },
      "id": "K6wHYl3Ujn5t"
    },
    {
      "cell_type": "code",
      "source": [
        "#Ans39:\n",
        "from sklearn.datasets import load_iris\n",
        "from sklearn.model_selection import train_test_split\n",
        "from sklearn.naive_bayes import GaussianNB\n",
        "from sklearn.metrics import accuracy_score\n",
        "\n",
        "X, y = load_iris(return_X_y=True)\n",
        "X_train, X_test, y_train, y_test = train_test_split(X, y, test_size=0.3, random_state=42)\n",
        "\n",
        "model_uniform = GaussianNB(priors=[1/3, 1/3, 1/3])\n",
        "model_actual = GaussianNB()\n",
        "\n",
        "model_uniform.fit(X_train, y_train)\n",
        "model_actual.fit(X_train, y_train)\n",
        "\n",
        "print(\"Uniform Priors Accuracy:\", accuracy_score(y_test, model_uniform.predict(X_test)))\n",
        "print(\"Default Priors Accuracy:\", accuracy_score(y_test, model_actual.predict(X_test)))\n"
      ],
      "metadata": {
        "colab": {
          "base_uri": "https://localhost:8080/"
        },
        "id": "G6LmcsigvADO",
        "outputId": "3230ed11-1f39-46d3-f345-24927533451b"
      },
      "id": "G6LmcsigvADO",
      "execution_count": 19,
      "outputs": [
        {
          "output_type": "stream",
          "name": "stdout",
          "text": [
            "Uniform Priors Accuracy: 0.9777777777777777\n",
            "Default Priors Accuracy: 0.9777777777777777\n"
          ]
        }
      ]
    },
    {
      "cell_type": "markdown",
      "source": [
        "Que40: Write a Python program to perform Recursive Feature Elimination (RFE) before training an SVM Classifier and compare accuracy?"
      ],
      "metadata": {
        "id": "w7F28rbGjm6i"
      },
      "id": "w7F28rbGjm6i"
    },
    {
      "cell_type": "code",
      "source": [
        "#Ans40:\n",
        "from sklearn.feature_selection import RFE\n",
        "from sklearn.svm import SVC\n",
        "from sklearn.datasets import load_iris\n",
        "from sklearn.model_selection import train_test_split\n",
        "from sklearn.metrics import accuracy_score\n",
        "\n",
        "X, y = load_iris(return_X_y=True)\n",
        "X_train, X_test, y_train, y_test = train_test_split(X, y, test_size=0.3, random_state=42)\n",
        "\n",
        "selector = RFE(SVC(kernel=\"linear\"), n_features_to_select=2)\n",
        "selector.fit(X_train, y_train)\n",
        "\n",
        "model = SVC()\n",
        "model.fit(selector.transform(X_train), y_train)\n",
        "\n",
        "print(\"Accuracy after RFE:\", accuracy_score(y_test, model.predict(selector.transform(X_test))))\n"
      ],
      "metadata": {
        "id": "WCpbRbbkvW0k"
      },
      "id": "WCpbRbbkvW0k",
      "execution_count": null,
      "outputs": []
    },
    {
      "cell_type": "markdown",
      "source": [
        "Que41: Write a Python program to train an SVM Classifier and evaluate its performance using Precision, Recall, and F1-Score instead of accuracy ?"
      ],
      "metadata": {
        "id": "mhphrhuxjj7x"
      },
      "id": "mhphrhuxjj7x"
    },
    {
      "cell_type": "code",
      "source": [
        "#Ans41:\n",
        "from sklearn.svm import SVC\n",
        "from sklearn.datasets import load_wine\n",
        "from sklearn.model_selection import train_test_split\n",
        "from sklearn.metrics import classification_report\n",
        "\n",
        "X, y = load_wine(return_X_y=True)\n",
        "X_train, X_test, y_train, y_test = train_test_split(X, y, test_size=0.3, random_state=42)\n",
        "\n",
        "model = SVC()\n",
        "model.fit(X_train, y_train)\n",
        "print(classification_report(y_test, model.predict(X_test)))\n"
      ],
      "metadata": {
        "colab": {
          "base_uri": "https://localhost:8080/"
        },
        "id": "bkGncchDvZ_m",
        "outputId": "a98f5f43-88b3-456c-f214-aef95dd2d61f"
      },
      "id": "bkGncchDvZ_m",
      "execution_count": 20,
      "outputs": [
        {
          "output_type": "stream",
          "name": "stdout",
          "text": [
            "              precision    recall  f1-score   support\n",
            "\n",
            "           0       1.00      1.00      1.00        19\n",
            "           1       0.63      0.90      0.75        21\n",
            "           2       0.60      0.21      0.32        14\n",
            "\n",
            "    accuracy                           0.76        54\n",
            "   macro avg       0.74      0.71      0.69        54\n",
            "weighted avg       0.75      0.76      0.72        54\n",
            "\n"
          ]
        }
      ]
    },
    {
      "cell_type": "markdown",
      "source": [
        "Que42: Write a Python program to train a Naïve Bayes Classifier and evaluate its performance using Log Loss (Cross-Entropy Loss) ?"
      ],
      "metadata": {
        "id": "89LQPEXvjhBE"
      },
      "id": "89LQPEXvjhBE"
    },
    {
      "cell_type": "code",
      "source": [
        "#Ans42:\n",
        "from sklearn.naive_bayes import GaussianNB\n",
        "from sklearn.datasets import load_iris\n",
        "from sklearn.model_selection import train_test_split\n",
        "from sklearn.metrics import log_loss\n",
        "\n",
        "X, y = load_iris(return_X_y=True)\n",
        "X_train, X_test, y_train, y_test = train_test_split(X, y, test_size=0.3, random_state=42)\n",
        "\n",
        "model = GaussianNB()\n",
        "model.fit(X_train, y_train)\n",
        "probs = model.predict_proba(X_test)\n",
        "\n",
        "print(\"Log Loss:\", log_loss(y_test, probs))\n"
      ],
      "metadata": {
        "colab": {
          "base_uri": "https://localhost:8080/"
        },
        "id": "vOQbnE49viiu",
        "outputId": "932bc808-e498-4af7-df35-3abdb85e8cb2"
      },
      "id": "vOQbnE49viiu",
      "execution_count": 21,
      "outputs": [
        {
          "output_type": "stream",
          "name": "stdout",
          "text": [
            "Log Loss: 0.04896447467183247\n"
          ]
        }
      ]
    },
    {
      "cell_type": "markdown",
      "source": [
        "Que43: Write a Python program to train an SVM Classifier and visualize the Confusion Matrix using seaborn?"
      ],
      "metadata": {
        "id": "jW6irewVjd46"
      },
      "id": "jW6irewVjd46"
    },
    {
      "cell_type": "code",
      "source": [
        "#Ans43:\n",
        "import seaborn as sns\n",
        "import matplotlib.pyplot as plt\n",
        "from sklearn.svm import SVC\n",
        "from sklearn.metrics import confusion_matrix\n",
        "from sklearn.datasets import load_iris\n",
        "from sklearn.model_selection import train_test_split\n",
        "\n",
        "X, y = load_iris(return_X_y=True)\n",
        "X_train, X_test, y_train, y_test = train_test_split(X, y, test_size=0.3, random_state=42)\n",
        "\n",
        "model = SVC()\n",
        "model.fit(X_train, y_train)\n",
        "cm = confusion_matrix(y_test, model.predict(X_test))\n",
        "\n",
        "sns.heatmap(cm, annot=True, fmt='d')\n",
        "plt.xlabel(\"Predicted\")\n",
        "plt.ylabel(\"True\")\n",
        "plt.title(\"Confusion Matrix\")\n",
        "plt.show()\n"
      ],
      "metadata": {
        "colab": {
          "base_uri": "https://localhost:8080/",
          "height": 472
        },
        "id": "KfVpNjXwvsGQ",
        "outputId": "71070b73-bc70-49b4-f62d-483716b15263"
      },
      "id": "KfVpNjXwvsGQ",
      "execution_count": 22,
      "outputs": [
        {
          "output_type": "display_data",
          "data": {
            "text/plain": [
              "<Figure size 640x480 with 2 Axes>"
            ],
            "image/png": "[encoded data removed]"
          },
          "metadata": {}
        }
      ]
    },
    {
      "cell_type": "markdown",
      "source": [
        "Que44: Write a Python program to train an SVM Regressor (SVR) and evaluate its performance using Mean Absolute Error (MAE) instead of MSE ?"
      ],
      "metadata": {
        "id": "0DqmpbGZjbTC"
      },
      "id": "0DqmpbGZjbTC"
    },
    {
      "cell_type": "code",
      "source": [
        "#Ans44:\n",
        "from sklearn.svm import SVR\n",
        "from sklearn.datasets import fetch_california_housing\n",
        "from sklearn.model_selection import train_test_split\n",
        "from sklearn.metrics import mean_absolute_error\n",
        "\n",
        "data = fetch_california_housing()\n",
        "X_train, X_test, y_train, y_test = train_test_split(data.data, data.target, test_size=0.3, random_state=42)\n",
        "\n",
        "model = SVR()\n",
        "model.fit(X_train, y_train)\n",
        "pred = model.predict(X_test)\n",
        "\n",
        "print(\"MAE:\", mean_absolute_error(y_test, pred))\n"
      ],
      "metadata": {
        "colab": {
          "base_uri": "https://localhost:8080/"
        },
        "id": "2slUo6Jsv0gX",
        "outputId": "c1540cb9-8a19-4efa-eccb-19514a56f9d3"
      },
      "id": "2slUo6Jsv0gX",
      "execution_count": 23,
      "outputs": [
        {
          "output_type": "stream",
          "name": "stdout",
          "text": [
            "MAE: 0.8664984635504496\n"
          ]
        }
      ]
    },
    {
      "cell_type": "markdown",
      "source": [
        "Que45:Write a Python program to train a Naïve Bayes classifier and evaluate its performance using the ROC-AUC score?"
      ],
      "metadata": {
        "id": "XTIp41qwjYYl"
      },
      "id": "XTIp41qwjYYl"
    },
    {
      "cell_type": "code",
      "source": [
        "#Ans45:\n",
        "from sklearn.datasets import load_breast_cancer\n",
        "from sklearn.model_selection import train_test_split\n",
        "from sklearn.naive_bayes import GaussianNB\n",
        "from sklearn.metrics import roc_auc_score\n",
        "\n",
        "X, y = load_breast_cancer(return_X_y=True)\n",
        "X_train, X_test, y_train, y_test = train_test_split(X, y, test_size=0.3, random_state=42)\n",
        "\n",
        "model = GaussianNB()\n",
        "model.fit(X_train, y_train)\n",
        "probs = model.predict_proba(X_test)\n",
        "\n",
        "print(\"ROC-AUC Score:\", roc_auc_score(y_test, probs[:, 1]))\n"
      ],
      "metadata": {
        "colab": {
          "base_uri": "https://localhost:8080/"
        },
        "id": "BKaS_1DLwAMD",
        "outputId": "38cd64df-f764-4024-dff1-fbfc65541e27"
      },
      "id": "BKaS_1DLwAMD",
      "execution_count": 24,
      "outputs": [
        {
          "output_type": "stream",
          "name": "stdout",
          "text": [
            "ROC-AUC Score: 0.9922104644326867\n"
          ]
        }
      ]
    },
    {
      "cell_type": "markdown",
      "source": [
        "Que46: Write a Python program to train an SVM Classifier and visualize the Precision-Recall Curve?"
      ],
      "metadata": {
        "id": "0XTikCo8jTEv"
      },
      "id": "0XTikCo8jTEv"
    },
    {
      "cell_type": "code",
      "source": [
        "#Ans46:\n",
        "import matplotlib.pyplot as plt\n",
        "from sklearn.datasets import make_classification\n",
        "from sklearn.svm import SVC\n",
        "from sklearn.model_selection import train_test_split\n",
        "from sklearn.metrics import precision_recall_curve, PrecisionRecallDisplay\n",
        "\n",
        "X, y = make_classification(n_samples=1000, weights=[0.7], random_state=42)\n",
        "X_train, X_test, y_train, y_test = train_test_split(X, y, test_size=0.3, random_state=42)\n",
        "\n",
        "model = SVC(probability=True)\n",
        "model.fit(X_train, y_train)\n",
        "probs = model.predict_proba(X_test)\n",
        "\n",
        "precision, recall, _ = precision_recall_curve(y_test, probs[:, 1])\n",
        "disp = PrecisionRecallDisplay(precision=precision, recall=recall)\n",
        "disp.plot()\n",
        "plt.title(\"Precision-Recall Curve\")\n",
        "plt.show()\n"
      ],
      "metadata": {
        "colab": {
          "base_uri": "https://localhost:8080/",
          "height": 472
        },
        "id": "f3Cjg-dzwMUB",
        "outputId": "02e0d066-b3f6-4ae0-9cd3-1c93d8f60082"
      },
      "id": "f3Cjg-dzwMUB",
      "execution_count": 25,
      "outputs": [
        {
          "output_type": "display_data",
          "data": {
            "text/plain": [
              "<Figure size 640x480 with 1 Axes>"
            ],
            "image/png": "[encoded data removed]"
          },
          "metadata": {}
        }
      ]
    }
  ],
  "metadata": {
    "colab": {
      "provenance": []
    },
    "language_info": {
      "name": "python"
    },
    "kernelspec": {
      "name": "python3",
      "display_name": "Python 3"
    }
  },
  "nbformat": 4,
  "nbformat_minor": 5
}