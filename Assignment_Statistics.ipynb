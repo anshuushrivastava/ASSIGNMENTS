{
  "nbformat": 4,
  "nbformat_minor": 0,
  "metadata": {
    "colab": {
      "provenance": []
    },
    "kernelspec": {
      "name": "python3",
      "display_name": "Python 3"
    },
    "language_info": {
      "name": "python"
    }
  },
  "cells": [
    {
      "cell_type": "markdown",
      "source": [
        "##Theoritical Questions"
      ],
      "metadata": {
        "id": "2Il5euBGROSk"
      }
    },
    {
      "cell_type": "markdown",
      "source": [
        "Que1: What is statistics, and why is it important?\n",
        "\n",
        "Ans1:Statistics in Python refers to the use of built-in and external libraries to analyze numerical data. It involves mathematical techniques to summarize, interpret, and derive insights from data. Python provides libraries like `statistics`, `numpy`, `pandas`, and `scipy` for statistical operations.  \n",
        "\n",
        "Importance of Statistics:\n",
        "- Data Analysis: Helps in summarizing and interpreting large datasets.  \n",
        "- Decision Making: Supports data-driven decision-making in various fields.  \n",
        "- Machine Learning & AI: Essential for model evaluation and performance improvement.  \n",
        "- Pattern Recognition: Identifies trends, correlations, and anomalies in data.  \n",
        "- Business & Research Applications: Used in finance, healthcare, and scientific studies for accurate forecasting and insights.  \n",
        "\n",
        "To summarize, Python simplifies statistical computations, making it a powerful tool for data science and analytics.\n",
        ""
      ],
      "metadata": {
        "id": "yWe_3QcvRVLf"
      }
    },
    {
      "cell_type": "markdown",
      "source": [
        "Que2: What are the two main types of statistics?\n",
        "\n",
        " Ans2: There are two main types of Statistics in Python-\n",
        "\n",
        "1. Descriptive Statistics:\n",
        "   - Summarizes and organizes data.  \n",
        "   - Measures include:  \n",
        "     - Central Tendency- (Mean, Median, Mode)  \n",
        "     - Dispersion- (Variance, Standard Deviation, Range)  \n",
        "     - Data Distribution- (Percentiles, Skewness, Kurtosis)  \n",
        "\n",
        "2. Inferential Statistics:\n",
        "   - Draws conclusions about a population from a sample.  \n",
        "   - Methods include:  \n",
        "     - Hypothesis Testing- (t-tests, chi-square tests)  \n",
        "     - Confidence Intervals  \n",
        "     - Regression Analysis\n",
        "     - Probability Distribution- (Normal, Binomial, Poisson)  \n",
        "\n",
        "Both types help analyze data effectively in Python using libraries like 'statistics', 'numpy', 'scipy', and 'pandas'."
      ],
      "metadata": {
        "id": "4gLRWQHORZIL"
      }
    },
    {
      "cell_type": "markdown",
      "source": [
        "Que3: What are descriptive statistics?\n",
        "\n",
        " Ans3: Descriptive statistics summarize and analyze datasets without making predictions.  \n",
        "\n",
        "Key Measures:\n",
        "1. Central Tendency: Mean, Median, Mode.  \n",
        "2. Dispersion: Range, Variance, Standard Deviation.  \n",
        "3. Distribution: Skewness (asymmetry), Kurtosis (peakedness).  \n",
        "\n",
        "Python libraries like 'statistics', 'numpy', and 'pandas' handle these calculations efficiently."
      ],
      "metadata": {
        "id": "U7Knq1ejSlmk"
      }
    },
    {
      "cell_type": "markdown",
      "source": [
        "Que4: What is inferential statistics?\n",
        "\n",
        " Ans4:Inferential statistics analyze sample data to make predictions about a population.  \n",
        "Key Methods:\n",
        "1. Hypothesis Testing: Determines statistical significance (e.g., t-tests, chi-square).  \n",
        "2. Confidence Intervals: Estimates population parameters.  \n",
        "3. Regression Analysis: Identifies relationships between variables.  \n",
        "4. Probability Distributions: Models data behavior (e.g., Normal, Binomial).  \n",
        "\n",
        "Python libraries like 'scipy', 'statsmodels', and 'numpy' perform these analyses."
      ],
      "metadata": {
        "id": "v29rpZaQTXdN"
      }
    },
    {
      "cell_type": "markdown",
      "source": [
        "Que5: What is sampling in statistics?\n",
        "\n",
        " Ans5:Sampling is the process of selecting a subset of data from a larger population to analyze and make inferences.  \n",
        "Types of Sampling:\n",
        "1. Random Sampling: Every data point has an equal chance of selection.  \n",
        "2. Stratified Sampling: Population is divided into groups, and samples are taken from each.  \n",
        "3. Systematic Sampling: Selects every nth item from a population.  \n",
        "4. Cluster Sampling: Divides data into clusters and randomly selects some clusters.  \n",
        "\n",
        "Python libraries like 'numpy' and 'random' handle sampling efficiently."
      ],
      "metadata": {
        "id": "_MikWVd6UB6u"
      }
    },
    {
      "cell_type": "markdown",
      "source": [
        "Que6: What are the different types of sampling methods?\n",
        "\n",
        " Ans6: Types of Sampling Methods in Python:\n",
        "\n",
        "1. Probability Sampling (Random Selection)-\n",
        "- Simple Random Sampling: Each data point has an equal chance of selection.  \n",
        "- Stratified Sampling: Divides the population into groups (strata) and samples from each.  \n",
        "- Systematic Sampling: Selects every nth element from an ordered population.  \n",
        "- Cluster Sampling: Divides the population into clusters and randomly selects entire clusters.  \n",
        "\n",
        "2. Non-Probability Sampling (Non-Random Selection):\n",
        "- Convenience Sampling: Selects samples based on availability and ease.  \n",
        "- Judgmental Sampling: Chooses samples based on expert judgment.  \n",
        "- Snowball Sampling: New samples are selected based on referrals from existing samples.  \n",
        "- Quota Sampling: Ensures specific subgroups are proportionally represented.  \n",
        "\n",
        "Python libraries like 'numpy', 'random', and 'pandas' facilitate sampling efficiently."
      ],
      "metadata": {
        "id": "ZC4j2HkLUj71"
      }
    },
    {
      "cell_type": "markdown",
      "source": [
        "Que7: What is the difference between random and non-random sampling?\n",
        "\n",
        "Ans7: Random Sampling:  \n",
        "- Selection is based on chance; each unit has an equal probability.  \n",
        "- Minimizes selection bias, ensuring objectivity.  \n",
        "- Types: Simple Random, Stratified, Systematic, Cluster Sampling.  \n",
        "- More representative of the population.  \n",
        "- High reliability and generalizability.  \n",
        "- Used in statistical research, surveys, and experiments.  \n",
        "\n",
        "Non-Random Sampling:  \n",
        "- Selection is based on judgment, convenience, or specific criteria.  \n",
        "- Higher risk of bias, affecting accuracy.  \n",
        "- Types: Convenience, Judgmental, Snowball, Quota Sampling.  \n",
        "- May not accurately represent the population.  \n",
        "- Lower reliability due to potential bias.  \n",
        "- Used in qualitative research and exploratory studies.  \n",
        ""
      ],
      "metadata": {
        "id": "d2eHT7mJU_py"
      }
    },
    {
      "cell_type": "markdown",
      "source": [
        "Que8: Define and give examples of qualitative and quantitative data.\n",
        "\n",
        "Ans8: 1. Qualitative Data (Categorical Data)-\n",
        "- Definition: Descriptive data representing categories or labels without numerical meaning.  "
      ],
      "metadata": {
        "id": "a7Fl_D9GVw7r"
      }
    },
    {
      "cell_type": "code",
      "source": [
        "#Example\n",
        "```\n",
        "qualitative_data = [\"Red\", \"Blue\", \"Green\"]  # Colors\n",
        "qualitative_data2 = [\"Apple\", \"Banana\", \"Orange\"]  # Fruits\n",
        "```"
      ],
      "metadata": {
        "id": "oh3u27UzWlTZ"
      },
      "execution_count": null,
      "outputs": []
    },
    {
      "cell_type": "markdown",
      "source": [
        "2. Quantitative Data (Numerical Data)-\n",
        "- Definition: Measurable data represented as numbers.  \n",
        "\n",
        "Python libraries like `pandas` and `numpy` help analyze both types of data efficiently.\n",
        ""
      ],
      "metadata": {
        "id": "rgk7Meq3W2Xe"
      }
    },
    {
      "cell_type": "code",
      "source": [
        "#Example-\n",
        "```\n",
        "quantitative_data = [25, 30, 45]  # Age of people\n",
        "quantitative_data2 = [5.5, 6.2, 7.8]  # Heights in feet\n",
        "```\n"
      ],
      "metadata": {
        "id": "ZonAHyvFW232"
      },
      "execution_count": null,
      "outputs": []
    },
    {
      "cell_type": "markdown",
      "source": [
        "Que9: What are the different types of data in statistics?\n",
        "\n",
        "Ans9: Types of Data in Statistics-\n",
        "\n",
        "1. Qualitative (Categorical) Data:\n",
        "- Nominal: No order (e.g., Colors, Gender).  \n",
        "- Ordinal: Ordered but without exact differences (e.g., Ratings: Low, Medium, High).  "
      ],
      "metadata": {
        "id": "B7L5FtySV1aR"
      }
    },
    {
      "cell_type": "code",
      "source": [
        " #Example:\n",
        "  ```python\n",
        "  nominal = [\"Red\", \"Blue\"]\n",
        "  ordinal = [\"Low\", \"Medium\", \"High\"]\n",
        "  ```\n"
      ],
      "metadata": {
        "id": "9i4Ne2Z8Xon_"
      },
      "execution_count": null,
      "outputs": []
    },
    {
      "cell_type": "markdown",
      "source": [
        "2. Quantitative (Numerical) Data:\n",
        "- Discrete: Countable whole numbers (e.g., Number of students).  \n",
        "- Continuous: Measurable values with decimals (e.g., Height, Temperature).  \n",
        "\n",
        "Python libraries like `pandas` and `numpy` help analyze these data types efficiently.\n",
        ""
      ],
      "metadata": {
        "id": "RoMkTxL4X0JK"
      }
    },
    {
      "cell_type": "code",
      "source": [
        " #Example:\n",
        "  ```python\n",
        "  discrete = [10, 20, 30]\n",
        "  continuous = [5.6, 7.2, 8.1]\n",
        "  ```"
      ],
      "metadata": {
        "id": "SdQ7S0OnX4Gg"
      },
      "execution_count": null,
      "outputs": []
    },
    {
      "cell_type": "markdown",
      "source": [
        "Que10: Explain nominal, ordinal, interval, and ratio levels of measurement\n",
        "\n",
        " Ans10: Levels of Measurement in Python:\n",
        "\n",
        "1. Nominal (Categorical, No Order):\n",
        "   - Labels without ranking (e.g., Colors, Gender).  \n",
        "   - Example: '[\"Red\", \"Blue\", \"Green\"]'  \n",
        "\n",
        "2. Ordinal (Categorical, Ordered):  \n",
        "   - Ranked but unequal differences (e.g., Education Level, Ratings).  \n",
        "   - Example:'[\"Low\", \"Medium\", \"High\"]'  \n",
        "\n",
        "3. Interval (Numerical, No True Zero):\n",
        "   - Equal differences, but no absolute zero (e.g., Temperature, IQ Scores).  \n",
        "   - Example: '[-10, 0, 10, 20]'  \n",
        "\n",
        "4. Ratio (Numerical, True Zero Exists):  \n",
        "   - Full mathematical operations allowed (e.g., Height, Weight, Distance).  \n",
        "   - Example: '[10, 20, 50, 100]'  "
      ],
      "metadata": {
        "id": "6ulyDrrEXIef"
      }
    },
    {
      "cell_type": "markdown",
      "source": [
        "Que11: What is the measure of central tendency?\n",
        "\n",
        " Ans11: The measure of central tendency represents the central or typical value of a dataset.  \n",
        "Types:\n",
        "1. Mean (Average): Sum of values divided by count.  "
      ],
      "metadata": {
        "id": "3J6nd_yjrnpF"
      }
    },
    {
      "cell_type": "code",
      "source": [
        " #Example:\n",
        "     ```\n",
        "          import statistics\n",
        "     data = [10, 20, 30, 40]\n",
        "     mean_value = statistics.mean(data)\n",
        "     ```\n"
      ],
      "metadata": {
        "id": "p7r45mxzvHvn"
      },
      "execution_count": null,
      "outputs": []
    },
    {
      "cell_type": "markdown",
      "source": [
        "\n",
        "2. Median (Middle Value): Middle value when sorted.  "
      ],
      "metadata": {
        "id": "_bWTy3VZvLwg"
      }
    },
    {
      "cell_type": "code",
      "source": [
        "#Example:\n",
        "     ```\n",
        "     median_value = statistics.median(data)\n",
        "     ```"
      ],
      "metadata": {
        "id": "AvEC7vQFvUHx"
      },
      "execution_count": null,
      "outputs": []
    },
    {
      "cell_type": "markdown",
      "source": [
        "3. Mode (Most Frequent Value): Most occurring value.  \n",
        "   "
      ],
      "metadata": {
        "id": "onfzoNW9vi4V"
      }
    },
    {
      "cell_type": "code",
      "source": [
        "#Example:\n",
        "     ```\n",
        "     mode_value = statistics.mode([1, 2, 2, 3])\n",
        "     ```"
      ],
      "metadata": {
        "id": "MYqr1Edyvn0O"
      },
      "execution_count": null,
      "outputs": []
    },
    {
      "cell_type": "markdown",
      "source": [
        "Que12: Define mean, median, and mode\n",
        "\n",
        " Ans12: 1. Mean (Average):  \n",
        "- The sum of all values divided by the total number of values.  \n",
        "\n",
        "2. Median (Middle Value):\n",
        "- The middle value when the data is sorted. If even, it's the average of the two middle values.  \n",
        "\n",
        "3. Mode (Most Frequent Value):\n",
        "- The most occurring value in a dataset.  "
      ],
      "metadata": {
        "id": "mUiT7EPuu1hg"
      }
    },
    {
      "cell_type": "markdown",
      "source": [
        "#Example (Mean)\n",
        "  ```\n",
        "  import statistics\n",
        "  data = [10, 20, 30, 40]\n",
        "  mean_value = statistics.mean(data)\n",
        "  print(mean_value)  # Output: 25.0\n",
        "  ```\n",
        "\n",
        "#Example (Median):\n",
        "  ```\n",
        "  median_value = statistics.median(data)\n",
        "  print(median_value)  # Output: 25.0\n",
        "  ```\n",
        "\n",
        "#Example (Mode):\n",
        "  ```\n",
        "  mode_value = statistics.mode([1, 2, 2, 3])\n",
        "  print(mode_value)  # Output: 2\n",
        "  ```\n"
      ],
      "metadata": {
        "id": "rd2jEK7QzqIu"
      }
    },
    {
      "cell_type": "markdown",
      "source": [
        "Que13: What is the significance of the measure of central tendency?\n",
        "\n",
        "Ans13: Significance of Measure of Central Tendency in Python:  \n",
        "\n",
        "- Summarizes Data: Provides a single representative value for a dataset.  \n",
        "- Identifies Trends: Helps understand data distribution and patterns.  \n",
        "- Supports Decision-Making: Used in statistics, machine learning, and data analysis.  \n",
        "- Reduces Complexity: Simplifies large datasets into meaningful insights.  \n",
        "- Affects Data Interpretation: Different measures (mean, median, mode) highlight different aspects of data.  "
      ],
      "metadata": {
        "id": "TDnFc63xvy92"
      }
    },
    {
      "cell_type": "markdown",
      "source": [
        "Que14:  What is variance, and how is it calculated\n",
        "\n",
        "Ans14: Variance: Variance measures data dispersion from the mean. A higher variance indicates greater spread.  \n",
        "\n",
        "Python Calculation:\n",
        "- Using `statistics`:  \n",
        "```\n",
        "import statistics\n",
        "data = [10, 20, 30, 40, 50]\n",
        "print(statistics.variance(data))  # Sample variance\n",
        "```\n",
        "- Using `numpy`:  \n",
        "```\n",
        "import numpy as np\n",
        "print(np.var(data, ddof=1))  # Sample variance (ddof=1)\n",
        "```"
      ],
      "metadata": {
        "id": "yuO29n0zv2Dn"
      }
    },
    {
      "cell_type": "markdown",
      "source": [
        "Que15: What is skewness in a dataset\n",
        "\n",
        "Ans15:Skewness measures the asymmetry of a dataset's distribution.  \n",
        "\n",
        "Types of Skewness:\n",
        "1. Positive Skew (Right-Skewed): Tail extends to the right; mean > median.  \n",
        "2. Negative Skew (Left-Skewed): Tail extends to the left; mean < median.  \n",
        "3. Zero Skew (Symmetric): Mean ≈ Median; balanced distribution.  \n",
        "\n",
        "Example:\n",
        "```\n",
        "from scipy.stats import skew\n",
        "import numpy as np\n",
        "\n",
        "data = np.array([10, 20, 30, 40, 100])  # Right-skewed example\n",
        "skewness = skew(data)\n",
        "print(skewness)  \n",
        "```"
      ],
      "metadata": {
        "id": "k8zIo4n1v4-1"
      }
    },
    {
      "cell_type": "markdown",
      "source": [
        "Que16: What is standard deviation, and why is it important\n",
        "\n",
        " Ans16: Standard deviation measures data dispersion from the mean. It is the square root of variance.  \n",
        "Importance:\n",
        "- Indicates variability in data.  \n",
        "- Helps detect outliers and distribution shape.  \n",
        "- Used in statistics, machine learning, and risk analysis.  \n",
        "\n",
        "Example:\n",
        "```\n",
        "import statistics\n",
        "import numpy as np\n",
        "\n",
        "data = [10, 20, 30, 40, 50]\n",
        "print(statistics.stdev(data))  # Sample standard deviation\n",
        "print(np.std(data, ddof=1))  # Sample standard deviation using NumPy\n",
        "```"
      ],
      "metadata": {
        "id": "HwQm1gkuv7ur"
      }
    },
    {
      "cell_type": "markdown",
      "source": [
        "Que17: Define and explain the term range in statistics\n",
        "\n",
        "Ans17: Range is the difference between the maximum and minimum values in a dataset. It measures data spread but is sensitive to outliers.  \n",
        "\n",
        "Formula:\n",
        "\\[\n",
        "\\text{Range} = \\text{Maximum Value} - \\text{Minimum Value}\n",
        "\\]  \n",
        "\n",
        "Calculation-\n",
        "```\n",
        "data = [10, 20, 30, 40, 50]\n",
        "range_value = max(data) - min(data)\n",
        "print(range_value)  # Output: 40\n",
        "```\n",
        "Python's built-in functions `max()` and `min()` efficiently compute the range.\n",
        ""
      ],
      "metadata": {
        "id": "1Qk8pSAWv97A"
      }
    },
    {
      "cell_type": "markdown",
      "source": [
        "Que18: What is the difference between variance and standard deviation?\n",
        "\n",
        "Ans18: Variance: Measures data spread from the mean; expressed in squared units.  \n",
        "  ```\n",
        "  import statistics\n",
        "  data = [10, 20, 30, 40, 50]\n",
        "  print(statistics.variance(data))  # Output: Variance\n",
        "  ```\n",
        "  \n",
        "Standard Deviation: Square root of variance; expressed in the same unit as the data.  \n",
        "  ```\n",
        "  print(statistics.stdev(data))  # Output: Standard Deviation\n",
        "  ```\n",
        " Standard deviation is more interpretable as it retains the original data units, while variance is in squared units."
      ],
      "metadata": {
        "id": "GZLAhOPiwAAR"
      }
    },
    {
      "cell_type": "markdown",
      "source": [
        "Que19: What does it mean if a dataset is positively or negatively skewed\n",
        "\n",
        "Ans19: Positively Skewed (Right-Skewed):\n",
        "  - Tail extends to the right.  \n",
        "  - Mean > Median > Mode.  \n",
        "  - Example: Income distribution.  \n",
        "\n",
        "Negatively Skewed (Left-Skewed):\n",
        "  - Tail extends to the left.  \n",
        "  - Mean < Median < Mode.  \n",
        "  - Example: Exam scores (many high scores, few low).  \n",
        "\n",
        "Calculation:\n",
        "```\n",
        "from scipy.stats import skew\n",
        "import numpy as np\n",
        "\n",
        "data = [10, 20, 30, 100]  # Right-skewed\n",
        "print(skew(data))  \n",
        "```  \n",
        "Python libraries like `scipy`, `pandas`, and `numpy` help analyze skewness.\n",
        ""
      ],
      "metadata": {
        "id": "ByjXDiMgwCKj"
      }
    },
    {
      "cell_type": "markdown",
      "source": [
        "Que20: Define and explain kurtosis\n",
        "\n",
        " Ans20: Kurtosis measures the tailedness of a data distribution, indicating the presence of outliers.  \n",
        "\n",
        "Types of Kurtosis:\n",
        "- Mesokurtic (Normal, \\( k = 0 \\))- Moderate tails, like a normal distribution.  \n",
        "- Leptokurtic (High Kurtosis, \\( k > 0 \\))- Heavy tails, more outliers.  \n",
        "- Platykurtic (Low Kurtosis, \\( k < 0 \\))- Light tails, fewer outliers.  \n",
        "\n",
        "Calculation:\n",
        "```\n",
        "from scipy.stats import kurtosis\n",
        "import numpy as np\n",
        "\n",
        "data = [10, 20, 30, 40, 100]  # Example dataset\n",
        "print(kurtosis(data))  # Output: Kurtosis value\n",
        "```\n",
        "Python's `scipy.stats.kurtosis()` function helps compute kurtosis efficiently."
      ],
      "metadata": {
        "id": "Tnt5ZyGHwEc4"
      }
    },
    {
      "cell_type": "markdown",
      "source": [
        "Que21: What is the purpose of covariance\n",
        "\n",
        " Ans21: Covariance measures the direction of the relationship between two variables. A positive value indicates a direct relationship, while a negative value suggests an inverse relationship.  \n",
        "\n",
        "Purpose:\n",
        "- Determines Relationship Direction: Shows if variables move together or in opposite directions.  \n",
        "- Used in Statistics & Machine Learning: Helps in correlation analysis and portfolio risk assessment.  \n",
        "- Foundation for Correlation: A normalized version of covariance is used to compute correlation.  \n",
        "\n",
        "Calculation:  \n",
        "```\n",
        "import numpy as np\n",
        "\n",
        "x = [10, 20, 30, 40]\n",
        "y = [5, 15, 25, 35]\n",
        "\n",
        "cov_matrix = np.cov(x, y, bias=True)  # Bias=True for population covariance\n",
        "print(cov_matrix[0, 1])  # Output: Covariance value\n",
        "```"
      ],
      "metadata": {
        "id": "GSx3RoTQwGtS"
      }
    },
    {
      "cell_type": "markdown",
      "source": [
        "Que22: What does correlation measure in statistics\n",
        "\n",
        "Ans22:Correlation measures the strength and direction of a relationship between two variables.  \n",
        "\n",
        "- Range: \\(-1\\) to \\(+1\\).  \n",
        "- Positive Correlation (\\(+1\\)):  Variables increase together.  \n",
        "- Negative Correlation (\\(-1\\)):  One variable increases as the other decreases.  \n",
        "- Zero Correlation (\\(0\\)):  No relationship.  \n",
        "\n",
        "Calculation:\n",
        "```\n",
        "import numpy as np\n",
        "\n",
        "x = [10, 20, 30, 40]\n",
        "y = [5, 15, 25, 35]\n",
        "\n",
        "correlation = np.corrcoef(x, y)[0, 1]\n",
        "print(correlation)  # Output: Correlation value\n",
        "```\n",
        ""
      ],
      "metadata": {
        "id": "WdjvNXO9wIqM"
      }
    },
    {
      "cell_type": "markdown",
      "source": [
        "Que23: What is the difference between covariance and correlation\n",
        "\n",
        "Ans23: Covariance:  \n",
        "  - Measures the direction of the relationship between two variables.  \n",
        "  - Not standardized, influenced by data units.  \n",
        "  - Positive: Variables move together, Negative: Variables move oppositely.  \n",
        "  - Formula: \\(\\text{Cov}(X, Y) = \\frac{\\sum (X_i - \\bar{X}) (Y_i - \\bar{Y})}{n}\\).  \n",
        "\n",
        "- Correlation:\n",
        "  - Measures both strength and direction of the relationship.  \n",
        "  - Standardized, ranges from \\(-1\\) to \\(+1\\).  \n",
        "  - +1: Strong positive, -1: Strong negative, 0: No relationship.  \n",
        "  - Formula: \\(\\text{Corr}(X, Y) = \\frac{\\text{Cov}(X, Y)}{\\sigma_X \\sigma_Y}\\).  \n",
        "\n",
        "Calculation:  \n",
        "  ```\n",
        "  import numpy as np\n",
        "  x = [10, 20, 30, 40]\n",
        "  y = [5, 15, 25, 35]\n",
        "  \n",
        "  print(np.cov(x, y, bias=True)[0, 1])  # Covariance\n",
        "  print(np.corrcoef(x, y)[0, 1])  # Correlation\n",
        "  ```\n",
        ""
      ],
      "metadata": {
        "id": "S2SdCynNwK1J"
      }
    },
    {
      "cell_type": "markdown",
      "source": [
        "Que24: What are some real-world applications of statistics\n",
        "\n",
        "Ans24: Real-world Applications\"\n",
        "- Data Science & Machine Learning: Data analysis, predictive modeling, and feature selection.  \n",
        "\n",
        "- Business & Finance: Risk analysis, market trends, and stock price predictions.  \n",
        "\n",
        "- Healthcare & Medicine: Disease prediction, clinical trials, and patient data analysis.  \n",
        "\n",
        "- Quality Control & Manufacturing: Process optimization, defect detection, and performance analysis.  \n",
        "\n",
        "- Sports Analytics: Player performance evaluation and game strategy optimization.  \n",
        "\n",
        "- Social Sciences & Research: Survey analysis, behavioral studies, and trend forecasting.  \n",
        "\n",
        "- Artificial Intelligence (AI): Natural language processing (NLP), image recognition, and recommendation systems.  \n"
      ],
      "metadata": {
        "id": "MSnG9zrOwNDU"
      }
    },
    {
      "cell_type": "markdown",
      "source": [
        "##Practical Questions:"
      ],
      "metadata": {
        "id": "yXnL6UFrqC3S"
      }
    },
    {
      "cell_type": "markdown",
      "source": [
        " Que1: How do you calculate the mean, median, and mode of a dataset\n",
        "\n",
        " Ans1: Mean (Average): Sum of all values divided by the total count.  \n",
        "\n",
        "\n",
        "\n",
        "\n",
        "\n"
      ],
      "metadata": {
        "id": "cwZO2D67qJ2b"
      }
    },
    {
      "cell_type": "code",
      "source": [
        "import statistics\n",
        "  data = [10, 20, 30, 40, 50]\n",
        "  print(statistics.mean(data))"
      ],
      "metadata": {
        "id": "thoZnikPqnzJ"
      },
      "execution_count": null,
      "outputs": []
    },
    {
      "cell_type": "markdown",
      "source": [
        "Median (Middle Value): The central value when sorted.  \n",
        "\n"
      ],
      "metadata": {
        "id": "4PAEDoT7qwBC"
      }
    },
    {
      "cell_type": "code",
      "source": [
        "print(statistics.median(data))"
      ],
      "metadata": {
        "id": "JfzKRysbrZdU"
      },
      "execution_count": null,
      "outputs": []
    },
    {
      "cell_type": "markdown",
      "source": [
        "- Mode (Most Frequent Value): The most occurring number.  \n",
        "\n"
      ],
      "metadata": {
        "id": "XRSiMtlSrUi7"
      }
    },
    {
      "cell_type": "code",
      "source": [
        "\n",
        "  print(statistics.mode(data))  # Output: Mode\n"
      ],
      "metadata": {
        "id": "Df2PzvOqrfGo"
      },
      "execution_count": null,
      "outputs": []
    },
    {
      "cell_type": "markdown",
      "source": [
        "Que2: Write a Python program to compute the variance and standard deviation of a dataset\n"
      ],
      "metadata": {
        "id": "ExJTKosiqqOB"
      }
    },
    {
      "cell_type": "code",
      "source": [
        "#Ans2:\n",
        "import statistics\n",
        "\n",
        "data = [10, 20, 30, 40, 50]\n",
        "\n",
        "#Computing variance\n",
        "variance = statistics.variance(data)\n",
        "print(\"Variance:\", variance)\n",
        "\n",
        "# Computing standard deviation\n",
        "std_dev = statistics.stdev(data)\n",
        "print(\"Standard Deviation:\", std_dev)\n"
      ],
      "metadata": {
        "id": "gWnrHMUnr6PR"
      },
      "execution_count": null,
      "outputs": []
    },
    {
      "cell_type": "markdown",
      "source": [
        "Que3:  Create a dataset and classify it into nominal, ordinal, interval, and ratio types.\n"
      ],
      "metadata": {
        "id": "vcNWFWJ6rmeW"
      }
    },
    {
      "cell_type": "code",
      "source": [
        "#Ans3:\n",
        "\n",
        "nominal_data = [\"Red\", \"Blue\", \"Green\", \"Yellow\"]\n",
        "print(\"Nominal Data:\", nominal_data)\n",
        "\n",
        "ordinal_data = [\"Poor\", \"Average\", \"Good\", \"Excellent\"]\n",
        "print(\"Ordinal Data:\", ordinal_data)\n",
        "\n",
        "interval_data = [-10, 0, 10, 20, 30]\n",
        "print(\"Interval Data:\", interval_data)\n",
        "\n",
        "ratio_data = [5, 10, 15, 20, 25]\n",
        "print(\"Ratio Data:\", ratio_data)\n"
      ],
      "metadata": {
        "id": "dA_72an4sPws"
      },
      "execution_count": null,
      "outputs": []
    },
    {
      "cell_type": "markdown",
      "source": [
        " Que4: Implement sampling techniques like random sampling and stratified sampling\n",
        ""
      ],
      "metadata": {
        "id": "w-VKaexDsFvC"
      }
    },
    {
      "cell_type": "code",
      "source": [
        "import random\n",
        "\n",
        "data = [1, 2, 3, 4, 5, 6, 7, 8, 9, 10]\n",
        "\n",
        "random_sample = random.sample(data, 4)\n",
        "print(\"Random Sample:\", random_sample)\n"
      ],
      "metadata": {
        "id": "DptIEg7NsjL-"
      },
      "execution_count": null,
      "outputs": []
    },
    {
      "cell_type": "code",
      "source": [
        "from sklearn.model_selection import train_test_split\n",
        "import pandas as pd\n",
        "\n",
        "df = pd.DataFrame({\n",
        "    \"Category\": [\"A\", \"A\", \"A\", \"B\", \"B\", \"B\", \"C\", \"C\", \"C\"],\n",
        "    \"Value\": [10, 20, 30, 40, 50, 60, 70, 80, 90]\n",
        "})\n",
        "\n",
        "train, test = train_test_split(df, test_size=0.4, stratify=df[\"Category\"])\n",
        "print(\"Stratified Sample:\\n\", test)\n"
      ],
      "metadata": {
        "id": "YHFQmeS4snm2"
      },
      "execution_count": null,
      "outputs": []
    },
    {
      "cell_type": "markdown",
      "source": [
        "Que5: Write a Python function to calculate the range of a dataset\n",
        ""
      ],
      "metadata": {
        "id": "vTuqs5S1sqg8"
      }
    },
    {
      "cell_type": "code",
      "source": [
        "#Ans5:\n",
        "def calculate_range(data):\n",
        "    \"\"\"Returns the range of a dataset (max - min).\"\"\"\n",
        "    if not data:\n",
        "        return None  # Handle empty dataset\n",
        "    return max(data) - min(data)\n",
        "\n",
        "dataset = [10, 25, 38, 45, 60]\n",
        "print(\"Range of dataset:\", calculate_range(dataset))\n"
      ],
      "metadata": {
        "id": "Yc22Od7Hs4lr"
      },
      "execution_count": null,
      "outputs": []
    },
    {
      "cell_type": "markdown",
      "source": [
        "Que6: Create a dataset and plot its histogram to visualize skewness\n",
        ""
      ],
      "metadata": {
        "id": "Aok0UoUQsyJO"
      }
    },
    {
      "cell_type": "code",
      "source": [
        "#Ans6:\n",
        "import numpy as np\n",
        "import matplotlib.pyplot as plt\n",
        "import seaborn as sns\n",
        "\n",
        "data = np.random.exponential(scale=2, size=1000)\n",
        "\n",
        "plt.figure(figsize=(8, 5))\n",
        "sns.histplot(data, bins=30, kde=True, color=\"blue\")\n",
        "\n",
        "plt.xlabel(\"Values\")\n",
        "plt.ylabel(\"Frequency\")\n",
        "plt.title(\"Histogram to Visualize Skewness\")\n",
        "\n",
        "plt.show()\n"
      ],
      "metadata": {
        "id": "QaZQd9MHtF43"
      },
      "execution_count": null,
      "outputs": []
    },
    {
      "cell_type": "markdown",
      "source": [
        "Que7: Calculate skewness and kurtosis of a dataset using Python libraries\n",
        ""
      ],
      "metadata": {
        "id": "Pz7bHvHxtGQ3"
      }
    },
    {
      "cell_type": "code",
      "source": [
        "#Ans7:\n",
        "import numpy as np\n",
        "from scipy.stats import skew, kurtosis\n",
        "\n",
        "data = np.random.normal(loc=50, scale=10, size=1000)\n",
        "\n",
        "skewness = skew(data)\n",
        "\n",
        "kurt = kurtosis(data)\n",
        "\n",
        "print(\"Skewness:\", skewness)\n",
        "print(\"Kurtosis:\", kurt)\n"
      ],
      "metadata": {
        "id": "G5srRxjFtbbe"
      },
      "execution_count": null,
      "outputs": []
    },
    {
      "cell_type": "markdown",
      "source": [
        "Que8: Generate a dataset and demonstrate positive and negative skewness\n",
        ""
      ],
      "metadata": {
        "id": "x_6Fg2VwtdqL"
      }
    },
    {
      "cell_type": "code",
      "source": [
        "#Ans8:\n",
        "import numpy as np\n",
        "import matplotlib.pyplot as plt\n",
        "import seaborn as sns\n",
        "from scipy.stats import skew\n",
        "\n",
        "data_positive = np.random.exponential(scale=2, size=1000)\n",
        "\n",
        "data_negative = np.random.beta(a=5, b=2, size=1000) * 10\n",
        "\n",
        "fig, axes = plt.subplots(1, 2, figsize=(12, 5))\n",
        "\n",
        "sns.histplot(data_positive, bins=30, kde=True, color=\"blue\", ax=axes[0])\n",
        "axes[0].set_title(f\"Positively Skewed Data (Skewness: {skew(data_positive):.2f})\")\n",
        "\n",
        "sns.histplot(data_negative, bins=30, kde=True, color=\"red\", ax=axes[1])\n",
        "axes[1].set_title(f\"Negatively Skewed Data (Skewness: {skew(data_negative):.2f})\")\n",
        "\n",
        "plt.tight_layout()\n",
        "plt.show()\n"
      ],
      "metadata": {
        "id": "cI5lKJwktfpm"
      },
      "execution_count": null,
      "outputs": []
    },
    {
      "cell_type": "markdown",
      "source": [
        "Que9: Write a Python script to calculate covariance between two datasets\n",
        ""
      ],
      "metadata": {
        "id": "opGDWMgktgBj"
      }
    },
    {
      "cell_type": "code",
      "source": [
        "#Ans9:\n",
        "import numpy as np\n",
        "\n",
        "x = [10, 20, 30, 40, 50]\n",
        "y = [15, 25, 35, 45, 55]\n",
        "\n",
        "cov_matrix = np.cov(x, y, bias=False)\n",
        "\n",
        "covariance = cov_matrix[0, 1]\n",
        "\n",
        "print(\"Covariance between X and Y:\", covariance)\n"
      ],
      "metadata": {
        "id": "Wi3gj98rtxLG"
      },
      "execution_count": null,
      "outputs": []
    },
    {
      "cell_type": "markdown",
      "source": [
        "Que10: Write a Python script to calculate the correlation coefficient between two datasets\n"
      ],
      "metadata": {
        "id": "9I4zVzBltyoe"
      }
    },
    {
      "cell_type": "code",
      "source": [
        "#Ans10:\n",
        "import numpy as np\n",
        "\n",
        "x = [10, 20, 30, 40, 50]\n",
        "y = [15, 25, 35, 45, 55]\n",
        "\n",
        "corr_matrix = np.corrcoef(x, y)\n",
        "\n",
        "correlation_coefficient = corr_matrix[0, 1]\n",
        "\n",
        "print(\"Correlation Coefficient between X and Y:\", correlation_coefficient)\n"
      ],
      "metadata": {
        "id": "gTzSmrzwt0el"
      },
      "execution_count": null,
      "outputs": []
    },
    {
      "cell_type": "markdown",
      "source": [
        " Que11: Create a scatter plot to visualize the relationship between two variables\n",
        ""
      ],
      "metadata": {
        "id": "NAdKjQNyt12V"
      }
    },
    {
      "cell_type": "code",
      "source": [
        "#Ans11:\n",
        "import numpy as np\n",
        "import matplotlib.pyplot as plt\n",
        "import seaborn as sns\n",
        "\n",
        "x = np.array([10, 20, 30, 40, 50, 60, 70, 80, 90, 100])\n",
        "y = np.array([15, 25, 35, 50, 55, 70, 75, 85, 95, 110])\n",
        "\n",
        "plt.figure(figsize=(8, 5))\n",
        "sns.scatterplot(x=x, y=y, color='blue')\n",
        "\n",
        "plt.xlabel(\"Variable X\")\n",
        "plt.ylabel(\"Variable Y\")\n",
        "plt.title(\"Scatter Plot of Two Variables\")\n",
        "\n",
        "plt.show()\n"
      ],
      "metadata": {
        "id": "wtodVvxOuRRr"
      },
      "execution_count": null,
      "outputs": []
    },
    {
      "cell_type": "markdown",
      "source": [
        "Que12: Implement and compare simple random sampling and systematic sampling\n",
        ""
      ],
      "metadata": {
        "id": "UgVH9GBiuRrU"
      }
    },
    {
      "cell_type": "code",
      "source": [
        "#Ans12:\n",
        "import numpy as np\n",
        "import pandas as pd\n",
        "\n",
        "data = pd.DataFrame({'Values': np.arange(1, 101)})\n",
        "\n",
        "random_sample = data.sample(n=10, random_state=42)\n",
        "\n",
        "k = 10\n",
        "systematic_sample = data.iloc[::k]\n",
        "\n",
        "print(\"Simple Random Sample:\\n\", random_sample)\n",
        "print(\"\\nSystematic Sample:\\n\", systematic_sample)\n"
      ],
      "metadata": {
        "id": "sMXHoQU5uk14"
      },
      "execution_count": null,
      "outputs": []
    },
    {
      "cell_type": "markdown",
      "source": [
        "Que13: Calculate the mean, median, and mode of grouped data\n"
      ],
      "metadata": {
        "id": "MCx23T6xulOd"
      }
    },
    {
      "cell_type": "code",
      "source": [
        "#Ans13:\n",
        "import pandas as pd\n",
        "import numpy as np\n",
        "from scipy import stats\n",
        "\n",
        "data = {'Class Interval': ['0-10', '10-20', '20-30', '30-40', '40-50'],\n",
        "        'Frequency': [5, 8, 15, 10, 7]}\n",
        "\n",
        "df = pd.DataFrame(data)\n",
        "\n",
        "df['Midpoint'] = [(int(interval.split('-')[0]) + int(interval.split('-')[1])) / 2 for interval in df['Class Interval']]\n",
        "\n",
        "mean = np.sum(df['Midpoint'] * df['Frequency']) / np.sum(df['Frequency'])\n",
        "\n",
        "cumulative_freq = np.cumsum(df['Frequency'])  # Cumulative Frequency\n",
        "n = np.sum(df['Frequency']) / 2  # Median position\n",
        "median_class_index = np.where(cumulative_freq >= n)[0][0]  # Find median class\n",
        "\n",
        "L = int(df.iloc[median_class_index]['Class Interval'].split('-')[0])  # Lower boundary\n",
        "F = df.iloc[median_class_index - 1]['Frequency'] if median_class_index > 0 else 0  # Cumulative frequency before median class\n",
        "f = df.iloc[median_class_index]['Frequency']  # Median class frequency\n",
        "h = 10  # Class width\n",
        "\n",
        "median = L + ((n - F) / f) * h\n",
        "\n",
        "mode_class_index = df['Frequency'].idxmax()  # Find modal class index\n",
        "L_mode = int(df.iloc[mode_class_index]['Class Interval'].split('-')[0])  # Lower boundary\n",
        "f1 = df.iloc[mode_class_index]['Frequency']  # Frequency of modal class\n",
        "f0 = df.iloc[mode_class_index - 1]['Frequency'] if mode_class_index > 0 else 0  # Frequency before modal class\n",
        "f2 = df.iloc[mode_class_index + 1]['Frequency'] if mode_class_index < len(df) - 1 else 0  # Frequency after modal class\n",
        "\n",
        "mode = L_mode + ((f1 - f0) / ((2 * f1) - f0 - f2)) * h\n",
        "\n",
        "print(f\"Mean: {mean:.2f}\")\n",
        "print(f\"Median: {median:.2f}\")\n",
        "print(f\"Mode: {mode:.2f}\")\n"
      ],
      "metadata": {
        "id": "BGHSnNcZu4OB"
      },
      "execution_count": null,
      "outputs": []
    },
    {
      "cell_type": "markdown",
      "source": [
        "Que14:  Simulate data using Python and calculate its central tendency and dispersion.\n"
      ],
      "metadata": {
        "id": "lma_F75Zu4pt"
      }
    },
    {
      "cell_type": "code",
      "source": [
        "#Ans14:\n",
        "import numpy as np\n",
        "import pandas as pd\n",
        "from scipy import stats\n",
        "\n",
        "np.random.seed(42)  # For reproducibility\n",
        "data = np.random.randint(50, 150, size=100)  # Random values between 50 and 150\n",
        "\n",
        "df = pd.DataFrame(data, columns=['Values'])\n",
        "\n",
        "mean_value = np.mean(df['Values'])\n",
        "median_value = np.median(df['Values'])\n",
        "mode_value = stats.mode(df['Values'], keepdims=True)[0][0]\n",
        "\n",
        "variance_value = np.var(df['Values'], ddof=1)  # Sample variance\n",
        "std_dev_value = np.std(df['Values'], ddof=1)  # Sample standard deviation\n",
        "range_value = np.max(df['Values']) - np.min(df['Values'])\n",
        "iqr_value = stats.iqr(df['Values'])  # Interquartile range\n",
        "\n",
        "\n",
        "print(f\"Mean: {mean_value:.2f}\")\n",
        "print(f\"Median: {median_value:.2f}\")\n",
        "print(f\"Mode: {mode_value}\")\n",
        "print(f\"Variance: {variance_value:.2f}\")\n",
        "print(f\"Standard Deviation: {std_dev_value:.2f}\")\n",
        "print(f\"Range: {range_value}\")\n",
        "print(f\"Interquartile Range (IQR): {iqr_value:.2f}\")\n"
      ],
      "metadata": {
        "id": "QXekGW0xvIgM"
      },
      "execution_count": null,
      "outputs": []
    },
    {
      "cell_type": "markdown",
      "source": [
        "Que16: Plot a boxplot to understand the spread and identify outliers\n",
        ""
      ],
      "metadata": {
        "id": "32wZuAX1vJvK"
      }
    },
    {
      "cell_type": "code",
      "source": [
        "#Ans16:\n",
        "import numpy as np\n",
        "import pandas as pd\n",
        "import matplotlib.pyplot as plt\n",
        "import seaborn as sns\n",
        "\n",
        "np.random.seed(42)\n",
        "data = np.random.randint(50, 150, size=100).tolist()\n",
        "data.extend([200, 210, 220])  # Adding some outliers\n",
        "\n",
        "df = pd.DataFrame({'Values': data})\n",
        "\n",
        "plt.figure(figsize=(8, 5))\n",
        "sns.boxplot(y=df['Values'], color='skyblue', width=0.3)\n",
        "\n",
        "plt.title(\"Boxplot of Values\")\n",
        "plt.ylabel(\"Values\")\n",
        "plt.grid(axis='x', linestyle='--', alpha=0.7)\n",
        "\n",
        "plt.show()\n"
      ],
      "metadata": {
        "id": "hE678hsbvL7M"
      },
      "execution_count": null,
      "outputs": []
    }
  ]
}