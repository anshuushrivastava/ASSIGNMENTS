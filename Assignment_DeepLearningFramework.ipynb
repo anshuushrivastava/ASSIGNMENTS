{
  "nbformat": 4,
  "nbformat_minor": 0,
  "metadata": {
    "colab": {
      "provenance": []
    },
    "kernelspec": {
      "name": "python3",
      "display_name": "Python 3"
    },
    "language_info": {
      "name": "python"
    }
  },
  "cells": [
    {
      "cell_type": "markdown",
      "source": [
        "##Theoritical Questions"
      ],
      "metadata": {
        "id": "SBGy_SuaH3e6"
      }
    },
    {
      "cell_type": "markdown",
      "source": [
        "Que1: What is TensorFlow 2.0, and how is it different from TensorFlow 1.x?\n",
        "\n",
        "Ans1: TensorFlow 2.0 is an updated version of Google's open-source deep learning framework that emphasizes simplicity and ease of use. It integrates Keras as the default high-level API, supports eager execution by default, and removes redundant APIs. Unlike TensorFlow 1.x, it offers intuitive model building, improved debugging, and seamless integration with Pythonic workflows."
      ],
      "metadata": {
        "id": "CnHwywPJH8Hn"
      }
    },
    {
      "cell_type": "markdown",
      "source": [
        "Que2: How do you install TensorFlow 2.0?\n",
        "\n",
        "Ans2: You can install TensorFlow 2.0 using pip by running the command:\n",
        "\n",
        "```bash\n",
        "pip install tensorflow  \n",
        "```\n",
        "\n",
        "Make sure you have Python 3.5-3.8 and a supported version of pip. For GPU support, use pip install tensorflow-gpu, ensuring compatible CUDA and cuDNN are installed."
      ],
      "metadata": {
        "id": "yxtHa2xELJl7"
      }
    },
    {
      "cell_type": "markdown",
      "source": [
        "Que3: What is the primary function of the tf.function in TensorFlow 2.0?\n",
        "\n",
        "Ans3: The tf.function decorator transforms a Python function into a TensorFlow graph for performance optimization. This allows the function to run faster by compiling it into a static graph, enabling TensorFlow to apply various graph-level optimizations and leverage accelerators like GPUs or TPUs efficiently."
      ],
      "metadata": {
        "id": "rju7Fi5wLGlF"
      }
    },
    {
      "cell_type": "markdown",
      "source": [
        "Que4: What is the purpose of the Model class in TensorFlow 2.0?\n",
        "\n",
        "Ans4: The Model class, typically from the Keras API (tf.keras.Model), serves as the base class for defining and training neural networks. It allows users to group layers into an object with built-in methods for training (fit), evaluation (evaluate), and prediction (predict), facilitating structured and modular model design."
      ],
      "metadata": {
        "id": "SFQgKHv5LDw3"
      }
    },
    {
      "cell_type": "markdown",
      "source": [
        "Que5: How do you create a neural network using TensorFlow 2.0?\n",
        "\n",
        "Ans5: You can create a neural network by using the Keras API. First, define a model using tf.keras.Sequential or subclass tf.keras.Model, add layers using tf.keras.layers, compile the model with an optimizer and loss function, and finally train it using the fit() method with your data."
      ],
      "metadata": {
        "id": "a5gUysWFLA43"
      }
    },
    {
      "cell_type": "markdown",
      "source": [
        "Que6: What is the importance of Tensor Space in TensorFlow?\n",
        "\n",
        "Ans6: Tensor space refers to the multi-dimensional structure and shape of tensors, which are the primary data structures in TensorFlow. Understanding tensor space is essential for constructing models correctly, aligning layer dimensions, and performing mathematical operations efficiently in deep learning tasks."
      ],
      "metadata": {
        "id": "pd--b1HOK-aI"
      }
    },
    {
      "cell_type": "markdown",
      "source": [
        "Que7: How can TensorBoard be integrated with TensorFlow 2.0?\n",
        "\n",
        "Ans7: TensorBoard can be integrated by including callbacks during model training. Using tf.keras.callbacks.TensorBoard, you log metrics and visualizations such as loss, accuracy, and computation graphs. Launch TensorBoard with the command tensorboard --logdir=<log_directory> to monitor and debug model performance interactively."
      ],
      "metadata": {
        "id": "LJKITM5jK73P"
      }
    },
    {
      "cell_type": "markdown",
      "source": [
        "Que8: What is the purpose of TensorFlow Playground?\n",
        "\n",
        "Ans8: TensorFlow Playground is an interactive web-based tool that allows users to experiment with simple neural networks directly in the browser. It helps visualize the effects of hyperparameters, activation functions, and layer configurations, making it ideal for learning the fundamentals of neural networks."
      ],
      "metadata": {
        "id": "rba9guP2K46Q"
      }
    },
    {
      "cell_type": "markdown",
      "source": [
        "Que9: What is Netron, and how is it useful for deep learning models?\n",
        "\n",
        "Ans9: Netron is a viewer for neural network, machine learning, and deep learning models. It supports formats from TensorFlow, PyTorch, Keras, ONNX, and others. Netron helps visualize model architecture, layer connections, and parameter details, making it valuable for debugging and understanding complex models."
      ],
      "metadata": {
        "id": "RQfVJ8LsK2Ya"
      }
    },
    {
      "cell_type": "markdown",
      "source": [
        "Que10: What is the difference between TensorFlow and PyTorch?\n",
        "\n",
        "Ans10: TensorFlow and PyTorch are both powerful deep learning frameworks. TensorFlow emphasizes production deployment and offers a robust ecosystem with TensorBoard and TFLite. PyTorch is known for its dynamic computation graph and intuitive, Pythonic design, which simplifies research prototyping and debugging."
      ],
      "metadata": {
        "id": "pL53fAzgKz85"
      }
    },
    {
      "cell_type": "markdown",
      "source": [
        "Que11: How do you install PyTorch?\n",
        "\n",
        "Ans11: To install PyTorch, use the command tailored to your system from the official site. A common CPU-only installation is:\n",
        "\n",
        "```bash\n",
        "pip install torch torchvision torchaudio  \n",
        "```\n",
        "\n",
        "For GPU support, use the command specifying your CUDA version from [https://pytorch.org/get-started/locally/](https://pytorch.org/get-started/locally/)."
      ],
      "metadata": {
        "id": "YrwKLRMBKw8e"
      }
    },
    {
      "cell_type": "markdown",
      "source": [
        "Que12: What is the basic structure of a PyTorch neural network?\n",
        "\n",
        "Ans12: A basic PyTorch neural network involves defining a class that inherits from torch.nn.Module, initializing layers in the constructor, and implementing the forward pass in the forward() method. Training involves using a loss function, optimizer, and iterating over the dataset to update weights."
      ],
      "metadata": {
        "id": "IQbvSv1KKuF7"
      }
    },
    {
      "cell_type": "markdown",
      "source": [
        "Que13: What is the significance of tensors in PyTorch?\n",
        "\n",
        "Ans13: Tensors are the core data structures in PyTorch, analogous to NumPy arrays but with GPU acceleration. They enable automatic differentiation, making them essential for constructing computational graphs, performing efficient operations, and training deep learning models."
      ],
      "metadata": {
        "id": "SyFxq4o6KqVr"
      }
    },
    {
      "cell_type": "markdown",
      "source": [
        "Que14: What is the difference between torch.Tensor and torch.cuda.Tensor in PyTorch?\n",
        "\n",
        "Ans14: torch.Tensor refers to tensors located on the CPU, while torch.cuda.Tensor represents tensors stored on the GPU. GPU tensors allow faster computations. You can move tensors to GPU using .to('cuda') or .cuda()for efficient model training and inference."
      ],
      "metadata": {
        "id": "qae1VyjUKnkV"
      }
    },
    {
      "cell_type": "markdown",
      "source": [
        "Que15: What is the purpose of the torch.optim module in PyTorch?\n",
        "\n",
        "Ans15: The torch.optim module provides optimization algorithms like SGD, Adam, and RMSprop. These optimizers are used to adjust the model's parameters based on the computed gradients during training, enabling the model to learn by minimizing the loss function."
      ],
      "metadata": {
        "id": "8znJ_mfyKkzF"
      }
    },
    {
      "cell_type": "markdown",
      "source": [
        "Que16: What are some common activation functions used in neural networks?\n",
        "\n",
        "Ans16: Common activation functions include ReLU (Rectified Linear Unit), Sigmoid, Tanh, and Softmax. ReLU is widely used due to its simplicity and efficiency. Sigmoid and Tanh are used for binary and bounded outputs, while Softmax is commonly applied in multi-class classification."
      ],
      "metadata": {
        "id": "BjKElmUZKhms"
      }
    },
    {
      "cell_type": "markdown",
      "source": [
        "Que17: What is the difference between torch.nn.Module and torch.nn.Sequential in PyTorch?\n",
        "\n",
        "Ans17: torch.nn.Module is the base class for all models and offers flexibility to define complex architectures. torch.nn.Sequential is a container for modules stacked in a linear fashion, suitable for simple feedforward models where layers are applied sequentially without branching."
      ],
      "metadata": {
        "id": "pLJ_2pP0KeS5"
      }
    },
    {
      "cell_type": "markdown",
      "source": [
        "Que18: How can you monitor training progress in TensorFlow 2.0?\n",
        "\n",
        "Ans18: Training progress in TensorFlow 2.0 can be monitored using callbacks like tf.keras.callbacks.ModelCheckpoint, EarlyStopping, and TensorBoard. These tools allow you to track metrics, save checkpoints, and visualize learning curves and performance over time."
      ],
      "metadata": {
        "id": "G8HhNyDTKbfU"
      }
    },
    {
      "cell_type": "markdown",
      "source": [
        "Que19: How does the Keras API fit into TensorFlow 2.0?\n",
        "\n",
        "Ans19: In TensorFlow 2.0, Keras is the official high-level API, integrated as tf.keras. It simplifies building, training, and evaluating models. The Keras API is intuitive and modular, making TensorFlow more accessible for both beginners and experienced practitioners."
      ],
      "metadata": {
        "id": "suN_6yoJKYZv"
      }
    },
    {
      "cell_type": "markdown",
      "source": [
        "Que20: What is an example of a deep learning project that can be implemented using TensorFlow 2.0?\n",
        "\n",
        "Ans20: An example project is image classification using the CIFAR-10 dataset. It involves building a convolutional neural network (CNN) with tf.keras, training it on labeled images, and evaluating its accuracy, showcasing TensorFlow's capabilities in computer vision tasks."
      ],
      "metadata": {
        "id": "I97vTejiKUyg"
      }
    },
    {
      "cell_type": "markdown",
      "source": [
        "Que21: What is the main advantage of using pre-trained models in TensorFlow and PyTorch?\n",
        "\n",
        "Ans21: Pre-trained models offer the benefit of transfer learning, allowing you to leverage previously learned features on large datasets. This significantly reduces training time, computational resources, and data requirements, while improving model accuracy and generalization on related tasks."
      ],
      "metadata": {
        "id": "Y_qzZ2okKRen"
      }
    },
    {
      "cell_type": "markdown",
      "source": [
        "##Practical Questions"
      ],
      "metadata": {
        "id": "H5XftTf8LXQX"
      }
    },
    {
      "cell_type": "markdown",
      "source": [
        "Que1: How do you install and verify that TensorFlow 2.0 was installed successfully?"
      ],
      "metadata": {
        "id": "ruA74_NGLZo2"
      }
    },
    {
      "cell_type": "code",
      "source": [
        "#Ans1:\n",
        "#pip install tensorflow==2.0.0"
      ],
      "metadata": {
        "id": "HqsoK40zMEWr"
      },
      "execution_count": 6,
      "outputs": []
    },
    {
      "cell_type": "code",
      "source": [
        "# Verify installation\n",
        "import tensorflow as tf\n",
        "print(\"TensorFlow version:\", tf.__version__)\n"
      ],
      "metadata": {
        "colab": {
          "base_uri": "https://localhost:8080/"
        },
        "id": "pgurzK2ier10",
        "outputId": "41e1bedd-e61a-4d26-a47d-3a5d9dc25ff9"
      },
      "execution_count": 5,
      "outputs": [
        {
          "output_type": "stream",
          "name": "stdout",
          "text": [
            "TensorFlow version: 2.18.0\n"
          ]
        }
      ]
    },
    {
      "cell_type": "markdown",
      "source": [
        "Que2: How can you define a simple function in TensorFlow 2.0 to perform addition?"
      ],
      "metadata": {
        "id": "HtTJjeU1e-yJ"
      }
    },
    {
      "cell_type": "code",
      "source": [
        "import tensorflow as tf\n",
        "\n",
        "@tf.function\n",
        "def add(a, b):\n",
        "    return a + b\n",
        "\n",
        "result = add(tf.constant(3), tf.constant(5))\n",
        "print(\"Addition result:\", result.numpy())\n"
      ],
      "metadata": {
        "colab": {
          "base_uri": "https://localhost:8080/"
        },
        "id": "4wIVbjx0fEDN",
        "outputId": "5c26f747-c52a-4ef5-f255-25f4a6d15620"
      },
      "execution_count": 7,
      "outputs": [
        {
          "output_type": "stream",
          "name": "stdout",
          "text": [
            "Addition result: 8\n"
          ]
        }
      ]
    },
    {
      "cell_type": "markdown",
      "source": [
        "Que3: How can you create a simple neural network in TensorFlow 2.0 with one hidden layer?"
      ],
      "metadata": {
        "id": "dYrea7JUfJ_i"
      }
    },
    {
      "cell_type": "code",
      "source": [
        "import tensorflow as tf\n",
        "from tensorflow.keras import layers, models\n",
        "\n",
        "model = models.Sequential([\n",
        "    layers.Dense(64, activation='relu', input_shape=(10,)),\n",
        "    layers.Dense(1)\n",
        "])\n",
        "\n",
        "model.compile(optimizer='adam', loss='mse')\n",
        "model.summary()\n"
      ],
      "metadata": {
        "colab": {
          "base_uri": "https://localhost:8080/",
          "height": 193
        },
        "id": "yAOGi_hlfNu7",
        "outputId": "37be20eb-ac60-43c9-b77e-fac477e957e9"
      },
      "execution_count": 12,
      "outputs": [
        {
          "output_type": "display_data",
          "data": {
            "text/plain": [
              "\u001b[1mModel: \"sequential_4\"\u001b[0m\n"
            ],
            "text/html": [
              "<pre style=\"white-space:pre;overflow-x:auto;line-height:normal;font-family:Menlo,'DejaVu Sans Mono',consolas,'Courier New',monospace\"><span style=\"font-weight: bold\">Model: \"sequential_4\"</span>\n",
              "</pre>\n"
            ]
          },
          "metadata": {}
        },
        {
          "output_type": "display_data",
          "data": {
            "text/plain": [
              "┏━━━━━━━━━━━━━━━━━━━━━━━━━━━━━━━━━┳━━━━━━━━━━━━━━━━━━━━━━━━┳━━━━━━━━━━━━━━━┓\n",
              "┃\u001b[1m \u001b[0m\u001b[1mLayer (type)                   \u001b[0m\u001b[1m \u001b[0m┃\u001b[1m \u001b[0m\u001b[1mOutput Shape          \u001b[0m\u001b[1m \u001b[0m┃\u001b[1m \u001b[0m\u001b[1m      Param #\u001b[0m\u001b[1m \u001b[0m┃\n",
              "┡━━━━━━━━━━━━━━━━━━━━━━━━━━━━━━━━━╇━━━━━━━━━━━━━━━━━━━━━━━━╇━━━━━━━━━━━━━━━┩\n",
              "│ dense_4 (\u001b[38;5;33mDense\u001b[0m)                 │ (\u001b[38;5;45mNone\u001b[0m, \u001b[38;5;34m64\u001b[0m)             │           \u001b[38;5;34m704\u001b[0m │\n",
              "├─────────────────────────────────┼────────────────────────┼───────────────┤\n",
              "│ dense_5 (\u001b[38;5;33mDense\u001b[0m)                 │ (\u001b[38;5;45mNone\u001b[0m, \u001b[38;5;34m1\u001b[0m)              │            \u001b[38;5;34m65\u001b[0m │\n",
              "└─────────────────────────────────┴────────────────────────┴───────────────┘\n"
            ],
            "text/html": [
              "<pre style=\"white-space:pre;overflow-x:auto;line-height:normal;font-family:Menlo,'DejaVu Sans Mono',consolas,'Courier New',monospace\">┏━━━━━━━━━━━━━━━━━━━━━━━━━━━━━━━━━┳━━━━━━━━━━━━━━━━━━━━━━━━┳━━━━━━━━━━━━━━━┓\n",
              "┃<span style=\"font-weight: bold\"> Layer (type)                    </span>┃<span style=\"font-weight: bold\"> Output Shape           </span>┃<span style=\"font-weight: bold\">       Param # </span>┃\n",
              "┡━━━━━━━━━━━━━━━━━━━━━━━━━━━━━━━━━╇━━━━━━━━━━━━━━━━━━━━━━━━╇━━━━━━━━━━━━━━━┩\n",
              "│ dense_4 (<span style=\"color: #0087ff; text-decoration-color: #0087ff\">Dense</span>)                 │ (<span style=\"color: #00d7ff; text-decoration-color: #00d7ff\">None</span>, <span style=\"color: #00af00; text-decoration-color: #00af00\">64</span>)             │           <span style=\"color: #00af00; text-decoration-color: #00af00\">704</span> │\n",
              "├─────────────────────────────────┼────────────────────────┼───────────────┤\n",
              "│ dense_5 (<span style=\"color: #0087ff; text-decoration-color: #0087ff\">Dense</span>)                 │ (<span style=\"color: #00d7ff; text-decoration-color: #00d7ff\">None</span>, <span style=\"color: #00af00; text-decoration-color: #00af00\">1</span>)              │            <span style=\"color: #00af00; text-decoration-color: #00af00\">65</span> │\n",
              "└─────────────────────────────────┴────────────────────────┴───────────────┘\n",
              "</pre>\n"
            ]
          },
          "metadata": {}
        },
        {
          "output_type": "display_data",
          "data": {
            "text/plain": [
              "\u001b[1m Total params: \u001b[0m\u001b[38;5;34m769\u001b[0m (3.00 KB)\n"
            ],
            "text/html": [
              "<pre style=\"white-space:pre;overflow-x:auto;line-height:normal;font-family:Menlo,'DejaVu Sans Mono',consolas,'Courier New',monospace\"><span style=\"font-weight: bold\"> Total params: </span><span style=\"color: #00af00; text-decoration-color: #00af00\">769</span> (3.00 KB)\n",
              "</pre>\n"
            ]
          },
          "metadata": {}
        },
        {
          "output_type": "display_data",
          "data": {
            "text/plain": [
              "\u001b[1m Trainable params: \u001b[0m\u001b[38;5;34m769\u001b[0m (3.00 KB)\n"
            ],
            "text/html": [
              "<pre style=\"white-space:pre;overflow-x:auto;line-height:normal;font-family:Menlo,'DejaVu Sans Mono',consolas,'Courier New',monospace\"><span style=\"font-weight: bold\"> Trainable params: </span><span style=\"color: #00af00; text-decoration-color: #00af00\">769</span> (3.00 KB)\n",
              "</pre>\n"
            ]
          },
          "metadata": {}
        },
        {
          "output_type": "display_data",
          "data": {
            "text/plain": [
              "\u001b[1m Non-trainable params: \u001b[0m\u001b[38;5;34m0\u001b[0m (0.00 B)\n"
            ],
            "text/html": [
              "<pre style=\"white-space:pre;overflow-x:auto;line-height:normal;font-family:Menlo,'DejaVu Sans Mono',consolas,'Courier New',monospace\"><span style=\"font-weight: bold\"> Non-trainable params: </span><span style=\"color: #00af00; text-decoration-color: #00af00\">0</span> (0.00 B)\n",
              "</pre>\n"
            ]
          },
          "metadata": {}
        }
      ]
    },
    {
      "cell_type": "markdown",
      "source": [
        "Que4: How can you visualize the training progress using TensorFlow and Matplotlib?"
      ],
      "metadata": {
        "id": "hFO0ShsgfROJ"
      }
    },
    {
      "cell_type": "code",
      "source": [
        "import tensorflow as tf\n",
        "import matplotlib.pyplot as plt\n",
        "import numpy as np\n",
        "\n",
        "x = np.random.rand(100, 1)\n",
        "y = 3 * x + 2 + np.random.randn(100, 1) * 0.1\n",
        "\n",
        "model = tf.keras.Sequential([\n",
        "    tf.keras.layers.Dense(1, input_shape=(1,))\n",
        "])\n",
        "model.compile(optimizer='sgd', loss='mse')\n",
        "\n",
        "history = model.fit(x, y, epochs=50, verbose=0)\n",
        "\n",
        "plt.plot(history.history['loss'])\n",
        "plt.title('Training Loss')\n",
        "plt.xlabel('Epoch')\n",
        "plt.ylabel('Loss')\n",
        "plt.show()\n"
      ],
      "metadata": {
        "colab": {
          "base_uri": "https://localhost:8080/",
          "height": 472
        },
        "id": "oQcBzrHjfVFE",
        "outputId": "11d9d3a3-393c-487f-b53a-2f6d13b7681e"
      },
      "execution_count": 13,
      "outputs": [
        {
          "output_type": "display_data",
          "data": {
            "text/plain": [
              "<Figure size 640x480 with 1 Axes>"
            ],
            "image/png": "[encoded data removed]"
          },
          "metadata": {}
        }
      ]
    },
    {
      "cell_type": "markdown",
      "source": [
        "Que5: How do you install PyTorch and verify the PyTorch installation?"
      ],
      "metadata": {
        "id": "F2_sNTXTfY5E"
      }
    },
    {
      "cell_type": "code",
      "source": [
        "#pip install torch torchvision torchaudio"
      ],
      "metadata": {
        "id": "Aayo7bF4orDD"
      },
      "execution_count": null,
      "outputs": []
    },
    {
      "cell_type": "code",
      "source": [
        "import torch\n",
        "\n",
        "print(\"PyTorch version:\", torch.__version__)\n",
        "print(\"CUDA available:\", torch.cuda.is_available())\n"
      ],
      "metadata": {
        "colab": {
          "base_uri": "https://localhost:8080/"
        },
        "id": "jt5jqSwCfiTw",
        "outputId": "cc16e858-8dc6-42ca-bd2a-409256c87114"
      },
      "execution_count": 20,
      "outputs": [
        {
          "output_type": "stream",
          "name": "stdout",
          "text": [
            "PyTorch version: 2.6.0+cu124\n",
            "CUDA available: False\n"
          ]
        }
      ]
    },
    {
      "cell_type": "markdown",
      "source": [
        "Que6: How do you create a simple neural network in PyTorch?"
      ],
      "metadata": {
        "id": "JUBiPZsjflrO"
      }
    },
    {
      "cell_type": "code",
      "source": [
        "import torch\n",
        "import torch.nn as nn\n",
        "\n",
        "class SimpleNN(nn.Module):\n",
        "    def __init__(self):\n",
        "        super(SimpleNN, self).__init__()\n",
        "        self.fc1 = nn.Linear(10, 64)\n",
        "        self.relu = nn.ReLU()\n",
        "        self.fc2 = nn.Linear(64, 1)\n",
        "\n",
        "    def forward(self, x):\n",
        "        x = self.relu(self.fc1(x))\n",
        "        return self.fc2(x)\n",
        "\n",
        "model = SimpleNN()\n",
        "print(model)\n"
      ],
      "metadata": {
        "colab": {
          "base_uri": "https://localhost:8080/"
        },
        "id": "RkTUjWLnfqNn",
        "outputId": "449fc438-d0e8-40c0-f91b-7eea2954b07c"
      },
      "execution_count": 16,
      "outputs": [
        {
          "output_type": "stream",
          "name": "stdout",
          "text": [
            "SimpleNN(\n",
            "  (fc1): Linear(in_features=10, out_features=64, bias=True)\n",
            "  (relu): ReLU()\n",
            "  (fc2): Linear(in_features=64, out_features=1, bias=True)\n",
            ")\n"
          ]
        }
      ]
    },
    {
      "cell_type": "markdown",
      "source": [
        "Que7: How do you define a loss function and optimizer in PyTorch?"
      ],
      "metadata": {
        "id": "cehLuID8fuMy"
      }
    },
    {
      "cell_type": "code",
      "source": [
        "import torch.optim as optim\n",
        "\n",
        "criterion = nn.MSELoss()\n",
        "optimizer = optim.Adam(model.parameters(), lr=0.001)\n"
      ],
      "metadata": {
        "id": "AaUsTNFLfyif"
      },
      "execution_count": 17,
      "outputs": []
    },
    {
      "cell_type": "markdown",
      "source": [
        "Que8: How do you implement a custom loss function in PyTorch?"
      ],
      "metadata": {
        "id": "v-E2GWkef1cQ"
      }
    },
    {
      "cell_type": "code",
      "source": [
        "import torch\n",
        "\n",
        "def custom_loss(output, target):\n",
        "    # Example: L1 + L2 loss\n",
        "    l1 = torch.abs(output - target).mean()\n",
        "    l2 = ((output - target) ** 2).mean()\n",
        "    return l1 + l2\n",
        "\n",
        "# Example usage\n",
        "output = torch.tensor([[0.5]], requires_grad=True)\n",
        "target = torch.tensor([[1.0]])\n",
        "loss = custom_loss(output, target)\n",
        "print(\"Custom loss:\", loss.item())\n"
      ],
      "metadata": {
        "colab": {
          "base_uri": "https://localhost:8080/"
        },
        "id": "NjRF2D6Jf5Tg",
        "outputId": "772a0b0a-9357-43e1-c873-bfaaab6d8df3"
      },
      "execution_count": 18,
      "outputs": [
        {
          "output_type": "stream",
          "name": "stdout",
          "text": [
            "Custom loss: 0.75\n"
          ]
        }
      ]
    },
    {
      "cell_type": "markdown",
      "source": [
        "Que9: How do you save and load a TensorFlow model?"
      ],
      "metadata": {
        "id": "Xb1agGFsf9I7"
      }
    },
    {
      "cell_type": "code",
      "source": [
        "import tensorflow as tf\n",
        "import numpy as np\n",
        "\n",
        "model = tf.keras.Sequential([\n",
        "    tf.keras.Input(shape=(1,)),\n",
        "    tf.keras.layers.Dense(1)\n",
        "])\n",
        "model.compile(optimizer='sgd', loss='mean_squared_error')\n",
        "\n",
        "x = np.array([[1.0], [2.0], [3.0]])\n",
        "y = np.array([[2.0], [4.0], [6.0]])\n",
        "model.fit(x, y, epochs=5, verbose=0)\n",
        "\n",
        "model.save('my_model.keras')\n",
        "\n",
        "loaded_model = tf.keras.models.load_model('my_model.keras')\n",
        "print(\"Model loaded successfully.\")\n",
        "\n",
        "loaded_model.evaluate(x, y, verbose=0)\n"
      ],
      "metadata": {
        "colab": {
          "base_uri": "https://localhost:8080/"
        },
        "id": "432i2tRupEKF",
        "outputId": "4344ae17-af36-4ca3-f734-ab810942832e"
      },
      "execution_count": 2,
      "outputs": [
        {
          "output_type": "stream",
          "name": "stdout",
          "text": [
            "Model loaded successfully.\n"
          ]
        },
        {
          "output_type": "execute_result",
          "data": {
            "text/plain": [
              "0.27932944893836975"
            ]
          },
          "metadata": {},
          "execution_count": 2
        }
      ]
    }
  ]
}