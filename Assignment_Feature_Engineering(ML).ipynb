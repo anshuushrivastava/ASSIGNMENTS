{
  "nbformat": 4,
  "nbformat_minor": 0,
  "metadata": {
    "colab": {
      "provenance": []
    },
    "kernelspec": {
      "name": "python3",
      "display_name": "Python 3"
    },
    "language_info": {
      "name": "python"
    }
  },
  "cells": [
    {
      "cell_type": "markdown",
      "source": [
        "Que1: What is a parameter?\n",
        "\n",
        "Ans1: A parameter is a manually set value used to transform or create features from raw data. It's not learned by the model, but chosen before training.\n",
        "\n"
      ],
      "metadata": {
        "id": "8W7-M0zycKhT"
      }
    },
    {
      "cell_type": "markdown",
      "source": [
        "Que2: What is correlation? What does negative correlation mean?\n",
        "\n",
        "Ans2: Correlation measures the relationship between two variables i.e., how one changes when the other changes. In feature engineering, it's used to understand how strongly a feature is related to the target or to other features.\n",
        "\n",
        "1. Positive Correlation:\n",
        "As one variable increases, the other also increases.\n",
        "Example: Height and weight.\n",
        "2. Negative Correlation:\n",
        "As one variable increases, the other decreases.\n",
        "Example: Number of hours studied and number of mistakes made.\n"
      ],
      "metadata": {
        "id": "uD2IJZB8c1KF"
      }
    },
    {
      "cell_type": "markdown",
      "source": [
        "Que3: Define Machine Learning. What are the main components in Machine Learning?\n",
        "\n",
        "Ans3: Machine Learning is a branch of Artificial Intelligence where a machine learn from data to make predictions or decisions without being explicitly programmed.\n",
        "\n",
        "It uses algorithms to find patterns in data and improve performance over time.\n",
        "\n",
        "Main Components of Machine Learning:\n",
        "1. Data- The foundation; input used for learning patterns.\n",
        "2. Features- Relevant variables extracted from data (via feature engineering).\n",
        "3. Model- The algorithm that learns from data (e.g., decision tree, linear regression).\n",
        "4. Training- The process of teaching the model using historical data.\n",
        "5. Evaluation- Testing the model’s performance on unseen data.\n",
        "6. Prediction- Using the trained model to make future predictions or classifications.\n",
        "7. Feedback/Improvement- Updating or retraining the model for better accuracy."
      ],
      "metadata": {
        "id": "RIIDXZMNc32t"
      }
    },
    {
      "cell_type": "markdown",
      "source": [
        "Que4 : How does loss value help in determining whether the model is good or not?\n",
        "\n",
        "Ans4: The loss value helps us understand the impact of the features we create or select. If we add a new feature and the loss decreases, it means the feature is valuable and helps the model learn better. If the loss increases, the feature may be irrelevant or noisy.\n",
        "\n",
        "So, loss value acts as a feedback signal — guiding both the model training and the feature engineering process to improve performance.\n"
      ],
      "metadata": {
        "id": "UxRdbRpfc5ZN"
      }
    },
    {
      "cell_type": "markdown",
      "source": [
        "Que5: What are continuous and categorical variables?\n",
        "\n",
        "Ans5: Continuous variables are numeric and measurable, while categorical variables represent distinct labels or groups. Handling each type properly is key to building effective machine learning models.\n",
        "\n",
        "1. Continuous Variables:\n",
        "- These are numerical values that can take any value within a range.\n",
        "- They are measurable and often have decimals.\n",
        "Example: Age, salary, temperature, height.\n",
        "\n",
        "Continuous variables are often used in regression models and may require scaling or binning during preprocessing.\n",
        "\n",
        "2. Categorical Variables:\n",
        "- These represent distinct groups or categories.\n",
        "- They are not numerical, or if they are, the numbers represent labels, not quantities.\n",
        "Example: Gender (Male/Female), City (Indore, Delhi), Education Level (UG, PG, PhD).\n",
        "\n",
        "Categorical variables are often encoded (like one-hot or label encoding) before feeding into models."
      ],
      "metadata": {
        "id": "2FkxLLMLc7bI"
      }
    },
    {
      "cell_type": "markdown",
      "source": [
        "Que6: How do we handle categorical variables in Machine Learning? What are the common techniques?\n",
        "\n",
        "Ans6: Since most machine learning models work with numbers, categorical variables must be converted into numeric form during feature engineering.\n",
        "\n",
        "Common techniques:\n",
        "\n",
        "- Label Encoding- Assigns a number to each category (e.g., Red → 0).\n",
        "\n",
        "- One-Hot Encoding- Creates binary columns for each category.\n",
        "\n",
        "- Ordinal Encoding- Numbers for ordered categories (e.g., Low → 1, High → 3).\n",
        "\n",
        "- Target Encoding- Replaces category with average target value.\n",
        "\n",
        "- Binary/Hash Encoding- Used for high-cardinality categories."
      ],
      "metadata": {
        "id": "UvXu2hNbc86_"
      }
    },
    {
      "cell_type": "markdown",
      "source": [
        "Que7: What do you mean by training and testing a dataset?\n",
        "\n",
        "Ans7: In machine learning, the dataset is usually split into two parts:\n",
        "\n",
        "Training Set- This is the portion of data used to teach the model. The model learns patterns, relationships, and rules from this data.\n",
        "\n",
        "Testing Set- This data is not shown to the model during training. It's used to evaluate how well the model performs on new, unseen data."
      ],
      "metadata": {
        "id": "3as-arZsc-0S"
      }
    },
    {
      "cell_type": "markdown",
      "source": [
        "Que8: What is sklearn.preprocessing?\n",
        "\n",
        "Ans8: sklearn.preprocessing is a module in Scikit-learn (a popular Python ML library) that provides tools to prepare and transform data before feeding it into machine learning models.\n"
      ],
      "metadata": {
        "id": "RIL9fo3BdAdm"
      }
    },
    {
      "cell_type": "markdown",
      "source": [
        "Que9: What is a Test set?\n",
        "\n",
        "Ans9: A test set is a portion of the dataset that is kept separate from training and is used to evaluate the model's performance on unseen data."
      ],
      "metadata": {
        "id": "pUqiMvbhdCbD"
      }
    },
    {
      "cell_type": "markdown",
      "source": [
        "Que10: How do we split data for model fitting (training and testing) in Python? How do you approach a Machine Learning problem?"
      ],
      "metadata": {
        "id": "NGG1bhozdErT"
      }
    },
    {
      "cell_type": "code",
      "source": [
        "#We use train_test_split() from sklearn.model_selection:\n",
        "from sklearn.model_selection import train_test_split\n",
        "\n",
        "X_train, X_test, y_train, y_test = train_test_split(X, y, test_size=0.2, random_state=42)\n"
      ],
      "metadata": {
        "id": "Wd-i0OkGksmt"
      },
      "execution_count": null,
      "outputs": []
    },
    {
      "cell_type": "markdown",
      "source": [
        "How to Approach a Machine Learning Problem:\n",
        "1. Understand the Problem- Know the goal (classification, regression, etc.)\n",
        "2. Collect & Explore Data- Clean, visualize, and understand patterns\n",
        "3. Preprocess Data- Handle missing values, encode categories, scale features\n",
        "4. Split Data- Train-test split to evaluate performance\n",
        "5. Choose a Model- Select a suitable algorithm (e.g., Decision Tree, SVM)\n",
        "6. Train the Model- Fit on training data\n",
        "7. Evaluate- Use test data to check accuracy, precision, etc.\n",
        "8. Tune & Improve- Optimize with techniques like cross-validation or hyperparameter tuning\n",
        "9. Deploy- Use the model in a real-world application\n",
        "\n"
      ],
      "metadata": {
        "id": "zPIDeeNsk0Mk"
      }
    },
    {
      "cell_type": "markdown",
      "source": [
        "Que11: Why do we have to perform EDA before fitting a model to the data?\n",
        "\n",
        "Ans11: EDA helps us understand the data before building a machine learning model. It allows us to know the data personally so we can make better decisions during preprocessing and modeling.\n",
        "It broadly helps in-\n",
        "1. Detect Missing or Incorrect Data\n",
        "2. Understand Data Distribution & Patterns\n",
        "3. Identify Outliers or Noise\n",
        "4. Discover Relationships between Variables\n",
        "5. Choose the Right Features and Models."
      ],
      "metadata": {
        "id": "bbIcHV_nlLON"
      }
    },
    {
      "cell_type": "markdown",
      "source": [
        "Que12: What is correlation?\n",
        "\n",
        "Ans12: This is a repeated question and has been answered previously.\n"
      ],
      "metadata": {
        "id": "pPZw2CWOmiBx"
      }
    },
    {
      "cell_type": "markdown",
      "source": [
        "Que13: What does negative correlation mean?\n",
        "\n",
        "Ans13: This is a repeated question and has been answered previously.\n"
      ],
      "metadata": {
        "id": "_qnN5ZE2mlir"
      }
    },
    {
      "cell_type": "markdown",
      "source": [
        "Que14: How can you find correlation between variables in Python?\n",
        "\n",
        "Ans14: We can find correlation in Python by using .corr() in Pandas to find relationships between features and remove irrelevant or highly similar ones to improve model performance.\n"
      ],
      "metadata": {
        "id": "g5YKBs9wmnZe"
      }
    },
    {
      "cell_type": "markdown",
      "source": [
        "Que15: What is causation? Explain difference between correlation and causation with an example.\n",
        "\n",
        "Ans15: Causation means one variable directly affects another. There is a cause-and-effect relationship.\n",
        "Example: Smoking causes lung disease.\n",
        "\n",
        "Correlation:\n",
        "1. Two variables move together (positive or negative).\n",
        "2. Does not imply one causes the other.\n",
        "Example: Ice cream sales increases and drowning cases increases in summer (due to heat, not causation).\n",
        "\n",
        "Causation:\n",
        "1. One variable directly influences the other.\n",
        "2. There is a scientific or logical reason behind the effect.\n",
        "Example: Taking medicine reduces fever which is a clear cause-effect.\n",
        "\n"
      ],
      "metadata": {
        "id": "xMUM3gAOmqBk"
      }
    },
    {
      "cell_type": "markdown",
      "source": [
        "Que16: What is an Optimizer? What are different types of optimizers? Explain each with an example.\n",
        "\n",
        "Ans16: An optimizer is an algorithm that updates the model's parameters (like weights) to minimize the loss function.It helps the model learn better and faster by adjusting the values during training. It works using gradient descent and its variants.\n",
        "\n",
        "Different Types of Optimizers:\n",
        "1. Gradient Descent (GD):\n",
        "- Updates weights using the average gradient of the entire dataset.\n",
        "- Accurate but slow on large data.\n",
        "Example: Use when you have small datasets.\n",
        "\n",
        "2. Stochastic Gradient Descent (SGD)\n",
        "- Updates weights using one data point at a time.\n",
        "- Faster, but may have noisy updates.\n",
        "Example: Online learning where data comes in streams.\n",
        "\n",
        "3. Mini-Batch Gradient Descent\n",
        "- A mix of GD and SGD: updates using small batches of data.\n",
        "- Balanced approach: faster and more stable.\n",
        "Example: Common in deep learning training.\n",
        "\n",
        "4. Adam (Adaptive Moment Estimation)\n",
        "- Combines momentum + adaptive learning rate.\n",
        "- Faster and more efficient for deep learning.\n",
        "Example: Default choice in most neural network frameworks.\n",
        "\n",
        "5. RMSprop\n",
        "- Adapts learning rate for each parameter.\n",
        "- Works well in recurrent neural networks (RNNs).\n",
        "Example: Time series models or LSTMs.\n",
        "\n",
        "6. Adagrad\n",
        "- Adjusts learning rates based on past gradients.\n",
        "- Good for sparse data (like text classification).\n"
      ],
      "metadata": {
        "id": "sMWqfgxjmrmm"
      }
    },
    {
      "cell_type": "markdown",
      "source": [
        "Que17: What is sklearn.linear_model ?\n",
        "\n",
        "Ans17: sklearn.linear_model gives us easy access to various linear models for regression and classification, including regularized versions.\n"
      ],
      "metadata": {
        "id": "3SJZFLBBmtqp"
      }
    },
    {
      "cell_type": "markdown",
      "source": [
        "Que18: What does model.fit() do? What arguments must be given?\n",
        "\n",
        "Ans18: model.fit() is used to train a machine learning model. It tells the model to learn patterns from the training data."
      ],
      "metadata": {
        "id": "OlrRpgG7mv3y"
      }
    },
    {
      "cell_type": "markdown",
      "source": [
        "Que19: What does model.predict() do? What arguments must be given?\n",
        "\n",
        "Ans19: model.predict() is used to make predictions using a trained model. It gives the output (y_pred) for the input features (X).\n",
        "Argument that must be given - model.predict(X_new)\n",
        "\n"
      ],
      "metadata": {
        "id": "nyoWi8CXmx0X"
      }
    },
    {
      "cell_type": "markdown",
      "source": [
        "Que20: What are continuous and categorical variables?\n",
        "\n",
        "Ans20: This is a repeated question and has been answered previously.\n"
      ],
      "metadata": {
        "id": "_zoyNjynm0qE"
      }
    },
    {
      "cell_type": "markdown",
      "source": [
        "Que21: What is feature scaling? How does it help in Machine Learning?\n",
        "\n",
        "Ans21: Feature scaling is the process of normalizing or standardizing the range of independent variables (features) so they are on a similar scale.\n",
        "\n",
        "- Improves model performance- especially for models like KNN, SVM, Logistic Regression\n",
        "- Prevents bias- features with larger ranges don't dominate smaller ones\n",
        "- Speeds up convergence- helps gradient-based optimizers like SGD, Adam learn faster\n"
      ],
      "metadata": {
        "id": "MaKxNvRKm2cn"
      }
    },
    {
      "cell_type": "markdown",
      "source": [
        "Que22: How do we perform scaling in Python?\n"
      ],
      "metadata": {
        "id": "7gsYJF_Jm38f"
      }
    },
    {
      "cell_type": "code",
      "source": [
        "#Using Scikit-learn\n",
        "from sklearn.preprocessing import StandardScaler\n",
        "\n",
        "scaler = StandardScaler()\n",
        "X_scaled = scaler.fit_transform(X)"
      ],
      "metadata": {
        "id": "vM26dvKms2jP"
      },
      "execution_count": null,
      "outputs": []
    },
    {
      "cell_type": "code",
      "source": [
        "#Using Normalization(Min-Max Scaling)\n",
        "from sklearn.preprocessing import MinMaxScaler\n",
        "\n",
        "scaler = MinMaxScaler()\n",
        "X_scaled = scaler.fit_transform(X)\n"
      ],
      "metadata": {
        "id": "MIfZn3vms-Zg"
      },
      "execution_count": null,
      "outputs": []
    },
    {
      "cell_type": "markdown",
      "source": [
        "Que23: What is sklearn.preprocessing?\n",
        "\n",
        "Ans23: This is a repeated question and has been answered previously.\n"
      ],
      "metadata": {
        "id": "8kpGyMHPm5yJ"
      }
    },
    {
      "cell_type": "markdown",
      "source": [
        "Que24: How do we split data for model fitting (training and testing) in Python?\n"
      ],
      "metadata": {
        "id": "w6xuHNQbm7yV"
      }
    },
    {
      "cell_type": "code",
      "source": [
        "#We use train_test_split() from sklearn.model_selection:\n",
        "from sklearn.model_selection import train_test_split\n",
        "\n",
        "X_train, X_test, y_train, y_test = train_test_split(X, y, test_size=0.2, random_state=42)\n"
      ],
      "metadata": {
        "id": "BsMOW5ZRtX5k"
      },
      "execution_count": null,
      "outputs": []
    },
    {
      "cell_type": "markdown",
      "source": [
        "Que25: Explain data encoding?\n",
        "\n",
        "Ans25: Data encoding is the process of converting categorical (text) data into numerical form so that machine learning models can understand and process it."
      ],
      "metadata": {
        "id": "EJYGAHV_m9US"
      }
    }
  ]
}